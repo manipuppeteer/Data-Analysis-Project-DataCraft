{
 "cells": [
  {
   "cell_type": "code",
   "execution_count": 47,
   "id": "a700911d",
   "metadata": {},
   "outputs": [],
   "source": [
    "import pandas as pd\n",
    "import matplotlib.pyplot as plt\n",
    "import plotly.express as px\n",
    "import plotly.graph_objects as go"
   ]
  },
  {
   "cell_type": "code",
   "execution_count": 2,
   "id": "230b93ef",
   "metadata": {},
   "outputs": [],
   "source": [
    "data = pd.read_csv('Superstore.csv', encoding='latin-1')"
   ]
  },
  {
   "cell_type": "code",
   "execution_count": 3,
   "id": "dabd54d3",
   "metadata": {},
   "outputs": [
    {
     "data": {
      "application/vnd.microsoft.datawrangler.viewer.v0+json": {
       "columns": [
        {
         "name": "index",
         "rawType": "int64",
         "type": "integer"
        },
        {
         "name": "Row ID",
         "rawType": "int64",
         "type": "integer"
        },
        {
         "name": "Order ID",
         "rawType": "object",
         "type": "string"
        },
        {
         "name": "Order Date",
         "rawType": "object",
         "type": "string"
        },
        {
         "name": "Ship Date",
         "rawType": "object",
         "type": "string"
        },
        {
         "name": "Ship Mode",
         "rawType": "object",
         "type": "string"
        },
        {
         "name": "Customer ID",
         "rawType": "object",
         "type": "string"
        },
        {
         "name": "Customer Name",
         "rawType": "object",
         "type": "string"
        },
        {
         "name": "Segment",
         "rawType": "object",
         "type": "string"
        },
        {
         "name": "Country",
         "rawType": "object",
         "type": "string"
        },
        {
         "name": "City",
         "rawType": "object",
         "type": "string"
        },
        {
         "name": "State",
         "rawType": "object",
         "type": "string"
        },
        {
         "name": "Postal Code",
         "rawType": "int64",
         "type": "integer"
        },
        {
         "name": "Region",
         "rawType": "object",
         "type": "string"
        },
        {
         "name": "Product ID",
         "rawType": "object",
         "type": "string"
        },
        {
         "name": "Category",
         "rawType": "object",
         "type": "string"
        },
        {
         "name": "Sub-Category",
         "rawType": "object",
         "type": "string"
        },
        {
         "name": "Product Name",
         "rawType": "object",
         "type": "string"
        },
        {
         "name": "Sales",
         "rawType": "float64",
         "type": "float"
        },
        {
         "name": "Quantity",
         "rawType": "int64",
         "type": "integer"
        },
        {
         "name": "Discount",
         "rawType": "float64",
         "type": "float"
        },
        {
         "name": "Profit",
         "rawType": "float64",
         "type": "float"
        }
       ],
       "ref": "5ed245a4-ecfd-43aa-a8fd-50331a53e10b",
       "rows": [
        [
         "0",
         "1",
         "CA-2013-152156",
         "09-11-2013",
         "12-11-2013",
         "Second Class",
         "CG-12520",
         "Claire Gute",
         "Consumer",
         "United States",
         "Henderson",
         "Kentucky",
         "42420",
         "South",
         "FUR-BO-10001798",
         "Furniture",
         "Bookcases",
         "Bush Somerset Collection Bookcase",
         "261.96",
         "2",
         "0.0",
         "41.9136"
        ],
        [
         "1",
         "2",
         "CA-2013-152156",
         "09-11-2013",
         "12-11-2013",
         "Second Class",
         "CG-12520",
         "Claire Gute",
         "Consumer",
         "United States",
         "Henderson",
         "Kentucky",
         "42420",
         "South",
         "FUR-CH-10000454",
         "Furniture",
         "Chairs",
         "Hon Deluxe Fabric Upholstered Stacking Chairs, Rounded Back",
         "731.94",
         "3",
         "0.0",
         "219.582"
        ],
        [
         "2",
         "3",
         "CA-2013-138688",
         "13-06-2013",
         "17-06-2013",
         "Second Class",
         "DV-13045",
         "Darrin Van Huff",
         "Corporate",
         "United States",
         "Los Angeles",
         "California",
         "90036",
         "West",
         "OFF-LA-10000240",
         "Office Supplies",
         "Labels",
         "Self-Adhesive Address Labels for Typewriters by Universal",
         "14.62",
         "2",
         "0.0",
         "6.8714"
        ],
        [
         "3",
         "4",
         "US-2012-108966",
         "11-10-2012",
         "18-10-2012",
         "Standard Class",
         "SO-20335",
         "Sean O'Donnell",
         "Consumer",
         "United States",
         "Fort Lauderdale",
         "Florida",
         "33311",
         "South",
         "FUR-TA-10000577",
         "Furniture",
         "Tables",
         "Bretford CR4500 Series Slim Rectangular Table",
         "957.5775",
         "5",
         "0.45",
         "-383.031"
        ],
        [
         "4",
         "5",
         "US-2012-108966",
         "11-10-2012",
         "18-10-2012",
         "Standard Class",
         "SO-20335",
         "Sean O'Donnell",
         "Consumer",
         "United States",
         "Fort Lauderdale",
         "Florida",
         "33311",
         "South",
         "OFF-ST-10000760",
         "Office Supplies",
         "Storage",
         "Eldon Fold 'N Roll Cart System",
         "22.368",
         "2",
         "0.2",
         "2.5164"
        ]
       ],
       "shape": {
        "columns": 21,
        "rows": 5
       }
      },
      "text/html": [
       "<div>\n",
       "<style scoped>\n",
       "    .dataframe tbody tr th:only-of-type {\n",
       "        vertical-align: middle;\n",
       "    }\n",
       "\n",
       "    .dataframe tbody tr th {\n",
       "        vertical-align: top;\n",
       "    }\n",
       "\n",
       "    .dataframe thead th {\n",
       "        text-align: right;\n",
       "    }\n",
       "</style>\n",
       "<table border=\"1\" class=\"dataframe\">\n",
       "  <thead>\n",
       "    <tr style=\"text-align: right;\">\n",
       "      <th></th>\n",
       "      <th>Row ID</th>\n",
       "      <th>Order ID</th>\n",
       "      <th>Order Date</th>\n",
       "      <th>Ship Date</th>\n",
       "      <th>Ship Mode</th>\n",
       "      <th>Customer ID</th>\n",
       "      <th>Customer Name</th>\n",
       "      <th>Segment</th>\n",
       "      <th>Country</th>\n",
       "      <th>City</th>\n",
       "      <th>...</th>\n",
       "      <th>Postal Code</th>\n",
       "      <th>Region</th>\n",
       "      <th>Product ID</th>\n",
       "      <th>Category</th>\n",
       "      <th>Sub-Category</th>\n",
       "      <th>Product Name</th>\n",
       "      <th>Sales</th>\n",
       "      <th>Quantity</th>\n",
       "      <th>Discount</th>\n",
       "      <th>Profit</th>\n",
       "    </tr>\n",
       "  </thead>\n",
       "  <tbody>\n",
       "    <tr>\n",
       "      <th>0</th>\n",
       "      <td>1</td>\n",
       "      <td>CA-2013-152156</td>\n",
       "      <td>09-11-2013</td>\n",
       "      <td>12-11-2013</td>\n",
       "      <td>Second Class</td>\n",
       "      <td>CG-12520</td>\n",
       "      <td>Claire Gute</td>\n",
       "      <td>Consumer</td>\n",
       "      <td>United States</td>\n",
       "      <td>Henderson</td>\n",
       "      <td>...</td>\n",
       "      <td>42420</td>\n",
       "      <td>South</td>\n",
       "      <td>FUR-BO-10001798</td>\n",
       "      <td>Furniture</td>\n",
       "      <td>Bookcases</td>\n",
       "      <td>Bush Somerset Collection Bookcase</td>\n",
       "      <td>261.9600</td>\n",
       "      <td>2</td>\n",
       "      <td>0.00</td>\n",
       "      <td>41.9136</td>\n",
       "    </tr>\n",
       "    <tr>\n",
       "      <th>1</th>\n",
       "      <td>2</td>\n",
       "      <td>CA-2013-152156</td>\n",
       "      <td>09-11-2013</td>\n",
       "      <td>12-11-2013</td>\n",
       "      <td>Second Class</td>\n",
       "      <td>CG-12520</td>\n",
       "      <td>Claire Gute</td>\n",
       "      <td>Consumer</td>\n",
       "      <td>United States</td>\n",
       "      <td>Henderson</td>\n",
       "      <td>...</td>\n",
       "      <td>42420</td>\n",
       "      <td>South</td>\n",
       "      <td>FUR-CH-10000454</td>\n",
       "      <td>Furniture</td>\n",
       "      <td>Chairs</td>\n",
       "      <td>Hon Deluxe Fabric Upholstered Stacking Chairs,...</td>\n",
       "      <td>731.9400</td>\n",
       "      <td>3</td>\n",
       "      <td>0.00</td>\n",
       "      <td>219.5820</td>\n",
       "    </tr>\n",
       "    <tr>\n",
       "      <th>2</th>\n",
       "      <td>3</td>\n",
       "      <td>CA-2013-138688</td>\n",
       "      <td>13-06-2013</td>\n",
       "      <td>17-06-2013</td>\n",
       "      <td>Second Class</td>\n",
       "      <td>DV-13045</td>\n",
       "      <td>Darrin Van Huff</td>\n",
       "      <td>Corporate</td>\n",
       "      <td>United States</td>\n",
       "      <td>Los Angeles</td>\n",
       "      <td>...</td>\n",
       "      <td>90036</td>\n",
       "      <td>West</td>\n",
       "      <td>OFF-LA-10000240</td>\n",
       "      <td>Office Supplies</td>\n",
       "      <td>Labels</td>\n",
       "      <td>Self-Adhesive Address Labels for Typewriters b...</td>\n",
       "      <td>14.6200</td>\n",
       "      <td>2</td>\n",
       "      <td>0.00</td>\n",
       "      <td>6.8714</td>\n",
       "    </tr>\n",
       "    <tr>\n",
       "      <th>3</th>\n",
       "      <td>4</td>\n",
       "      <td>US-2012-108966</td>\n",
       "      <td>11-10-2012</td>\n",
       "      <td>18-10-2012</td>\n",
       "      <td>Standard Class</td>\n",
       "      <td>SO-20335</td>\n",
       "      <td>Sean O'Donnell</td>\n",
       "      <td>Consumer</td>\n",
       "      <td>United States</td>\n",
       "      <td>Fort Lauderdale</td>\n",
       "      <td>...</td>\n",
       "      <td>33311</td>\n",
       "      <td>South</td>\n",
       "      <td>FUR-TA-10000577</td>\n",
       "      <td>Furniture</td>\n",
       "      <td>Tables</td>\n",
       "      <td>Bretford CR4500 Series Slim Rectangular Table</td>\n",
       "      <td>957.5775</td>\n",
       "      <td>5</td>\n",
       "      <td>0.45</td>\n",
       "      <td>-383.0310</td>\n",
       "    </tr>\n",
       "    <tr>\n",
       "      <th>4</th>\n",
       "      <td>5</td>\n",
       "      <td>US-2012-108966</td>\n",
       "      <td>11-10-2012</td>\n",
       "      <td>18-10-2012</td>\n",
       "      <td>Standard Class</td>\n",
       "      <td>SO-20335</td>\n",
       "      <td>Sean O'Donnell</td>\n",
       "      <td>Consumer</td>\n",
       "      <td>United States</td>\n",
       "      <td>Fort Lauderdale</td>\n",
       "      <td>...</td>\n",
       "      <td>33311</td>\n",
       "      <td>South</td>\n",
       "      <td>OFF-ST-10000760</td>\n",
       "      <td>Office Supplies</td>\n",
       "      <td>Storage</td>\n",
       "      <td>Eldon Fold 'N Roll Cart System</td>\n",
       "      <td>22.3680</td>\n",
       "      <td>2</td>\n",
       "      <td>0.20</td>\n",
       "      <td>2.5164</td>\n",
       "    </tr>\n",
       "  </tbody>\n",
       "</table>\n",
       "<p>5 rows × 21 columns</p>\n",
       "</div>"
      ],
      "text/plain": [
       "   Row ID        Order ID  Order Date   Ship Date       Ship Mode Customer ID  \\\n",
       "0       1  CA-2013-152156  09-11-2013  12-11-2013    Second Class    CG-12520   \n",
       "1       2  CA-2013-152156  09-11-2013  12-11-2013    Second Class    CG-12520   \n",
       "2       3  CA-2013-138688  13-06-2013  17-06-2013    Second Class    DV-13045   \n",
       "3       4  US-2012-108966  11-10-2012  18-10-2012  Standard Class    SO-20335   \n",
       "4       5  US-2012-108966  11-10-2012  18-10-2012  Standard Class    SO-20335   \n",
       "\n",
       "     Customer Name    Segment        Country             City  ...  \\\n",
       "0      Claire Gute   Consumer  United States        Henderson  ...   \n",
       "1      Claire Gute   Consumer  United States        Henderson  ...   \n",
       "2  Darrin Van Huff  Corporate  United States      Los Angeles  ...   \n",
       "3   Sean O'Donnell   Consumer  United States  Fort Lauderdale  ...   \n",
       "4   Sean O'Donnell   Consumer  United States  Fort Lauderdale  ...   \n",
       "\n",
       "  Postal Code  Region       Product ID         Category Sub-Category  \\\n",
       "0       42420   South  FUR-BO-10001798        Furniture    Bookcases   \n",
       "1       42420   South  FUR-CH-10000454        Furniture       Chairs   \n",
       "2       90036    West  OFF-LA-10000240  Office Supplies       Labels   \n",
       "3       33311   South  FUR-TA-10000577        Furniture       Tables   \n",
       "4       33311   South  OFF-ST-10000760  Office Supplies      Storage   \n",
       "\n",
       "                                        Product Name     Sales  Quantity  \\\n",
       "0                  Bush Somerset Collection Bookcase  261.9600         2   \n",
       "1  Hon Deluxe Fabric Upholstered Stacking Chairs,...  731.9400         3   \n",
       "2  Self-Adhesive Address Labels for Typewriters b...   14.6200         2   \n",
       "3      Bretford CR4500 Series Slim Rectangular Table  957.5775         5   \n",
       "4                     Eldon Fold 'N Roll Cart System   22.3680         2   \n",
       "\n",
       "   Discount    Profit  \n",
       "0      0.00   41.9136  \n",
       "1      0.00  219.5820  \n",
       "2      0.00    6.8714  \n",
       "3      0.45 -383.0310  \n",
       "4      0.20    2.5164  \n",
       "\n",
       "[5 rows x 21 columns]"
      ]
     },
     "execution_count": 3,
     "metadata": {},
     "output_type": "execute_result"
    }
   ],
   "source": [
    "data.head()"
   ]
  },
  {
   "cell_type": "code",
   "execution_count": 4,
   "id": "60973365",
   "metadata": {},
   "outputs": [
    {
     "data": {
      "text/plain": [
       "(9994, 21)"
      ]
     },
     "execution_count": 4,
     "metadata": {},
     "output_type": "execute_result"
    }
   ],
   "source": [
    "data.shape"
   ]
  },
  {
   "cell_type": "code",
   "execution_count": 5,
   "id": "f0cc8460",
   "metadata": {},
   "outputs": [
    {
     "name": "stdout",
     "output_type": "stream",
     "text": [
      "<class 'pandas.core.frame.DataFrame'>\n",
      "RangeIndex: 9994 entries, 0 to 9993\n",
      "Data columns (total 21 columns):\n",
      " #   Column         Non-Null Count  Dtype  \n",
      "---  ------         --------------  -----  \n",
      " 0   Row ID         9994 non-null   int64  \n",
      " 1   Order ID       9994 non-null   object \n",
      " 2   Order Date     9994 non-null   object \n",
      " 3   Ship Date      9994 non-null   object \n",
      " 4   Ship Mode      9994 non-null   object \n",
      " 5   Customer ID    9994 non-null   object \n",
      " 6   Customer Name  9994 non-null   object \n",
      " 7   Segment        9994 non-null   object \n",
      " 8   Country        9994 non-null   object \n",
      " 9   City           9994 non-null   object \n",
      " 10  State          9994 non-null   object \n",
      " 11  Postal Code    9994 non-null   int64  \n",
      " 12  Region         9994 non-null   object \n",
      " 13  Product ID     9994 non-null   object \n",
      " 14  Category       9994 non-null   object \n",
      " 15  Sub-Category   9994 non-null   object \n",
      " 16  Product Name   9994 non-null   object \n",
      " 17  Sales          9994 non-null   float64\n",
      " 18  Quantity       9994 non-null   int64  \n",
      " 19  Discount       9994 non-null   float64\n",
      " 20  Profit         9994 non-null   float64\n",
      "dtypes: float64(3), int64(3), object(15)\n",
      "memory usage: 1.6+ MB\n"
     ]
    }
   ],
   "source": [
    "data.info()"
   ]
  },
  {
   "cell_type": "code",
   "execution_count": 6,
   "id": "f8d26c2a",
   "metadata": {},
   "outputs": [
    {
     "data": {
      "application/vnd.microsoft.datawrangler.viewer.v0+json": {
       "columns": [
        {
         "name": "index",
         "rawType": "int64",
         "type": "integer"
        },
        {
         "name": "Order ID",
         "rawType": "object",
         "type": "string"
        },
        {
         "name": "Order Date",
         "rawType": "datetime64[ns]",
         "type": "datetime"
        },
        {
         "name": "Ship Date",
         "rawType": "datetime64[ns]",
         "type": "datetime"
        },
        {
         "name": "Ship Mode",
         "rawType": "object",
         "type": "string"
        },
        {
         "name": "Customer ID",
         "rawType": "object",
         "type": "string"
        },
        {
         "name": "Segment",
         "rawType": "object",
         "type": "string"
        },
        {
         "name": "City",
         "rawType": "object",
         "type": "string"
        },
        {
         "name": "State",
         "rawType": "object",
         "type": "string"
        },
        {
         "name": "Postal Code",
         "rawType": "int64",
         "type": "integer"
        },
        {
         "name": "Region",
         "rawType": "object",
         "type": "string"
        },
        {
         "name": "Product ID",
         "rawType": "object",
         "type": "string"
        },
        {
         "name": "Category",
         "rawType": "object",
         "type": "string"
        },
        {
         "name": "Sub-Category",
         "rawType": "object",
         "type": "string"
        },
        {
         "name": "Product Name",
         "rawType": "object",
         "type": "string"
        },
        {
         "name": "Sales",
         "rawType": "float64",
         "type": "float"
        },
        {
         "name": "Quantity",
         "rawType": "int64",
         "type": "integer"
        },
        {
         "name": "Discount",
         "rawType": "float64",
         "type": "float"
        },
        {
         "name": "Profit",
         "rawType": "float64",
         "type": "float"
        },
        {
         "name": "Ship Year",
         "rawType": "int32",
         "type": "integer"
        },
        {
         "name": "Ship Month",
         "rawType": "int32",
         "type": "integer"
        },
        {
         "name": "Ship Day",
         "rawType": "int32",
         "type": "integer"
        },
        {
         "name": "Order Year",
         "rawType": "int32",
         "type": "integer"
        },
        {
         "name": "Order Month",
         "rawType": "int32",
         "type": "integer"
        },
        {
         "name": "Order Day",
         "rawType": "int32",
         "type": "integer"
        },
        {
         "name": "Price per Piece",
         "rawType": "float64",
         "type": "float"
        },
        {
         "name": "Profit per Piece",
         "rawType": "float64",
         "type": "float"
        },
        {
         "name": "Delivery Time",
         "rawType": "int64",
         "type": "integer"
        }
       ],
       "ref": "df64ddaa-a258-4ae8-a0e3-9ad71285eca4",
       "rows": [
        [
         "0",
         "CA-2013-152156",
         "2013-11-09 00:00:00",
         "2013-11-12 00:00:00",
         "Second Class",
         "CG-12520",
         "Consumer",
         "Henderson",
         "Kentucky",
         "42420",
         "South",
         "FUR-BO-10001798",
         "Furniture",
         "Bookcases",
         "Bush Somerset Collection Bookcase",
         "261.96",
         "2",
         "0.0",
         "41.9136",
         "2013",
         "11",
         "12",
         "2013",
         "11",
         "9",
         "130.98",
         "20.9568",
         "3"
        ],
        [
         "1",
         "CA-2013-152156",
         "2013-11-09 00:00:00",
         "2013-11-12 00:00:00",
         "Second Class",
         "CG-12520",
         "Consumer",
         "Henderson",
         "Kentucky",
         "42420",
         "South",
         "FUR-CH-10000454",
         "Furniture",
         "Chairs",
         "Hon Deluxe Fabric Upholstered Stacking Chairs, Rounded Back",
         "731.94",
         "3",
         "0.0",
         "219.582",
         "2013",
         "11",
         "12",
         "2013",
         "11",
         "9",
         "243.98000000000002",
         "73.194",
         "3"
        ],
        [
         "2",
         "CA-2013-138688",
         "2013-06-13 00:00:00",
         "2013-06-17 00:00:00",
         "Second Class",
         "DV-13045",
         "Corporate",
         "Los Angeles",
         "California",
         "90036",
         "West",
         "OFF-LA-10000240",
         "Office Supplies",
         "Labels",
         "Self-Adhesive Address Labels for Typewriters by Universal",
         "14.62",
         "2",
         "0.0",
         "6.8714",
         "2013",
         "6",
         "17",
         "2013",
         "6",
         "13",
         "7.31",
         "3.4357",
         "4"
        ],
        [
         "3",
         "US-2012-108966",
         "2012-10-11 00:00:00",
         "2012-10-18 00:00:00",
         "Standard Class",
         "SO-20335",
         "Consumer",
         "Fort Lauderdale",
         "Florida",
         "33311",
         "South",
         "FUR-TA-10000577",
         "Furniture",
         "Tables",
         "Bretford CR4500 Series Slim Rectangular Table",
         "957.5775",
         "5",
         "0.45",
         "-383.031",
         "2012",
         "10",
         "18",
         "2012",
         "10",
         "11",
         "191.5155",
         "-76.6062",
         "7"
        ],
        [
         "4",
         "US-2012-108966",
         "2012-10-11 00:00:00",
         "2012-10-18 00:00:00",
         "Standard Class",
         "SO-20335",
         "Consumer",
         "Fort Lauderdale",
         "Florida",
         "33311",
         "South",
         "OFF-ST-10000760",
         "Office Supplies",
         "Storage",
         "Eldon Fold 'N Roll Cart System",
         "22.368",
         "2",
         "0.2",
         "2.5164",
         "2012",
         "10",
         "18",
         "2012",
         "10",
         "11",
         "11.184",
         "1.2582",
         "7"
        ]
       ],
       "shape": {
        "columns": 27,
        "rows": 5
       }
      },
      "text/html": [
       "<div>\n",
       "<style scoped>\n",
       "    .dataframe tbody tr th:only-of-type {\n",
       "        vertical-align: middle;\n",
       "    }\n",
       "\n",
       "    .dataframe tbody tr th {\n",
       "        vertical-align: top;\n",
       "    }\n",
       "\n",
       "    .dataframe thead th {\n",
       "        text-align: right;\n",
       "    }\n",
       "</style>\n",
       "<table border=\"1\" class=\"dataframe\">\n",
       "  <thead>\n",
       "    <tr style=\"text-align: right;\">\n",
       "      <th></th>\n",
       "      <th>Order ID</th>\n",
       "      <th>Order Date</th>\n",
       "      <th>Ship Date</th>\n",
       "      <th>Ship Mode</th>\n",
       "      <th>Customer ID</th>\n",
       "      <th>Segment</th>\n",
       "      <th>City</th>\n",
       "      <th>State</th>\n",
       "      <th>Postal Code</th>\n",
       "      <th>Region</th>\n",
       "      <th>...</th>\n",
       "      <th>Profit</th>\n",
       "      <th>Ship Year</th>\n",
       "      <th>Ship Month</th>\n",
       "      <th>Ship Day</th>\n",
       "      <th>Order Year</th>\n",
       "      <th>Order Month</th>\n",
       "      <th>Order Day</th>\n",
       "      <th>Price per Piece</th>\n",
       "      <th>Profit per Piece</th>\n",
       "      <th>Delivery Time</th>\n",
       "    </tr>\n",
       "  </thead>\n",
       "  <tbody>\n",
       "    <tr>\n",
       "      <th>0</th>\n",
       "      <td>CA-2013-152156</td>\n",
       "      <td>2013-11-09</td>\n",
       "      <td>2013-11-12</td>\n",
       "      <td>Second Class</td>\n",
       "      <td>CG-12520</td>\n",
       "      <td>Consumer</td>\n",
       "      <td>Henderson</td>\n",
       "      <td>Kentucky</td>\n",
       "      <td>42420</td>\n",
       "      <td>South</td>\n",
       "      <td>...</td>\n",
       "      <td>41.9136</td>\n",
       "      <td>2013</td>\n",
       "      <td>11</td>\n",
       "      <td>12</td>\n",
       "      <td>2013</td>\n",
       "      <td>11</td>\n",
       "      <td>9</td>\n",
       "      <td>130.9800</td>\n",
       "      <td>20.9568</td>\n",
       "      <td>3</td>\n",
       "    </tr>\n",
       "    <tr>\n",
       "      <th>1</th>\n",
       "      <td>CA-2013-152156</td>\n",
       "      <td>2013-11-09</td>\n",
       "      <td>2013-11-12</td>\n",
       "      <td>Second Class</td>\n",
       "      <td>CG-12520</td>\n",
       "      <td>Consumer</td>\n",
       "      <td>Henderson</td>\n",
       "      <td>Kentucky</td>\n",
       "      <td>42420</td>\n",
       "      <td>South</td>\n",
       "      <td>...</td>\n",
       "      <td>219.5820</td>\n",
       "      <td>2013</td>\n",
       "      <td>11</td>\n",
       "      <td>12</td>\n",
       "      <td>2013</td>\n",
       "      <td>11</td>\n",
       "      <td>9</td>\n",
       "      <td>243.9800</td>\n",
       "      <td>73.1940</td>\n",
       "      <td>3</td>\n",
       "    </tr>\n",
       "    <tr>\n",
       "      <th>2</th>\n",
       "      <td>CA-2013-138688</td>\n",
       "      <td>2013-06-13</td>\n",
       "      <td>2013-06-17</td>\n",
       "      <td>Second Class</td>\n",
       "      <td>DV-13045</td>\n",
       "      <td>Corporate</td>\n",
       "      <td>Los Angeles</td>\n",
       "      <td>California</td>\n",
       "      <td>90036</td>\n",
       "      <td>West</td>\n",
       "      <td>...</td>\n",
       "      <td>6.8714</td>\n",
       "      <td>2013</td>\n",
       "      <td>6</td>\n",
       "      <td>17</td>\n",
       "      <td>2013</td>\n",
       "      <td>6</td>\n",
       "      <td>13</td>\n",
       "      <td>7.3100</td>\n",
       "      <td>3.4357</td>\n",
       "      <td>4</td>\n",
       "    </tr>\n",
       "    <tr>\n",
       "      <th>3</th>\n",
       "      <td>US-2012-108966</td>\n",
       "      <td>2012-10-11</td>\n",
       "      <td>2012-10-18</td>\n",
       "      <td>Standard Class</td>\n",
       "      <td>SO-20335</td>\n",
       "      <td>Consumer</td>\n",
       "      <td>Fort Lauderdale</td>\n",
       "      <td>Florida</td>\n",
       "      <td>33311</td>\n",
       "      <td>South</td>\n",
       "      <td>...</td>\n",
       "      <td>-383.0310</td>\n",
       "      <td>2012</td>\n",
       "      <td>10</td>\n",
       "      <td>18</td>\n",
       "      <td>2012</td>\n",
       "      <td>10</td>\n",
       "      <td>11</td>\n",
       "      <td>191.5155</td>\n",
       "      <td>-76.6062</td>\n",
       "      <td>7</td>\n",
       "    </tr>\n",
       "    <tr>\n",
       "      <th>4</th>\n",
       "      <td>US-2012-108966</td>\n",
       "      <td>2012-10-11</td>\n",
       "      <td>2012-10-18</td>\n",
       "      <td>Standard Class</td>\n",
       "      <td>SO-20335</td>\n",
       "      <td>Consumer</td>\n",
       "      <td>Fort Lauderdale</td>\n",
       "      <td>Florida</td>\n",
       "      <td>33311</td>\n",
       "      <td>South</td>\n",
       "      <td>...</td>\n",
       "      <td>2.5164</td>\n",
       "      <td>2012</td>\n",
       "      <td>10</td>\n",
       "      <td>18</td>\n",
       "      <td>2012</td>\n",
       "      <td>10</td>\n",
       "      <td>11</td>\n",
       "      <td>11.1840</td>\n",
       "      <td>1.2582</td>\n",
       "      <td>7</td>\n",
       "    </tr>\n",
       "  </tbody>\n",
       "</table>\n",
       "<p>5 rows × 27 columns</p>\n",
       "</div>"
      ],
      "text/plain": [
       "         Order ID Order Date  Ship Date       Ship Mode Customer ID  \\\n",
       "0  CA-2013-152156 2013-11-09 2013-11-12    Second Class    CG-12520   \n",
       "1  CA-2013-152156 2013-11-09 2013-11-12    Second Class    CG-12520   \n",
       "2  CA-2013-138688 2013-06-13 2013-06-17    Second Class    DV-13045   \n",
       "3  US-2012-108966 2012-10-11 2012-10-18  Standard Class    SO-20335   \n",
       "4  US-2012-108966 2012-10-11 2012-10-18  Standard Class    SO-20335   \n",
       "\n",
       "     Segment             City       State  Postal Code Region  ...    Profit  \\\n",
       "0   Consumer        Henderson    Kentucky        42420  South  ...   41.9136   \n",
       "1   Consumer        Henderson    Kentucky        42420  South  ...  219.5820   \n",
       "2  Corporate      Los Angeles  California        90036   West  ...    6.8714   \n",
       "3   Consumer  Fort Lauderdale     Florida        33311  South  ... -383.0310   \n",
       "4   Consumer  Fort Lauderdale     Florida        33311  South  ...    2.5164   \n",
       "\n",
       "  Ship Year Ship Month Ship Day  Order Year  Order Month  Order Day  \\\n",
       "0      2013         11       12        2013           11          9   \n",
       "1      2013         11       12        2013           11          9   \n",
       "2      2013          6       17        2013            6         13   \n",
       "3      2012         10       18        2012           10         11   \n",
       "4      2012         10       18        2012           10         11   \n",
       "\n",
       "   Price per Piece  Profit per Piece  Delivery Time  \n",
       "0         130.9800           20.9568              3  \n",
       "1         243.9800           73.1940              3  \n",
       "2           7.3100            3.4357              4  \n",
       "3         191.5155          -76.6062              7  \n",
       "4          11.1840            1.2582              7  \n",
       "\n",
       "[5 rows x 27 columns]"
      ]
     },
     "execution_count": 6,
     "metadata": {},
     "output_type": "execute_result"
    }
   ],
   "source": [
    "def clean_and_separate(dataframe):\n",
    "    dataframe.drop(['Row ID', 'Country', 'Customer Name'], axis = 1, inplace = True)\n",
    "    dataframe['Ship Date'] = pd.to_datetime(dataframe['Ship Date'], format = '%d-%m-%Y')\n",
    "    dataframe['Order Date'] = pd.to_datetime(dataframe['Order Date'], format = '%d-%m-%Y')\n",
    "    dataframe['Ship Year'] = dataframe['Ship Date'].dt.year\n",
    "    dataframe['Ship Month'] = dataframe['Ship Date'].dt.month\n",
    "    dataframe['Ship Day'] = dataframe['Ship Date'].dt.day\n",
    "    dataframe['Order Year'] = dataframe['Order Date'].dt.year\n",
    "    dataframe['Order Month'] = dataframe['Order Date'].dt.month\n",
    "    dataframe['Order Day'] = dataframe['Order Date'].dt.day\n",
    "    dataframe['Price per Piece'] = dataframe['Sales'] / dataframe['Quantity']\n",
    "    dataframe['Profit per Piece'] = dataframe['Profit'] / dataframe['Quantity']\n",
    "    dataframe['Delivery Time'] = (dataframe['Ship Date'] - dataframe['Order Date']).dt.days\n",
    "    return dataframe\n",
    "df = clean_and_separate(data)\n",
    "#df.reindex()\n",
    "df.head()"
   ]
  },
  {
   "cell_type": "code",
   "execution_count": 7,
   "id": "0cefc81f",
   "metadata": {},
   "outputs": [
    {
     "data": {
      "application/vnd.microsoft.datawrangler.viewer.v0+json": {
       "columns": [
        {
         "name": "index",
         "rawType": "object",
         "type": "string"
        },
        {
         "name": "0",
         "rawType": "int64",
         "type": "integer"
        }
       ],
       "ref": "a6e62694-6393-4fea-9ed4-ab439e0e84c6",
       "rows": [
        [
         "Order Date",
         "1238"
        ],
        [
         "Ship Date",
         "1334"
        ],
        [
         "Postal Code",
         "631"
        ],
        [
         "Sales",
         "5825"
        ],
        [
         "Quantity",
         "14"
        ],
        [
         "Discount",
         "12"
        ],
        [
         "Profit",
         "7287"
        ],
        [
         "Ship Year",
         "5"
        ],
        [
         "Ship Month",
         "12"
        ],
        [
         "Ship Day",
         "31"
        ],
        [
         "Order Year",
         "4"
        ],
        [
         "Order Month",
         "12"
        ],
        [
         "Order Day",
         "31"
        ],
        [
         "Price per Piece",
         "3298"
        ],
        [
         "Profit per Piece",
         "4246"
        ],
        [
         "Delivery Time",
         "8"
        ]
       ],
       "shape": {
        "columns": 1,
        "rows": 16
       }
      },
      "text/plain": [
       "Order Date          1238\n",
       "Ship Date           1334\n",
       "Postal Code          631\n",
       "Sales               5825\n",
       "Quantity              14\n",
       "Discount              12\n",
       "Profit              7287\n",
       "Ship Year              5\n",
       "Ship Month            12\n",
       "Ship Day              31\n",
       "Order Year             4\n",
       "Order Month           12\n",
       "Order Day             31\n",
       "Price per Piece     3298\n",
       "Profit per Piece    4246\n",
       "Delivery Time          8\n",
       "dtype: int64"
      ]
     },
     "execution_count": 7,
     "metadata": {},
     "output_type": "execute_result"
    }
   ],
   "source": [
    "df.select_dtypes(exclude=['object']).nunique()"
   ]
  },
  {
   "cell_type": "code",
   "execution_count": 14,
   "id": "a576e7eb",
   "metadata": {},
   "outputs": [
    {
     "data": {
      "text/plain": [
       "<Axes: title={'center': 'Segment Distribution'}>"
      ]
     },
     "execution_count": 14,
     "metadata": {},
     "output_type": "execute_result"
    },
    {
     "data": {
      "image/png": "[encoded data removed]",
      "text/plain": [
       "<Figure size 640x480 with 1 Axes>"
      ]
     },
     "metadata": {},
     "output_type": "display_data"
    }
   ],
   "source": [
    "df['Segment'].value_counts().plot(\n",
    "    kind = 'pie',\n",
    "    autopct='%1.1f%%',\n",
    "    startangle=90,\n",
    "    ylabel='',\n",
    "    explode = (0.05, 0.05, 0.05),\n",
    "    title = 'Segment Distribution',\n",
    ")"
   ]
  },
  {
   "cell_type": "code",
   "execution_count": 9,
   "id": "2b1a4153",
   "metadata": {},
   "outputs": [
    {
     "data": {
      "image/png": "[encoded data removed]",
      "text/plain": [
       "<Figure size 500x500 with 1 Axes>"
      ]
     },
     "metadata": {},
     "output_type": "display_data"
    }
   ],
   "source": [
    "# Create the grouped data first\n",
    "sales_by_segment = df.groupby('Segment').agg({'Sales':'mean'})\n",
    "\n",
    "# Create the plot\n",
    "fig, ax = plt.subplots(figsize=(5, 5))\n",
    "bars = ax.bar(sales_by_segment.index, sales_by_segment['Sales'], width=0.6)\n",
    "\n",
    "# Set individual colors for each bar\n",
    "colors = ['#1f77b4', \"#ff9900\", \"#068706\"]  # Dark blue, Orange, Green\n",
    "for bar, color in zip(bars, colors):\n",
    "    bar.set_color(color)\n",
    "\n",
    "# Customize the plot\n",
    "ax.set_title('Average Sales by Segment', pad=20)\n",
    "ax.set_ylabel('Average Sales ($)', labelpad=20)\n",
    "ax.set_xlabel('Segment', labelpad=20)\n",
    "\n",
    "for i, x in enumerate(sales_by_segment['Sales']):\n",
    "    ax.text(i-0.2, x+5, f'{x:,.2f} $', va='center', fontsize=10)\n",
    "\n",
    "plt.show()"
   ]
  },
  {
   "cell_type": "code",
   "execution_count": 10,
   "id": "a220cff7",
   "metadata": {},
   "outputs": [
    {
     "data": {
      "image/png": "[encoded data removed]",
      "text/plain": [
       "<Figure size 500x500 with 1 Axes>"
      ]
     },
     "metadata": {},
     "output_type": "display_data"
    }
   ],
   "source": [
    "# Create the grouped data first\n",
    "sales_by_segment = df.groupby('Segment').agg({'Profit':'mean'})\n",
    "\n",
    "# Create the plot\n",
    "fig, ax = plt.subplots(figsize=(5, 5))\n",
    "bars = ax.bar(sales_by_segment.index, sales_by_segment['Profit'], width=0.6)\n",
    "\n",
    "# Set individual colors for each bar\n",
    "colors = ['#1f77b4', \"#ff9900\", \"#068706\"]  # Dark blue, Orange, Green\n",
    "for bar, color in zip(bars, colors):\n",
    "    bar.set_color(color)\n",
    "\n",
    "# Customize the plot\n",
    "ax.set_title('Average Profit by Segment', pad=20)\n",
    "ax.set_ylabel('Average Profit ($)', labelpad=20)\n",
    "ax.set_xlabel('Segment', labelpad=20)\n",
    "\n",
    "for i, x in enumerate(sales_by_segment['Profit']):\n",
    "    ax.text(i-0.2, x+0.8, f'{x:,.2f} $', va='center', fontsize=10)\n",
    "\n",
    "plt.show()"
   ]
  },
  {
   "cell_type": "code",
   "execution_count": 13,
   "id": "6d83420a",
   "metadata": {},
   "outputs": [
    {
     "data": {
      "image/png": "[encoded data removed]",
      "text/plain": [
       "<Figure size 500x500 with 1 Axes>"
      ]
     },
     "metadata": {},
     "output_type": "display_data"
    }
   ],
   "source": [
    "# Create the grouped data first\n",
    "sales_by_segment = df.groupby('Segment').agg({'Delivery Time':'mean'})\n",
    "\n",
    "# Create the plot\n",
    "fig, ax = plt.subplots(figsize=(5, 5))\n",
    "bars = ax.bar(sales_by_segment.index, sales_by_segment['Delivery Time'], width=0.6)\n",
    "\n",
    "# Set individual colors for each bar\n",
    "colors = ['#1f77b4', \"#ff9900\", \"#068706\"]  # Dark blue, Orange, Green\n",
    "for bar, color in zip(bars, colors):\n",
    "    bar.set_color(color)\n",
    "\n",
    "# Customize the plot\n",
    "ax.set_title('Average Delivery Time by Segment', pad=20)\n",
    "ax.set_ylabel('Average Delivery Time (days)', labelpad=20)\n",
    "ax.set_xlabel('Segment', labelpad=20)\n",
    "\n",
    "for i, x in enumerate(sales_by_segment['Delivery Time']):\n",
    "    ax.text(i-0.2, x+0.1, f'{x:,.2f} days', va='center', fontsize=10)\n",
    "\n",
    "plt.show()"
   ]
  },
  {
   "cell_type": "code",
   "execution_count": 28,
   "id": "ee3108d5",
   "metadata": {},
   "outputs": [
    {
     "data": {
      "image/png": "[encoded data removed]",
      "text/plain": [
       "<Figure size 1000x600 with 1 Axes>"
      ]
     },
     "metadata": {},
     "output_type": "display_data"
    }
   ],
   "source": [
    "# Create figure and axes first\n",
    "fig, ax = plt.subplots(figsize=(10, 6))\n",
    "month_names = ['Jan', 'Feb', 'Mar', 'Apr', 'May', 'Jun', 'Jul', 'Aug', 'Sep', 'Oct', 'Nov', 'Dec']\n",
    "\n",
    "monthly_sales = df.query(\"(Segment == 'Consumer')\").groupby('Ship Month').agg({'Sales':'sum'})\n",
    "monthly_sales.index = month_names\n",
    "monthly_sales.plot(kind='barh', ax=ax)\n",
    "\n",
    "# Customize the plot\n",
    "ax.set_title('Monthly Sales for Consumer Segment')\n",
    "ax.set_ylabel('Sales ($)')\n",
    "ax.set_xlabel('Month')\n",
    "\n",
    "plt.show()"
   ]
  },
  {
   "cell_type": "code",
   "execution_count": 30,
   "id": "e12937b6",
   "metadata": {},
   "outputs": [
    {
     "data": {
      "image/png": "[encoded data removed]",
      "text/plain": [
       "<Figure size 1000x600 with 1 Axes>"
      ]
     },
     "metadata": {},
     "output_type": "display_data"
    }
   ],
   "source": [
    "# Create figure and axes first\n",
    "fig, ax = plt.subplots(figsize=(10, 6))\n",
    "\n",
    "monthly_sales = df.query(\"(Segment == 'Corporate')\").groupby('Ship Month').agg({'Sales':'sum'})\n",
    "monthly_sales.index = month_names\n",
    "monthly_sales.plot(kind='barh', ax=ax)\n",
    "\n",
    "# Customize the plot\n",
    "ax.set_title('Monthly Sales for Corporate Segment')\n",
    "ax.set_ylabel('Sales ($)')\n",
    "ax.set_xlabel('Month')\n",
    "\n",
    "plt.show()"
   ]
  },
  {
   "cell_type": "code",
   "execution_count": 31,
   "id": "5089b2ba",
   "metadata": {},
   "outputs": [
    {
     "data": {
      "image/png": "[encoded data removed]",
      "text/plain": [
       "<Figure size 1000x600 with 1 Axes>"
      ]
     },
     "metadata": {},
     "output_type": "display_data"
    }
   ],
   "source": [
    "# Create figure and axes first\n",
    "fig, ax = plt.subplots(figsize=(10, 6))\n",
    "month_names = ['Jan', 'Feb', 'Mar', 'Apr', 'May', 'Jun', 'Jul', 'Aug', 'Sep', 'Oct', 'Nov', 'Dec']\n",
    "\n",
    "monthly_sales = df.query(\"(Segment == 'Home Office')\").groupby('Ship Month').agg({'Sales':'sum'})\n",
    "monthly_sales.index = month_names\n",
    "monthly_sales.plot(kind='barh', ax=ax)\n",
    "\n",
    "# Customize the plot\n",
    "ax.set_title('Monthly Sales for Home Office Segment')\n",
    "ax.set_ylabel('Sales ($)')\n",
    "ax.set_xlabel('Month')\n",
    "\n",
    "plt.show()"
   ]
  },
  {
   "cell_type": "code",
   "execution_count": 33,
   "id": "98a3c17a",
   "metadata": {},
   "outputs": [
    {
     "data": {
      "image/png": "[encoded data removed]",
      "text/plain": [
       "<Figure size 1000x600 with 1 Axes>"
      ]
     },
     "metadata": {},
     "output_type": "display_data"
    }
   ],
   "source": [
    "# Create figure and axes first\n",
    "fig, ax = plt.subplots(figsize=(10, 6))\n",
    "month_names = ['Jan', 'Feb', 'Mar', 'Apr', 'May', 'Jun', 'Jul', 'Aug', 'Sep', 'Oct', 'Nov', 'Dec']\n",
    "\n",
    "monthly_sales = df.groupby('Ship Month').agg({'Sales':'sum'})\n",
    "monthly_sales.index = month_names\n",
    "monthly_sales.plot(kind='barh', ax=ax)\n",
    "\n",
    "# Customize the plot\n",
    "ax.set_title('Monthly Sales for all Segments')\n",
    "ax.set_ylabel('Sales ($)')\n",
    "ax.set_xlabel('Month')\n",
    "\n",
    "plt.show()"
   ]
  },
  {
   "cell_type": "code",
   "execution_count": 55,
   "id": "b06bf9ee",
   "metadata": {},
   "outputs": [
    {
     "data": {
      "image/png": "[encoded data removed]",
      "text/plain": [
       "<Figure size 1000x600 with 1 Axes>"
      ]
     },
     "metadata": {},
     "output_type": "display_data"
    }
   ],
   "source": [
    "# Create figure and axes first\n",
    "fig, ax = plt.subplots(figsize=(10, 6))\n",
    "month_names = ['Jan', 'Feb', 'Mar', 'Apr', 'May', 'Jun', 'Jul', 'Aug', 'Sep', 'Oct', 'Nov', 'Dec']\n",
    "\n",
    "monthly_sales = df.groupby('Ship Month').agg({'Profit':'sum'})\n",
    "monthly_sales.index = month_names\n",
    "monthly_sales.plot(\n",
    "                kind='line', \n",
    "                ax=ax, \n",
    "                color ='green',\n",
    "                lw = 2,\n",
    "                marker='o', \n",
    "                markerfacecolor='red', \n",
    "                markeredgewidth=2, \n",
    "                markersize=12, \n",
    "                markeredgecolor='black',\n",
    "                grid = 'True')\n",
    "\n",
    "# Customize the plot\n",
    "ax.set_title('Monthly Profit Across All Segments')\n",
    "ax.set_ylabel('Profit ($)', rotation=0, labelpad=20)\n",
    "ax.set_xlabel('Month')\n",
    "ax.legend('')\n",
    "\n",
    "plt.show()"
   ]
  },
  {
   "cell_type": "code",
   "execution_count": 43,
   "id": "0b975569",
   "metadata": {},
   "outputs": [
    {
     "data": {
      "text/plain": [
       "<Axes: >"
      ]
     },
     "execution_count": 43,
     "metadata": {},
     "output_type": "execute_result"
    },
    {
     "data": {
      "image/png": "[encoded data removed]",
      "text/plain": [
       "<Figure size 640x480 with 1 Axes>"
      ]
     },
     "metadata": {},
     "output_type": "display_data"
    }
   ],
   "source": [
    "df['Profit'].plot(kind = 'line', x='Ship Date')"
   ]
  },
  {
   "cell_type": "code",
   "execution_count": 49,
   "id": "e8fddc9c",
   "metadata": {},
   "outputs": [
    {
     "data": {
      "application/vnd.plotly.v1+json": {
       "config": {
        "plotlyServerURL": "https://plot.ly"
       },
       "data": [
        {
         "hovertemplate": "Date=%{x}<br>Total Profit ($)=%{y}<extra></extra>",
         "legendgroup": "",
         "line": {
          "color": "#636efa",
          "dash": "solid"
         },
         "marker": {
          "symbol": "circle"
         },
         "mode": "lines",
         "name": "",
         "showlegend": false,
         "type": "scattergl",
         "x": [
          "2011-01-08T00:00:00.000000000",
          "2011-01-09T00:00:00.000000000",
          "2011-01-11T00:00:00.000000000",
          "2011-01-13T00:00:00.000000000",
          "2011-01-14T00:00:00.000000000",
          "2011-01-15T00:00:00.000000000",
          "2011-01-16T00:00:00.000000000",
          "2011-01-17T00:00:00.000000000",
          "2011-01-18T00:00:00.000000000",
          "2011-01-19T00:00:00.000000000",
          "2011-01-21T00:00:00.000000000",
          "2011-01-22T00:00:00.000000000",
          "2011-01-24T00:00:00.000000000",
          "2011-01-26T00:00:00.000000000",
          "2011-01-27T00:00:00.000000000",
          "2011-01-28T00:00:00.000000000",
          "2011-01-29T00:00:00.000000000",
          "2011-01-30T00:00:00.000000000",
          "2011-02-01T00:00:00.000000000",
          "2011-02-03T00:00:00.000000000",
          "2011-02-04T00:00:00.000000000",
          "2011-02-05T00:00:00.000000000",
          "2011-02-07T00:00:00.000000000",
          "2011-02-09T00:00:00.000000000",
          "2011-02-10T00:00:00.000000000",
          "2011-02-11T00:00:00.000000000",
          "2011-02-13T00:00:00.000000000",
          "2011-02-16T00:00:00.000000000",
          "2011-02-19T00:00:00.000000000",
          "2011-02-20T00:00:00.000000000",
          "2011-02-22T00:00:00.000000000",
          "2011-02-25T00:00:00.000000000",
          "2011-02-26T00:00:00.000000000",
          "2011-02-27T00:00:00.000000000",
          "2011-02-28T00:00:00.000000000",
          "2011-03-02T00:00:00.000000000",
          "2011-03-03T00:00:00.000000000",
          "2011-03-04T00:00:00.000000000",
          "2011-03-05T00:00:00.000000000",
          "2011-03-06T00:00:00.000000000",
          "2011-03-07T00:00:00.000000000",
          "2011-03-08T00:00:00.000000000",
          "2011-03-09T00:00:00.000000000",
          "2011-03-11T00:00:00.000000000",
          "2011-03-12T00:00:00.000000000",
          "2011-03-13T00:00:00.000000000",
          "2011-03-14T00:00:00.000000000",
          "2011-03-15T00:00:00.000000000",
          "2011-03-16T00:00:00.000000000",
          "2011-03-17T00:00:00.000000000",
          "2011-03-18T00:00:00.000000000",
          "2011-03-19T00:00:00.000000000",
          "2011-03-20T00:00:00.000000000",
          "2011-03-21T00:00:00.000000000",
          "2011-03-22T00:00:00.000000000",
          "2011-03-23T00:00:00.000000000",
          "2011-03-24T00:00:00.000000000",
          "2011-03-25T00:00:00.000000000",
          "2011-03-26T00:00:00.000000000",
          "2011-03-28T00:00:00.000000000",
          "2011-03-29T00:00:00.000000000",
          "2011-03-30T00:00:00.000000000",
          "2011-03-31T00:00:00.000000000",
          "2011-04-01T00:00:00.000000000",
          "2011-04-02T00:00:00.000000000",
          "2011-04-03T00:00:00.000000000",
          "2011-04-04T00:00:00.000000000",
          "2011-04-05T00:00:00.000000000",
          "2011-04-06T00:00:00.000000000",
          "2011-04-07T00:00:00.000000000",
          "2011-04-08T00:00:00.000000000",
          "2011-04-09T00:00:00.000000000",
          "2011-04-10T00:00:00.000000000",
          "2011-04-12T00:00:00.000000000",
          "2011-04-13T00:00:00.000000000",
          "2011-04-15T00:00:00.000000000",
          "2011-04-16T00:00:00.000000000",
          "2011-04-17T00:00:00.000000000",
          "2011-04-18T00:00:00.000000000",
          "2011-04-20T00:00:00.000000000",
          "2011-04-21T00:00:00.000000000",
          "2011-04-22T00:00:00.000000000",
          "2011-04-23T00:00:00.000000000",
          "2011-04-24T00:00:00.000000000",
          "2011-04-25T00:00:00.000000000",
          "2011-04-26T00:00:00.000000000",
          "2011-04-27T00:00:00.000000000",
          "2011-04-29T00:00:00.000000000",
          "2011-04-30T00:00:00.000000000",
          "2011-05-01T00:00:00.000000000",
          "2011-05-02T00:00:00.000000000",
          "2011-05-03T00:00:00.000000000",
          "2011-05-04T00:00:00.000000000",
          "2011-05-05T00:00:00.000000000",
          "2011-05-07T00:00:00.000000000",
          "2011-05-08T00:00:00.000000000",
          "2011-05-09T00:00:00.000000000",
          "2011-05-10T00:00:00.000000000",
          "2011-05-11T00:00:00.000000000",
          "2011-05-12T00:00:00.000000000",
          "2011-05-14T00:00:00.000000000",
          "2011-05-15T00:00:00.000000000",
          "2011-05-16T00:00:00.000000000",
          "2011-05-17T00:00:00.000000000",
          "2011-05-18T00:00:00.000000000",
          "2011-05-19T00:00:00.000000000",
          "2011-05-20T00:00:00.000000000",
          "2011-05-21T00:00:00.000000000",
          "2011-05-22T00:00:00.000000000",
          "2011-05-23T00:00:00.000000000",
          "2011-05-24T00:00:00.000000000",
          "2011-05-25T00:00:00.000000000",
          "2011-05-26T00:00:00.000000000",
          "2011-05-27T00:00:00.000000000",
          "2011-05-29T00:00:00.000000000",
          "2011-05-30T00:00:00.000000000",
          "2011-05-31T00:00:00.000000000",
          "2011-06-01T00:00:00.000000000",
          "2011-06-02T00:00:00.000000000",
          "2011-06-03T00:00:00.000000000",
          "2011-06-05T00:00:00.000000000",
          "2011-06-06T00:00:00.000000000",
          "2011-06-07T00:00:00.000000000",
          "2011-06-09T00:00:00.000000000",
          "2011-06-10T00:00:00.000000000",
          "2011-06-11T00:00:00.000000000",
          "2011-06-12T00:00:00.000000000",
          "2011-06-13T00:00:00.000000000",
          "2011-06-14T00:00:00.000000000",
          "2011-06-15T00:00:00.000000000",
          "2011-06-16T00:00:00.000000000",
          "2011-06-17T00:00:00.000000000",
          "2011-06-20T00:00:00.000000000",
          "2011-06-21T00:00:00.000000000",
          "2011-06-22T00:00:00.000000000",
          "2011-06-23T00:00:00.000000000",
          "2011-06-24T00:00:00.000000000",
          "2011-06-25T00:00:00.000000000",
          "2011-06-26T00:00:00.000000000",
          "2011-06-27T00:00:00.000000000",
          "2011-06-28T00:00:00.000000000",
          "2011-06-30T00:00:00.000000000",
          "2011-07-01T00:00:00.000000000",
          "2011-07-02T00:00:00.000000000",
          "2011-07-03T00:00:00.000000000",
          "2011-07-04T00:00:00.000000000",
          "2011-07-05T00:00:00.000000000",
          "2011-07-06T00:00:00.000000000",
          "2011-07-07T00:00:00.000000000",
          "2011-07-08T00:00:00.000000000",
          "2011-07-09T00:00:00.000000000",
          "2011-07-10T00:00:00.000000000",
          "2011-07-11T00:00:00.000000000",
          "2011-07-12T00:00:00.000000000",
          "2011-07-13T00:00:00.000000000",
          "2011-07-14T00:00:00.000000000",
          "2011-07-15T00:00:00.000000000",
          "2011-07-16T00:00:00.000000000",
          "2011-07-17T00:00:00.000000000",
          "2011-07-18T00:00:00.000000000",
          "2011-07-19T00:00:00.000000000",
          "2011-07-20T00:00:00.000000000",
          "2011-07-21T00:00:00.000000000",
          "2011-07-22T00:00:00.000000000",
          "2011-07-23T00:00:00.000000000",
          "2011-07-24T00:00:00.000000000",
          "2011-07-25T00:00:00.000000000",
          "2011-07-27T00:00:00.000000000",
          "2011-07-28T00:00:00.000000000",
          "2011-07-29T00:00:00.000000000",
          "2011-07-30T00:00:00.000000000",
          "2011-08-01T00:00:00.000000000",
          "2011-08-02T00:00:00.000000000",
          "2011-08-03T00:00:00.000000000",
          "2011-08-05T00:00:00.000000000",
          "2011-08-06T00:00:00.000000000",
          "2011-08-07T00:00:00.000000000",
          "2011-08-08T00:00:00.000000000",
          "2011-08-09T00:00:00.000000000",
          "2011-08-10T00:00:00.000000000",
          "2011-08-11T00:00:00.000000000",
          "2011-08-12T00:00:00.000000000",
          "2011-08-13T00:00:00.000000000",
          "2011-08-14T00:00:00.000000000",
          "2011-08-15T00:00:00.000000000",
          "2011-08-16T00:00:00.000000000",
          "2011-08-17T00:00:00.000000000",
          "2011-08-18T00:00:00.000000000",
          "2011-08-19T00:00:00.000000000",
          "2011-08-20T00:00:00.000000000",
          "2011-08-21T00:00:00.000000000",
          "2011-08-23T00:00:00.000000000",
          "2011-08-24T00:00:00.000000000",
          "2011-08-25T00:00:00.000000000",
          "2011-08-26T00:00:00.000000000",
          "2011-08-27T00:00:00.000000000",
          "2011-08-28T00:00:00.000000000",
          "2011-08-29T00:00:00.000000000",
          "2011-08-30T00:00:00.000000000",
          "2011-09-01T00:00:00.000000000",
          "2011-09-02T00:00:00.000000000",
          "2011-09-03T00:00:00.000000000",
          "2011-09-04T00:00:00.000000000",
          "2011-09-05T00:00:00.000000000",
          "2011-09-07T00:00:00.000000000",
          "2011-09-08T00:00:00.000000000",
          "2011-09-09T00:00:00.000000000",
          "2011-09-10T00:00:00.000000000",
          "2011-09-11T00:00:00.000000000",
          "2011-09-12T00:00:00.000000000",
          "2011-09-13T00:00:00.000000000",
          "2011-09-14T00:00:00.000000000",
          "2011-09-15T00:00:00.000000000",
          "2011-09-16T00:00:00.000000000",
          "2011-09-17T00:00:00.000000000",
          "2011-09-18T00:00:00.000000000",
          "2011-09-19T00:00:00.000000000",
          "2011-09-20T00:00:00.000000000",
          "2011-09-21T00:00:00.000000000",
          "2011-09-22T00:00:00.000000000",
          "2011-09-23T00:00:00.000000000",
          "2011-09-24T00:00:00.000000000",
          "2011-09-25T00:00:00.000000000",
          "2011-09-26T00:00:00.000000000",
          "2011-09-27T00:00:00.000000000",
          "2011-09-28T00:00:00.000000000",
          "2011-09-29T00:00:00.000000000",
          "2011-09-30T00:00:00.000000000",
          "2011-10-01T00:00:00.000000000",
          "2011-10-03T00:00:00.000000000",
          "2011-10-04T00:00:00.000000000",
          "2011-10-05T00:00:00.000000000",
          "2011-10-06T00:00:00.000000000",
          "2011-10-07T00:00:00.000000000",
          "2011-10-08T00:00:00.000000000",
          "2011-10-09T00:00:00.000000000",
          "2011-10-10T00:00:00.000000000",
          "2011-10-12T00:00:00.000000000",
          "2011-10-13T00:00:00.000000000",
          "2011-10-14T00:00:00.000000000",
          "2011-10-15T00:00:00.000000000",
          "2011-10-16T00:00:00.000000000",
          "2011-10-17T00:00:00.000000000",
          "2011-10-18T00:00:00.000000000",
          "2011-10-19T00:00:00.000000000",
          "2011-10-20T00:00:00.000000000",
          "2011-10-22T00:00:00.000000000",
          "2011-10-23T00:00:00.000000000",
          "2011-10-24T00:00:00.000000000",
          "2011-10-25T00:00:00.000000000",
          "2011-10-26T00:00:00.000000000",
          "2011-10-28T00:00:00.000000000",
          "2011-10-29T00:00:00.000000000",
          "2011-10-30T00:00:00.000000000",
          "2011-10-31T00:00:00.000000000",
          "2011-11-01T00:00:00.000000000",
          "2011-11-02T00:00:00.000000000",
          "2011-11-03T00:00:00.000000000",
          "2011-11-04T00:00:00.000000000",
          "2011-11-05T00:00:00.000000000",
          "2011-11-06T00:00:00.000000000",
          "2011-11-07T00:00:00.000000000",
          "2011-11-08T00:00:00.000000000",
          "2011-11-09T00:00:00.000000000",
          "2011-11-10T00:00:00.000000000",
          "2011-11-11T00:00:00.000000000",
          "2011-11-12T00:00:00.000000000",
          "2011-11-13T00:00:00.000000000",
          "2011-11-14T00:00:00.000000000",
          "2011-11-15T00:00:00.000000000",
          "2011-11-16T00:00:00.000000000",
          "2011-11-17T00:00:00.000000000",
          "2011-11-18T00:00:00.000000000",
          "2011-11-19T00:00:00.000000000",
          "2011-11-20T00:00:00.000000000",
          "2011-11-21T00:00:00.000000000",
          "2011-11-22T00:00:00.000000000",
          "2011-11-23T00:00:00.000000000",
          "2011-11-24T00:00:00.000000000",
          "2011-11-25T00:00:00.000000000",
          "2011-11-26T00:00:00.000000000",
          "2011-11-27T00:00:00.000000000",
          "2011-11-28T00:00:00.000000000",
          "2011-11-29T00:00:00.000000000",
          "2011-11-30T00:00:00.000000000",
          "2011-12-01T00:00:00.000000000",
          "2011-12-02T00:00:00.000000000",
          "2011-12-03T00:00:00.000000000",
          "2011-12-04T00:00:00.000000000",
          "2011-12-05T00:00:00.000000000",
          "2011-12-06T00:00:00.000000000",
          "2011-12-07T00:00:00.000000000",
          "2011-12-08T00:00:00.000000000",
          "2011-12-09T00:00:00.000000000",
          "2011-12-10T00:00:00.000000000",
          "2011-12-11T00:00:00.000000000",
          "2011-12-12T00:00:00.000000000",
          "2011-12-13T00:00:00.000000000",
          "2011-12-14T00:00:00.000000000",
          "2011-12-15T00:00:00.000000000",
          "2011-12-16T00:00:00.000000000",
          "2011-12-17T00:00:00.000000000",
          "2011-12-18T00:00:00.000000000",
          "2011-12-19T00:00:00.000000000",
          "2011-12-20T00:00:00.000000000",
          "2011-12-21T00:00:00.000000000",
          "2011-12-22T00:00:00.000000000",
          "2011-12-23T00:00:00.000000000",
          "2011-12-24T00:00:00.000000000",
          "2011-12-25T00:00:00.000000000",
          "2011-12-26T00:00:00.000000000",
          "2011-12-27T00:00:00.000000000",
          "2011-12-28T00:00:00.000000000",
          "2011-12-29T00:00:00.000000000",
          "2011-12-30T00:00:00.000000000",
          "2011-12-31T00:00:00.000000000",
          "2012-01-01T00:00:00.000000000",
          "2012-01-02T00:00:00.000000000",
          "2012-01-03T00:00:00.000000000",
          "2012-01-04T00:00:00.000000000",
          "2012-01-05T00:00:00.000000000",
          "2012-01-07T00:00:00.000000000",
          "2012-01-08T00:00:00.000000000",
          "2012-01-09T00:00:00.000000000",
          "2012-01-10T00:00:00.000000000",
          "2012-01-12T00:00:00.000000000",
          "2012-01-13T00:00:00.000000000",
          "2012-01-15T00:00:00.000000000",
          "2012-01-17T00:00:00.000000000",
          "2012-01-18T00:00:00.000000000",
          "2012-01-22T00:00:00.000000000",
          "2012-01-23T00:00:00.000000000",
          "2012-01-24T00:00:00.000000000",
          "2012-01-27T00:00:00.000000000",
          "2012-01-28T00:00:00.000000000",
          "2012-01-29T00:00:00.000000000",
          "2012-01-31T00:00:00.000000000",
          "2012-02-01T00:00:00.000000000",
          "2012-02-04T00:00:00.000000000",
          "2012-02-05T00:00:00.000000000",
          "2012-02-06T00:00:00.000000000",
          "2012-02-07T00:00:00.000000000",
          "2012-02-08T00:00:00.000000000",
          "2012-02-11T00:00:00.000000000",
          "2012-02-13T00:00:00.000000000",
          "2012-02-14T00:00:00.000000000",
          "2012-02-16T00:00:00.000000000",
          "2012-02-18T00:00:00.000000000",
          "2012-02-19T00:00:00.000000000",
          "2012-02-20T00:00:00.000000000",
          "2012-02-21T00:00:00.000000000",
          "2012-02-22T00:00:00.000000000",
          "2012-02-23T00:00:00.000000000",
          "2012-02-24T00:00:00.000000000",
          "2012-02-25T00:00:00.000000000",
          "2012-02-27T00:00:00.000000000",
          "2012-02-28T00:00:00.000000000",
          "2012-03-01T00:00:00.000000000",
          "2012-03-02T00:00:00.000000000",
          "2012-03-03T00:00:00.000000000",
          "2012-03-04T00:00:00.000000000",
          "2012-03-05T00:00:00.000000000",
          "2012-03-06T00:00:00.000000000",
          "2012-03-07T00:00:00.000000000",
          "2012-03-09T00:00:00.000000000",
          "2012-03-10T00:00:00.000000000",
          "2012-03-11T00:00:00.000000000",
          "2012-03-12T00:00:00.000000000",
          "2012-03-13T00:00:00.000000000",
          "2012-03-15T00:00:00.000000000",
          "2012-03-17T00:00:00.000000000",
          "2012-03-18T00:00:00.000000000",
          "2012-03-19T00:00:00.000000000",
          "2012-03-20T00:00:00.000000000",
          "2012-03-21T00:00:00.000000000",
          "2012-03-22T00:00:00.000000000",
          "2012-03-23T00:00:00.000000000",
          "2012-03-24T00:00:00.000000000",
          "2012-03-25T00:00:00.000000000",
          "2012-03-26T00:00:00.000000000",
          "2012-03-27T00:00:00.000000000",
          "2012-03-28T00:00:00.000000000",
          "2012-03-29T00:00:00.000000000",
          "2012-03-30T00:00:00.000000000",
          "2012-03-31T00:00:00.000000000",
          "2012-04-02T00:00:00.000000000",
          "2012-04-03T00:00:00.000000000",
          "2012-04-04T00:00:00.000000000",
          "2012-04-05T00:00:00.000000000",
          "2012-04-06T00:00:00.000000000",
          "2012-04-07T00:00:00.000000000",
          "2012-04-08T00:00:00.000000000",
          "2012-04-09T00:00:00.000000000",
          "2012-04-10T00:00:00.000000000",
          "2012-04-11T00:00:00.000000000",
          "2012-04-14T00:00:00.000000000",
          "2012-04-15T00:00:00.000000000",
          "2012-04-16T00:00:00.000000000",
          "2012-04-17T00:00:00.000000000",
          "2012-04-18T00:00:00.000000000",
          "2012-04-19T00:00:00.000000000",
          "2012-04-20T00:00:00.000000000",
          "2012-04-21T00:00:00.000000000",
          "2012-04-22T00:00:00.000000000",
          "2012-04-23T00:00:00.000000000",
          "2012-04-24T00:00:00.000000000",
          "2012-04-25T00:00:00.000000000",
          "2012-04-26T00:00:00.000000000",
          "2012-04-28T00:00:00.000000000",
          "2012-04-29T00:00:00.000000000",
          "2012-04-30T00:00:00.000000000",
          "2012-05-01T00:00:00.000000000",
          "2012-05-02T00:00:00.000000000",
          "2012-05-03T00:00:00.000000000",
          "2012-05-04T00:00:00.000000000",
          "2012-05-05T00:00:00.000000000",
          "2012-05-06T00:00:00.000000000",
          "2012-05-07T00:00:00.000000000",
          "2012-05-08T00:00:00.000000000",
          "2012-05-09T00:00:00.000000000",
          "2012-05-10T00:00:00.000000000",
          "2012-05-11T00:00:00.000000000",
          "2012-05-12T00:00:00.000000000",
          "2012-05-13T00:00:00.000000000",
          "2012-05-14T00:00:00.000000000",
          "2012-05-15T00:00:00.000000000",
          "2012-05-16T00:00:00.000000000",
          "2012-05-17T00:00:00.000000000",
          "2012-05-18T00:00:00.000000000",
          "2012-05-19T00:00:00.000000000",
          "2012-05-20T00:00:00.000000000",
          "2012-05-21T00:00:00.000000000",
          "2012-05-22T00:00:00.000000000",
          "2012-05-23T00:00:00.000000000",
          "2012-05-24T00:00:00.000000000",
          "2012-05-25T00:00:00.000000000",
          "2012-05-26T00:00:00.000000000",
          "2012-05-27T00:00:00.000000000",
          "2012-05-28T00:00:00.000000000",
          "2012-05-29T00:00:00.000000000",
          "2012-05-30T00:00:00.000000000",
          "2012-05-31T00:00:00.000000000",
          "2012-06-01T00:00:00.000000000",
          "2012-06-02T00:00:00.000000000",
          "2012-06-03T00:00:00.000000000",
          "2012-06-04T00:00:00.000000000",
          "2012-06-05T00:00:00.000000000",
          "2012-06-07T00:00:00.000000000",
          "2012-06-08T00:00:00.000000000",
          "2012-06-09T00:00:00.000000000",
          "2012-06-10T00:00:00.000000000",
          "2012-06-11T00:00:00.000000000",
          "2012-06-12T00:00:00.000000000",
          "2012-06-13T00:00:00.000000000",
          "2012-06-14T00:00:00.000000000",
          "2012-06-15T00:00:00.000000000",
          "2012-06-16T00:00:00.000000000",
          "2012-06-17T00:00:00.000000000",
          "2012-06-18T00:00:00.000000000",
          "2012-06-19T00:00:00.000000000",
          "2012-06-20T00:00:00.000000000",
          "2012-06-22T00:00:00.000000000",
          "2012-06-23T00:00:00.000000000",
          "2012-06-24T00:00:00.000000000",
          "2012-06-25T00:00:00.000000000",
          "2012-06-26T00:00:00.000000000",
          "2012-06-27T00:00:00.000000000",
          "2012-06-28T00:00:00.000000000",
          "2012-06-29T00:00:00.000000000",
          "2012-06-30T00:00:00.000000000",
          "2012-07-01T00:00:00.000000000",
          "2012-07-02T00:00:00.000000000",
          "2012-07-03T00:00:00.000000000",
          "2012-07-04T00:00:00.000000000",
          "2012-07-05T00:00:00.000000000",
          "2012-07-06T00:00:00.000000000",
          "2012-07-08T00:00:00.000000000",
          "2012-07-09T00:00:00.000000000",
          "2012-07-10T00:00:00.000000000",
          "2012-07-11T00:00:00.000000000",
          "2012-07-12T00:00:00.000000000",
          "2012-07-13T00:00:00.000000000",
          "2012-07-14T00:00:00.000000000",
          "2012-07-15T00:00:00.000000000",
          "2012-07-16T00:00:00.000000000",
          "2012-07-17T00:00:00.000000000",
          "2012-07-18T00:00:00.000000000",
          "2012-07-19T00:00:00.000000000",
          "2012-07-20T00:00:00.000000000",
          "2012-07-21T00:00:00.000000000",
          "2012-07-22T00:00:00.000000000",
          "2012-07-24T00:00:00.000000000",
          "2012-07-25T00:00:00.000000000",
          "2012-07-26T00:00:00.000000000",
          "2012-07-27T00:00:00.000000000",
          "2012-07-28T00:00:00.000000000",
          "2012-07-29T00:00:00.000000000",
          "2012-07-30T00:00:00.000000000",
          "2012-07-31T00:00:00.000000000",
          "2012-08-01T00:00:00.000000000",
          "2012-08-02T00:00:00.000000000",
          "2012-08-03T00:00:00.000000000",
          "2012-08-05T00:00:00.000000000",
          "2012-08-06T00:00:00.000000000",
          "2012-08-07T00:00:00.000000000",
          "2012-08-08T00:00:00.000000000",
          "2012-08-09T00:00:00.000000000",
          "2012-08-10T00:00:00.000000000",
          "2012-08-11T00:00:00.000000000",
          "2012-08-12T00:00:00.000000000",
          "2012-08-13T00:00:00.000000000",
          "2012-08-14T00:00:00.000000000",
          "2012-08-15T00:00:00.000000000",
          "2012-08-16T00:00:00.000000000",
          "2012-08-17T00:00:00.000000000",
          "2012-08-19T00:00:00.000000000",
          "2012-08-20T00:00:00.000000000",
          "2012-08-21T00:00:00.000000000",
          "2012-08-22T00:00:00.000000000",
          "2012-08-23T00:00:00.000000000",
          "2012-08-25T00:00:00.000000000",
          "2012-08-26T00:00:00.000000000",
          "2012-08-28T00:00:00.000000000",
          "2012-08-30T00:00:00.000000000",
          "2012-08-31T00:00:00.000000000",
          "2012-09-01T00:00:00.000000000",
          "2012-09-02T00:00:00.000000000",
          "2012-09-04T00:00:00.000000000",
          "2012-09-05T00:00:00.000000000",
          "2012-09-07T00:00:00.000000000",
          "2012-09-08T00:00:00.000000000",
          "2012-09-09T00:00:00.000000000",
          "2012-09-10T00:00:00.000000000",
          "2012-09-11T00:00:00.000000000",
          "2012-09-12T00:00:00.000000000",
          "2012-09-13T00:00:00.000000000",
          "2012-09-14T00:00:00.000000000",
          "2012-09-15T00:00:00.000000000",
          "2012-09-16T00:00:00.000000000",
          "2012-09-17T00:00:00.000000000",
          "2012-09-18T00:00:00.000000000",
          "2012-09-19T00:00:00.000000000",
          "2012-09-20T00:00:00.000000000",
          "2012-09-21T00:00:00.000000000",
          "2012-09-22T00:00:00.000000000",
          "2012-09-23T00:00:00.000000000",
          "2012-09-24T00:00:00.000000000",
          "2012-09-25T00:00:00.000000000",
          "2012-09-26T00:00:00.000000000",
          "2012-09-27T00:00:00.000000000",
          "2012-09-28T00:00:00.000000000",
          "2012-09-29T00:00:00.000000000",
          "2012-09-30T00:00:00.000000000",
          "2012-10-01T00:00:00.000000000",
          "2012-10-02T00:00:00.000000000",
          "2012-10-03T00:00:00.000000000",
          "2012-10-04T00:00:00.000000000",
          "2012-10-05T00:00:00.000000000",
          "2012-10-06T00:00:00.000000000",
          "2012-10-07T00:00:00.000000000",
          "2012-10-08T00:00:00.000000000",
          "2012-10-09T00:00:00.000000000",
          "2012-10-11T00:00:00.000000000",
          "2012-10-12T00:00:00.000000000",
          "2012-10-13T00:00:00.000000000",
          "2012-10-14T00:00:00.000000000",
          "2012-10-15T00:00:00.000000000",
          "2012-10-17T00:00:00.000000000",
          "2012-10-18T00:00:00.000000000",
          "2012-10-20T00:00:00.000000000",
          "2012-10-22T00:00:00.000000000",
          "2012-10-23T00:00:00.000000000",
          "2012-10-24T00:00:00.000000000",
          "2012-10-25T00:00:00.000000000",
          "2012-10-26T00:00:00.000000000",
          "2012-10-27T00:00:00.000000000",
          "2012-10-28T00:00:00.000000000",
          "2012-10-29T00:00:00.000000000",
          "2012-10-30T00:00:00.000000000",
          "2012-10-31T00:00:00.000000000",
          "2012-11-01T00:00:00.000000000",
          "2012-11-02T00:00:00.000000000",
          "2012-11-03T00:00:00.000000000",
          "2012-11-04T00:00:00.000000000",
          "2012-11-05T00:00:00.000000000",
          "2012-11-06T00:00:00.000000000",
          "2012-11-07T00:00:00.000000000",
          "2012-11-08T00:00:00.000000000",
          "2012-11-09T00:00:00.000000000",
          "2012-11-10T00:00:00.000000000",
          "2012-11-11T00:00:00.000000000",
          "2012-11-12T00:00:00.000000000",
          "2012-11-13T00:00:00.000000000",
          "2012-11-14T00:00:00.000000000",
          "2012-11-15T00:00:00.000000000",
          "2012-11-17T00:00:00.000000000",
          "2012-11-18T00:00:00.000000000",
          "2012-11-19T00:00:00.000000000",
          "2012-11-20T00:00:00.000000000",
          "2012-11-21T00:00:00.000000000",
          "2012-11-22T00:00:00.000000000",
          "2012-11-23T00:00:00.000000000",
          "2012-11-24T00:00:00.000000000",
          "2012-11-25T00:00:00.000000000",
          "2012-11-26T00:00:00.000000000",
          "2012-11-27T00:00:00.000000000",
          "2012-11-28T00:00:00.000000000",
          "2012-11-29T00:00:00.000000000",
          "2012-11-30T00:00:00.000000000",
          "2012-12-01T00:00:00.000000000",
          "2012-12-02T00:00:00.000000000",
          "2012-12-03T00:00:00.000000000",
          "2012-12-04T00:00:00.000000000",
          "2012-12-05T00:00:00.000000000",
          "2012-12-06T00:00:00.000000000",
          "2012-12-07T00:00:00.000000000",
          "2012-12-08T00:00:00.000000000",
          "2012-12-09T00:00:00.000000000",
          "2012-12-10T00:00:00.000000000",
          "2012-12-11T00:00:00.000000000",
          "2012-12-12T00:00:00.000000000",
          "2012-12-13T00:00:00.000000000",
          "2012-12-14T00:00:00.000000000",
          "2012-12-15T00:00:00.000000000",
          "2012-12-16T00:00:00.000000000",
          "2012-12-17T00:00:00.000000000",
          "2012-12-18T00:00:00.000000000",
          "2012-12-19T00:00:00.000000000",
          "2012-12-20T00:00:00.000000000",
          "2012-12-21T00:00:00.000000000",
          "2012-12-22T00:00:00.000000000",
          "2012-12-23T00:00:00.000000000",
          "2012-12-24T00:00:00.000000000",
          "2012-12-25T00:00:00.000000000",
          "2012-12-26T00:00:00.000000000",
          "2012-12-27T00:00:00.000000000",
          "2012-12-28T00:00:00.000000000",
          "2012-12-29T00:00:00.000000000",
          "2012-12-30T00:00:00.000000000",
          "2012-12-31T00:00:00.000000000",
          "2013-01-01T00:00:00.000000000",
          "2013-01-02T00:00:00.000000000",
          "2013-01-03T00:00:00.000000000",
          "2013-01-04T00:00:00.000000000",
          "2013-01-05T00:00:00.000000000",
          "2013-01-07T00:00:00.000000000",
          "2013-01-08T00:00:00.000000000",
          "2013-01-09T00:00:00.000000000",
          "2013-01-11T00:00:00.000000000",
          "2013-01-12T00:00:00.000000000",
          "2013-01-13T00:00:00.000000000",
          "2013-01-15T00:00:00.000000000",
          "2013-01-17T00:00:00.000000000",
          "2013-01-19T00:00:00.000000000",
          "2013-01-20T00:00:00.000000000",
          "2013-01-21T00:00:00.000000000",
          "2013-01-23T00:00:00.000000000",
          "2013-01-26T00:00:00.000000000",
          "2013-01-27T00:00:00.000000000",
          "2013-01-28T00:00:00.000000000",
          "2013-01-29T00:00:00.000000000",
          "2013-01-31T00:00:00.000000000",
          "2013-02-01T00:00:00.000000000",
          "2013-02-02T00:00:00.000000000",
          "2013-02-03T00:00:00.000000000",
          "2013-02-04T00:00:00.000000000",
          "2013-02-05T00:00:00.000000000",
          "2013-02-06T00:00:00.000000000",
          "2013-02-07T00:00:00.000000000",
          "2013-02-08T00:00:00.000000000",
          "2013-02-09T00:00:00.000000000",
          "2013-02-10T00:00:00.000000000",
          "2013-02-11T00:00:00.000000000",
          "2013-02-13T00:00:00.000000000",
          "2013-02-14T00:00:00.000000000",
          "2013-02-15T00:00:00.000000000",
          "2013-02-18T00:00:00.000000000",
          "2013-02-19T00:00:00.000000000",
          "2013-02-20T00:00:00.000000000",
          "2013-02-22T00:00:00.000000000",
          "2013-02-23T00:00:00.000000000",
          "2013-02-24T00:00:00.000000000",
          "2013-02-25T00:00:00.000000000",
          "2013-02-26T00:00:00.000000000",
          "2013-02-27T00:00:00.000000000",
          "2013-02-28T00:00:00.000000000",
          "2013-03-02T00:00:00.000000000",
          "2013-03-03T00:00:00.000000000",
          "2013-03-04T00:00:00.000000000",
          "2013-03-05T00:00:00.000000000",
          "2013-03-06T00:00:00.000000000",
          "2013-03-07T00:00:00.000000000",
          "2013-03-09T00:00:00.000000000",
          "2013-03-11T00:00:00.000000000",
          "2013-03-12T00:00:00.000000000",
          "2013-03-13T00:00:00.000000000",
          "2013-03-14T00:00:00.000000000",
          "2013-03-15T00:00:00.000000000",
          "2013-03-16T00:00:00.000000000",
          "2013-03-17T00:00:00.000000000",
          "2013-03-18T00:00:00.000000000",
          "2013-03-19T00:00:00.000000000",
          "2013-03-20T00:00:00.000000000",
          "2013-03-21T00:00:00.000000000",
          "2013-03-22T00:00:00.000000000",
          "2013-03-23T00:00:00.000000000",
          "2013-03-24T00:00:00.000000000",
          "2013-03-25T00:00:00.000000000",
          "2013-03-26T00:00:00.000000000",
          "2013-03-27T00:00:00.000000000",
          "2013-03-28T00:00:00.000000000",
          "2013-03-29T00:00:00.000000000",
          "2013-03-31T00:00:00.000000000",
          "2013-04-01T00:00:00.000000000",
          "2013-04-02T00:00:00.000000000",
          "2013-04-03T00:00:00.000000000",
          "2013-04-04T00:00:00.000000000",
          "2013-04-06T00:00:00.000000000",
          "2013-04-07T00:00:00.000000000",
          "2013-04-08T00:00:00.000000000",
          "2013-04-09T00:00:00.000000000",
          "2013-04-10T00:00:00.000000000",
          "2013-04-11T00:00:00.000000000",
          "2013-04-12T00:00:00.000000000",
          "2013-04-13T00:00:00.000000000",
          "2013-04-14T00:00:00.000000000",
          "2013-04-15T00:00:00.000000000",
          "2013-04-16T00:00:00.000000000",
          "2013-04-17T00:00:00.000000000",
          "2013-04-18T00:00:00.000000000",
          "2013-04-19T00:00:00.000000000",
          "2013-04-20T00:00:00.000000000",
          "2013-04-21T00:00:00.000000000",
          "2013-04-22T00:00:00.000000000",
          "2013-04-23T00:00:00.000000000",
          "2013-04-24T00:00:00.000000000",
          "2013-04-25T00:00:00.000000000",
          "2013-04-26T00:00:00.000000000",
          "2013-04-27T00:00:00.000000000",
          "2013-04-28T00:00:00.000000000",
          "2013-04-29T00:00:00.000000000",
          "2013-04-30T00:00:00.000000000",
          "2013-05-01T00:00:00.000000000",
          "2013-05-02T00:00:00.000000000",
          "2013-05-03T00:00:00.000000000",
          "2013-05-05T00:00:00.000000000",
          "2013-05-06T00:00:00.000000000",
          "2013-05-07T00:00:00.000000000",
          "2013-05-08T00:00:00.000000000",
          "2013-05-09T00:00:00.000000000",
          "2013-05-10T00:00:00.000000000",
          "2013-05-11T00:00:00.000000000",
          "2013-05-12T00:00:00.000000000",
          "2013-05-13T00:00:00.000000000",
          "2013-05-14T00:00:00.000000000",
          "2013-05-15T00:00:00.000000000",
          "2013-05-16T00:00:00.000000000",
          "2013-05-17T00:00:00.000000000",
          "2013-05-18T00:00:00.000000000",
          "2013-05-19T00:00:00.000000000",
          "2013-05-20T00:00:00.000000000",
          "2013-05-21T00:00:00.000000000",
          "2013-05-22T00:00:00.000000000",
          "2013-05-23T00:00:00.000000000",
          "2013-05-24T00:00:00.000000000",
          "2013-05-25T00:00:00.000000000",
          "2013-05-26T00:00:00.000000000",
          "2013-05-27T00:00:00.000000000",
          "2013-05-28T00:00:00.000000000",
          "2013-05-29T00:00:00.000000000",
          "2013-05-30T00:00:00.000000000",
          "2013-05-31T00:00:00.000000000",
          "2013-06-01T00:00:00.000000000",
          "2013-06-02T00:00:00.000000000",
          "2013-06-03T00:00:00.000000000",
          "2013-06-04T00:00:00.000000000",
          "2013-06-05T00:00:00.000000000",
          "2013-06-06T00:00:00.000000000",
          "2013-06-07T00:00:00.000000000",
          "2013-06-08T00:00:00.000000000",
          "2013-06-10T00:00:00.000000000",
          "2013-06-11T00:00:00.000000000",
          "2013-06-12T00:00:00.000000000",
          "2013-06-13T00:00:00.000000000",
          "2013-06-14T00:00:00.000000000",
          "2013-06-15T00:00:00.000000000",
          "2013-06-16T00:00:00.000000000",
          "2013-06-17T00:00:00.000000000",
          "2013-06-18T00:00:00.000000000",
          "2013-06-19T00:00:00.000000000",
          "2013-06-20T00:00:00.000000000",
          "2013-06-21T00:00:00.000000000",
          "2013-06-22T00:00:00.000000000",
          "2013-06-23T00:00:00.000000000",
          "2013-06-24T00:00:00.000000000",
          "2013-06-25T00:00:00.000000000",
          "2013-06-26T00:00:00.000000000",
          "2013-06-27T00:00:00.000000000",
          "2013-06-28T00:00:00.000000000",
          "2013-06-29T00:00:00.000000000",
          "2013-06-30T00:00:00.000000000",
          "2013-07-01T00:00:00.000000000",
          "2013-07-02T00:00:00.000000000",
          "2013-07-03T00:00:00.000000000",
          "2013-07-04T00:00:00.000000000",
          "2013-07-05T00:00:00.000000000",
          "2013-07-07T00:00:00.000000000",
          "2013-07-08T00:00:00.000000000",
          "2013-07-09T00:00:00.000000000",
          "2013-07-10T00:00:00.000000000",
          "2013-07-11T00:00:00.000000000",
          "2013-07-12T00:00:00.000000000",
          "2013-07-13T00:00:00.000000000",
          "2013-07-14T00:00:00.000000000",
          "2013-07-15T00:00:00.000000000",
          "2013-07-17T00:00:00.000000000",
          "2013-07-18T00:00:00.000000000",
          "2013-07-19T00:00:00.000000000",
          "2013-07-20T00:00:00.000000000",
          "2013-07-21T00:00:00.000000000",
          "2013-07-22T00:00:00.000000000",
          "2013-07-23T00:00:00.000000000",
          "2013-07-24T00:00:00.000000000",
          "2013-07-25T00:00:00.000000000",
          "2013-07-26T00:00:00.000000000",
          "2013-07-27T00:00:00.000000000",
          "2013-07-28T00:00:00.000000000",
          "2013-07-29T00:00:00.000000000",
          "2013-07-30T00:00:00.000000000",
          "2013-08-01T00:00:00.000000000",
          "2013-08-02T00:00:00.000000000",
          "2013-08-03T00:00:00.000000000",
          "2013-08-04T00:00:00.000000000",
          "2013-08-05T00:00:00.000000000",
          "2013-08-06T00:00:00.000000000",
          "2013-08-07T00:00:00.000000000",
          "2013-08-08T00:00:00.000000000",
          "2013-08-09T00:00:00.000000000",
          "2013-08-11T00:00:00.000000000",
          "2013-08-12T00:00:00.000000000",
          "2013-08-13T00:00:00.000000000",
          "2013-08-14T00:00:00.000000000",
          "2013-08-15T00:00:00.000000000",
          "2013-08-16T00:00:00.000000000",
          "2013-08-17T00:00:00.000000000",
          "2013-08-18T00:00:00.000000000",
          "2013-08-19T00:00:00.000000000",
          "2013-08-20T00:00:00.000000000",
          "2013-08-21T00:00:00.000000000",
          "2013-08-22T00:00:00.000000000",
          "2013-08-23T00:00:00.000000000",
          "2013-08-24T00:00:00.000000000",
          "2013-08-25T00:00:00.000000000",
          "2013-08-26T00:00:00.000000000",
          "2013-08-27T00:00:00.000000000",
          "2013-08-28T00:00:00.000000000",
          "2013-08-29T00:00:00.000000000",
          "2013-08-30T00:00:00.000000000",
          "2013-08-31T00:00:00.000000000",
          "2013-09-01T00:00:00.000000000",
          "2013-09-02T00:00:00.000000000",
          "2013-09-03T00:00:00.000000000",
          "2013-09-04T00:00:00.000000000",
          "2013-09-05T00:00:00.000000000",
          "2013-09-06T00:00:00.000000000",
          "2013-09-07T00:00:00.000000000",
          "2013-09-08T00:00:00.000000000",
          "2013-09-09T00:00:00.000000000",
          "2013-09-10T00:00:00.000000000",
          "2013-09-11T00:00:00.000000000",
          "2013-09-12T00:00:00.000000000",
          "2013-09-13T00:00:00.000000000",
          "2013-09-14T00:00:00.000000000",
          "2013-09-15T00:00:00.000000000",
          "2013-09-16T00:00:00.000000000",
          "2013-09-17T00:00:00.000000000",
          "2013-09-18T00:00:00.000000000",
          "2013-09-19T00:00:00.000000000",
          "2013-09-20T00:00:00.000000000",
          "2013-09-21T00:00:00.000000000",
          "2013-09-22T00:00:00.000000000",
          "2013-09-23T00:00:00.000000000",
          "2013-09-24T00:00:00.000000000",
          "2013-09-25T00:00:00.000000000",
          "2013-09-26T00:00:00.000000000",
          "2013-09-27T00:00:00.000000000",
          "2013-09-28T00:00:00.000000000",
          "2013-09-29T00:00:00.000000000",
          "2013-09-30T00:00:00.000000000",
          "2013-10-01T00:00:00.000000000",
          "2013-10-02T00:00:00.000000000",
          "2013-10-03T00:00:00.000000000",
          "2013-10-04T00:00:00.000000000",
          "2013-10-05T00:00:00.000000000",
          "2013-10-06T00:00:00.000000000",
          "2013-10-07T00:00:00.000000000",
          "2013-10-08T00:00:00.000000000",
          "2013-10-09T00:00:00.000000000",
          "2013-10-10T00:00:00.000000000",
          "2013-10-11T00:00:00.000000000",
          "2013-10-12T00:00:00.000000000",
          "2013-10-13T00:00:00.000000000",
          "2013-10-14T00:00:00.000000000",
          "2013-10-15T00:00:00.000000000",
          "2013-10-16T00:00:00.000000000",
          "2013-10-18T00:00:00.000000000",
          "2013-10-19T00:00:00.000000000",
          "2013-10-20T00:00:00.000000000",
          "2013-10-21T00:00:00.000000000",
          "2013-10-22T00:00:00.000000000",
          "2013-10-23T00:00:00.000000000",
          "2013-10-24T00:00:00.000000000",
          "2013-10-25T00:00:00.000000000",
          "2013-10-26T00:00:00.000000000",
          "2013-10-27T00:00:00.000000000",
          "2013-10-28T00:00:00.000000000",
          "2013-10-29T00:00:00.000000000",
          "2013-10-30T00:00:00.000000000",
          "2013-11-01T00:00:00.000000000",
          "2013-11-02T00:00:00.000000000",
          "2013-11-03T00:00:00.000000000",
          "2013-11-04T00:00:00.000000000",
          "2013-11-05T00:00:00.000000000",
          "2013-11-06T00:00:00.000000000",
          "2013-11-07T00:00:00.000000000",
          "2013-11-08T00:00:00.000000000",
          "2013-11-09T00:00:00.000000000",
          "2013-11-10T00:00:00.000000000",
          "2013-11-11T00:00:00.000000000",
          "2013-11-12T00:00:00.000000000",
          "2013-11-13T00:00:00.000000000",
          "2013-11-14T00:00:00.000000000",
          "2013-11-15T00:00:00.000000000",
          "2013-11-16T00:00:00.000000000",
          "2013-11-17T00:00:00.000000000",
          "2013-11-18T00:00:00.000000000",
          "2013-11-19T00:00:00.000000000",
          "2013-11-20T00:00:00.000000000",
          "2013-11-21T00:00:00.000000000",
          "2013-11-22T00:00:00.000000000",
          "2013-11-23T00:00:00.000000000",
          "2013-11-24T00:00:00.000000000",
          "2013-11-25T00:00:00.000000000",
          "2013-11-26T00:00:00.000000000",
          "2013-11-27T00:00:00.000000000",
          "2013-11-28T00:00:00.000000000",
          "2013-11-29T00:00:00.000000000",
          "2013-11-30T00:00:00.000000000",
          "2013-12-01T00:00:00.000000000",
          "2013-12-02T00:00:00.000000000",
          "2013-12-03T00:00:00.000000000",
          "2013-12-04T00:00:00.000000000",
          "2013-12-05T00:00:00.000000000",
          "2013-12-06T00:00:00.000000000",
          "2013-12-07T00:00:00.000000000",
          "2013-12-08T00:00:00.000000000",
          "2013-12-09T00:00:00.000000000",
          "2013-12-10T00:00:00.000000000",
          "2013-12-11T00:00:00.000000000",
          "2013-12-12T00:00:00.000000000",
          "2013-12-13T00:00:00.000000000",
          "2013-12-14T00:00:00.000000000",
          "2013-12-15T00:00:00.000000000",
          "2013-12-16T00:00:00.000000000",
          "2013-12-17T00:00:00.000000000",
          "2013-12-18T00:00:00.000000000",
          "2013-12-19T00:00:00.000000000",
          "2013-12-20T00:00:00.000000000",
          "2013-12-21T00:00:00.000000000",
          "2013-12-22T00:00:00.000000000",
          "2013-12-23T00:00:00.000000000",
          "2013-12-24T00:00:00.000000000",
          "2013-12-25T00:00:00.000000000",
          "2013-12-26T00:00:00.000000000",
          "2013-12-27T00:00:00.000000000",
          "2013-12-28T00:00:00.000000000",
          "2013-12-29T00:00:00.000000000",
          "2013-12-30T00:00:00.000000000",
          "2013-12-31T00:00:00.000000000",
          "2014-01-01T00:00:00.000000000",
          "2014-01-02T00:00:00.000000000",
          "2014-01-03T00:00:00.000000000",
          "2014-01-04T00:00:00.000000000",
          "2014-01-05T00:00:00.000000000",
          "2014-01-06T00:00:00.000000000",
          "2014-01-07T00:00:00.000000000",
          "2014-01-08T00:00:00.000000000",
          "2014-01-09T00:00:00.000000000",
          "2014-01-10T00:00:00.000000000",
          "2014-01-11T00:00:00.000000000",
          "2014-01-12T00:00:00.000000000",
          "2014-01-14T00:00:00.000000000",
          "2014-01-16T00:00:00.000000000",
          "2014-01-17T00:00:00.000000000",
          "2014-01-18T00:00:00.000000000",
          "2014-01-19T00:00:00.000000000",
          "2014-01-20T00:00:00.000000000",
          "2014-01-21T00:00:00.000000000",
          "2014-01-22T00:00:00.000000000",
          "2014-01-24T00:00:00.000000000",
          "2014-01-25T00:00:00.000000000",
          "2014-01-26T00:00:00.000000000",
          "2014-01-27T00:00:00.000000000",
          "2014-01-28T00:00:00.000000000",
          "2014-01-29T00:00:00.000000000",
          "2014-01-30T00:00:00.000000000",
          "2014-01-31T00:00:00.000000000",
          "2014-02-01T00:00:00.000000000",
          "2014-02-02T00:00:00.000000000",
          "2014-02-03T00:00:00.000000000",
          "2014-02-05T00:00:00.000000000",
          "2014-02-06T00:00:00.000000000",
          "2014-02-07T00:00:00.000000000",
          "2014-02-08T00:00:00.000000000",
          "2014-02-09T00:00:00.000000000",
          "2014-02-10T00:00:00.000000000",
          "2014-02-12T00:00:00.000000000",
          "2014-02-13T00:00:00.000000000",
          "2014-02-14T00:00:00.000000000",
          "2014-02-15T00:00:00.000000000",
          "2014-02-16T00:00:00.000000000",
          "2014-02-18T00:00:00.000000000",
          "2014-02-20T00:00:00.000000000",
          "2014-02-21T00:00:00.000000000",
          "2014-02-22T00:00:00.000000000",
          "2014-02-23T00:00:00.000000000",
          "2014-02-24T00:00:00.000000000",
          "2014-02-26T00:00:00.000000000",
          "2014-02-27T00:00:00.000000000",
          "2014-02-28T00:00:00.000000000",
          "2014-03-01T00:00:00.000000000",
          "2014-03-02T00:00:00.000000000",
          "2014-03-03T00:00:00.000000000",
          "2014-03-04T00:00:00.000000000",
          "2014-03-06T00:00:00.000000000",
          "2014-03-07T00:00:00.000000000",
          "2014-03-08T00:00:00.000000000",
          "2014-03-09T00:00:00.000000000",
          "2014-03-10T00:00:00.000000000",
          "2014-03-11T00:00:00.000000000",
          "2014-03-12T00:00:00.000000000",
          "2014-03-13T00:00:00.000000000",
          "2014-03-14T00:00:00.000000000",
          "2014-03-15T00:00:00.000000000",
          "2014-03-16T00:00:00.000000000",
          "2014-03-17T00:00:00.000000000",
          "2014-03-18T00:00:00.000000000",
          "2014-03-19T00:00:00.000000000",
          "2014-03-20T00:00:00.000000000",
          "2014-03-21T00:00:00.000000000",
          "2014-03-22T00:00:00.000000000",
          "2014-03-23T00:00:00.000000000",
          "2014-03-24T00:00:00.000000000",
          "2014-03-25T00:00:00.000000000",
          "2014-03-26T00:00:00.000000000",
          "2014-03-27T00:00:00.000000000",
          "2014-03-28T00:00:00.000000000",
          "2014-03-29T00:00:00.000000000",
          "2014-03-30T00:00:00.000000000",
          "2014-03-31T00:00:00.000000000",
          "2014-04-01T00:00:00.000000000",
          "2014-04-02T00:00:00.000000000",
          "2014-04-03T00:00:00.000000000",
          "2014-04-04T00:00:00.000000000",
          "2014-04-05T00:00:00.000000000",
          "2014-04-06T00:00:00.000000000",
          "2014-04-07T00:00:00.000000000",
          "2014-04-08T00:00:00.000000000",
          "2014-04-09T00:00:00.000000000",
          "2014-04-11T00:00:00.000000000",
          "2014-04-12T00:00:00.000000000",
          "2014-04-13T00:00:00.000000000",
          "2014-04-15T00:00:00.000000000",
          "2014-04-16T00:00:00.000000000",
          "2014-04-17T00:00:00.000000000",
          "2014-04-18T00:00:00.000000000",
          "2014-04-19T00:00:00.000000000",
          "2014-04-20T00:00:00.000000000",
          "2014-04-21T00:00:00.000000000",
          "2014-04-22T00:00:00.000000000",
          "2014-04-23T00:00:00.000000000",
          "2014-04-24T00:00:00.000000000",
          "2014-04-25T00:00:00.000000000",
          "2014-04-26T00:00:00.000000000",
          "2014-04-27T00:00:00.000000000",
          "2014-04-28T00:00:00.000000000",
          "2014-04-29T00:00:00.000000000",
          "2014-04-30T00:00:00.000000000",
          "2014-05-01T00:00:00.000000000",
          "2014-05-02T00:00:00.000000000",
          "2014-05-03T00:00:00.000000000",
          "2014-05-05T00:00:00.000000000",
          "2014-05-06T00:00:00.000000000",
          "2014-05-07T00:00:00.000000000",
          "2014-05-08T00:00:00.000000000",
          "2014-05-09T00:00:00.000000000",
          "2014-05-10T00:00:00.000000000",
          "2014-05-11T00:00:00.000000000",
          "2014-05-12T00:00:00.000000000",
          "2014-05-13T00:00:00.000000000",
          "2014-05-14T00:00:00.000000000",
          "2014-05-15T00:00:00.000000000",
          "2014-05-16T00:00:00.000000000",
          "2014-05-17T00:00:00.000000000",
          "2014-05-18T00:00:00.000000000",
          "2014-05-19T00:00:00.000000000",
          "2014-05-20T00:00:00.000000000",
          "2014-05-21T00:00:00.000000000",
          "2014-05-22T00:00:00.000000000",
          "2014-05-23T00:00:00.000000000",
          "2014-05-24T00:00:00.000000000",
          "2014-05-25T00:00:00.000000000",
          "2014-05-26T00:00:00.000000000",
          "2014-05-27T00:00:00.000000000",
          "2014-05-28T00:00:00.000000000",
          "2014-05-30T00:00:00.000000000",
          "2014-05-31T00:00:00.000000000",
          "2014-06-01T00:00:00.000000000",
          "2014-06-02T00:00:00.000000000",
          "2014-06-03T00:00:00.000000000",
          "2014-06-04T00:00:00.000000000",
          "2014-06-05T00:00:00.000000000",
          "2014-06-06T00:00:00.000000000",
          "2014-06-07T00:00:00.000000000",
          "2014-06-08T00:00:00.000000000",
          "2014-06-09T00:00:00.000000000",
          "2014-06-10T00:00:00.000000000",
          "2014-06-11T00:00:00.000000000",
          "2014-06-12T00:00:00.000000000",
          "2014-06-13T00:00:00.000000000",
          "2014-06-14T00:00:00.000000000",
          "2014-06-15T00:00:00.000000000",
          "2014-06-16T00:00:00.000000000",
          "2014-06-17T00:00:00.000000000",
          "2014-06-18T00:00:00.000000000",
          "2014-06-19T00:00:00.000000000",
          "2014-06-20T00:00:00.000000000",
          "2014-06-21T00:00:00.000000000",
          "2014-06-22T00:00:00.000000000",
          "2014-06-23T00:00:00.000000000",
          "2014-06-24T00:00:00.000000000",
          "2014-06-26T00:00:00.000000000",
          "2014-06-27T00:00:00.000000000",
          "2014-06-28T00:00:00.000000000",
          "2014-06-29T00:00:00.000000000",
          "2014-06-30T00:00:00.000000000",
          "2014-07-01T00:00:00.000000000",
          "2014-07-02T00:00:00.000000000",
          "2014-07-03T00:00:00.000000000",
          "2014-07-04T00:00:00.000000000",
          "2014-07-05T00:00:00.000000000",
          "2014-07-06T00:00:00.000000000",
          "2014-07-07T00:00:00.000000000",
          "2014-07-08T00:00:00.000000000",
          "2014-07-09T00:00:00.000000000",
          "2014-07-10T00:00:00.000000000",
          "2014-07-11T00:00:00.000000000",
          "2014-07-12T00:00:00.000000000",
          "2014-07-13T00:00:00.000000000",
          "2014-07-14T00:00:00.000000000",
          "2014-07-15T00:00:00.000000000",
          "2014-07-16T00:00:00.000000000",
          "2014-07-17T00:00:00.000000000",
          "2014-07-18T00:00:00.000000000",
          "2014-07-19T00:00:00.000000000",
          "2014-07-20T00:00:00.000000000",
          "2014-07-22T00:00:00.000000000",
          "2014-07-23T00:00:00.000000000",
          "2014-07-24T00:00:00.000000000",
          "2014-07-25T00:00:00.000000000",
          "2014-07-26T00:00:00.000000000",
          "2014-07-27T00:00:00.000000000",
          "2014-07-28T00:00:00.000000000",
          "2014-07-29T00:00:00.000000000",
          "2014-07-30T00:00:00.000000000",
          "2014-07-31T00:00:00.000000000",
          "2014-08-01T00:00:00.000000000",
          "2014-08-02T00:00:00.000000000",
          "2014-08-03T00:00:00.000000000",
          "2014-08-04T00:00:00.000000000",
          "2014-08-05T00:00:00.000000000",
          "2014-08-06T00:00:00.000000000",
          "2014-08-07T00:00:00.000000000",
          "2014-08-08T00:00:00.000000000",
          "2014-08-09T00:00:00.000000000",
          "2014-08-10T00:00:00.000000000",
          "2014-08-11T00:00:00.000000000",
          "2014-08-12T00:00:00.000000000",
          "2014-08-13T00:00:00.000000000",
          "2014-08-14T00:00:00.000000000",
          "2014-08-16T00:00:00.000000000",
          "2014-08-17T00:00:00.000000000",
          "2014-08-18T00:00:00.000000000",
          "2014-08-19T00:00:00.000000000",
          "2014-08-20T00:00:00.000000000",
          "2014-08-21T00:00:00.000000000",
          "2014-08-22T00:00:00.000000000",
          "2014-08-23T00:00:00.000000000",
          "2014-08-24T00:00:00.000000000",
          "2014-08-25T00:00:00.000000000",
          "2014-08-26T00:00:00.000000000",
          "2014-08-27T00:00:00.000000000",
          "2014-08-28T00:00:00.000000000",
          "2014-08-29T00:00:00.000000000",
          "2014-08-30T00:00:00.000000000",
          "2014-08-31T00:00:00.000000000",
          "2014-09-01T00:00:00.000000000",
          "2014-09-02T00:00:00.000000000",
          "2014-09-03T00:00:00.000000000",
          "2014-09-04T00:00:00.000000000",
          "2014-09-05T00:00:00.000000000",
          "2014-09-06T00:00:00.000000000",
          "2014-09-07T00:00:00.000000000",
          "2014-09-08T00:00:00.000000000",
          "2014-09-09T00:00:00.000000000",
          "2014-09-10T00:00:00.000000000",
          "2014-09-11T00:00:00.000000000",
          "2014-09-12T00:00:00.000000000",
          "2014-09-13T00:00:00.000000000",
          "2014-09-14T00:00:00.000000000",
          "2014-09-15T00:00:00.000000000",
          "2014-09-16T00:00:00.000000000",
          "2014-09-17T00:00:00.000000000",
          "2014-09-18T00:00:00.000000000",
          "2014-09-19T00:00:00.000000000",
          "2014-09-20T00:00:00.000000000",
          "2014-09-21T00:00:00.000000000",
          "2014-09-22T00:00:00.000000000",
          "2014-09-23T00:00:00.000000000",
          "2014-09-24T00:00:00.000000000",
          "2014-09-25T00:00:00.000000000",
          "2014-09-26T00:00:00.000000000",
          "2014-09-27T00:00:00.000000000",
          "2014-09-28T00:00:00.000000000",
          "2014-09-29T00:00:00.000000000",
          "2014-09-30T00:00:00.000000000",
          "2014-10-01T00:00:00.000000000",
          "2014-10-02T00:00:00.000000000",
          "2014-10-03T00:00:00.000000000",
          "2014-10-04T00:00:00.000000000",
          "2014-10-05T00:00:00.000000000",
          "2014-10-06T00:00:00.000000000",
          "2014-10-07T00:00:00.000000000",
          "2014-10-08T00:00:00.000000000",
          "2014-10-09T00:00:00.000000000",
          "2014-10-10T00:00:00.000000000",
          "2014-10-11T00:00:00.000000000",
          "2014-10-12T00:00:00.000000000",
          "2014-10-13T00:00:00.000000000",
          "2014-10-14T00:00:00.000000000",
          "2014-10-15T00:00:00.000000000",
          "2014-10-16T00:00:00.000000000",
          "2014-10-17T00:00:00.000000000",
          "2014-10-18T00:00:00.000000000",
          "2014-10-19T00:00:00.000000000",
          "2014-10-20T00:00:00.000000000",
          "2014-10-21T00:00:00.000000000",
          "2014-10-22T00:00:00.000000000",
          "2014-10-23T00:00:00.000000000",
          "2014-10-24T00:00:00.000000000",
          "2014-10-25T00:00:00.000000000",
          "2014-10-26T00:00:00.000000000",
          "2014-10-27T00:00:00.000000000",
          "2014-10-28T00:00:00.000000000",
          "2014-10-29T00:00:00.000000000",
          "2014-10-30T00:00:00.000000000",
          "2014-10-31T00:00:00.000000000",
          "2014-11-01T00:00:00.000000000",
          "2014-11-02T00:00:00.000000000",
          "2014-11-03T00:00:00.000000000",
          "2014-11-04T00:00:00.000000000",
          "2014-11-05T00:00:00.000000000",
          "2014-11-06T00:00:00.000000000",
          "2014-11-07T00:00:00.000000000",
          "2014-11-08T00:00:00.000000000",
          "2014-11-09T00:00:00.000000000",
          "2014-11-10T00:00:00.000000000",
          "2014-11-11T00:00:00.000000000",
          "2014-11-12T00:00:00.000000000",
          "2014-11-13T00:00:00.000000000",
          "2014-11-14T00:00:00.000000000",
          "2014-11-15T00:00:00.000000000",
          "2014-11-16T00:00:00.000000000",
          "2014-11-17T00:00:00.000000000",
          "2014-11-18T00:00:00.000000000",
          "2014-11-19T00:00:00.000000000",
          "2014-11-20T00:00:00.000000000",
          "2014-11-21T00:00:00.000000000",
          "2014-11-22T00:00:00.000000000",
          "2014-11-23T00:00:00.000000000",
          "2014-11-24T00:00:00.000000000",
          "2014-11-25T00:00:00.000000000",
          "2014-11-26T00:00:00.000000000",
          "2014-11-27T00:00:00.000000000",
          "2014-11-28T00:00:00.000000000",
          "2014-11-29T00:00:00.000000000",
          "2014-11-30T00:00:00.000000000",
          "2014-12-01T00:00:00.000000000",
          "2014-12-02T00:00:00.000000000",
          "2014-12-03T00:00:00.000000000",
          "2014-12-04T00:00:00.000000000",
          "2014-12-05T00:00:00.000000000",
          "2014-12-06T00:00:00.000000000",
          "2014-12-07T00:00:00.000000000",
          "2014-12-08T00:00:00.000000000",
          "2014-12-09T00:00:00.000000000",
          "2014-12-10T00:00:00.000000000",
          "2014-12-11T00:00:00.000000000",
          "2014-12-12T00:00:00.000000000",
          "2014-12-13T00:00:00.000000000",
          "2014-12-14T00:00:00.000000000",
          "2014-12-15T00:00:00.000000000",
          "2014-12-16T00:00:00.000000000",
          "2014-12-17T00:00:00.000000000",
          "2014-12-18T00:00:00.000000000",
          "2014-12-19T00:00:00.000000000",
          "2014-12-20T00:00:00.000000000",
          "2014-12-21T00:00:00.000000000",
          "2014-12-22T00:00:00.000000000",
          "2014-12-23T00:00:00.000000000",
          "2014-12-24T00:00:00.000000000",
          "2014-12-25T00:00:00.000000000",
          "2014-12-26T00:00:00.000000000",
          "2014-12-27T00:00:00.000000000",
          "2014-12-28T00:00:00.000000000",
          "2014-12-29T00:00:00.000000000",
          "2014-12-30T00:00:00.000000000",
          "2014-12-31T00:00:00.000000000",
          "2015-01-01T00:00:00.000000000",
          "2015-01-02T00:00:00.000000000",
          "2015-01-03T00:00:00.000000000",
          "2015-01-04T00:00:00.000000000",
          "2015-01-05T00:00:00.000000000",
          "2015-01-06T00:00:00.000000000"
         ],
         "xaxis": "x",
         "y": {
          "bdata": "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",
          "dtype": "f8"
         },
         "yaxis": "y"
        }
       ],
       "layout": {
        "hovermode": "x unified",
        "legend": {
         "tracegroupgap": 0
        },
        "showlegend": false,
        "template": {
         "data": {
          "bar": [
           {
            "error_x": {
             "color": "#2a3f5f"
            },
            "error_y": {
             "color": "#2a3f5f"
            },
            "marker": {
             "line": {
              "color": "white",
              "width": 0.5
             },
             "pattern": {
              "fillmode": "overlay",
              "size": 10,
              "solidity": 0.2
             }
            },
            "type": "bar"
           }
          ],
          "barpolar": [
           {
            "marker": {
             "line": {
              "color": "white",
              "width": 0.5
             },
             "pattern": {
              "fillmode": "overlay",
              "size": 10,
              "solidity": 0.2
             }
            },
            "type": "barpolar"
           }
          ],
          "carpet": [
           {
            "aaxis": {
             "endlinecolor": "#2a3f5f",
             "gridcolor": "#C8D4E3",
             "linecolor": "#C8D4E3",
             "minorgridcolor": "#C8D4E3",
             "startlinecolor": "#2a3f5f"
            },
            "baxis": {
             "endlinecolor": "#2a3f5f",
             "gridcolor": "#C8D4E3",
             "linecolor": "#C8D4E3",
             "minorgridcolor": "#C8D4E3",
             "startlinecolor": "#2a3f5f"
            },
            "type": "carpet"
           }
          ],
          "choropleth": [
           {
            "colorbar": {
             "outlinewidth": 0,
             "ticks": ""
            },
            "type": "choropleth"
           }
          ],
          "contour": [
           {
            "colorbar": {
             "outlinewidth": 0,
             "ticks": ""
            },
            "colorscale": [
             [
              0,
              "#0d0887"
             ],
             [
              0.1111111111111111,
              "#46039f"
             ],
             [
              0.2222222222222222,
              "#7201a8"
             ],
             [
              0.3333333333333333,
              "#9c179e"
             ],
             [
              0.4444444444444444,
              "#bd3786"
             ],
             [
              0.5555555555555556,
              "#d8576b"
             ],
             [
              0.6666666666666666,
              "#ed7953"
             ],
             [
              0.7777777777777778,
              "#fb9f3a"
             ],
             [
              0.8888888888888888,
              "#fdca26"
             ],
             [
              1,
              "#f0f921"
             ]
            ],
            "type": "contour"
           }
          ],
          "contourcarpet": [
           {
            "colorbar": {
             "outlinewidth": 0,
             "ticks": ""
            },
            "type": "contourcarpet"
           }
          ],
          "heatmap": [
           {
            "colorbar": {
             "outlinewidth": 0,
             "ticks": ""
            },
            "colorscale": [
             [
              0,
              "#0d0887"
             ],
             [
              0.1111111111111111,
              "#46039f"
             ],
             [
              0.2222222222222222,
              "#7201a8"
             ],
             [
              0.3333333333333333,
              "#9c179e"
             ],
             [
              0.4444444444444444,
              "#bd3786"
             ],
             [
              0.5555555555555556,
              "#d8576b"
             ],
             [
              0.6666666666666666,
              "#ed7953"
             ],
             [
              0.7777777777777778,
              "#fb9f3a"
             ],
             [
              0.8888888888888888,
              "#fdca26"
             ],
             [
              1,
              "#f0f921"
             ]
            ],
            "type": "heatmap"
           }
          ],
          "histogram": [
           {
            "marker": {
             "pattern": {
              "fillmode": "overlay",
              "size": 10,
              "solidity": 0.2
             }
            },
            "type": "histogram"
           }
          ],
          "histogram2d": [
           {
            "colorbar": {
             "outlinewidth": 0,
             "ticks": ""
            },
            "colorscale": [
             [
              0,
              "#0d0887"
             ],
             [
              0.1111111111111111,
              "#46039f"
             ],
             [
              0.2222222222222222,
              "#7201a8"
             ],
             [
              0.3333333333333333,
              "#9c179e"
             ],
             [
              0.4444444444444444,
              "#bd3786"
             ],
             [
              0.5555555555555556,
              "#d8576b"
             ],
             [
              0.6666666666666666,
              "#ed7953"
             ],
             [
              0.7777777777777778,
              "#fb9f3a"
             ],
             [
              0.8888888888888888,
              "#fdca26"
             ],
             [
              1,
              "#f0f921"
             ]
            ],
            "type": "histogram2d"
           }
          ],
          "histogram2dcontour": [
           {
            "colorbar": {
             "outlinewidth": 0,
             "ticks": ""
            },
            "colorscale": [
             [
              0,
              "#0d0887"
             ],
             [
              0.1111111111111111,
              "#46039f"
             ],
             [
              0.2222222222222222,
              "#7201a8"
             ],
             [
              0.3333333333333333,
              "#9c179e"
             ],
             [
              0.4444444444444444,
              "#bd3786"
             ],
             [
              0.5555555555555556,
              "#d8576b"
             ],
             [
              0.6666666666666666,
              "#ed7953"
             ],
             [
              0.7777777777777778,
              "#fb9f3a"
             ],
             [
              0.8888888888888888,
              "#fdca26"
             ],
             [
              1,
              "#f0f921"
             ]
            ],
            "type": "histogram2dcontour"
           }
          ],
          "mesh3d": [
           {
            "colorbar": {
             "outlinewidth": 0,
             "ticks": ""
            },
            "type": "mesh3d"
           }
          ],
          "parcoords": [
           {
            "line": {
             "colorbar": {
              "outlinewidth": 0,
              "ticks": ""
             }
            },
            "type": "parcoords"
           }
          ],
          "pie": [
           {
            "automargin": true,
            "type": "pie"
           }
          ],
          "scatter": [
           {
            "fillpattern": {
             "fillmode": "overlay",
             "size": 10,
             "solidity": 0.2
            },
            "type": "scatter"
           }
          ],
          "scatter3d": [
           {
            "line": {
             "colorbar": {
              "outlinewidth": 0,
              "ticks": ""
             }
            },
            "marker": {
             "colorbar": {
              "outlinewidth": 0,
              "ticks": ""
             }
            },
            "type": "scatter3d"
           }
          ],
          "scattercarpet": [
           {
            "marker": {
             "colorbar": {
              "outlinewidth": 0,
              "ticks": ""
             }
            },
            "type": "scattercarpet"
           }
          ],
          "scattergeo": [
           {
            "marker": {
             "colorbar": {
              "outlinewidth": 0,
              "ticks": ""
             }
            },
            "type": "scattergeo"
           }
          ],
          "scattergl": [
           {
            "marker": {
             "colorbar": {
              "outlinewidth": 0,
              "ticks": ""
             }
            },
            "type": "scattergl"
           }
          ],
          "scattermap": [
           {
            "marker": {
             "colorbar": {
              "outlinewidth": 0,
              "ticks": ""
             }
            },
            "type": "scattermap"
           }
          ],
          "scattermapbox": [
           {
            "marker": {
             "colorbar": {
              "outlinewidth": 0,
              "ticks": ""
             }
            },
            "type": "scattermapbox"
           }
          ],
          "scatterpolar": [
           {
            "marker": {
             "colorbar": {
              "outlinewidth": 0,
              "ticks": ""
             }
            },
            "type": "scatterpolar"
           }
          ],
          "scatterpolargl": [
           {
            "marker": {
             "colorbar": {
              "outlinewidth": 0,
              "ticks": ""
             }
            },
            "type": "scatterpolargl"
           }
          ],
          "scatterternary": [
           {
            "marker": {
             "colorbar": {
              "outlinewidth": 0,
              "ticks": ""
             }
            },
            "type": "scatterternary"
           }
          ],
          "surface": [
           {
            "colorbar": {
             "outlinewidth": 0,
             "ticks": ""
            },
            "colorscale": [
             [
              0,
              "#0d0887"
             ],
             [
              0.1111111111111111,
              "#46039f"
             ],
             [
              0.2222222222222222,
              "#7201a8"
             ],
             [
              0.3333333333333333,
              "#9c179e"
             ],
             [
              0.4444444444444444,
              "#bd3786"
             ],
             [
              0.5555555555555556,
              "#d8576b"
             ],
             [
              0.6666666666666666,
              "#ed7953"
             ],
             [
              0.7777777777777778,
              "#fb9f3a"
             ],
             [
              0.8888888888888888,
              "#fdca26"
             ],
             [
              1,
              "#f0f921"
             ]
            ],
            "type": "surface"
           }
          ],
          "table": [
           {
            "cells": {
             "fill": {
              "color": "#EBF0F8"
             },
             "line": {
              "color": "white"
             }
            },
            "header": {
             "fill": {
              "color": "#C8D4E3"
             },
             "line": {
              "color": "white"
             }
            },
            "type": "table"
           }
          ]
         },
         "layout": {
          "annotationdefaults": {
           "arrowcolor": "#2a3f5f",
           "arrowhead": 0,
           "arrowwidth": 1
          },
          "autotypenumbers": "strict",
          "coloraxis": {
           "colorbar": {
            "outlinewidth": 0,
            "ticks": ""
           }
          },
          "colorscale": {
           "diverging": [
            [
             0,
             "#8e0152"
            ],
            [
             0.1,
             "#c51b7d"
            ],
            [
             0.2,
             "#de77ae"
            ],
            [
             0.3,
             "#f1b6da"
            ],
            [
             0.4,
             "#fde0ef"
            ],
            [
             0.5,
             "#f7f7f7"
            ],
            [
             0.6,
             "#e6f5d0"
            ],
            [
             0.7,
             "#b8e186"
            ],
            [
             0.8,
             "#7fbc41"
            ],
            [
             0.9,
             "#4d9221"
            ],
            [
             1,
             "#276419"
            ]
           ],
           "sequential": [
            [
             0,
             "#0d0887"
            ],
            [
             0.1111111111111111,
             "#46039f"
            ],
            [
             0.2222222222222222,
             "#7201a8"
            ],
            [
             0.3333333333333333,
             "#9c179e"
            ],
            [
             0.4444444444444444,
             "#bd3786"
            ],
            [
             0.5555555555555556,
             "#d8576b"
            ],
            [
             0.6666666666666666,
             "#ed7953"
            ],
            [
             0.7777777777777778,
             "#fb9f3a"
            ],
            [
             0.8888888888888888,
             "#fdca26"
            ],
            [
             1,
             "#f0f921"
            ]
           ],
           "sequentialminus": [
            [
             0,
             "#0d0887"
            ],
            [
             0.1111111111111111,
             "#46039f"
            ],
            [
             0.2222222222222222,
             "#7201a8"
            ],
            [
             0.3333333333333333,
             "#9c179e"
            ],
            [
             0.4444444444444444,
             "#bd3786"
            ],
            [
             0.5555555555555556,
             "#d8576b"
            ],
            [
             0.6666666666666666,
             "#ed7953"
            ],
            [
             0.7777777777777778,
             "#fb9f3a"
            ],
            [
             0.8888888888888888,
             "#fdca26"
            ],
            [
             1,
             "#f0f921"
            ]
           ]
          },
          "colorway": [
           "#636efa",
           "#EF553B",
           "#00cc96",
           "#ab63fa",
           "#FFA15A",
           "#19d3f3",
           "#FF6692",
           "#B6E880",
           "#FF97FF",
           "#FECB52"
          ],
          "font": {
           "color": "#2a3f5f"
          },
          "geo": {
           "bgcolor": "white",
           "lakecolor": "white",
           "landcolor": "white",
           "showlakes": true,
           "showland": true,
           "subunitcolor": "#C8D4E3"
          },
          "hoverlabel": {
           "align": "left"
          },
          "hovermode": "closest",
          "mapbox": {
           "style": "light"
          },
          "paper_bgcolor": "white",
          "plot_bgcolor": "white",
          "polar": {
           "angularaxis": {
            "gridcolor": "#EBF0F8",
            "linecolor": "#EBF0F8",
            "ticks": ""
           },
           "bgcolor": "white",
           "radialaxis": {
            "gridcolor": "#EBF0F8",
            "linecolor": "#EBF0F8",
            "ticks": ""
           }
          },
          "scene": {
           "xaxis": {
            "backgroundcolor": "white",
            "gridcolor": "#DFE8F3",
            "gridwidth": 2,
            "linecolor": "#EBF0F8",
            "showbackground": true,
            "ticks": "",
            "zerolinecolor": "#EBF0F8"
           },
           "yaxis": {
            "backgroundcolor": "white",
            "gridcolor": "#DFE8F3",
            "gridwidth": 2,
            "linecolor": "#EBF0F8",
            "showbackground": true,
            "ticks": "",
            "zerolinecolor": "#EBF0F8"
           },
           "zaxis": {
            "backgroundcolor": "white",
            "gridcolor": "#DFE8F3",
            "gridwidth": 2,
            "linecolor": "#EBF0F8",
            "showbackground": true,
            "ticks": "",
            "zerolinecolor": "#EBF0F8"
           }
          },
          "shapedefaults": {
           "line": {
            "color": "#2a3f5f"
           }
          },
          "ternary": {
           "aaxis": {
            "gridcolor": "#DFE8F3",
            "linecolor": "#A2B1C6",
            "ticks": ""
           },
           "baxis": {
            "gridcolor": "#DFE8F3",
            "linecolor": "#A2B1C6",
            "ticks": ""
           },
           "bgcolor": "white",
           "caxis": {
            "gridcolor": "#DFE8F3",
            "linecolor": "#A2B1C6",
            "ticks": ""
           }
          },
          "title": {
           "x": 0.05
          },
          "xaxis": {
           "automargin": true,
           "gridcolor": "#EBF0F8",
           "linecolor": "#EBF0F8",
           "ticks": "",
           "title": {
            "standoff": 15
           },
           "zerolinecolor": "#EBF0F8",
           "zerolinewidth": 2
          },
          "yaxis": {
           "automargin": true,
           "gridcolor": "#EBF0F8",
           "linecolor": "#EBF0F8",
           "ticks": "",
           "title": {
            "standoff": 15
           },
           "zerolinecolor": "#EBF0F8",
           "zerolinewidth": 2
          }
         }
        },
        "title": {
         "text": "Daily Total Profit Over Time"
        },
        "xaxis": {
         "anchor": "y",
         "domain": [
          0,
          1
         ],
         "title": {
          "text": "Date"
         }
        },
        "yaxis": {
         "anchor": "x",
         "domain": [
          0,
          1
         ],
         "title": {
          "text": "Total Profit ($)"
         }
        }
       }
      }
     },
     "metadata": {},
     "output_type": "display_data"
    }
   ],
   "source": [
    "# Aggregate profits by date\n",
    "daily_profits = df.groupby('Ship Date')['Profit'].sum().reset_index()\n",
    "\n",
    "# Create an improved line plot\n",
    "fig = px.line(daily_profits, \n",
    "              x='Ship Date', \n",
    "              y='Profit',\n",
    "              title='Daily Total Profit Over Time',\n",
    "              labels={'Ship Date': 'Date', 'Profit': 'Total Profit ($)'},\n",
    "              template='plotly_white')\n",
    "\n",
    "# Customize the layout\n",
    "fig.update_layout(\n",
    "    showlegend=False,\n",
    "    xaxis_title=\"Date\",\n",
    "    yaxis_title=\"Total Profit ($)\",\n",
    "    hovermode='x unified'\n",
    ")\n",
    "\n",
    "fig.show()"
   ]
  },
  {
   "cell_type": "code",
   "execution_count": null,
   "id": "21664faf",
   "metadata": {},
   "outputs": [],
   "source": []
  }
 ],
 "metadata": {
  "kernelspec": {
   "display_name": "Python 3",
   "language": "python",
   "name": "python3"
  },
  "language_info": {
   "codemirror_mode": {
    "name": "ipython",
    "version": 3
   },
   "file_extension": ".py",
   "mimetype": "text/x-python",
   "name": "python",
   "nbconvert_exporter": "python",
   "pygments_lexer": "ipython3",
   "version": "3.13.7"
  }
 },
 "nbformat": 4,
 "nbformat_minor": 5
}
