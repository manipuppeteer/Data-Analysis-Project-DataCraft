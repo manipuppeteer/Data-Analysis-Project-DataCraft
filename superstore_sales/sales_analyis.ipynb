{
 "cells": [
  {
   "cell_type": "code",
   "execution_count": 15,
   "id": "a700911d",
   "metadata": {},
   "outputs": [],
   "source": [
    "import pandas as pd\n",
    "import matplotlib.pyplot as plt"
   ]
  },
  {
   "cell_type": "code",
   "execution_count": 3,
   "id": "230b93ef",
   "metadata": {},
   "outputs": [],
   "source": [
    "data = pd.read_csv('Superstore.csv', encoding='latin-1')"
   ]
  },
  {
   "cell_type": "code",
   "execution_count": 4,
   "id": "dabd54d3",
   "metadata": {},
   "outputs": [
    {
     "data": {
      "application/vnd.microsoft.datawrangler.viewer.v0+json": {
       "columns": [
        {
         "name": "index",
         "rawType": "int64",
         "type": "integer"
        },
        {
         "name": "Row ID",
         "rawType": "int64",
         "type": "integer"
        },
        {
         "name": "Order ID",
         "rawType": "object",
         "type": "string"
        },
        {
         "name": "Order Date",
         "rawType": "object",
         "type": "string"
        },
        {
         "name": "Ship Date",
         "rawType": "object",
         "type": "string"
        },
        {
         "name": "Ship Mode",
         "rawType": "object",
         "type": "string"
        },
        {
         "name": "Customer ID",
         "rawType": "object",
         "type": "string"
        },
        {
         "name": "Customer Name",
         "rawType": "object",
         "type": "string"
        },
        {
         "name": "Segment",
         "rawType": "object",
         "type": "string"
        },
        {
         "name": "Country",
         "rawType": "object",
         "type": "string"
        },
        {
         "name": "City",
         "rawType": "object",
         "type": "string"
        },
        {
         "name": "State",
         "rawType": "object",
         "type": "string"
        },
        {
         "name": "Postal Code",
         "rawType": "int64",
         "type": "integer"
        },
        {
         "name": "Region",
         "rawType": "object",
         "type": "string"
        },
        {
         "name": "Product ID",
         "rawType": "object",
         "type": "string"
        },
        {
         "name": "Category",
         "rawType": "object",
         "type": "string"
        },
        {
         "name": "Sub-Category",
         "rawType": "object",
         "type": "string"
        },
        {
         "name": "Product Name",
         "rawType": "object",
         "type": "string"
        },
        {
         "name": "Sales",
         "rawType": "float64",
         "type": "float"
        },
        {
         "name": "Quantity",
         "rawType": "int64",
         "type": "integer"
        },
        {
         "name": "Discount",
         "rawType": "float64",
         "type": "float"
        },
        {
         "name": "Profit",
         "rawType": "float64",
         "type": "float"
        }
       ],
       "ref": "fde748a7-c324-42ae-b3b3-9d82c3eaa805",
       "rows": [
        [
         "0",
         "1",
         "CA-2013-152156",
         "09-11-2013",
         "12-11-2013",
         "Second Class",
         "CG-12520",
         "Claire Gute",
         "Consumer",
         "United States",
         "Henderson",
         "Kentucky",
         "42420",
         "South",
         "FUR-BO-10001798",
         "Furniture",
         "Bookcases",
         "Bush Somerset Collection Bookcase",
         "261.96",
         "2",
         "0.0",
         "41.9136"
        ],
        [
         "1",
         "2",
         "CA-2013-152156",
         "09-11-2013",
         "12-11-2013",
         "Second Class",
         "CG-12520",
         "Claire Gute",
         "Consumer",
         "United States",
         "Henderson",
         "Kentucky",
         "42420",
         "South",
         "FUR-CH-10000454",
         "Furniture",
         "Chairs",
         "Hon Deluxe Fabric Upholstered Stacking Chairs, Rounded Back",
         "731.94",
         "3",
         "0.0",
         "219.582"
        ],
        [
         "2",
         "3",
         "CA-2013-138688",
         "13-06-2013",
         "17-06-2013",
         "Second Class",
         "DV-13045",
         "Darrin Van Huff",
         "Corporate",
         "United States",
         "Los Angeles",
         "California",
         "90036",
         "West",
         "OFF-LA-10000240",
         "Office Supplies",
         "Labels",
         "Self-Adhesive Address Labels for Typewriters by Universal",
         "14.62",
         "2",
         "0.0",
         "6.8714"
        ],
        [
         "3",
         "4",
         "US-2012-108966",
         "11-10-2012",
         "18-10-2012",
         "Standard Class",
         "SO-20335",
         "Sean O'Donnell",
         "Consumer",
         "United States",
         "Fort Lauderdale",
         "Florida",
         "33311",
         "South",
         "FUR-TA-10000577",
         "Furniture",
         "Tables",
         "Bretford CR4500 Series Slim Rectangular Table",
         "957.5775",
         "5",
         "0.45",
         "-383.031"
        ],
        [
         "4",
         "5",
         "US-2012-108966",
         "11-10-2012",
         "18-10-2012",
         "Standard Class",
         "SO-20335",
         "Sean O'Donnell",
         "Consumer",
         "United States",
         "Fort Lauderdale",
         "Florida",
         "33311",
         "South",
         "OFF-ST-10000760",
         "Office Supplies",
         "Storage",
         "Eldon Fold 'N Roll Cart System",
         "22.368",
         "2",
         "0.2",
         "2.5164"
        ]
       ],
       "shape": {
        "columns": 21,
        "rows": 5
       }
      },
      "text/html": [
       "<div>\n",
       "<style scoped>\n",
       "    .dataframe tbody tr th:only-of-type {\n",
       "        vertical-align: middle;\n",
       "    }\n",
       "\n",
       "    .dataframe tbody tr th {\n",
       "        vertical-align: top;\n",
       "    }\n",
       "\n",
       "    .dataframe thead th {\n",
       "        text-align: right;\n",
       "    }\n",
       "</style>\n",
       "<table border=\"1\" class=\"dataframe\">\n",
       "  <thead>\n",
       "    <tr style=\"text-align: right;\">\n",
       "      <th></th>\n",
       "      <th>Row ID</th>\n",
       "      <th>Order ID</th>\n",
       "      <th>Order Date</th>\n",
       "      <th>Ship Date</th>\n",
       "      <th>Ship Mode</th>\n",
       "      <th>Customer ID</th>\n",
       "      <th>Customer Name</th>\n",
       "      <th>Segment</th>\n",
       "      <th>Country</th>\n",
       "      <th>City</th>\n",
       "      <th>...</th>\n",
       "      <th>Postal Code</th>\n",
       "      <th>Region</th>\n",
       "      <th>Product ID</th>\n",
       "      <th>Category</th>\n",
       "      <th>Sub-Category</th>\n",
       "      <th>Product Name</th>\n",
       "      <th>Sales</th>\n",
       "      <th>Quantity</th>\n",
       "      <th>Discount</th>\n",
       "      <th>Profit</th>\n",
       "    </tr>\n",
       "  </thead>\n",
       "  <tbody>\n",
       "    <tr>\n",
       "      <th>0</th>\n",
       "      <td>1</td>\n",
       "      <td>CA-2013-152156</td>\n",
       "      <td>09-11-2013</td>\n",
       "      <td>12-11-2013</td>\n",
       "      <td>Second Class</td>\n",
       "      <td>CG-12520</td>\n",
       "      <td>Claire Gute</td>\n",
       "      <td>Consumer</td>\n",
       "      <td>United States</td>\n",
       "      <td>Henderson</td>\n",
       "      <td>...</td>\n",
       "      <td>42420</td>\n",
       "      <td>South</td>\n",
       "      <td>FUR-BO-10001798</td>\n",
       "      <td>Furniture</td>\n",
       "      <td>Bookcases</td>\n",
       "      <td>Bush Somerset Collection Bookcase</td>\n",
       "      <td>261.9600</td>\n",
       "      <td>2</td>\n",
       "      <td>0.00</td>\n",
       "      <td>41.9136</td>\n",
       "    </tr>\n",
       "    <tr>\n",
       "      <th>1</th>\n",
       "      <td>2</td>\n",
       "      <td>CA-2013-152156</td>\n",
       "      <td>09-11-2013</td>\n",
       "      <td>12-11-2013</td>\n",
       "      <td>Second Class</td>\n",
       "      <td>CG-12520</td>\n",
       "      <td>Claire Gute</td>\n",
       "      <td>Consumer</td>\n",
       "      <td>United States</td>\n",
       "      <td>Henderson</td>\n",
       "      <td>...</td>\n",
       "      <td>42420</td>\n",
       "      <td>South</td>\n",
       "      <td>FUR-CH-10000454</td>\n",
       "      <td>Furniture</td>\n",
       "      <td>Chairs</td>\n",
       "      <td>Hon Deluxe Fabric Upholstered Stacking Chairs,...</td>\n",
       "      <td>731.9400</td>\n",
       "      <td>3</td>\n",
       "      <td>0.00</td>\n",
       "      <td>219.5820</td>\n",
       "    </tr>\n",
       "    <tr>\n",
       "      <th>2</th>\n",
       "      <td>3</td>\n",
       "      <td>CA-2013-138688</td>\n",
       "      <td>13-06-2013</td>\n",
       "      <td>17-06-2013</td>\n",
       "      <td>Second Class</td>\n",
       "      <td>DV-13045</td>\n",
       "      <td>Darrin Van Huff</td>\n",
       "      <td>Corporate</td>\n",
       "      <td>United States</td>\n",
       "      <td>Los Angeles</td>\n",
       "      <td>...</td>\n",
       "      <td>90036</td>\n",
       "      <td>West</td>\n",
       "      <td>OFF-LA-10000240</td>\n",
       "      <td>Office Supplies</td>\n",
       "      <td>Labels</td>\n",
       "      <td>Self-Adhesive Address Labels for Typewriters b...</td>\n",
       "      <td>14.6200</td>\n",
       "      <td>2</td>\n",
       "      <td>0.00</td>\n",
       "      <td>6.8714</td>\n",
       "    </tr>\n",
       "    <tr>\n",
       "      <th>3</th>\n",
       "      <td>4</td>\n",
       "      <td>US-2012-108966</td>\n",
       "      <td>11-10-2012</td>\n",
       "      <td>18-10-2012</td>\n",
       "      <td>Standard Class</td>\n",
       "      <td>SO-20335</td>\n",
       "      <td>Sean O'Donnell</td>\n",
       "      <td>Consumer</td>\n",
       "      <td>United States</td>\n",
       "      <td>Fort Lauderdale</td>\n",
       "      <td>...</td>\n",
       "      <td>33311</td>\n",
       "      <td>South</td>\n",
       "      <td>FUR-TA-10000577</td>\n",
       "      <td>Furniture</td>\n",
       "      <td>Tables</td>\n",
       "      <td>Bretford CR4500 Series Slim Rectangular Table</td>\n",
       "      <td>957.5775</td>\n",
       "      <td>5</td>\n",
       "      <td>0.45</td>\n",
       "      <td>-383.0310</td>\n",
       "    </tr>\n",
       "    <tr>\n",
       "      <th>4</th>\n",
       "      <td>5</td>\n",
       "      <td>US-2012-108966</td>\n",
       "      <td>11-10-2012</td>\n",
       "      <td>18-10-2012</td>\n",
       "      <td>Standard Class</td>\n",
       "      <td>SO-20335</td>\n",
       "      <td>Sean O'Donnell</td>\n",
       "      <td>Consumer</td>\n",
       "      <td>United States</td>\n",
       "      <td>Fort Lauderdale</td>\n",
       "      <td>...</td>\n",
       "      <td>33311</td>\n",
       "      <td>South</td>\n",
       "      <td>OFF-ST-10000760</td>\n",
       "      <td>Office Supplies</td>\n",
       "      <td>Storage</td>\n",
       "      <td>Eldon Fold 'N Roll Cart System</td>\n",
       "      <td>22.3680</td>\n",
       "      <td>2</td>\n",
       "      <td>0.20</td>\n",
       "      <td>2.5164</td>\n",
       "    </tr>\n",
       "  </tbody>\n",
       "</table>\n",
       "<p>5 rows × 21 columns</p>\n",
       "</div>"
      ],
      "text/plain": [
       "   Row ID        Order ID  Order Date   Ship Date       Ship Mode Customer ID  \\\n",
       "0       1  CA-2013-152156  09-11-2013  12-11-2013    Second Class    CG-12520   \n",
       "1       2  CA-2013-152156  09-11-2013  12-11-2013    Second Class    CG-12520   \n",
       "2       3  CA-2013-138688  13-06-2013  17-06-2013    Second Class    DV-13045   \n",
       "3       4  US-2012-108966  11-10-2012  18-10-2012  Standard Class    SO-20335   \n",
       "4       5  US-2012-108966  11-10-2012  18-10-2012  Standard Class    SO-20335   \n",
       "\n",
       "     Customer Name    Segment        Country             City  ...  \\\n",
       "0      Claire Gute   Consumer  United States        Henderson  ...   \n",
       "1      Claire Gute   Consumer  United States        Henderson  ...   \n",
       "2  Darrin Van Huff  Corporate  United States      Los Angeles  ...   \n",
       "3   Sean O'Donnell   Consumer  United States  Fort Lauderdale  ...   \n",
       "4   Sean O'Donnell   Consumer  United States  Fort Lauderdale  ...   \n",
       "\n",
       "  Postal Code  Region       Product ID         Category Sub-Category  \\\n",
       "0       42420   South  FUR-BO-10001798        Furniture    Bookcases   \n",
       "1       42420   South  FUR-CH-10000454        Furniture       Chairs   \n",
       "2       90036    West  OFF-LA-10000240  Office Supplies       Labels   \n",
       "3       33311   South  FUR-TA-10000577        Furniture       Tables   \n",
       "4       33311   South  OFF-ST-10000760  Office Supplies      Storage   \n",
       "\n",
       "                                        Product Name     Sales  Quantity  \\\n",
       "0                  Bush Somerset Collection Bookcase  261.9600         2   \n",
       "1  Hon Deluxe Fabric Upholstered Stacking Chairs,...  731.9400         3   \n",
       "2  Self-Adhesive Address Labels for Typewriters b...   14.6200         2   \n",
       "3      Bretford CR4500 Series Slim Rectangular Table  957.5775         5   \n",
       "4                     Eldon Fold 'N Roll Cart System   22.3680         2   \n",
       "\n",
       "   Discount    Profit  \n",
       "0      0.00   41.9136  \n",
       "1      0.00  219.5820  \n",
       "2      0.00    6.8714  \n",
       "3      0.45 -383.0310  \n",
       "4      0.20    2.5164  \n",
       "\n",
       "[5 rows x 21 columns]"
      ]
     },
     "execution_count": 4,
     "metadata": {},
     "output_type": "execute_result"
    }
   ],
   "source": [
    "data.head()"
   ]
  },
  {
   "cell_type": "code",
   "execution_count": 5,
   "id": "60973365",
   "metadata": {},
   "outputs": [
    {
     "data": {
      "text/plain": [
       "(9994, 21)"
      ]
     },
     "execution_count": 5,
     "metadata": {},
     "output_type": "execute_result"
    }
   ],
   "source": [
    "data.shape"
   ]
  },
  {
   "cell_type": "code",
   "execution_count": 6,
   "id": "f0cc8460",
   "metadata": {},
   "outputs": [
    {
     "name": "stdout",
     "output_type": "stream",
     "text": [
      "<class 'pandas.core.frame.DataFrame'>\n",
      "RangeIndex: 9994 entries, 0 to 9993\n",
      "Data columns (total 21 columns):\n",
      " #   Column         Non-Null Count  Dtype  \n",
      "---  ------         --------------  -----  \n",
      " 0   Row ID         9994 non-null   int64  \n",
      " 1   Order ID       9994 non-null   object \n",
      " 2   Order Date     9994 non-null   object \n",
      " 3   Ship Date      9994 non-null   object \n",
      " 4   Ship Mode      9994 non-null   object \n",
      " 5   Customer ID    9994 non-null   object \n",
      " 6   Customer Name  9994 non-null   object \n",
      " 7   Segment        9994 non-null   object \n",
      " 8   Country        9994 non-null   object \n",
      " 9   City           9994 non-null   object \n",
      " 10  State          9994 non-null   object \n",
      " 11  Postal Code    9994 non-null   int64  \n",
      " 12  Region         9994 non-null   object \n",
      " 13  Product ID     9994 non-null   object \n",
      " 14  Category       9994 non-null   object \n",
      " 15  Sub-Category   9994 non-null   object \n",
      " 16  Product Name   9994 non-null   object \n",
      " 17  Sales          9994 non-null   float64\n",
      " 18  Quantity       9994 non-null   int64  \n",
      " 19  Discount       9994 non-null   float64\n",
      " 20  Profit         9994 non-null   float64\n",
      "dtypes: float64(3), int64(3), object(15)\n",
      "memory usage: 1.6+ MB\n"
     ]
    }
   ],
   "source": [
    "data.info()"
   ]
  },
  {
   "cell_type": "code",
   "execution_count": 7,
   "id": "f8d26c2a",
   "metadata": {},
   "outputs": [
    {
     "data": {
      "application/vnd.microsoft.datawrangler.viewer.v0+json": {
       "columns": [
        {
         "name": "index",
         "rawType": "int64",
         "type": "integer"
        },
        {
         "name": "Order ID",
         "rawType": "object",
         "type": "string"
        },
        {
         "name": "Order Date",
         "rawType": "datetime64[ns]",
         "type": "datetime"
        },
        {
         "name": "Ship Date",
         "rawType": "datetime64[ns]",
         "type": "datetime"
        },
        {
         "name": "Ship Mode",
         "rawType": "object",
         "type": "string"
        },
        {
         "name": "Customer ID",
         "rawType": "object",
         "type": "string"
        },
        {
         "name": "Segment",
         "rawType": "object",
         "type": "string"
        },
        {
         "name": "City",
         "rawType": "object",
         "type": "string"
        },
        {
         "name": "State",
         "rawType": "object",
         "type": "string"
        },
        {
         "name": "Postal Code",
         "rawType": "int64",
         "type": "integer"
        },
        {
         "name": "Region",
         "rawType": "object",
         "type": "string"
        },
        {
         "name": "Product ID",
         "rawType": "object",
         "type": "string"
        },
        {
         "name": "Category",
         "rawType": "object",
         "type": "string"
        },
        {
         "name": "Sub-Category",
         "rawType": "object",
         "type": "string"
        },
        {
         "name": "Product Name",
         "rawType": "object",
         "type": "string"
        },
        {
         "name": "Sales",
         "rawType": "float64",
         "type": "float"
        },
        {
         "name": "Quantity",
         "rawType": "int64",
         "type": "integer"
        },
        {
         "name": "Discount",
         "rawType": "float64",
         "type": "float"
        },
        {
         "name": "Profit",
         "rawType": "float64",
         "type": "float"
        },
        {
         "name": "Ship Year",
         "rawType": "int32",
         "type": "integer"
        },
        {
         "name": "Ship Month",
         "rawType": "int32",
         "type": "integer"
        },
        {
         "name": "Ship Day",
         "rawType": "int32",
         "type": "integer"
        },
        {
         "name": "Order Year",
         "rawType": "int32",
         "type": "integer"
        },
        {
         "name": "Order Month",
         "rawType": "int32",
         "type": "integer"
        },
        {
         "name": "Order Day",
         "rawType": "int32",
         "type": "integer"
        },
        {
         "name": "Price per Piece",
         "rawType": "float64",
         "type": "float"
        },
        {
         "name": "Profit per Piece",
         "rawType": "float64",
         "type": "float"
        },
        {
         "name": "Lieferzeit",
         "rawType": "int64",
         "type": "integer"
        }
       ],
       "ref": "62e93193-22f4-4cbe-b228-0c3a73fb857c",
       "rows": [
        [
         "0",
         "CA-2013-152156",
         "2013-11-09 00:00:00",
         "2013-11-12 00:00:00",
         "Second Class",
         "CG-12520",
         "Consumer",
         "Henderson",
         "Kentucky",
         "42420",
         "South",
         "FUR-BO-10001798",
         "Furniture",
         "Bookcases",
         "Bush Somerset Collection Bookcase",
         "261.96",
         "2",
         "0.0",
         "41.9136",
         "2013",
         "11",
         "12",
         "2013",
         "11",
         "9",
         "130.98",
         "20.9568",
         "3"
        ],
        [
         "1",
         "CA-2013-152156",
         "2013-11-09 00:00:00",
         "2013-11-12 00:00:00",
         "Second Class",
         "CG-12520",
         "Consumer",
         "Henderson",
         "Kentucky",
         "42420",
         "South",
         "FUR-CH-10000454",
         "Furniture",
         "Chairs",
         "Hon Deluxe Fabric Upholstered Stacking Chairs, Rounded Back",
         "731.94",
         "3",
         "0.0",
         "219.582",
         "2013",
         "11",
         "12",
         "2013",
         "11",
         "9",
         "243.98000000000002",
         "73.194",
         "3"
        ],
        [
         "2",
         "CA-2013-138688",
         "2013-06-13 00:00:00",
         "2013-06-17 00:00:00",
         "Second Class",
         "DV-13045",
         "Corporate",
         "Los Angeles",
         "California",
         "90036",
         "West",
         "OFF-LA-10000240",
         "Office Supplies",
         "Labels",
         "Self-Adhesive Address Labels for Typewriters by Universal",
         "14.62",
         "2",
         "0.0",
         "6.8714",
         "2013",
         "6",
         "17",
         "2013",
         "6",
         "13",
         "7.31",
         "3.4357",
         "4"
        ],
        [
         "3",
         "US-2012-108966",
         "2012-10-11 00:00:00",
         "2012-10-18 00:00:00",
         "Standard Class",
         "SO-20335",
         "Consumer",
         "Fort Lauderdale",
         "Florida",
         "33311",
         "South",
         "FUR-TA-10000577",
         "Furniture",
         "Tables",
         "Bretford CR4500 Series Slim Rectangular Table",
         "957.5775",
         "5",
         "0.45",
         "-383.031",
         "2012",
         "10",
         "18",
         "2012",
         "10",
         "11",
         "191.5155",
         "-76.6062",
         "7"
        ],
        [
         "4",
         "US-2012-108966",
         "2012-10-11 00:00:00",
         "2012-10-18 00:00:00",
         "Standard Class",
         "SO-20335",
         "Consumer",
         "Fort Lauderdale",
         "Florida",
         "33311",
         "South",
         "OFF-ST-10000760",
         "Office Supplies",
         "Storage",
         "Eldon Fold 'N Roll Cart System",
         "22.368",
         "2",
         "0.2",
         "2.5164",
         "2012",
         "10",
         "18",
         "2012",
         "10",
         "11",
         "11.184",
         "1.2582",
         "7"
        ]
       ],
       "shape": {
        "columns": 27,
        "rows": 5
       }
      },
      "text/html": [
       "<div>\n",
       "<style scoped>\n",
       "    .dataframe tbody tr th:only-of-type {\n",
       "        vertical-align: middle;\n",
       "    }\n",
       "\n",
       "    .dataframe tbody tr th {\n",
       "        vertical-align: top;\n",
       "    }\n",
       "\n",
       "    .dataframe thead th {\n",
       "        text-align: right;\n",
       "    }\n",
       "</style>\n",
       "<table border=\"1\" class=\"dataframe\">\n",
       "  <thead>\n",
       "    <tr style=\"text-align: right;\">\n",
       "      <th></th>\n",
       "      <th>Order ID</th>\n",
       "      <th>Order Date</th>\n",
       "      <th>Ship Date</th>\n",
       "      <th>Ship Mode</th>\n",
       "      <th>Customer ID</th>\n",
       "      <th>Segment</th>\n",
       "      <th>City</th>\n",
       "      <th>State</th>\n",
       "      <th>Postal Code</th>\n",
       "      <th>Region</th>\n",
       "      <th>...</th>\n",
       "      <th>Profit</th>\n",
       "      <th>Ship Year</th>\n",
       "      <th>Ship Month</th>\n",
       "      <th>Ship Day</th>\n",
       "      <th>Order Year</th>\n",
       "      <th>Order Month</th>\n",
       "      <th>Order Day</th>\n",
       "      <th>Price per Piece</th>\n",
       "      <th>Profit per Piece</th>\n",
       "      <th>Lieferzeit</th>\n",
       "    </tr>\n",
       "  </thead>\n",
       "  <tbody>\n",
       "    <tr>\n",
       "      <th>0</th>\n",
       "      <td>CA-2013-152156</td>\n",
       "      <td>2013-11-09</td>\n",
       "      <td>2013-11-12</td>\n",
       "      <td>Second Class</td>\n",
       "      <td>CG-12520</td>\n",
       "      <td>Consumer</td>\n",
       "      <td>Henderson</td>\n",
       "      <td>Kentucky</td>\n",
       "      <td>42420</td>\n",
       "      <td>South</td>\n",
       "      <td>...</td>\n",
       "      <td>41.9136</td>\n",
       "      <td>2013</td>\n",
       "      <td>11</td>\n",
       "      <td>12</td>\n",
       "      <td>2013</td>\n",
       "      <td>11</td>\n",
       "      <td>9</td>\n",
       "      <td>130.9800</td>\n",
       "      <td>20.9568</td>\n",
       "      <td>3</td>\n",
       "    </tr>\n",
       "    <tr>\n",
       "      <th>1</th>\n",
       "      <td>CA-2013-152156</td>\n",
       "      <td>2013-11-09</td>\n",
       "      <td>2013-11-12</td>\n",
       "      <td>Second Class</td>\n",
       "      <td>CG-12520</td>\n",
       "      <td>Consumer</td>\n",
       "      <td>Henderson</td>\n",
       "      <td>Kentucky</td>\n",
       "      <td>42420</td>\n",
       "      <td>South</td>\n",
       "      <td>...</td>\n",
       "      <td>219.5820</td>\n",
       "      <td>2013</td>\n",
       "      <td>11</td>\n",
       "      <td>12</td>\n",
       "      <td>2013</td>\n",
       "      <td>11</td>\n",
       "      <td>9</td>\n",
       "      <td>243.9800</td>\n",
       "      <td>73.1940</td>\n",
       "      <td>3</td>\n",
       "    </tr>\n",
       "    <tr>\n",
       "      <th>2</th>\n",
       "      <td>CA-2013-138688</td>\n",
       "      <td>2013-06-13</td>\n",
       "      <td>2013-06-17</td>\n",
       "      <td>Second Class</td>\n",
       "      <td>DV-13045</td>\n",
       "      <td>Corporate</td>\n",
       "      <td>Los Angeles</td>\n",
       "      <td>California</td>\n",
       "      <td>90036</td>\n",
       "      <td>West</td>\n",
       "      <td>...</td>\n",
       "      <td>6.8714</td>\n",
       "      <td>2013</td>\n",
       "      <td>6</td>\n",
       "      <td>17</td>\n",
       "      <td>2013</td>\n",
       "      <td>6</td>\n",
       "      <td>13</td>\n",
       "      <td>7.3100</td>\n",
       "      <td>3.4357</td>\n",
       "      <td>4</td>\n",
       "    </tr>\n",
       "    <tr>\n",
       "      <th>3</th>\n",
       "      <td>US-2012-108966</td>\n",
       "      <td>2012-10-11</td>\n",
       "      <td>2012-10-18</td>\n",
       "      <td>Standard Class</td>\n",
       "      <td>SO-20335</td>\n",
       "      <td>Consumer</td>\n",
       "      <td>Fort Lauderdale</td>\n",
       "      <td>Florida</td>\n",
       "      <td>33311</td>\n",
       "      <td>South</td>\n",
       "      <td>...</td>\n",
       "      <td>-383.0310</td>\n",
       "      <td>2012</td>\n",
       "      <td>10</td>\n",
       "      <td>18</td>\n",
       "      <td>2012</td>\n",
       "      <td>10</td>\n",
       "      <td>11</td>\n",
       "      <td>191.5155</td>\n",
       "      <td>-76.6062</td>\n",
       "      <td>7</td>\n",
       "    </tr>\n",
       "    <tr>\n",
       "      <th>4</th>\n",
       "      <td>US-2012-108966</td>\n",
       "      <td>2012-10-11</td>\n",
       "      <td>2012-10-18</td>\n",
       "      <td>Standard Class</td>\n",
       "      <td>SO-20335</td>\n",
       "      <td>Consumer</td>\n",
       "      <td>Fort Lauderdale</td>\n",
       "      <td>Florida</td>\n",
       "      <td>33311</td>\n",
       "      <td>South</td>\n",
       "      <td>...</td>\n",
       "      <td>2.5164</td>\n",
       "      <td>2012</td>\n",
       "      <td>10</td>\n",
       "      <td>18</td>\n",
       "      <td>2012</td>\n",
       "      <td>10</td>\n",
       "      <td>11</td>\n",
       "      <td>11.1840</td>\n",
       "      <td>1.2582</td>\n",
       "      <td>7</td>\n",
       "    </tr>\n",
       "  </tbody>\n",
       "</table>\n",
       "<p>5 rows × 27 columns</p>\n",
       "</div>"
      ],
      "text/plain": [
       "         Order ID Order Date  Ship Date       Ship Mode Customer ID  \\\n",
       "0  CA-2013-152156 2013-11-09 2013-11-12    Second Class    CG-12520   \n",
       "1  CA-2013-152156 2013-11-09 2013-11-12    Second Class    CG-12520   \n",
       "2  CA-2013-138688 2013-06-13 2013-06-17    Second Class    DV-13045   \n",
       "3  US-2012-108966 2012-10-11 2012-10-18  Standard Class    SO-20335   \n",
       "4  US-2012-108966 2012-10-11 2012-10-18  Standard Class    SO-20335   \n",
       "\n",
       "     Segment             City       State  Postal Code Region  ...    Profit  \\\n",
       "0   Consumer        Henderson    Kentucky        42420  South  ...   41.9136   \n",
       "1   Consumer        Henderson    Kentucky        42420  South  ...  219.5820   \n",
       "2  Corporate      Los Angeles  California        90036   West  ...    6.8714   \n",
       "3   Consumer  Fort Lauderdale     Florida        33311  South  ... -383.0310   \n",
       "4   Consumer  Fort Lauderdale     Florida        33311  South  ...    2.5164   \n",
       "\n",
       "  Ship Year Ship Month Ship Day  Order Year  Order Month  Order Day  \\\n",
       "0      2013         11       12        2013           11          9   \n",
       "1      2013         11       12        2013           11          9   \n",
       "2      2013          6       17        2013            6         13   \n",
       "3      2012         10       18        2012           10         11   \n",
       "4      2012         10       18        2012           10         11   \n",
       "\n",
       "   Price per Piece  Profit per Piece  Lieferzeit  \n",
       "0         130.9800           20.9568           3  \n",
       "1         243.9800           73.1940           3  \n",
       "2           7.3100            3.4357           4  \n",
       "3         191.5155          -76.6062           7  \n",
       "4          11.1840            1.2582           7  \n",
       "\n",
       "[5 rows x 27 columns]"
      ]
     },
     "execution_count": 7,
     "metadata": {},
     "output_type": "execute_result"
    }
   ],
   "source": [
    "def clean_and_separate(dataframe):\n",
    "    dataframe.drop(['Row ID', 'Country', 'Customer Name'], axis = 1, inplace = True)\n",
    "    dataframe['Ship Date'] = pd.to_datetime(dataframe['Ship Date'], format = '%d-%m-%Y')\n",
    "    dataframe['Order Date'] = pd.to_datetime(dataframe['Order Date'], format = '%d-%m-%Y')\n",
    "    dataframe['Ship Year'] = dataframe['Ship Date'].dt.year\n",
    "    dataframe['Ship Month'] = dataframe['Ship Date'].dt.month\n",
    "    dataframe['Ship Day'] = dataframe['Ship Date'].dt.day\n",
    "    dataframe['Order Year'] = dataframe['Order Date'].dt.year\n",
    "    dataframe['Order Month'] = dataframe['Order Date'].dt.month\n",
    "    dataframe['Order Day'] = dataframe['Order Date'].dt.day\n",
    "    dataframe['Price per Piece'] = dataframe['Sales'] / dataframe['Quantity']\n",
    "    dataframe['Profit per Piece'] = dataframe['Profit'] / dataframe['Quantity']\n",
    "    dataframe['Lieferzeit'] = (dataframe['Ship Date'] - dataframe['Order Date']).dt.days\n",
    "    return dataframe\n",
    "df = clean_and_separate(data)\n",
    "#df.reindex()\n",
    "df.head()"
   ]
  },
  {
   "cell_type": "code",
   "execution_count": 8,
   "id": "0cefc81f",
   "metadata": {},
   "outputs": [
    {
     "data": {
      "application/vnd.microsoft.datawrangler.viewer.v0+json": {
       "columns": [
        {
         "name": "index",
         "rawType": "object",
         "type": "string"
        },
        {
         "name": "0",
         "rawType": "int64",
         "type": "integer"
        }
       ],
       "ref": "58cb3560-c613-44fb-b8eb-cfb78b7ef4d0",
       "rows": [
        [
         "Order Date",
         "1238"
        ],
        [
         "Ship Date",
         "1334"
        ],
        [
         "Postal Code",
         "631"
        ],
        [
         "Sales",
         "5825"
        ],
        [
         "Quantity",
         "14"
        ],
        [
         "Discount",
         "12"
        ],
        [
         "Profit",
         "7287"
        ],
        [
         "Ship Year",
         "5"
        ],
        [
         "Ship Month",
         "12"
        ],
        [
         "Ship Day",
         "31"
        ],
        [
         "Order Year",
         "4"
        ],
        [
         "Order Month",
         "12"
        ],
        [
         "Order Day",
         "31"
        ],
        [
         "Price per Piece",
         "3298"
        ],
        [
         "Profit per Piece",
         "4246"
        ],
        [
         "Lieferzeit",
         "8"
        ]
       ],
       "shape": {
        "columns": 1,
        "rows": 16
       }
      },
      "text/plain": [
       "Order Date          1238\n",
       "Ship Date           1334\n",
       "Postal Code          631\n",
       "Sales               5825\n",
       "Quantity              14\n",
       "Discount              12\n",
       "Profit              7287\n",
       "Ship Year              5\n",
       "Ship Month            12\n",
       "Ship Day              31\n",
       "Order Year             4\n",
       "Order Month           12\n",
       "Order Day             31\n",
       "Price per Piece     3298\n",
       "Profit per Piece    4246\n",
       "Lieferzeit             8\n",
       "dtype: int64"
      ]
     },
     "execution_count": 8,
     "metadata": {},
     "output_type": "execute_result"
    }
   ],
   "source": [
    "df.select_dtypes(exclude=['object']).nunique()"
   ]
  },
  {
   "cell_type": "code",
   "execution_count": 9,
   "id": "a576e7eb",
   "metadata": {},
   "outputs": [
    {
     "data": {
      "text/plain": [
       "<Axes: title={'center': 'Verteilung der Kundensegmente'}>"
      ]
     },
     "execution_count": 9,
     "metadata": {},
     "output_type": "execute_result"
    },
    {
     "data": {
      "image/png": "[encoded data removed]",
      "text/plain": [
       "<Figure size 640x480 with 1 Axes>"
      ]
     },
     "metadata": {},
     "output_type": "display_data"
    }
   ],
   "source": [
    "df['Segment'].value_counts().plot(\n",
    "    kind = 'pie',\n",
    "    autopct='%1.1f%%',\n",
    "    startangle=90,\n",
    "    ylabel='',\n",
    "    explode = (0.05, 0.05, 0.05),\n",
    "    title = 'Verteilung der Kundensegmente'\n",
    ")"
   ]
  },
  {
   "cell_type": "code",
   "execution_count": 62,
   "id": "2b1a4153",
   "metadata": {},
   "outputs": [
    {
     "data": {
      "image/png": "[encoded data removed]",
      "text/plain": [
       "<Figure size 500x500 with 1 Axes>"
      ]
     },
     "metadata": {},
     "output_type": "display_data"
    }
   ],
   "source": [
    "# Create the grouped data first\n",
    "sales_by_segment = df.groupby('Segment').agg({'Sales':'mean'})\n",
    "\n",
    "# Create the plot\n",
    "fig, ax = plt.subplots(figsize=(5, 5))\n",
    "bars = ax.bar(sales_by_segment.index, sales_by_segment['Sales'], width=0.6)\n",
    "\n",
    "# Set individual colors for each bar\n",
    "colors = ['#1f77b4', \"#ff9900\", \"#068706\"]  # Dark blue, Orange, Green\n",
    "for bar, color in zip(bars, colors):\n",
    "    bar.set_color(color)\n",
    "\n",
    "# Customize the plot\n",
    "ax.set_title('Average Sales by Segment', pad=20)\n",
    "ax.set_ylabel('Average Sales ($)', labelpad=20)\n",
    "ax.set_xlabel('Segment', labelpad=20)\n",
    "\n",
    "for i, x in enumerate(sales_by_segment['Sales']):\n",
    "    ax.text(i-0.2, x+5, f'{x:,.2f} $', va='center', fontsize=10)\n",
    "\n",
    "plt.show()"
   ]
  },
  {
   "cell_type": "code",
   "execution_count": 66,
   "id": "a220cff7",
   "metadata": {},
   "outputs": [
    {
     "data": {
      "image/png": "[encoded data removed]",
      "text/plain": [
       "<Figure size 500x500 with 1 Axes>"
      ]
     },
     "metadata": {},
     "output_type": "display_data"
    }
   ],
   "source": [
    "# Create the grouped data first\n",
    "sales_by_segment = df.groupby('Segment').agg({'Profit':'mean'})\n",
    "\n",
    "# Create the plot\n",
    "fig, ax = plt.subplots(figsize=(5, 5))\n",
    "bars = ax.bar(sales_by_segment.index, sales_by_segment['Profit'], width=0.6)\n",
    "\n",
    "# Set individual colors for each bar\n",
    "colors = ['#1f77b4', \"#ff9900\", \"#068706\"]  # Dark blue, Orange, Green\n",
    "for bar, color in zip(bars, colors):\n",
    "    bar.set_color(color)\n",
    "\n",
    "# Customize the plot\n",
    "ax.set_title('Average Profit by Segment', pad=20)\n",
    "ax.set_ylabel('Average Profit ($)', labelpad=20)\n",
    "ax.set_xlabel('Segment', labelpad=20)\n",
    "\n",
    "for i, x in enumerate(sales_by_segment['Profit']):\n",
    "    ax.text(i-0.2, x+0.8, f'{x:,.2f} $', va='center', fontsize=10)\n",
    "\n",
    "plt.show()"
   ]
  }
 ],
 "metadata": {
  "kernelspec": {
   "display_name": "Python 3",
   "language": "python",
   "name": "python3"
  },
  "language_info": {
   "codemirror_mode": {
    "name": "ipython",
    "version": 3
   },
   "file_extension": ".py",
   "mimetype": "text/x-python",
   "name": "python",
   "nbconvert_exporter": "python",
   "pygments_lexer": "ipython3",
   "version": "3.13.7"
  }
 },
 "nbformat": 4,
 "nbformat_minor": 5
}
