{
 "cells": [
  {
   "cell_type": "code",
   "id": "initial_id",
   "metadata": {
    "collapsed": true,
    "ExecuteTime": {
     "end_time": "2025-09-10T10:00:43.380030Z",
     "start_time": "2025-09-10T10:00:43.376675Z"
    }
   },
   "source": [
    "import pandas as pd\n",
    "import plotly.express as px"
   ],
   "outputs": [],
   "execution_count": 100
  },
  {
   "metadata": {
    "ExecuteTime": {
     "end_time": "2025-09-10T10:00:43.437731Z",
     "start_time": "2025-09-10T10:00:43.391675Z"
    }
   },
   "cell_type": "code",
   "source": "superstore = pd.read_csv(\"superstore_sales/Superstore.csv\", sep=\",\", encoding=\"latin-1\")",
   "id": "aaa0923aab1ec7f7",
   "outputs": [],
   "execution_count": 101
  },
  {
   "metadata": {
    "ExecuteTime": {
     "end_time": "2025-09-10T10:00:43.464520Z",
     "start_time": "2025-09-10T10:00:43.448998Z"
    }
   },
   "cell_type": "code",
   "source": "superstore.head()\n",
   "id": "e5832c0d62dee7ac",
   "outputs": [
    {
     "data": {
      "text/plain": [
       "   Row ID        Order ID  Order Date   Ship Date       Ship Mode Customer ID  \\\n",
       "0       1  CA-2013-152156  09-11-2013  12-11-2013    Second Class    CG-12520   \n",
       "1       2  CA-2013-152156  09-11-2013  12-11-2013    Second Class    CG-12520   \n",
       "2       3  CA-2013-138688  13-06-2013  17-06-2013    Second Class    DV-13045   \n",
       "3       4  US-2012-108966  11-10-2012  18-10-2012  Standard Class    SO-20335   \n",
       "4       5  US-2012-108966  11-10-2012  18-10-2012  Standard Class    SO-20335   \n",
       "\n",
       "     Customer Name    Segment        Country             City  ...  \\\n",
       "0      Claire Gute   Consumer  United States        Henderson  ...   \n",
       "1      Claire Gute   Consumer  United States        Henderson  ...   \n",
       "2  Darrin Van Huff  Corporate  United States      Los Angeles  ...   \n",
       "3   Sean O'Donnell   Consumer  United States  Fort Lauderdale  ...   \n",
       "4   Sean O'Donnell   Consumer  United States  Fort Lauderdale  ...   \n",
       "\n",
       "  Postal Code  Region       Product ID         Category Sub-Category  \\\n",
       "0       42420   South  FUR-BO-10001798        Furniture    Bookcases   \n",
       "1       42420   South  FUR-CH-10000454        Furniture       Chairs   \n",
       "2       90036    West  OFF-LA-10000240  Office Supplies       Labels   \n",
       "3       33311   South  FUR-TA-10000577        Furniture       Tables   \n",
       "4       33311   South  OFF-ST-10000760  Office Supplies      Storage   \n",
       "\n",
       "                                        Product Name     Sales  Quantity  \\\n",
       "0                  Bush Somerset Collection Bookcase  261.9600         2   \n",
       "1  Hon Deluxe Fabric Upholstered Stacking Chairs,...  731.9400         3   \n",
       "2  Self-Adhesive Address Labels for Typewriters b...   14.6200         2   \n",
       "3      Bretford CR4500 Series Slim Rectangular Table  957.5775         5   \n",
       "4                     Eldon Fold 'N Roll Cart System   22.3680         2   \n",
       "\n",
       "   Discount    Profit  \n",
       "0      0.00   41.9136  \n",
       "1      0.00  219.5820  \n",
       "2      0.00    6.8714  \n",
       "3      0.45 -383.0310  \n",
       "4      0.20    2.5164  \n",
       "\n",
       "[5 rows x 21 columns]"
      ],
      "text/html": [
       "<div>\n",
       "<style scoped>\n",
       "    .dataframe tbody tr th:only-of-type {\n",
       "        vertical-align: middle;\n",
       "    }\n",
       "\n",
       "    .dataframe tbody tr th {\n",
       "        vertical-align: top;\n",
       "    }\n",
       "\n",
       "    .dataframe thead th {\n",
       "        text-align: right;\n",
       "    }\n",
       "</style>\n",
       "<table border=\"1\" class=\"dataframe\">\n",
       "  <thead>\n",
       "    <tr style=\"text-align: right;\">\n",
       "      <th></th>\n",
       "      <th>Row ID</th>\n",
       "      <th>Order ID</th>\n",
       "      <th>Order Date</th>\n",
       "      <th>Ship Date</th>\n",
       "      <th>Ship Mode</th>\n",
       "      <th>Customer ID</th>\n",
       "      <th>Customer Name</th>\n",
       "      <th>Segment</th>\n",
       "      <th>Country</th>\n",
       "      <th>City</th>\n",
       "      <th>...</th>\n",
       "      <th>Postal Code</th>\n",
       "      <th>Region</th>\n",
       "      <th>Product ID</th>\n",
       "      <th>Category</th>\n",
       "      <th>Sub-Category</th>\n",
       "      <th>Product Name</th>\n",
       "      <th>Sales</th>\n",
       "      <th>Quantity</th>\n",
       "      <th>Discount</th>\n",
       "      <th>Profit</th>\n",
       "    </tr>\n",
       "  </thead>\n",
       "  <tbody>\n",
       "    <tr>\n",
       "      <th>0</th>\n",
       "      <td>1</td>\n",
       "      <td>CA-2013-152156</td>\n",
       "      <td>09-11-2013</td>\n",
       "      <td>12-11-2013</td>\n",
       "      <td>Second Class</td>\n",
       "      <td>CG-12520</td>\n",
       "      <td>Claire Gute</td>\n",
       "      <td>Consumer</td>\n",
       "      <td>United States</td>\n",
       "      <td>Henderson</td>\n",
       "      <td>...</td>\n",
       "      <td>42420</td>\n",
       "      <td>South</td>\n",
       "      <td>FUR-BO-10001798</td>\n",
       "      <td>Furniture</td>\n",
       "      <td>Bookcases</td>\n",
       "      <td>Bush Somerset Collection Bookcase</td>\n",
       "      <td>261.9600</td>\n",
       "      <td>2</td>\n",
       "      <td>0.00</td>\n",
       "      <td>41.9136</td>\n",
       "    </tr>\n",
       "    <tr>\n",
       "      <th>1</th>\n",
       "      <td>2</td>\n",
       "      <td>CA-2013-152156</td>\n",
       "      <td>09-11-2013</td>\n",
       "      <td>12-11-2013</td>\n",
       "      <td>Second Class</td>\n",
       "      <td>CG-12520</td>\n",
       "      <td>Claire Gute</td>\n",
       "      <td>Consumer</td>\n",
       "      <td>United States</td>\n",
       "      <td>Henderson</td>\n",
       "      <td>...</td>\n",
       "      <td>42420</td>\n",
       "      <td>South</td>\n",
       "      <td>FUR-CH-10000454</td>\n",
       "      <td>Furniture</td>\n",
       "      <td>Chairs</td>\n",
       "      <td>Hon Deluxe Fabric Upholstered Stacking Chairs,...</td>\n",
       "      <td>731.9400</td>\n",
       "      <td>3</td>\n",
       "      <td>0.00</td>\n",
       "      <td>219.5820</td>\n",
       "    </tr>\n",
       "    <tr>\n",
       "      <th>2</th>\n",
       "      <td>3</td>\n",
       "      <td>CA-2013-138688</td>\n",
       "      <td>13-06-2013</td>\n",
       "      <td>17-06-2013</td>\n",
       "      <td>Second Class</td>\n",
       "      <td>DV-13045</td>\n",
       "      <td>Darrin Van Huff</td>\n",
       "      <td>Corporate</td>\n",
       "      <td>United States</td>\n",
       "      <td>Los Angeles</td>\n",
       "      <td>...</td>\n",
       "      <td>90036</td>\n",
       "      <td>West</td>\n",
       "      <td>OFF-LA-10000240</td>\n",
       "      <td>Office Supplies</td>\n",
       "      <td>Labels</td>\n",
       "      <td>Self-Adhesive Address Labels for Typewriters b...</td>\n",
       "      <td>14.6200</td>\n",
       "      <td>2</td>\n",
       "      <td>0.00</td>\n",
       "      <td>6.8714</td>\n",
       "    </tr>\n",
       "    <tr>\n",
       "      <th>3</th>\n",
       "      <td>4</td>\n",
       "      <td>US-2012-108966</td>\n",
       "      <td>11-10-2012</td>\n",
       "      <td>18-10-2012</td>\n",
       "      <td>Standard Class</td>\n",
       "      <td>SO-20335</td>\n",
       "      <td>Sean O'Donnell</td>\n",
       "      <td>Consumer</td>\n",
       "      <td>United States</td>\n",
       "      <td>Fort Lauderdale</td>\n",
       "      <td>...</td>\n",
       "      <td>33311</td>\n",
       "      <td>South</td>\n",
       "      <td>FUR-TA-10000577</td>\n",
       "      <td>Furniture</td>\n",
       "      <td>Tables</td>\n",
       "      <td>Bretford CR4500 Series Slim Rectangular Table</td>\n",
       "      <td>957.5775</td>\n",
       "      <td>5</td>\n",
       "      <td>0.45</td>\n",
       "      <td>-383.0310</td>\n",
       "    </tr>\n",
       "    <tr>\n",
       "      <th>4</th>\n",
       "      <td>5</td>\n",
       "      <td>US-2012-108966</td>\n",
       "      <td>11-10-2012</td>\n",
       "      <td>18-10-2012</td>\n",
       "      <td>Standard Class</td>\n",
       "      <td>SO-20335</td>\n",
       "      <td>Sean O'Donnell</td>\n",
       "      <td>Consumer</td>\n",
       "      <td>United States</td>\n",
       "      <td>Fort Lauderdale</td>\n",
       "      <td>...</td>\n",
       "      <td>33311</td>\n",
       "      <td>South</td>\n",
       "      <td>OFF-ST-10000760</td>\n",
       "      <td>Office Supplies</td>\n",
       "      <td>Storage</td>\n",
       "      <td>Eldon Fold 'N Roll Cart System</td>\n",
       "      <td>22.3680</td>\n",
       "      <td>2</td>\n",
       "      <td>0.20</td>\n",
       "      <td>2.5164</td>\n",
       "    </tr>\n",
       "  </tbody>\n",
       "</table>\n",
       "<p>5 rows × 21 columns</p>\n",
       "</div>"
      ]
     },
     "execution_count": 102,
     "metadata": {},
     "output_type": "execute_result"
    }
   ],
   "execution_count": 102
  },
  {
   "metadata": {},
   "cell_type": "markdown",
   "source": "Datumsspalten in Datetime",
   "id": "7e2a4425c3d95c9a"
  },
  {
   "metadata": {
    "ExecuteTime": {
     "end_time": "2025-09-10T10:00:43.538639Z",
     "start_time": "2025-09-10T10:00:43.524031Z"
    }
   },
   "cell_type": "code",
   "source": [
    "superstore[\"Order Date\"] = pd.to_datetime(superstore[\"Order Date\"], dayfirst=True)\n",
    "superstore[\"Ship Date\"] = pd.to_datetime(superstore[\"Ship Date\"], dayfirst=True)\n"
   ],
   "id": "ca13b4c93a1ff884",
   "outputs": [],
   "execution_count": 103
  },
  {
   "metadata": {
    "ExecuteTime": {
     "end_time": "2025-09-10T10:00:43.655197Z",
     "start_time": "2025-09-10T10:00:43.640132Z"
    }
   },
   "cell_type": "code",
   "source": "superstore.head()",
   "id": "47870158cb8b7028",
   "outputs": [
    {
     "data": {
      "text/plain": [
       "   Row ID        Order ID Order Date  Ship Date       Ship Mode Customer ID  \\\n",
       "0       1  CA-2013-152156 2013-11-09 2013-11-12    Second Class    CG-12520   \n",
       "1       2  CA-2013-152156 2013-11-09 2013-11-12    Second Class    CG-12520   \n",
       "2       3  CA-2013-138688 2013-06-13 2013-06-17    Second Class    DV-13045   \n",
       "3       4  US-2012-108966 2012-10-11 2012-10-18  Standard Class    SO-20335   \n",
       "4       5  US-2012-108966 2012-10-11 2012-10-18  Standard Class    SO-20335   \n",
       "\n",
       "     Customer Name    Segment        Country             City  ...  \\\n",
       "0      Claire Gute   Consumer  United States        Henderson  ...   \n",
       "1      Claire Gute   Consumer  United States        Henderson  ...   \n",
       "2  Darrin Van Huff  Corporate  United States      Los Angeles  ...   \n",
       "3   Sean O'Donnell   Consumer  United States  Fort Lauderdale  ...   \n",
       "4   Sean O'Donnell   Consumer  United States  Fort Lauderdale  ...   \n",
       "\n",
       "  Postal Code  Region       Product ID         Category Sub-Category  \\\n",
       "0       42420   South  FUR-BO-10001798        Furniture    Bookcases   \n",
       "1       42420   South  FUR-CH-10000454        Furniture       Chairs   \n",
       "2       90036    West  OFF-LA-10000240  Office Supplies       Labels   \n",
       "3       33311   South  FUR-TA-10000577        Furniture       Tables   \n",
       "4       33311   South  OFF-ST-10000760  Office Supplies      Storage   \n",
       "\n",
       "                                        Product Name     Sales  Quantity  \\\n",
       "0                  Bush Somerset Collection Bookcase  261.9600         2   \n",
       "1  Hon Deluxe Fabric Upholstered Stacking Chairs,...  731.9400         3   \n",
       "2  Self-Adhesive Address Labels for Typewriters b...   14.6200         2   \n",
       "3      Bretford CR4500 Series Slim Rectangular Table  957.5775         5   \n",
       "4                     Eldon Fold 'N Roll Cart System   22.3680         2   \n",
       "\n",
       "   Discount    Profit  \n",
       "0      0.00   41.9136  \n",
       "1      0.00  219.5820  \n",
       "2      0.00    6.8714  \n",
       "3      0.45 -383.0310  \n",
       "4      0.20    2.5164  \n",
       "\n",
       "[5 rows x 21 columns]"
      ],
      "text/html": [
       "<div>\n",
       "<style scoped>\n",
       "    .dataframe tbody tr th:only-of-type {\n",
       "        vertical-align: middle;\n",
       "    }\n",
       "\n",
       "    .dataframe tbody tr th {\n",
       "        vertical-align: top;\n",
       "    }\n",
       "\n",
       "    .dataframe thead th {\n",
       "        text-align: right;\n",
       "    }\n",
       "</style>\n",
       "<table border=\"1\" class=\"dataframe\">\n",
       "  <thead>\n",
       "    <tr style=\"text-align: right;\">\n",
       "      <th></th>\n",
       "      <th>Row ID</th>\n",
       "      <th>Order ID</th>\n",
       "      <th>Order Date</th>\n",
       "      <th>Ship Date</th>\n",
       "      <th>Ship Mode</th>\n",
       "      <th>Customer ID</th>\n",
       "      <th>Customer Name</th>\n",
       "      <th>Segment</th>\n",
       "      <th>Country</th>\n",
       "      <th>City</th>\n",
       "      <th>...</th>\n",
       "      <th>Postal Code</th>\n",
       "      <th>Region</th>\n",
       "      <th>Product ID</th>\n",
       "      <th>Category</th>\n",
       "      <th>Sub-Category</th>\n",
       "      <th>Product Name</th>\n",
       "      <th>Sales</th>\n",
       "      <th>Quantity</th>\n",
       "      <th>Discount</th>\n",
       "      <th>Profit</th>\n",
       "    </tr>\n",
       "  </thead>\n",
       "  <tbody>\n",
       "    <tr>\n",
       "      <th>0</th>\n",
       "      <td>1</td>\n",
       "      <td>CA-2013-152156</td>\n",
       "      <td>2013-11-09</td>\n",
       "      <td>2013-11-12</td>\n",
       "      <td>Second Class</td>\n",
       "      <td>CG-12520</td>\n",
       "      <td>Claire Gute</td>\n",
       "      <td>Consumer</td>\n",
       "      <td>United States</td>\n",
       "      <td>Henderson</td>\n",
       "      <td>...</td>\n",
       "      <td>42420</td>\n",
       "      <td>South</td>\n",
       "      <td>FUR-BO-10001798</td>\n",
       "      <td>Furniture</td>\n",
       "      <td>Bookcases</td>\n",
       "      <td>Bush Somerset Collection Bookcase</td>\n",
       "      <td>261.9600</td>\n",
       "      <td>2</td>\n",
       "      <td>0.00</td>\n",
       "      <td>41.9136</td>\n",
       "    </tr>\n",
       "    <tr>\n",
       "      <th>1</th>\n",
       "      <td>2</td>\n",
       "      <td>CA-2013-152156</td>\n",
       "      <td>2013-11-09</td>\n",
       "      <td>2013-11-12</td>\n",
       "      <td>Second Class</td>\n",
       "      <td>CG-12520</td>\n",
       "      <td>Claire Gute</td>\n",
       "      <td>Consumer</td>\n",
       "      <td>United States</td>\n",
       "      <td>Henderson</td>\n",
       "      <td>...</td>\n",
       "      <td>42420</td>\n",
       "      <td>South</td>\n",
       "      <td>FUR-CH-10000454</td>\n",
       "      <td>Furniture</td>\n",
       "      <td>Chairs</td>\n",
       "      <td>Hon Deluxe Fabric Upholstered Stacking Chairs,...</td>\n",
       "      <td>731.9400</td>\n",
       "      <td>3</td>\n",
       "      <td>0.00</td>\n",
       "      <td>219.5820</td>\n",
       "    </tr>\n",
       "    <tr>\n",
       "      <th>2</th>\n",
       "      <td>3</td>\n",
       "      <td>CA-2013-138688</td>\n",
       "      <td>2013-06-13</td>\n",
       "      <td>2013-06-17</td>\n",
       "      <td>Second Class</td>\n",
       "      <td>DV-13045</td>\n",
       "      <td>Darrin Van Huff</td>\n",
       "      <td>Corporate</td>\n",
       "      <td>United States</td>\n",
       "      <td>Los Angeles</td>\n",
       "      <td>...</td>\n",
       "      <td>90036</td>\n",
       "      <td>West</td>\n",
       "      <td>OFF-LA-10000240</td>\n",
       "      <td>Office Supplies</td>\n",
       "      <td>Labels</td>\n",
       "      <td>Self-Adhesive Address Labels for Typewriters b...</td>\n",
       "      <td>14.6200</td>\n",
       "      <td>2</td>\n",
       "      <td>0.00</td>\n",
       "      <td>6.8714</td>\n",
       "    </tr>\n",
       "    <tr>\n",
       "      <th>3</th>\n",
       "      <td>4</td>\n",
       "      <td>US-2012-108966</td>\n",
       "      <td>2012-10-11</td>\n",
       "      <td>2012-10-18</td>\n",
       "      <td>Standard Class</td>\n",
       "      <td>SO-20335</td>\n",
       "      <td>Sean O'Donnell</td>\n",
       "      <td>Consumer</td>\n",
       "      <td>United States</td>\n",
       "      <td>Fort Lauderdale</td>\n",
       "      <td>...</td>\n",
       "      <td>33311</td>\n",
       "      <td>South</td>\n",
       "      <td>FUR-TA-10000577</td>\n",
       "      <td>Furniture</td>\n",
       "      <td>Tables</td>\n",
       "      <td>Bretford CR4500 Series Slim Rectangular Table</td>\n",
       "      <td>957.5775</td>\n",
       "      <td>5</td>\n",
       "      <td>0.45</td>\n",
       "      <td>-383.0310</td>\n",
       "    </tr>\n",
       "    <tr>\n",
       "      <th>4</th>\n",
       "      <td>5</td>\n",
       "      <td>US-2012-108966</td>\n",
       "      <td>2012-10-11</td>\n",
       "      <td>2012-10-18</td>\n",
       "      <td>Standard Class</td>\n",
       "      <td>SO-20335</td>\n",
       "      <td>Sean O'Donnell</td>\n",
       "      <td>Consumer</td>\n",
       "      <td>United States</td>\n",
       "      <td>Fort Lauderdale</td>\n",
       "      <td>...</td>\n",
       "      <td>33311</td>\n",
       "      <td>South</td>\n",
       "      <td>OFF-ST-10000760</td>\n",
       "      <td>Office Supplies</td>\n",
       "      <td>Storage</td>\n",
       "      <td>Eldon Fold 'N Roll Cart System</td>\n",
       "      <td>22.3680</td>\n",
       "      <td>2</td>\n",
       "      <td>0.20</td>\n",
       "      <td>2.5164</td>\n",
       "    </tr>\n",
       "  </tbody>\n",
       "</table>\n",
       "<p>5 rows × 21 columns</p>\n",
       "</div>"
      ]
     },
     "execution_count": 104,
     "metadata": {},
     "output_type": "execute_result"
    }
   ],
   "execution_count": 104
  },
  {
   "metadata": {
    "ExecuteTime": {
     "end_time": "2025-09-10T10:00:43.801598Z",
     "start_time": "2025-09-10T10:00:43.788466Z"
    }
   },
   "cell_type": "code",
   "source": "superstore.info()",
   "id": "69bb95da7df6eeea",
   "outputs": [
    {
     "name": "stdout",
     "output_type": "stream",
     "text": [
      "<class 'pandas.core.frame.DataFrame'>\n",
      "RangeIndex: 9994 entries, 0 to 9993\n",
      "Data columns (total 21 columns):\n",
      " #   Column         Non-Null Count  Dtype         \n",
      "---  ------         --------------  -----         \n",
      " 0   Row ID         9994 non-null   int64         \n",
      " 1   Order ID       9994 non-null   object        \n",
      " 2   Order Date     9994 non-null   datetime64[ns]\n",
      " 3   Ship Date      9994 non-null   datetime64[ns]\n",
      " 4   Ship Mode      9994 non-null   object        \n",
      " 5   Customer ID    9994 non-null   object        \n",
      " 6   Customer Name  9994 non-null   object        \n",
      " 7   Segment        9994 non-null   object        \n",
      " 8   Country        9994 non-null   object        \n",
      " 9   City           9994 non-null   object        \n",
      " 10  State          9994 non-null   object        \n",
      " 11  Postal Code    9994 non-null   int64         \n",
      " 12  Region         9994 non-null   object        \n",
      " 13  Product ID     9994 non-null   object        \n",
      " 14  Category       9994 non-null   object        \n",
      " 15  Sub-Category   9994 non-null   object        \n",
      " 16  Product Name   9994 non-null   object        \n",
      " 17  Sales          9994 non-null   float64       \n",
      " 18  Quantity       9994 non-null   int64         \n",
      " 19  Discount       9994 non-null   float64       \n",
      " 20  Profit         9994 non-null   float64       \n",
      "dtypes: datetime64[ns](2), float64(3), int64(3), object(13)\n",
      "memory usage: 1.6+ MB\n"
     ]
    }
   ],
   "execution_count": 105
  },
  {
   "metadata": {},
   "cell_type": "markdown",
   "source": "Löschen der Spalten \"Row ID\", \"Country\", \"Costumer Name\", Axis =1 um Spalte auszuwählen, inplace=True um nicht nur eine Kopie zu erstellen",
   "id": "3ef62618486709b9"
  },
  {
   "metadata": {
    "ExecuteTime": {
     "end_time": "2025-09-10T10:00:43.952410Z",
     "start_time": "2025-09-10T10:00:43.946089Z"
    }
   },
   "cell_type": "code",
   "source": "superstore.drop(\"Row ID\",axis=1, inplace=True)",
   "id": "b4e76e48450d12c4",
   "outputs": [],
   "execution_count": 106
  },
  {
   "metadata": {
    "ExecuteTime": {
     "end_time": "2025-09-10T10:00:44.053483Z",
     "start_time": "2025-09-10T10:00:44.047508Z"
    }
   },
   "cell_type": "code",
   "source": "superstore.drop(\"Country\",axis=1, inplace=True)",
   "id": "cb0131ac1e51dd86",
   "outputs": [],
   "execution_count": 107
  },
  {
   "metadata": {
    "ExecuteTime": {
     "end_time": "2025-09-10T10:00:44.087779Z",
     "start_time": "2025-09-10T10:00:44.082706Z"
    }
   },
   "cell_type": "code",
   "source": "superstore.drop(\"Customer Name\",axis=1, inplace=True)",
   "id": "fd7c26846871757a",
   "outputs": [],
   "execution_count": 108
  },
  {
   "metadata": {
    "ExecuteTime": {
     "end_time": "2025-09-10T10:00:44.119575Z",
     "start_time": "2025-09-10T10:00:44.107891Z"
    }
   },
   "cell_type": "code",
   "source": "superstore.head()",
   "id": "72c249a975d9ce3c",
   "outputs": [
    {
     "data": {
      "text/plain": [
       "         Order ID Order Date  Ship Date       Ship Mode Customer ID  \\\n",
       "0  CA-2013-152156 2013-11-09 2013-11-12    Second Class    CG-12520   \n",
       "1  CA-2013-152156 2013-11-09 2013-11-12    Second Class    CG-12520   \n",
       "2  CA-2013-138688 2013-06-13 2013-06-17    Second Class    DV-13045   \n",
       "3  US-2012-108966 2012-10-11 2012-10-18  Standard Class    SO-20335   \n",
       "4  US-2012-108966 2012-10-11 2012-10-18  Standard Class    SO-20335   \n",
       "\n",
       "     Segment             City       State  Postal Code Region  \\\n",
       "0   Consumer        Henderson    Kentucky        42420  South   \n",
       "1   Consumer        Henderson    Kentucky        42420  South   \n",
       "2  Corporate      Los Angeles  California        90036   West   \n",
       "3   Consumer  Fort Lauderdale     Florida        33311  South   \n",
       "4   Consumer  Fort Lauderdale     Florida        33311  South   \n",
       "\n",
       "        Product ID         Category Sub-Category  \\\n",
       "0  FUR-BO-10001798        Furniture    Bookcases   \n",
       "1  FUR-CH-10000454        Furniture       Chairs   \n",
       "2  OFF-LA-10000240  Office Supplies       Labels   \n",
       "3  FUR-TA-10000577        Furniture       Tables   \n",
       "4  OFF-ST-10000760  Office Supplies      Storage   \n",
       "\n",
       "                                        Product Name     Sales  Quantity  \\\n",
       "0                  Bush Somerset Collection Bookcase  261.9600         2   \n",
       "1  Hon Deluxe Fabric Upholstered Stacking Chairs,...  731.9400         3   \n",
       "2  Self-Adhesive Address Labels for Typewriters b...   14.6200         2   \n",
       "3      Bretford CR4500 Series Slim Rectangular Table  957.5775         5   \n",
       "4                     Eldon Fold 'N Roll Cart System   22.3680         2   \n",
       "\n",
       "   Discount    Profit  \n",
       "0      0.00   41.9136  \n",
       "1      0.00  219.5820  \n",
       "2      0.00    6.8714  \n",
       "3      0.45 -383.0310  \n",
       "4      0.20    2.5164  "
      ],
      "text/html": [
       "<div>\n",
       "<style scoped>\n",
       "    .dataframe tbody tr th:only-of-type {\n",
       "        vertical-align: middle;\n",
       "    }\n",
       "\n",
       "    .dataframe tbody tr th {\n",
       "        vertical-align: top;\n",
       "    }\n",
       "\n",
       "    .dataframe thead th {\n",
       "        text-align: right;\n",
       "    }\n",
       "</style>\n",
       "<table border=\"1\" class=\"dataframe\">\n",
       "  <thead>\n",
       "    <tr style=\"text-align: right;\">\n",
       "      <th></th>\n",
       "      <th>Order ID</th>\n",
       "      <th>Order Date</th>\n",
       "      <th>Ship Date</th>\n",
       "      <th>Ship Mode</th>\n",
       "      <th>Customer ID</th>\n",
       "      <th>Segment</th>\n",
       "      <th>City</th>\n",
       "      <th>State</th>\n",
       "      <th>Postal Code</th>\n",
       "      <th>Region</th>\n",
       "      <th>Product ID</th>\n",
       "      <th>Category</th>\n",
       "      <th>Sub-Category</th>\n",
       "      <th>Product Name</th>\n",
       "      <th>Sales</th>\n",
       "      <th>Quantity</th>\n",
       "      <th>Discount</th>\n",
       "      <th>Profit</th>\n",
       "    </tr>\n",
       "  </thead>\n",
       "  <tbody>\n",
       "    <tr>\n",
       "      <th>0</th>\n",
       "      <td>CA-2013-152156</td>\n",
       "      <td>2013-11-09</td>\n",
       "      <td>2013-11-12</td>\n",
       "      <td>Second Class</td>\n",
       "      <td>CG-12520</td>\n",
       "      <td>Consumer</td>\n",
       "      <td>Henderson</td>\n",
       "      <td>Kentucky</td>\n",
       "      <td>42420</td>\n",
       "      <td>South</td>\n",
       "      <td>FUR-BO-10001798</td>\n",
       "      <td>Furniture</td>\n",
       "      <td>Bookcases</td>\n",
       "      <td>Bush Somerset Collection Bookcase</td>\n",
       "      <td>261.9600</td>\n",
       "      <td>2</td>\n",
       "      <td>0.00</td>\n",
       "      <td>41.9136</td>\n",
       "    </tr>\n",
       "    <tr>\n",
       "      <th>1</th>\n",
       "      <td>CA-2013-152156</td>\n",
       "      <td>2013-11-09</td>\n",
       "      <td>2013-11-12</td>\n",
       "      <td>Second Class</td>\n",
       "      <td>CG-12520</td>\n",
       "      <td>Consumer</td>\n",
       "      <td>Henderson</td>\n",
       "      <td>Kentucky</td>\n",
       "      <td>42420</td>\n",
       "      <td>South</td>\n",
       "      <td>FUR-CH-10000454</td>\n",
       "      <td>Furniture</td>\n",
       "      <td>Chairs</td>\n",
       "      <td>Hon Deluxe Fabric Upholstered Stacking Chairs,...</td>\n",
       "      <td>731.9400</td>\n",
       "      <td>3</td>\n",
       "      <td>0.00</td>\n",
       "      <td>219.5820</td>\n",
       "    </tr>\n",
       "    <tr>\n",
       "      <th>2</th>\n",
       "      <td>CA-2013-138688</td>\n",
       "      <td>2013-06-13</td>\n",
       "      <td>2013-06-17</td>\n",
       "      <td>Second Class</td>\n",
       "      <td>DV-13045</td>\n",
       "      <td>Corporate</td>\n",
       "      <td>Los Angeles</td>\n",
       "      <td>California</td>\n",
       "      <td>90036</td>\n",
       "      <td>West</td>\n",
       "      <td>OFF-LA-10000240</td>\n",
       "      <td>Office Supplies</td>\n",
       "      <td>Labels</td>\n",
       "      <td>Self-Adhesive Address Labels for Typewriters b...</td>\n",
       "      <td>14.6200</td>\n",
       "      <td>2</td>\n",
       "      <td>0.00</td>\n",
       "      <td>6.8714</td>\n",
       "    </tr>\n",
       "    <tr>\n",
       "      <th>3</th>\n",
       "      <td>US-2012-108966</td>\n",
       "      <td>2012-10-11</td>\n",
       "      <td>2012-10-18</td>\n",
       "      <td>Standard Class</td>\n",
       "      <td>SO-20335</td>\n",
       "      <td>Consumer</td>\n",
       "      <td>Fort Lauderdale</td>\n",
       "      <td>Florida</td>\n",
       "      <td>33311</td>\n",
       "      <td>South</td>\n",
       "      <td>FUR-TA-10000577</td>\n",
       "      <td>Furniture</td>\n",
       "      <td>Tables</td>\n",
       "      <td>Bretford CR4500 Series Slim Rectangular Table</td>\n",
       "      <td>957.5775</td>\n",
       "      <td>5</td>\n",
       "      <td>0.45</td>\n",
       "      <td>-383.0310</td>\n",
       "    </tr>\n",
       "    <tr>\n",
       "      <th>4</th>\n",
       "      <td>US-2012-108966</td>\n",
       "      <td>2012-10-11</td>\n",
       "      <td>2012-10-18</td>\n",
       "      <td>Standard Class</td>\n",
       "      <td>SO-20335</td>\n",
       "      <td>Consumer</td>\n",
       "      <td>Fort Lauderdale</td>\n",
       "      <td>Florida</td>\n",
       "      <td>33311</td>\n",
       "      <td>South</td>\n",
       "      <td>OFF-ST-10000760</td>\n",
       "      <td>Office Supplies</td>\n",
       "      <td>Storage</td>\n",
       "      <td>Eldon Fold 'N Roll Cart System</td>\n",
       "      <td>22.3680</td>\n",
       "      <td>2</td>\n",
       "      <td>0.20</td>\n",
       "      <td>2.5164</td>\n",
       "    </tr>\n",
       "  </tbody>\n",
       "</table>\n",
       "</div>"
      ]
     },
     "execution_count": 109,
     "metadata": {},
     "output_type": "execute_result"
    }
   ],
   "execution_count": 109
  },
  {
   "metadata": {},
   "cell_type": "markdown",
   "source": "Neue Spalte \"Price per Piece\"",
   "id": "7b0c47af4144a4e1"
  },
  {
   "metadata": {
    "ExecuteTime": {
     "end_time": "2025-09-10T10:00:44.196874Z",
     "start_time": "2025-09-10T10:00:44.193501Z"
    }
   },
   "cell_type": "code",
   "source": "superstore[\"Price per Piece\"] = superstore[\"Sales\"]/superstore[\"Quantity\"]",
   "id": "20b79762fc1a9c87",
   "outputs": [],
   "execution_count": 110
  },
  {
   "metadata": {},
   "cell_type": "markdown",
   "source": "Neue Spalte \"Profit per Piece\"",
   "id": "42ce5bf1b621e531"
  },
  {
   "metadata": {
    "ExecuteTime": {
     "end_time": "2025-09-10T10:00:44.287363Z",
     "start_time": "2025-09-10T10:00:44.282790Z"
    }
   },
   "cell_type": "code",
   "source": "superstore[\"Profit per Piece\"] = superstore[\"Profit\"]/superstore[\"Quantity\"]",
   "id": "bcde608650f8c134",
   "outputs": [],
   "execution_count": 111
  },
  {
   "metadata": {},
   "cell_type": "markdown",
   "source": "Product Brand (haben wir entschieden, dass wir das erstmal rauslassen)",
   "id": "3f6b45339a720d4"
  },
  {
   "metadata": {
    "ExecuteTime": {
     "end_time": "2025-09-10T10:00:44.366046Z",
     "start_time": "2025-09-10T10:00:44.358292Z"
    }
   },
   "cell_type": "code",
   "source": [
    "pos = superstore.columns.get_loc(\"Order Date\") + 1\n",
    "superstore.insert(pos, \"Order Day\", superstore[\"Order Date\"].dt.day)\n",
    "pos = superstore.columns.get_loc(\"Order Date\") + 2\n",
    "superstore.insert(pos, \"Order Weekday\", superstore[\"Order Date\"].dt.day_name())"
   ],
   "id": "6e35c4f69975b29b",
   "outputs": [],
   "execution_count": 112
  },
  {
   "metadata": {
    "ExecuteTime": {
     "end_time": "2025-09-10T10:00:44.405095Z",
     "start_time": "2025-09-10T10:00:44.388829Z"
    }
   },
   "cell_type": "code",
   "source": "superstore.head()",
   "id": "8f7dee13384a9543",
   "outputs": [
    {
     "data": {
      "text/plain": [
       "         Order ID Order Date  Order Day Order Weekday  Ship Date  \\\n",
       "0  CA-2013-152156 2013-11-09          9      Saturday 2013-11-12   \n",
       "1  CA-2013-152156 2013-11-09          9      Saturday 2013-11-12   \n",
       "2  CA-2013-138688 2013-06-13         13      Thursday 2013-06-17   \n",
       "3  US-2012-108966 2012-10-11         11      Thursday 2012-10-18   \n",
       "4  US-2012-108966 2012-10-11         11      Thursday 2012-10-18   \n",
       "\n",
       "        Ship Mode Customer ID    Segment             City       State  ...  \\\n",
       "0    Second Class    CG-12520   Consumer        Henderson    Kentucky  ...   \n",
       "1    Second Class    CG-12520   Consumer        Henderson    Kentucky  ...   \n",
       "2    Second Class    DV-13045  Corporate      Los Angeles  California  ...   \n",
       "3  Standard Class    SO-20335   Consumer  Fort Lauderdale     Florida  ...   \n",
       "4  Standard Class    SO-20335   Consumer  Fort Lauderdale     Florida  ...   \n",
       "\n",
       "        Product ID         Category Sub-Category  \\\n",
       "0  FUR-BO-10001798        Furniture    Bookcases   \n",
       "1  FUR-CH-10000454        Furniture       Chairs   \n",
       "2  OFF-LA-10000240  Office Supplies       Labels   \n",
       "3  FUR-TA-10000577        Furniture       Tables   \n",
       "4  OFF-ST-10000760  Office Supplies      Storage   \n",
       "\n",
       "                                        Product Name     Sales Quantity  \\\n",
       "0                  Bush Somerset Collection Bookcase  261.9600        2   \n",
       "1  Hon Deluxe Fabric Upholstered Stacking Chairs,...  731.9400        3   \n",
       "2  Self-Adhesive Address Labels for Typewriters b...   14.6200        2   \n",
       "3      Bretford CR4500 Series Slim Rectangular Table  957.5775        5   \n",
       "4                     Eldon Fold 'N Roll Cart System   22.3680        2   \n",
       "\n",
       "   Discount    Profit  Price per Piece  Profit per Piece  \n",
       "0      0.00   41.9136         130.9800           20.9568  \n",
       "1      0.00  219.5820         243.9800           73.1940  \n",
       "2      0.00    6.8714           7.3100            3.4357  \n",
       "3      0.45 -383.0310         191.5155          -76.6062  \n",
       "4      0.20    2.5164          11.1840            1.2582  \n",
       "\n",
       "[5 rows x 22 columns]"
      ],
      "text/html": [
       "<div>\n",
       "<style scoped>\n",
       "    .dataframe tbody tr th:only-of-type {\n",
       "        vertical-align: middle;\n",
       "    }\n",
       "\n",
       "    .dataframe tbody tr th {\n",
       "        vertical-align: top;\n",
       "    }\n",
       "\n",
       "    .dataframe thead th {\n",
       "        text-align: right;\n",
       "    }\n",
       "</style>\n",
       "<table border=\"1\" class=\"dataframe\">\n",
       "  <thead>\n",
       "    <tr style=\"text-align: right;\">\n",
       "      <th></th>\n",
       "      <th>Order ID</th>\n",
       "      <th>Order Date</th>\n",
       "      <th>Order Day</th>\n",
       "      <th>Order Weekday</th>\n",
       "      <th>Ship Date</th>\n",
       "      <th>Ship Mode</th>\n",
       "      <th>Customer ID</th>\n",
       "      <th>Segment</th>\n",
       "      <th>City</th>\n",
       "      <th>State</th>\n",
       "      <th>...</th>\n",
       "      <th>Product ID</th>\n",
       "      <th>Category</th>\n",
       "      <th>Sub-Category</th>\n",
       "      <th>Product Name</th>\n",
       "      <th>Sales</th>\n",
       "      <th>Quantity</th>\n",
       "      <th>Discount</th>\n",
       "      <th>Profit</th>\n",
       "      <th>Price per Piece</th>\n",
       "      <th>Profit per Piece</th>\n",
       "    </tr>\n",
       "  </thead>\n",
       "  <tbody>\n",
       "    <tr>\n",
       "      <th>0</th>\n",
       "      <td>CA-2013-152156</td>\n",
       "      <td>2013-11-09</td>\n",
       "      <td>9</td>\n",
       "      <td>Saturday</td>\n",
       "      <td>2013-11-12</td>\n",
       "      <td>Second Class</td>\n",
       "      <td>CG-12520</td>\n",
       "      <td>Consumer</td>\n",
       "      <td>Henderson</td>\n",
       "      <td>Kentucky</td>\n",
       "      <td>...</td>\n",
       "      <td>FUR-BO-10001798</td>\n",
       "      <td>Furniture</td>\n",
       "      <td>Bookcases</td>\n",
       "      <td>Bush Somerset Collection Bookcase</td>\n",
       "      <td>261.9600</td>\n",
       "      <td>2</td>\n",
       "      <td>0.00</td>\n",
       "      <td>41.9136</td>\n",
       "      <td>130.9800</td>\n",
       "      <td>20.9568</td>\n",
       "    </tr>\n",
       "    <tr>\n",
       "      <th>1</th>\n",
       "      <td>CA-2013-152156</td>\n",
       "      <td>2013-11-09</td>\n",
       "      <td>9</td>\n",
       "      <td>Saturday</td>\n",
       "      <td>2013-11-12</td>\n",
       "      <td>Second Class</td>\n",
       "      <td>CG-12520</td>\n",
       "      <td>Consumer</td>\n",
       "      <td>Henderson</td>\n",
       "      <td>Kentucky</td>\n",
       "      <td>...</td>\n",
       "      <td>FUR-CH-10000454</td>\n",
       "      <td>Furniture</td>\n",
       "      <td>Chairs</td>\n",
       "      <td>Hon Deluxe Fabric Upholstered Stacking Chairs,...</td>\n",
       "      <td>731.9400</td>\n",
       "      <td>3</td>\n",
       "      <td>0.00</td>\n",
       "      <td>219.5820</td>\n",
       "      <td>243.9800</td>\n",
       "      <td>73.1940</td>\n",
       "    </tr>\n",
       "    <tr>\n",
       "      <th>2</th>\n",
       "      <td>CA-2013-138688</td>\n",
       "      <td>2013-06-13</td>\n",
       "      <td>13</td>\n",
       "      <td>Thursday</td>\n",
       "      <td>2013-06-17</td>\n",
       "      <td>Second Class</td>\n",
       "      <td>DV-13045</td>\n",
       "      <td>Corporate</td>\n",
       "      <td>Los Angeles</td>\n",
       "      <td>California</td>\n",
       "      <td>...</td>\n",
       "      <td>OFF-LA-10000240</td>\n",
       "      <td>Office Supplies</td>\n",
       "      <td>Labels</td>\n",
       "      <td>Self-Adhesive Address Labels for Typewriters b...</td>\n",
       "      <td>14.6200</td>\n",
       "      <td>2</td>\n",
       "      <td>0.00</td>\n",
       "      <td>6.8714</td>\n",
       "      <td>7.3100</td>\n",
       "      <td>3.4357</td>\n",
       "    </tr>\n",
       "    <tr>\n",
       "      <th>3</th>\n",
       "      <td>US-2012-108966</td>\n",
       "      <td>2012-10-11</td>\n",
       "      <td>11</td>\n",
       "      <td>Thursday</td>\n",
       "      <td>2012-10-18</td>\n",
       "      <td>Standard Class</td>\n",
       "      <td>SO-20335</td>\n",
       "      <td>Consumer</td>\n",
       "      <td>Fort Lauderdale</td>\n",
       "      <td>Florida</td>\n",
       "      <td>...</td>\n",
       "      <td>FUR-TA-10000577</td>\n",
       "      <td>Furniture</td>\n",
       "      <td>Tables</td>\n",
       "      <td>Bretford CR4500 Series Slim Rectangular Table</td>\n",
       "      <td>957.5775</td>\n",
       "      <td>5</td>\n",
       "      <td>0.45</td>\n",
       "      <td>-383.0310</td>\n",
       "      <td>191.5155</td>\n",
       "      <td>-76.6062</td>\n",
       "    </tr>\n",
       "    <tr>\n",
       "      <th>4</th>\n",
       "      <td>US-2012-108966</td>\n",
       "      <td>2012-10-11</td>\n",
       "      <td>11</td>\n",
       "      <td>Thursday</td>\n",
       "      <td>2012-10-18</td>\n",
       "      <td>Standard Class</td>\n",
       "      <td>SO-20335</td>\n",
       "      <td>Consumer</td>\n",
       "      <td>Fort Lauderdale</td>\n",
       "      <td>Florida</td>\n",
       "      <td>...</td>\n",
       "      <td>OFF-ST-10000760</td>\n",
       "      <td>Office Supplies</td>\n",
       "      <td>Storage</td>\n",
       "      <td>Eldon Fold 'N Roll Cart System</td>\n",
       "      <td>22.3680</td>\n",
       "      <td>2</td>\n",
       "      <td>0.20</td>\n",
       "      <td>2.5164</td>\n",
       "      <td>11.1840</td>\n",
       "      <td>1.2582</td>\n",
       "    </tr>\n",
       "  </tbody>\n",
       "</table>\n",
       "<p>5 rows × 22 columns</p>\n",
       "</div>"
      ]
     },
     "execution_count": 113,
     "metadata": {},
     "output_type": "execute_result"
    }
   ],
   "execution_count": 113
  },
  {
   "metadata": {
    "ExecuteTime": {
     "end_time": "2025-09-10T10:00:44.465168Z",
     "start_time": "2025-09-10T10:00:44.457753Z"
    }
   },
   "cell_type": "code",
   "source": [
    "pos = superstore.columns.get_loc(\"Order Date\") + 3\n",
    "superstore.insert(pos, \"Order Month\", superstore[\"Order Date\"].dt.month)\n",
    "pos = superstore.columns.get_loc(\"Order Date\") + 4\n",
    "superstore.insert(pos, \"Order Year\", superstore[\"Order Date\"].dt.year)\n",
    "pos = superstore.columns.get_loc(\"Order Date\") + 5\n",
    "superstore.insert(pos, \"Order Quarter\", superstore[\"Order Date\"].dt.quarter)"
   ],
   "id": "77cc366d04df5579",
   "outputs": [],
   "execution_count": 114
  },
  {
   "metadata": {
    "ExecuteTime": {
     "end_time": "2025-09-10T10:00:44.593353Z",
     "start_time": "2025-09-10T10:00:44.576506Z"
    }
   },
   "cell_type": "code",
   "source": "superstore.head()\n",
   "id": "63706d19fa0e5f85",
   "outputs": [
    {
     "data": {
      "text/plain": [
       "         Order ID Order Date  Order Day Order Weekday  Order Month  \\\n",
       "0  CA-2013-152156 2013-11-09          9      Saturday           11   \n",
       "1  CA-2013-152156 2013-11-09          9      Saturday           11   \n",
       "2  CA-2013-138688 2013-06-13         13      Thursday            6   \n",
       "3  US-2012-108966 2012-10-11         11      Thursday           10   \n",
       "4  US-2012-108966 2012-10-11         11      Thursday           10   \n",
       "\n",
       "   Order Year  Order Quarter  Ship Date       Ship Mode Customer ID  ...  \\\n",
       "0        2013              4 2013-11-12    Second Class    CG-12520  ...   \n",
       "1        2013              4 2013-11-12    Second Class    CG-12520  ...   \n",
       "2        2013              2 2013-06-17    Second Class    DV-13045  ...   \n",
       "3        2012              4 2012-10-18  Standard Class    SO-20335  ...   \n",
       "4        2012              4 2012-10-18  Standard Class    SO-20335  ...   \n",
       "\n",
       "        Product ID         Category Sub-Category  \\\n",
       "0  FUR-BO-10001798        Furniture    Bookcases   \n",
       "1  FUR-CH-10000454        Furniture       Chairs   \n",
       "2  OFF-LA-10000240  Office Supplies       Labels   \n",
       "3  FUR-TA-10000577        Furniture       Tables   \n",
       "4  OFF-ST-10000760  Office Supplies      Storage   \n",
       "\n",
       "                                        Product Name     Sales Quantity  \\\n",
       "0                  Bush Somerset Collection Bookcase  261.9600        2   \n",
       "1  Hon Deluxe Fabric Upholstered Stacking Chairs,...  731.9400        3   \n",
       "2  Self-Adhesive Address Labels for Typewriters b...   14.6200        2   \n",
       "3      Bretford CR4500 Series Slim Rectangular Table  957.5775        5   \n",
       "4                     Eldon Fold 'N Roll Cart System   22.3680        2   \n",
       "\n",
       "  Discount    Profit Price per Piece  Profit per Piece  \n",
       "0     0.00   41.9136        130.9800           20.9568  \n",
       "1     0.00  219.5820        243.9800           73.1940  \n",
       "2     0.00    6.8714          7.3100            3.4357  \n",
       "3     0.45 -383.0310        191.5155          -76.6062  \n",
       "4     0.20    2.5164         11.1840            1.2582  \n",
       "\n",
       "[5 rows x 25 columns]"
      ],
      "text/html": [
       "<div>\n",
       "<style scoped>\n",
       "    .dataframe tbody tr th:only-of-type {\n",
       "        vertical-align: middle;\n",
       "    }\n",
       "\n",
       "    .dataframe tbody tr th {\n",
       "        vertical-align: top;\n",
       "    }\n",
       "\n",
       "    .dataframe thead th {\n",
       "        text-align: right;\n",
       "    }\n",
       "</style>\n",
       "<table border=\"1\" class=\"dataframe\">\n",
       "  <thead>\n",
       "    <tr style=\"text-align: right;\">\n",
       "      <th></th>\n",
       "      <th>Order ID</th>\n",
       "      <th>Order Date</th>\n",
       "      <th>Order Day</th>\n",
       "      <th>Order Weekday</th>\n",
       "      <th>Order Month</th>\n",
       "      <th>Order Year</th>\n",
       "      <th>Order Quarter</th>\n",
       "      <th>Ship Date</th>\n",
       "      <th>Ship Mode</th>\n",
       "      <th>Customer ID</th>\n",
       "      <th>...</th>\n",
       "      <th>Product ID</th>\n",
       "      <th>Category</th>\n",
       "      <th>Sub-Category</th>\n",
       "      <th>Product Name</th>\n",
       "      <th>Sales</th>\n",
       "      <th>Quantity</th>\n",
       "      <th>Discount</th>\n",
       "      <th>Profit</th>\n",
       "      <th>Price per Piece</th>\n",
       "      <th>Profit per Piece</th>\n",
       "    </tr>\n",
       "  </thead>\n",
       "  <tbody>\n",
       "    <tr>\n",
       "      <th>0</th>\n",
       "      <td>CA-2013-152156</td>\n",
       "      <td>2013-11-09</td>\n",
       "      <td>9</td>\n",
       "      <td>Saturday</td>\n",
       "      <td>11</td>\n",
       "      <td>2013</td>\n",
       "      <td>4</td>\n",
       "      <td>2013-11-12</td>\n",
       "      <td>Second Class</td>\n",
       "      <td>CG-12520</td>\n",
       "      <td>...</td>\n",
       "      <td>FUR-BO-10001798</td>\n",
       "      <td>Furniture</td>\n",
       "      <td>Bookcases</td>\n",
       "      <td>Bush Somerset Collection Bookcase</td>\n",
       "      <td>261.9600</td>\n",
       "      <td>2</td>\n",
       "      <td>0.00</td>\n",
       "      <td>41.9136</td>\n",
       "      <td>130.9800</td>\n",
       "      <td>20.9568</td>\n",
       "    </tr>\n",
       "    <tr>\n",
       "      <th>1</th>\n",
       "      <td>CA-2013-152156</td>\n",
       "      <td>2013-11-09</td>\n",
       "      <td>9</td>\n",
       "      <td>Saturday</td>\n",
       "      <td>11</td>\n",
       "      <td>2013</td>\n",
       "      <td>4</td>\n",
       "      <td>2013-11-12</td>\n",
       "      <td>Second Class</td>\n",
       "      <td>CG-12520</td>\n",
       "      <td>...</td>\n",
       "      <td>FUR-CH-10000454</td>\n",
       "      <td>Furniture</td>\n",
       "      <td>Chairs</td>\n",
       "      <td>Hon Deluxe Fabric Upholstered Stacking Chairs,...</td>\n",
       "      <td>731.9400</td>\n",
       "      <td>3</td>\n",
       "      <td>0.00</td>\n",
       "      <td>219.5820</td>\n",
       "      <td>243.9800</td>\n",
       "      <td>73.1940</td>\n",
       "    </tr>\n",
       "    <tr>\n",
       "      <th>2</th>\n",
       "      <td>CA-2013-138688</td>\n",
       "      <td>2013-06-13</td>\n",
       "      <td>13</td>\n",
       "      <td>Thursday</td>\n",
       "      <td>6</td>\n",
       "      <td>2013</td>\n",
       "      <td>2</td>\n",
       "      <td>2013-06-17</td>\n",
       "      <td>Second Class</td>\n",
       "      <td>DV-13045</td>\n",
       "      <td>...</td>\n",
       "      <td>OFF-LA-10000240</td>\n",
       "      <td>Office Supplies</td>\n",
       "      <td>Labels</td>\n",
       "      <td>Self-Adhesive Address Labels for Typewriters b...</td>\n",
       "      <td>14.6200</td>\n",
       "      <td>2</td>\n",
       "      <td>0.00</td>\n",
       "      <td>6.8714</td>\n",
       "      <td>7.3100</td>\n",
       "      <td>3.4357</td>\n",
       "    </tr>\n",
       "    <tr>\n",
       "      <th>3</th>\n",
       "      <td>US-2012-108966</td>\n",
       "      <td>2012-10-11</td>\n",
       "      <td>11</td>\n",
       "      <td>Thursday</td>\n",
       "      <td>10</td>\n",
       "      <td>2012</td>\n",
       "      <td>4</td>\n",
       "      <td>2012-10-18</td>\n",
       "      <td>Standard Class</td>\n",
       "      <td>SO-20335</td>\n",
       "      <td>...</td>\n",
       "      <td>FUR-TA-10000577</td>\n",
       "      <td>Furniture</td>\n",
       "      <td>Tables</td>\n",
       "      <td>Bretford CR4500 Series Slim Rectangular Table</td>\n",
       "      <td>957.5775</td>\n",
       "      <td>5</td>\n",
       "      <td>0.45</td>\n",
       "      <td>-383.0310</td>\n",
       "      <td>191.5155</td>\n",
       "      <td>-76.6062</td>\n",
       "    </tr>\n",
       "    <tr>\n",
       "      <th>4</th>\n",
       "      <td>US-2012-108966</td>\n",
       "      <td>2012-10-11</td>\n",
       "      <td>11</td>\n",
       "      <td>Thursday</td>\n",
       "      <td>10</td>\n",
       "      <td>2012</td>\n",
       "      <td>4</td>\n",
       "      <td>2012-10-18</td>\n",
       "      <td>Standard Class</td>\n",
       "      <td>SO-20335</td>\n",
       "      <td>...</td>\n",
       "      <td>OFF-ST-10000760</td>\n",
       "      <td>Office Supplies</td>\n",
       "      <td>Storage</td>\n",
       "      <td>Eldon Fold 'N Roll Cart System</td>\n",
       "      <td>22.3680</td>\n",
       "      <td>2</td>\n",
       "      <td>0.20</td>\n",
       "      <td>2.5164</td>\n",
       "      <td>11.1840</td>\n",
       "      <td>1.2582</td>\n",
       "    </tr>\n",
       "  </tbody>\n",
       "</table>\n",
       "<p>5 rows × 25 columns</p>\n",
       "</div>"
      ]
     },
     "execution_count": 115,
     "metadata": {},
     "output_type": "execute_result"
    }
   ],
   "execution_count": 115
  },
  {
   "metadata": {
    "ExecuteTime": {
     "end_time": "2025-09-10T10:00:44.726886Z",
     "start_time": "2025-09-10T10:00:44.719498Z"
    }
   },
   "cell_type": "code",
   "source": [
    "pos = superstore.columns.get_loc(\"Ship Date\") + 1\n",
    "superstore.insert(pos, \"Ship Day\", superstore[\"Ship Date\"].dt.day)\n",
    "pos = superstore.columns.get_loc(\"Ship Date\") + 2\n",
    "superstore.insert(pos, \"Ship Weekday\", superstore[\"Ship Date\"].dt.day_name())"
   ],
   "id": "bffcc81c5ca2e5af",
   "outputs": [],
   "execution_count": 116
  },
  {
   "metadata": {
    "ExecuteTime": {
     "end_time": "2025-09-10T10:00:44.850042Z",
     "start_time": "2025-09-10T10:00:44.841439Z"
    }
   },
   "cell_type": "code",
   "source": [
    "pos = superstore.columns.get_loc(\"Ship Date\") + 3\n",
    "superstore.insert(pos, \"Ship Month\", superstore[\"Ship Date\"].dt.month)\n",
    "pos = superstore.columns.get_loc(\"Ship Date\") + 4\n",
    "superstore.insert(pos, \"Ship Year\", superstore[\"Ship Date\"].dt.year)\n",
    "pos = superstore.columns.get_loc(\"Ship Date\") + 5\n",
    "superstore.insert(pos, \"Ship Quarter\", superstore[\"Ship Date\"].dt.quarter)"
   ],
   "id": "d01b878dcc9e1a2b",
   "outputs": [],
   "execution_count": 117
  },
  {
   "metadata": {
    "ExecuteTime": {
     "end_time": "2025-09-10T10:00:44.918111Z",
     "start_time": "2025-09-10T10:00:44.902437Z"
    }
   },
   "cell_type": "code",
   "source": "superstore.head()",
   "id": "db380b0cdd5e7a47",
   "outputs": [
    {
     "data": {
      "text/plain": [
       "         Order ID Order Date  Order Day Order Weekday  Order Month  \\\n",
       "0  CA-2013-152156 2013-11-09          9      Saturday           11   \n",
       "1  CA-2013-152156 2013-11-09          9      Saturday           11   \n",
       "2  CA-2013-138688 2013-06-13         13      Thursday            6   \n",
       "3  US-2012-108966 2012-10-11         11      Thursday           10   \n",
       "4  US-2012-108966 2012-10-11         11      Thursday           10   \n",
       "\n",
       "   Order Year  Order Quarter  Ship Date  Ship Day Ship Weekday  ...  \\\n",
       "0        2013              4 2013-11-12        12      Tuesday  ...   \n",
       "1        2013              4 2013-11-12        12      Tuesday  ...   \n",
       "2        2013              2 2013-06-17        17       Monday  ...   \n",
       "3        2012              4 2012-10-18        18     Thursday  ...   \n",
       "4        2012              4 2012-10-18        18     Thursday  ...   \n",
       "\n",
       "        Product ID         Category  Sub-Category  \\\n",
       "0  FUR-BO-10001798        Furniture     Bookcases   \n",
       "1  FUR-CH-10000454        Furniture        Chairs   \n",
       "2  OFF-LA-10000240  Office Supplies        Labels   \n",
       "3  FUR-TA-10000577        Furniture        Tables   \n",
       "4  OFF-ST-10000760  Office Supplies       Storage   \n",
       "\n",
       "                                        Product Name     Sales Quantity  \\\n",
       "0                  Bush Somerset Collection Bookcase  261.9600        2   \n",
       "1  Hon Deluxe Fabric Upholstered Stacking Chairs,...  731.9400        3   \n",
       "2  Self-Adhesive Address Labels for Typewriters b...   14.6200        2   \n",
       "3      Bretford CR4500 Series Slim Rectangular Table  957.5775        5   \n",
       "4                     Eldon Fold 'N Roll Cart System   22.3680        2   \n",
       "\n",
       "  Discount    Profit  Price per Piece Profit per Piece  \n",
       "0     0.00   41.9136         130.9800          20.9568  \n",
       "1     0.00  219.5820         243.9800          73.1940  \n",
       "2     0.00    6.8714           7.3100           3.4357  \n",
       "3     0.45 -383.0310         191.5155         -76.6062  \n",
       "4     0.20    2.5164          11.1840           1.2582  \n",
       "\n",
       "[5 rows x 30 columns]"
      ],
      "text/html": [
       "<div>\n",
       "<style scoped>\n",
       "    .dataframe tbody tr th:only-of-type {\n",
       "        vertical-align: middle;\n",
       "    }\n",
       "\n",
       "    .dataframe tbody tr th {\n",
       "        vertical-align: top;\n",
       "    }\n",
       "\n",
       "    .dataframe thead th {\n",
       "        text-align: right;\n",
       "    }\n",
       "</style>\n",
       "<table border=\"1\" class=\"dataframe\">\n",
       "  <thead>\n",
       "    <tr style=\"text-align: right;\">\n",
       "      <th></th>\n",
       "      <th>Order ID</th>\n",
       "      <th>Order Date</th>\n",
       "      <th>Order Day</th>\n",
       "      <th>Order Weekday</th>\n",
       "      <th>Order Month</th>\n",
       "      <th>Order Year</th>\n",
       "      <th>Order Quarter</th>\n",
       "      <th>Ship Date</th>\n",
       "      <th>Ship Day</th>\n",
       "      <th>Ship Weekday</th>\n",
       "      <th>...</th>\n",
       "      <th>Product ID</th>\n",
       "      <th>Category</th>\n",
       "      <th>Sub-Category</th>\n",
       "      <th>Product Name</th>\n",
       "      <th>Sales</th>\n",
       "      <th>Quantity</th>\n",
       "      <th>Discount</th>\n",
       "      <th>Profit</th>\n",
       "      <th>Price per Piece</th>\n",
       "      <th>Profit per Piece</th>\n",
       "    </tr>\n",
       "  </thead>\n",
       "  <tbody>\n",
       "    <tr>\n",
       "      <th>0</th>\n",
       "      <td>CA-2013-152156</td>\n",
       "      <td>2013-11-09</td>\n",
       "      <td>9</td>\n",
       "      <td>Saturday</td>\n",
       "      <td>11</td>\n",
       "      <td>2013</td>\n",
       "      <td>4</td>\n",
       "      <td>2013-11-12</td>\n",
       "      <td>12</td>\n",
       "      <td>Tuesday</td>\n",
       "      <td>...</td>\n",
       "      <td>FUR-BO-10001798</td>\n",
       "      <td>Furniture</td>\n",
       "      <td>Bookcases</td>\n",
       "      <td>Bush Somerset Collection Bookcase</td>\n",
       "      <td>261.9600</td>\n",
       "      <td>2</td>\n",
       "      <td>0.00</td>\n",
       "      <td>41.9136</td>\n",
       "      <td>130.9800</td>\n",
       "      <td>20.9568</td>\n",
       "    </tr>\n",
       "    <tr>\n",
       "      <th>1</th>\n",
       "      <td>CA-2013-152156</td>\n",
       "      <td>2013-11-09</td>\n",
       "      <td>9</td>\n",
       "      <td>Saturday</td>\n",
       "      <td>11</td>\n",
       "      <td>2013</td>\n",
       "      <td>4</td>\n",
       "      <td>2013-11-12</td>\n",
       "      <td>12</td>\n",
       "      <td>Tuesday</td>\n",
       "      <td>...</td>\n",
       "      <td>FUR-CH-10000454</td>\n",
       "      <td>Furniture</td>\n",
       "      <td>Chairs</td>\n",
       "      <td>Hon Deluxe Fabric Upholstered Stacking Chairs,...</td>\n",
       "      <td>731.9400</td>\n",
       "      <td>3</td>\n",
       "      <td>0.00</td>\n",
       "      <td>219.5820</td>\n",
       "      <td>243.9800</td>\n",
       "      <td>73.1940</td>\n",
       "    </tr>\n",
       "    <tr>\n",
       "      <th>2</th>\n",
       "      <td>CA-2013-138688</td>\n",
       "      <td>2013-06-13</td>\n",
       "      <td>13</td>\n",
       "      <td>Thursday</td>\n",
       "      <td>6</td>\n",
       "      <td>2013</td>\n",
       "      <td>2</td>\n",
       "      <td>2013-06-17</td>\n",
       "      <td>17</td>\n",
       "      <td>Monday</td>\n",
       "      <td>...</td>\n",
       "      <td>OFF-LA-10000240</td>\n",
       "      <td>Office Supplies</td>\n",
       "      <td>Labels</td>\n",
       "      <td>Self-Adhesive Address Labels for Typewriters b...</td>\n",
       "      <td>14.6200</td>\n",
       "      <td>2</td>\n",
       "      <td>0.00</td>\n",
       "      <td>6.8714</td>\n",
       "      <td>7.3100</td>\n",
       "      <td>3.4357</td>\n",
       "    </tr>\n",
       "    <tr>\n",
       "      <th>3</th>\n",
       "      <td>US-2012-108966</td>\n",
       "      <td>2012-10-11</td>\n",
       "      <td>11</td>\n",
       "      <td>Thursday</td>\n",
       "      <td>10</td>\n",
       "      <td>2012</td>\n",
       "      <td>4</td>\n",
       "      <td>2012-10-18</td>\n",
       "      <td>18</td>\n",
       "      <td>Thursday</td>\n",
       "      <td>...</td>\n",
       "      <td>FUR-TA-10000577</td>\n",
       "      <td>Furniture</td>\n",
       "      <td>Tables</td>\n",
       "      <td>Bretford CR4500 Series Slim Rectangular Table</td>\n",
       "      <td>957.5775</td>\n",
       "      <td>5</td>\n",
       "      <td>0.45</td>\n",
       "      <td>-383.0310</td>\n",
       "      <td>191.5155</td>\n",
       "      <td>-76.6062</td>\n",
       "    </tr>\n",
       "    <tr>\n",
       "      <th>4</th>\n",
       "      <td>US-2012-108966</td>\n",
       "      <td>2012-10-11</td>\n",
       "      <td>11</td>\n",
       "      <td>Thursday</td>\n",
       "      <td>10</td>\n",
       "      <td>2012</td>\n",
       "      <td>4</td>\n",
       "      <td>2012-10-18</td>\n",
       "      <td>18</td>\n",
       "      <td>Thursday</td>\n",
       "      <td>...</td>\n",
       "      <td>OFF-ST-10000760</td>\n",
       "      <td>Office Supplies</td>\n",
       "      <td>Storage</td>\n",
       "      <td>Eldon Fold 'N Roll Cart System</td>\n",
       "      <td>22.3680</td>\n",
       "      <td>2</td>\n",
       "      <td>0.20</td>\n",
       "      <td>2.5164</td>\n",
       "      <td>11.1840</td>\n",
       "      <td>1.2582</td>\n",
       "    </tr>\n",
       "  </tbody>\n",
       "</table>\n",
       "<p>5 rows × 30 columns</p>\n",
       "</div>"
      ]
     },
     "execution_count": 118,
     "metadata": {},
     "output_type": "execute_result"
    }
   ],
   "execution_count": 118
  },
  {
   "metadata": {
    "ExecuteTime": {
     "end_time": "2025-09-10T10:00:45.069285Z",
     "start_time": "2025-09-10T10:00:45.064554Z"
    }
   },
   "cell_type": "code",
   "source": [
    "pos = superstore.columns.get_loc(\"Ship Quarter\") + 1\n",
    "superstore.insert(pos, \"Delivery Time\", (superstore[\"Ship Date\"]-superstore[\"Order Date\"]).dt.days)"
   ],
   "id": "1d3a1d5d72587479",
   "outputs": [],
   "execution_count": 119
  },
  {
   "metadata": {
    "ExecuteTime": {
     "end_time": "2025-09-10T10:00:45.255049Z",
     "start_time": "2025-09-10T10:00:45.236082Z"
    }
   },
   "cell_type": "code",
   "source": "superstore.head()\n",
   "id": "d50069e1fd5c249",
   "outputs": [
    {
     "data": {
      "text/plain": [
       "         Order ID Order Date  Order Day Order Weekday  Order Month  \\\n",
       "0  CA-2013-152156 2013-11-09          9      Saturday           11   \n",
       "1  CA-2013-152156 2013-11-09          9      Saturday           11   \n",
       "2  CA-2013-138688 2013-06-13         13      Thursday            6   \n",
       "3  US-2012-108966 2012-10-11         11      Thursday           10   \n",
       "4  US-2012-108966 2012-10-11         11      Thursday           10   \n",
       "\n",
       "   Order Year  Order Quarter  Ship Date  Ship Day Ship Weekday  ...  \\\n",
       "0        2013              4 2013-11-12        12      Tuesday  ...   \n",
       "1        2013              4 2013-11-12        12      Tuesday  ...   \n",
       "2        2013              2 2013-06-17        17       Monday  ...   \n",
       "3        2012              4 2012-10-18        18     Thursday  ...   \n",
       "4        2012              4 2012-10-18        18     Thursday  ...   \n",
       "\n",
       "        Product ID         Category  Sub-Category  \\\n",
       "0  FUR-BO-10001798        Furniture     Bookcases   \n",
       "1  FUR-CH-10000454        Furniture        Chairs   \n",
       "2  OFF-LA-10000240  Office Supplies        Labels   \n",
       "3  FUR-TA-10000577        Furniture        Tables   \n",
       "4  OFF-ST-10000760  Office Supplies       Storage   \n",
       "\n",
       "                                        Product Name     Sales Quantity  \\\n",
       "0                  Bush Somerset Collection Bookcase  261.9600        2   \n",
       "1  Hon Deluxe Fabric Upholstered Stacking Chairs,...  731.9400        3   \n",
       "2  Self-Adhesive Address Labels for Typewriters b...   14.6200        2   \n",
       "3      Bretford CR4500 Series Slim Rectangular Table  957.5775        5   \n",
       "4                     Eldon Fold 'N Roll Cart System   22.3680        2   \n",
       "\n",
       "  Discount    Profit Price per Piece  Profit per Piece  \n",
       "0     0.00   41.9136        130.9800           20.9568  \n",
       "1     0.00  219.5820        243.9800           73.1940  \n",
       "2     0.00    6.8714          7.3100            3.4357  \n",
       "3     0.45 -383.0310        191.5155          -76.6062  \n",
       "4     0.20    2.5164         11.1840            1.2582  \n",
       "\n",
       "[5 rows x 31 columns]"
      ],
      "text/html": [
       "<div>\n",
       "<style scoped>\n",
       "    .dataframe tbody tr th:only-of-type {\n",
       "        vertical-align: middle;\n",
       "    }\n",
       "\n",
       "    .dataframe tbody tr th {\n",
       "        vertical-align: top;\n",
       "    }\n",
       "\n",
       "    .dataframe thead th {\n",
       "        text-align: right;\n",
       "    }\n",
       "</style>\n",
       "<table border=\"1\" class=\"dataframe\">\n",
       "  <thead>\n",
       "    <tr style=\"text-align: right;\">\n",
       "      <th></th>\n",
       "      <th>Order ID</th>\n",
       "      <th>Order Date</th>\n",
       "      <th>Order Day</th>\n",
       "      <th>Order Weekday</th>\n",
       "      <th>Order Month</th>\n",
       "      <th>Order Year</th>\n",
       "      <th>Order Quarter</th>\n",
       "      <th>Ship Date</th>\n",
       "      <th>Ship Day</th>\n",
       "      <th>Ship Weekday</th>\n",
       "      <th>...</th>\n",
       "      <th>Product ID</th>\n",
       "      <th>Category</th>\n",
       "      <th>Sub-Category</th>\n",
       "      <th>Product Name</th>\n",
       "      <th>Sales</th>\n",
       "      <th>Quantity</th>\n",
       "      <th>Discount</th>\n",
       "      <th>Profit</th>\n",
       "      <th>Price per Piece</th>\n",
       "      <th>Profit per Piece</th>\n",
       "    </tr>\n",
       "  </thead>\n",
       "  <tbody>\n",
       "    <tr>\n",
       "      <th>0</th>\n",
       "      <td>CA-2013-152156</td>\n",
       "      <td>2013-11-09</td>\n",
       "      <td>9</td>\n",
       "      <td>Saturday</td>\n",
       "      <td>11</td>\n",
       "      <td>2013</td>\n",
       "      <td>4</td>\n",
       "      <td>2013-11-12</td>\n",
       "      <td>12</td>\n",
       "      <td>Tuesday</td>\n",
       "      <td>...</td>\n",
       "      <td>FUR-BO-10001798</td>\n",
       "      <td>Furniture</td>\n",
       "      <td>Bookcases</td>\n",
       "      <td>Bush Somerset Collection Bookcase</td>\n",
       "      <td>261.9600</td>\n",
       "      <td>2</td>\n",
       "      <td>0.00</td>\n",
       "      <td>41.9136</td>\n",
       "      <td>130.9800</td>\n",
       "      <td>20.9568</td>\n",
       "    </tr>\n",
       "    <tr>\n",
       "      <th>1</th>\n",
       "      <td>CA-2013-152156</td>\n",
       "      <td>2013-11-09</td>\n",
       "      <td>9</td>\n",
       "      <td>Saturday</td>\n",
       "      <td>11</td>\n",
       "      <td>2013</td>\n",
       "      <td>4</td>\n",
       "      <td>2013-11-12</td>\n",
       "      <td>12</td>\n",
       "      <td>Tuesday</td>\n",
       "      <td>...</td>\n",
       "      <td>FUR-CH-10000454</td>\n",
       "      <td>Furniture</td>\n",
       "      <td>Chairs</td>\n",
       "      <td>Hon Deluxe Fabric Upholstered Stacking Chairs,...</td>\n",
       "      <td>731.9400</td>\n",
       "      <td>3</td>\n",
       "      <td>0.00</td>\n",
       "      <td>219.5820</td>\n",
       "      <td>243.9800</td>\n",
       "      <td>73.1940</td>\n",
       "    </tr>\n",
       "    <tr>\n",
       "      <th>2</th>\n",
       "      <td>CA-2013-138688</td>\n",
       "      <td>2013-06-13</td>\n",
       "      <td>13</td>\n",
       "      <td>Thursday</td>\n",
       "      <td>6</td>\n",
       "      <td>2013</td>\n",
       "      <td>2</td>\n",
       "      <td>2013-06-17</td>\n",
       "      <td>17</td>\n",
       "      <td>Monday</td>\n",
       "      <td>...</td>\n",
       "      <td>OFF-LA-10000240</td>\n",
       "      <td>Office Supplies</td>\n",
       "      <td>Labels</td>\n",
       "      <td>Self-Adhesive Address Labels for Typewriters b...</td>\n",
       "      <td>14.6200</td>\n",
       "      <td>2</td>\n",
       "      <td>0.00</td>\n",
       "      <td>6.8714</td>\n",
       "      <td>7.3100</td>\n",
       "      <td>3.4357</td>\n",
       "    </tr>\n",
       "    <tr>\n",
       "      <th>3</th>\n",
       "      <td>US-2012-108966</td>\n",
       "      <td>2012-10-11</td>\n",
       "      <td>11</td>\n",
       "      <td>Thursday</td>\n",
       "      <td>10</td>\n",
       "      <td>2012</td>\n",
       "      <td>4</td>\n",
       "      <td>2012-10-18</td>\n",
       "      <td>18</td>\n",
       "      <td>Thursday</td>\n",
       "      <td>...</td>\n",
       "      <td>FUR-TA-10000577</td>\n",
       "      <td>Furniture</td>\n",
       "      <td>Tables</td>\n",
       "      <td>Bretford CR4500 Series Slim Rectangular Table</td>\n",
       "      <td>957.5775</td>\n",
       "      <td>5</td>\n",
       "      <td>0.45</td>\n",
       "      <td>-383.0310</td>\n",
       "      <td>191.5155</td>\n",
       "      <td>-76.6062</td>\n",
       "    </tr>\n",
       "    <tr>\n",
       "      <th>4</th>\n",
       "      <td>US-2012-108966</td>\n",
       "      <td>2012-10-11</td>\n",
       "      <td>11</td>\n",
       "      <td>Thursday</td>\n",
       "      <td>10</td>\n",
       "      <td>2012</td>\n",
       "      <td>4</td>\n",
       "      <td>2012-10-18</td>\n",
       "      <td>18</td>\n",
       "      <td>Thursday</td>\n",
       "      <td>...</td>\n",
       "      <td>OFF-ST-10000760</td>\n",
       "      <td>Office Supplies</td>\n",
       "      <td>Storage</td>\n",
       "      <td>Eldon Fold 'N Roll Cart System</td>\n",
       "      <td>22.3680</td>\n",
       "      <td>2</td>\n",
       "      <td>0.20</td>\n",
       "      <td>2.5164</td>\n",
       "      <td>11.1840</td>\n",
       "      <td>1.2582</td>\n",
       "    </tr>\n",
       "  </tbody>\n",
       "</table>\n",
       "<p>5 rows × 31 columns</p>\n",
       "</div>"
      ]
     },
     "execution_count": 120,
     "metadata": {},
     "output_type": "execute_result"
    }
   ],
   "execution_count": 120
  },
  {
   "metadata": {
    "ExecuteTime": {
     "end_time": "2025-09-10T10:00:45.529013Z",
     "start_time": "2025-09-10T10:00:45.385864Z"
    }
   },
   "cell_type": "code",
   "source": "superstore.to_csv(\"superstore_cleaned.csv\",index=False)\n",
   "id": "f523058f86338309",
   "outputs": [],
   "execution_count": 121
  },
  {
   "metadata": {},
   "cell_type": "markdown",
   "source": "### Abschnitt Annas Analyse",
   "id": "13493fc073292ff3"
  },
  {
   "metadata": {
    "ExecuteTime": {
     "end_time": "2025-09-10T10:00:45.684825Z",
     "start_time": "2025-09-10T10:00:45.614973Z"
    }
   },
   "cell_type": "code",
   "source": [
    "superstore = pd.read_csv(\"superstore_cleaned.csv\", sep=\",\", encoding=\"latin-1\",parse_dates=[\"Order Date\", \"Ship Date\"], date_format=\"%Y-%m-%d\", dayfirst=True)\n",
    "superstore.info()"
   ],
   "id": "37f12d5fe04e9dcf",
   "outputs": [
    {
     "name": "stdout",
     "output_type": "stream",
     "text": [
      "<class 'pandas.core.frame.DataFrame'>\n",
      "RangeIndex: 9994 entries, 0 to 9993\n",
      "Data columns (total 31 columns):\n",
      " #   Column            Non-Null Count  Dtype         \n",
      "---  ------            --------------  -----         \n",
      " 0   Order ID          9994 non-null   object        \n",
      " 1   Order Date        9994 non-null   datetime64[ns]\n",
      " 2   Order Day         9994 non-null   int64         \n",
      " 3   Order Weekday     9994 non-null   object        \n",
      " 4   Order Month       9994 non-null   int64         \n",
      " 5   Order Year        9994 non-null   int64         \n",
      " 6   Order Quarter     9994 non-null   int64         \n",
      " 7   Ship Date         9994 non-null   datetime64[ns]\n",
      " 8   Ship Day          9994 non-null   int64         \n",
      " 9   Ship Weekday      9994 non-null   object        \n",
      " 10  Ship Month        9994 non-null   int64         \n",
      " 11  Ship Year         9994 non-null   int64         \n",
      " 12  Ship Quarter      9994 non-null   int64         \n",
      " 13  Delivery Time     9994 non-null   int64         \n",
      " 14  Ship Mode         9994 non-null   object        \n",
      " 15  Customer ID       9994 non-null   object        \n",
      " 16  Segment           9994 non-null   object        \n",
      " 17  City              9994 non-null   object        \n",
      " 18  State             9994 non-null   object        \n",
      " 19  Postal Code       9994 non-null   int64         \n",
      " 20  Region            9994 non-null   object        \n",
      " 21  Product ID        9994 non-null   object        \n",
      " 22  Category          9994 non-null   object        \n",
      " 23  Sub-Category      9994 non-null   object        \n",
      " 24  Product Name      9994 non-null   object        \n",
      " 25  Sales             9994 non-null   float64       \n",
      " 26  Quantity          9994 non-null   int64         \n",
      " 27  Discount          9994 non-null   float64       \n",
      " 28  Profit            9994 non-null   float64       \n",
      " 29  Price per Piece   9994 non-null   float64       \n",
      " 30  Profit per Piece  9994 non-null   float64       \n",
      "dtypes: datetime64[ns](2), float64(5), int64(11), object(13)\n",
      "memory usage: 2.4+ MB\n"
     ]
    }
   ],
   "execution_count": 122
  },
  {
   "metadata": {},
   "cell_type": "markdown",
   "source": "Wie lange dauert die durchschnittliche Delivery Time je nach Region und Produktkategorie?",
   "id": "25b8b46b2a45afec"
  },
  {
   "metadata": {
    "ExecuteTime": {
     "end_time": "2025-09-10T10:00:45.778185Z",
     "start_time": "2025-09-10T10:00:45.768360Z"
    }
   },
   "cell_type": "code",
   "source": [
    "avg_delivery = superstore.groupby([\"Region\", \"Category\"])[\"Delivery Time\"].mean().reset_index()\n",
    "avg_delivery\n"
   ],
   "id": "1c86dfd168e8ec74",
   "outputs": [
    {
     "data": {
      "text/plain": [
       "     Region         Category  Delivery Time\n",
       "0   Central        Furniture       3.979210\n",
       "1   Central  Office Supplies       4.120253\n",
       "2   Central       Technology       3.938095\n",
       "3      East        Furniture       3.851913\n",
       "4      East  Office Supplies       3.938084\n",
       "5      East       Technology       3.884112\n",
       "6     South        Furniture       4.030120\n",
       "7     South  Office Supplies       3.956784\n",
       "8     South       Technology       3.890785\n",
       "9      West        Furniture       3.882603\n",
       "10     West  Office Supplies       3.935688\n",
       "11     West       Technology       3.968280"
      ],
      "text/html": [
       "<div>\n",
       "<style scoped>\n",
       "    .dataframe tbody tr th:only-of-type {\n",
       "        vertical-align: middle;\n",
       "    }\n",
       "\n",
       "    .dataframe tbody tr th {\n",
       "        vertical-align: top;\n",
       "    }\n",
       "\n",
       "    .dataframe thead th {\n",
       "        text-align: right;\n",
       "    }\n",
       "</style>\n",
       "<table border=\"1\" class=\"dataframe\">\n",
       "  <thead>\n",
       "    <tr style=\"text-align: right;\">\n",
       "      <th></th>\n",
       "      <th>Region</th>\n",
       "      <th>Category</th>\n",
       "      <th>Delivery Time</th>\n",
       "    </tr>\n",
       "  </thead>\n",
       "  <tbody>\n",
       "    <tr>\n",
       "      <th>0</th>\n",
       "      <td>Central</td>\n",
       "      <td>Furniture</td>\n",
       "      <td>3.979210</td>\n",
       "    </tr>\n",
       "    <tr>\n",
       "      <th>1</th>\n",
       "      <td>Central</td>\n",
       "      <td>Office Supplies</td>\n",
       "      <td>4.120253</td>\n",
       "    </tr>\n",
       "    <tr>\n",
       "      <th>2</th>\n",
       "      <td>Central</td>\n",
       "      <td>Technology</td>\n",
       "      <td>3.938095</td>\n",
       "    </tr>\n",
       "    <tr>\n",
       "      <th>3</th>\n",
       "      <td>East</td>\n",
       "      <td>Furniture</td>\n",
       "      <td>3.851913</td>\n",
       "    </tr>\n",
       "    <tr>\n",
       "      <th>4</th>\n",
       "      <td>East</td>\n",
       "      <td>Office Supplies</td>\n",
       "      <td>3.938084</td>\n",
       "    </tr>\n",
       "    <tr>\n",
       "      <th>5</th>\n",
       "      <td>East</td>\n",
       "      <td>Technology</td>\n",
       "      <td>3.884112</td>\n",
       "    </tr>\n",
       "    <tr>\n",
       "      <th>6</th>\n",
       "      <td>South</td>\n",
       "      <td>Furniture</td>\n",
       "      <td>4.030120</td>\n",
       "    </tr>\n",
       "    <tr>\n",
       "      <th>7</th>\n",
       "      <td>South</td>\n",
       "      <td>Office Supplies</td>\n",
       "      <td>3.956784</td>\n",
       "    </tr>\n",
       "    <tr>\n",
       "      <th>8</th>\n",
       "      <td>South</td>\n",
       "      <td>Technology</td>\n",
       "      <td>3.890785</td>\n",
       "    </tr>\n",
       "    <tr>\n",
       "      <th>9</th>\n",
       "      <td>West</td>\n",
       "      <td>Furniture</td>\n",
       "      <td>3.882603</td>\n",
       "    </tr>\n",
       "    <tr>\n",
       "      <th>10</th>\n",
       "      <td>West</td>\n",
       "      <td>Office Supplies</td>\n",
       "      <td>3.935688</td>\n",
       "    </tr>\n",
       "    <tr>\n",
       "      <th>11</th>\n",
       "      <td>West</td>\n",
       "      <td>Technology</td>\n",
       "      <td>3.968280</td>\n",
       "    </tr>\n",
       "  </tbody>\n",
       "</table>\n",
       "</div>"
      ]
     },
     "execution_count": 123,
     "metadata": {},
     "output_type": "execute_result"
    }
   ],
   "execution_count": 123
  },
  {
   "metadata": {
    "ExecuteTime": {
     "end_time": "2025-09-10T10:00:45.881996Z",
     "start_time": "2025-09-10T10:00:45.873482Z"
    }
   },
   "cell_type": "code",
   "source": "avg_delivery.describe()",
   "id": "afb9a213afa0e775",
   "outputs": [
    {
     "data": {
      "text/plain": [
       "       Delivery Time\n",
       "count      12.000000\n",
       "mean        3.947994\n",
       "std         0.073293\n",
       "min         3.851913\n",
       "25%         3.889117\n",
       "50%         3.938090\n",
       "75%         3.971013\n",
       "max         4.120253"
      ],
      "text/html": [
       "<div>\n",
       "<style scoped>\n",
       "    .dataframe tbody tr th:only-of-type {\n",
       "        vertical-align: middle;\n",
       "    }\n",
       "\n",
       "    .dataframe tbody tr th {\n",
       "        vertical-align: top;\n",
       "    }\n",
       "\n",
       "    .dataframe thead th {\n",
       "        text-align: right;\n",
       "    }\n",
       "</style>\n",
       "<table border=\"1\" class=\"dataframe\">\n",
       "  <thead>\n",
       "    <tr style=\"text-align: right;\">\n",
       "      <th></th>\n",
       "      <th>Delivery Time</th>\n",
       "    </tr>\n",
       "  </thead>\n",
       "  <tbody>\n",
       "    <tr>\n",
       "      <th>count</th>\n",
       "      <td>12.000000</td>\n",
       "    </tr>\n",
       "    <tr>\n",
       "      <th>mean</th>\n",
       "      <td>3.947994</td>\n",
       "    </tr>\n",
       "    <tr>\n",
       "      <th>std</th>\n",
       "      <td>0.073293</td>\n",
       "    </tr>\n",
       "    <tr>\n",
       "      <th>min</th>\n",
       "      <td>3.851913</td>\n",
       "    </tr>\n",
       "    <tr>\n",
       "      <th>25%</th>\n",
       "      <td>3.889117</td>\n",
       "    </tr>\n",
       "    <tr>\n",
       "      <th>50%</th>\n",
       "      <td>3.938090</td>\n",
       "    </tr>\n",
       "    <tr>\n",
       "      <th>75%</th>\n",
       "      <td>3.971013</td>\n",
       "    </tr>\n",
       "    <tr>\n",
       "      <th>max</th>\n",
       "      <td>4.120253</td>\n",
       "    </tr>\n",
       "  </tbody>\n",
       "</table>\n",
       "</div>"
      ]
     },
     "execution_count": 124,
     "metadata": {},
     "output_type": "execute_result"
    }
   ],
   "execution_count": 124
  },
  {
   "metadata": {
    "ExecuteTime": {
     "end_time": "2025-09-10T10:00:46.071635Z",
     "start_time": "2025-09-10T10:00:46.065012Z"
    }
   },
   "cell_type": "code",
   "source": "superstore[\"Delivery Time\"].describe()",
   "id": "5c5e944d5e67bc63",
   "outputs": [
    {
     "data": {
      "text/plain": [
       "count    9994.000000\n",
       "mean        3.958875\n",
       "std         1.747097\n",
       "min         0.000000\n",
       "25%         3.000000\n",
       "50%         4.000000\n",
       "75%         5.000000\n",
       "max         7.000000\n",
       "Name: Delivery Time, dtype: float64"
      ]
     },
     "execution_count": 125,
     "metadata": {},
     "output_type": "execute_result"
    }
   ],
   "execution_count": 125
  },
  {
   "metadata": {},
   "cell_type": "markdown",
   "source": "Histogramm der Delivery Time → wie oft kommt 0, 1, 2, … 7 Tage vor?",
   "id": "4773d75f63f60f2e"
  },
  {
   "metadata": {
    "ExecuteTime": {
     "end_time": "2025-09-10T10:00:46.362253Z",
     "start_time": "2025-09-10T10:00:46.356592Z"
    }
   },
   "cell_type": "code",
   "source": [
    "Delivery_Time_Count = superstore[\"Delivery Time\"].value_counts().sort_index()\n",
    "Delivery_Time_Count"
   ],
   "id": "3e84093dee009b81",
   "outputs": [
    {
     "data": {
      "text/plain": [
       "Delivery Time\n",
       "0     519\n",
       "1     368\n",
       "2    1332\n",
       "3    1007\n",
       "4    2771\n",
       "5    2175\n",
       "6    1201\n",
       "7     621\n",
       "Name: count, dtype: int64"
      ]
     },
     "execution_count": 126,
     "metadata": {},
     "output_type": "execute_result"
    }
   ],
   "execution_count": 126
  },
  {
   "metadata": {
    "ExecuteTime": {
     "end_time": "2025-09-10T10:00:46.530727Z",
     "start_time": "2025-09-10T10:00:46.465313Z"
    }
   },
   "cell_type": "code",
   "source": "Delivery_Time_Count.plot(kind=\"pie\", ylabel= \"Delivery Time in Days\")",
   "id": "93cb7b0fa0561c96",
   "outputs": [
    {
     "data": {
      "text/plain": [
       "<Axes: ylabel='Delivery Time in Days'>"
      ]
     },
     "execution_count": 127,
     "metadata": {},
     "output_type": "execute_result"
    },
    {
     "data": {
      "text/plain": [
       "<Figure size 640x480 with 1 Axes>"
      ],
      "image/png": "[encoded data removed]"
     },
     "metadata": {},
     "output_type": "display_data",
     "jetTransient": {
      "display_id": null
     }
    }
   ],
   "execution_count": 127
  },
  {
   "metadata": {
    "ExecuteTime": {
     "end_time": "2025-09-10T10:00:46.769599Z",
     "start_time": "2025-09-10T10:00:46.749377Z"
    }
   },
   "cell_type": "code",
   "source": [
    "delivery_time_ship_mode = superstore.groupby(\"Ship Mode\")[\"Delivery Time\"].describe()\n",
    "delivery_time_ship_mode"
   ],
   "id": "e4a8ddfa8d24dbc5",
   "outputs": [
    {
     "data": {
      "text/plain": [
       "                 count      mean       std  min  25%  50%  75%  max\n",
       "Ship Mode                                                          \n",
       "First Class     1538.0  2.182055  0.772420  1.0  2.0  2.0  3.0  3.0\n",
       "Same Day         543.0  0.044199  0.205726  0.0  0.0  0.0  0.0  1.0\n",
       "Second Class    1945.0  3.240103  1.186531  2.0  2.0  3.0  4.0  5.0\n",
       "Standard Class  5968.0  5.007205  1.009814  4.0  4.0  5.0  6.0  7.0"
      ],
      "text/html": [
       "<div>\n",
       "<style scoped>\n",
       "    .dataframe tbody tr th:only-of-type {\n",
       "        vertical-align: middle;\n",
       "    }\n",
       "\n",
       "    .dataframe tbody tr th {\n",
       "        vertical-align: top;\n",
       "    }\n",
       "\n",
       "    .dataframe thead th {\n",
       "        text-align: right;\n",
       "    }\n",
       "</style>\n",
       "<table border=\"1\" class=\"dataframe\">\n",
       "  <thead>\n",
       "    <tr style=\"text-align: right;\">\n",
       "      <th></th>\n",
       "      <th>count</th>\n",
       "      <th>mean</th>\n",
       "      <th>std</th>\n",
       "      <th>min</th>\n",
       "      <th>25%</th>\n",
       "      <th>50%</th>\n",
       "      <th>75%</th>\n",
       "      <th>max</th>\n",
       "    </tr>\n",
       "    <tr>\n",
       "      <th>Ship Mode</th>\n",
       "      <th></th>\n",
       "      <th></th>\n",
       "      <th></th>\n",
       "      <th></th>\n",
       "      <th></th>\n",
       "      <th></th>\n",
       "      <th></th>\n",
       "      <th></th>\n",
       "    </tr>\n",
       "  </thead>\n",
       "  <tbody>\n",
       "    <tr>\n",
       "      <th>First Class</th>\n",
       "      <td>1538.0</td>\n",
       "      <td>2.182055</td>\n",
       "      <td>0.772420</td>\n",
       "      <td>1.0</td>\n",
       "      <td>2.0</td>\n",
       "      <td>2.0</td>\n",
       "      <td>3.0</td>\n",
       "      <td>3.0</td>\n",
       "    </tr>\n",
       "    <tr>\n",
       "      <th>Same Day</th>\n",
       "      <td>543.0</td>\n",
       "      <td>0.044199</td>\n",
       "      <td>0.205726</td>\n",
       "      <td>0.0</td>\n",
       "      <td>0.0</td>\n",
       "      <td>0.0</td>\n",
       "      <td>0.0</td>\n",
       "      <td>1.0</td>\n",
       "    </tr>\n",
       "    <tr>\n",
       "      <th>Second Class</th>\n",
       "      <td>1945.0</td>\n",
       "      <td>3.240103</td>\n",
       "      <td>1.186531</td>\n",
       "      <td>2.0</td>\n",
       "      <td>2.0</td>\n",
       "      <td>3.0</td>\n",
       "      <td>4.0</td>\n",
       "      <td>5.0</td>\n",
       "    </tr>\n",
       "    <tr>\n",
       "      <th>Standard Class</th>\n",
       "      <td>5968.0</td>\n",
       "      <td>5.007205</td>\n",
       "      <td>1.009814</td>\n",
       "      <td>4.0</td>\n",
       "      <td>4.0</td>\n",
       "      <td>5.0</td>\n",
       "      <td>6.0</td>\n",
       "      <td>7.0</td>\n",
       "    </tr>\n",
       "  </tbody>\n",
       "</table>\n",
       "</div>"
      ]
     },
     "execution_count": 128,
     "metadata": {},
     "output_type": "execute_result"
    }
   ],
   "execution_count": 128
  },
  {
   "metadata": {
    "ExecuteTime": {
     "end_time": "2025-09-10T10:00:46.858883Z",
     "start_time": "2025-09-10T10:00:46.843415Z"
    }
   },
   "cell_type": "code",
   "source": "print(superstore.groupby(\"Region\")[\"Delivery Time\"].describe())",
   "id": "282af1e1849c0e42",
   "outputs": [
    {
     "name": "stdout",
     "output_type": "stream",
     "text": [
      "          count      mean       std  min  25%  50%  75%  max\n",
      "Region                                                      \n",
      "Central  2323.0  4.058115  1.688635  0.0  3.0  4.0  5.0  7.0\n",
      "East     2848.0  3.909761  1.728885  0.0  3.0  4.0  5.0  7.0\n",
      "South    1620.0  3.959877  1.736928  0.0  3.0  4.0  5.0  7.0\n",
      "West     3203.0  3.930066  1.806914  0.0  3.0  4.0  5.0  7.0\n"
     ]
    }
   ],
   "execution_count": 129
  },
  {
   "metadata": {
    "ExecuteTime": {
     "end_time": "2025-09-10T10:00:46.968550Z",
     "start_time": "2025-09-10T10:00:46.962150Z"
    }
   },
   "cell_type": "code",
   "source": [
    "delivery_time_city = superstore.groupby(\"City\")[\"Delivery Time\"].mean().sort_values()\n",
    "delivery_time_city"
   ],
   "id": "3c2d8f08a0c9969f",
   "outputs": [
    {
     "data": {
      "text/plain": [
       "City\n",
       "Billings     0.0\n",
       "Portage      0.0\n",
       "Rock Hill    0.0\n",
       "Mentor       0.0\n",
       "Kenner       0.0\n",
       "            ... \n",
       "Danbury      7.0\n",
       "Norfolk      7.0\n",
       "Oswego       7.0\n",
       "Waukesha     7.0\n",
       "Yucaipa      7.0\n",
       "Name: Delivery Time, Length: 531, dtype: float64"
      ]
     },
     "execution_count": 130,
     "metadata": {},
     "output_type": "execute_result"
    }
   ],
   "execution_count": 130
  },
  {
   "metadata": {
    "ExecuteTime": {
     "end_time": "2025-09-10T10:00:47.219026Z",
     "start_time": "2025-09-10T10:00:47.090141Z"
    }
   },
   "cell_type": "code",
   "source": "delivery_time_city.plot(kind=\"hist\")",
   "id": "616db9703e3f5b37",
   "outputs": [
    {
     "data": {
      "text/plain": [
       "<Axes: ylabel='Frequency'>"
      ]
     },
     "execution_count": 131,
     "metadata": {},
     "output_type": "execute_result"
    },
    {
     "data": {
      "text/plain": [
       "<Figure size 640x480 with 1 Axes>"
      ],
      "image/png": "[encoded data removed]"
     },
     "metadata": {},
     "output_type": "display_data",
     "jetTransient": {
      "display_id": null
     }
    }
   ],
   "execution_count": 131
  },
  {
   "metadata": {},
   "cell_type": "markdown",
   "source": "Quantity oder Sales mit einbeziehen: kleine Bestellungen werden evtl. schneller geliefert → mehr Varianz sichtbar.- müsste noch gerprüft werden",
   "id": "6f182877a1f1074"
  },
  {
   "metadata": {
    "ExecuteTime": {
     "end_time": "2025-09-10T10:00:47.288365Z",
     "start_time": "2025-09-10T10:00:47.273617Z"
    }
   },
   "cell_type": "code",
   "source": "superstore.head()",
   "id": "e89ffc8d98f2aebe",
   "outputs": [
    {
     "data": {
      "text/plain": [
       "         Order ID Order Date  Order Day Order Weekday  Order Month  \\\n",
       "0  CA-2013-152156 2013-11-09          9      Saturday           11   \n",
       "1  CA-2013-152156 2013-11-09          9      Saturday           11   \n",
       "2  CA-2013-138688 2013-06-13         13      Thursday            6   \n",
       "3  US-2012-108966 2012-10-11         11      Thursday           10   \n",
       "4  US-2012-108966 2012-10-11         11      Thursday           10   \n",
       "\n",
       "   Order Year  Order Quarter  Ship Date  Ship Day Ship Weekday  ...  \\\n",
       "0        2013              4 2013-11-12        12      Tuesday  ...   \n",
       "1        2013              4 2013-11-12        12      Tuesday  ...   \n",
       "2        2013              2 2013-06-17        17       Monday  ...   \n",
       "3        2012              4 2012-10-18        18     Thursday  ...   \n",
       "4        2012              4 2012-10-18        18     Thursday  ...   \n",
       "\n",
       "        Product ID         Category  Sub-Category  \\\n",
       "0  FUR-BO-10001798        Furniture     Bookcases   \n",
       "1  FUR-CH-10000454        Furniture        Chairs   \n",
       "2  OFF-LA-10000240  Office Supplies        Labels   \n",
       "3  FUR-TA-10000577        Furniture        Tables   \n",
       "4  OFF-ST-10000760  Office Supplies       Storage   \n",
       "\n",
       "                                        Product Name     Sales Quantity  \\\n",
       "0                  Bush Somerset Collection Bookcase  261.9600        2   \n",
       "1  Hon Deluxe Fabric Upholstered Stacking Chairs,...  731.9400        3   \n",
       "2  Self-Adhesive Address Labels for Typewriters b...   14.6200        2   \n",
       "3      Bretford CR4500 Series Slim Rectangular Table  957.5775        5   \n",
       "4                     Eldon Fold 'N Roll Cart System   22.3680        2   \n",
       "\n",
       "  Discount    Profit Price per Piece  Profit per Piece  \n",
       "0     0.00   41.9136        130.9800           20.9568  \n",
       "1     0.00  219.5820        243.9800           73.1940  \n",
       "2     0.00    6.8714          7.3100            3.4357  \n",
       "3     0.45 -383.0310        191.5155          -76.6062  \n",
       "4     0.20    2.5164         11.1840            1.2582  \n",
       "\n",
       "[5 rows x 31 columns]"
      ],
      "text/html": [
       "<div>\n",
       "<style scoped>\n",
       "    .dataframe tbody tr th:only-of-type {\n",
       "        vertical-align: middle;\n",
       "    }\n",
       "\n",
       "    .dataframe tbody tr th {\n",
       "        vertical-align: top;\n",
       "    }\n",
       "\n",
       "    .dataframe thead th {\n",
       "        text-align: right;\n",
       "    }\n",
       "</style>\n",
       "<table border=\"1\" class=\"dataframe\">\n",
       "  <thead>\n",
       "    <tr style=\"text-align: right;\">\n",
       "      <th></th>\n",
       "      <th>Order ID</th>\n",
       "      <th>Order Date</th>\n",
       "      <th>Order Day</th>\n",
       "      <th>Order Weekday</th>\n",
       "      <th>Order Month</th>\n",
       "      <th>Order Year</th>\n",
       "      <th>Order Quarter</th>\n",
       "      <th>Ship Date</th>\n",
       "      <th>Ship Day</th>\n",
       "      <th>Ship Weekday</th>\n",
       "      <th>...</th>\n",
       "      <th>Product ID</th>\n",
       "      <th>Category</th>\n",
       "      <th>Sub-Category</th>\n",
       "      <th>Product Name</th>\n",
       "      <th>Sales</th>\n",
       "      <th>Quantity</th>\n",
       "      <th>Discount</th>\n",
       "      <th>Profit</th>\n",
       "      <th>Price per Piece</th>\n",
       "      <th>Profit per Piece</th>\n",
       "    </tr>\n",
       "  </thead>\n",
       "  <tbody>\n",
       "    <tr>\n",
       "      <th>0</th>\n",
       "      <td>CA-2013-152156</td>\n",
       "      <td>2013-11-09</td>\n",
       "      <td>9</td>\n",
       "      <td>Saturday</td>\n",
       "      <td>11</td>\n",
       "      <td>2013</td>\n",
       "      <td>4</td>\n",
       "      <td>2013-11-12</td>\n",
       "      <td>12</td>\n",
       "      <td>Tuesday</td>\n",
       "      <td>...</td>\n",
       "      <td>FUR-BO-10001798</td>\n",
       "      <td>Furniture</td>\n",
       "      <td>Bookcases</td>\n",
       "      <td>Bush Somerset Collection Bookcase</td>\n",
       "      <td>261.9600</td>\n",
       "      <td>2</td>\n",
       "      <td>0.00</td>\n",
       "      <td>41.9136</td>\n",
       "      <td>130.9800</td>\n",
       "      <td>20.9568</td>\n",
       "    </tr>\n",
       "    <tr>\n",
       "      <th>1</th>\n",
       "      <td>CA-2013-152156</td>\n",
       "      <td>2013-11-09</td>\n",
       "      <td>9</td>\n",
       "      <td>Saturday</td>\n",
       "      <td>11</td>\n",
       "      <td>2013</td>\n",
       "      <td>4</td>\n",
       "      <td>2013-11-12</td>\n",
       "      <td>12</td>\n",
       "      <td>Tuesday</td>\n",
       "      <td>...</td>\n",
       "      <td>FUR-CH-10000454</td>\n",
       "      <td>Furniture</td>\n",
       "      <td>Chairs</td>\n",
       "      <td>Hon Deluxe Fabric Upholstered Stacking Chairs,...</td>\n",
       "      <td>731.9400</td>\n",
       "      <td>3</td>\n",
       "      <td>0.00</td>\n",
       "      <td>219.5820</td>\n",
       "      <td>243.9800</td>\n",
       "      <td>73.1940</td>\n",
       "    </tr>\n",
       "    <tr>\n",
       "      <th>2</th>\n",
       "      <td>CA-2013-138688</td>\n",
       "      <td>2013-06-13</td>\n",
       "      <td>13</td>\n",
       "      <td>Thursday</td>\n",
       "      <td>6</td>\n",
       "      <td>2013</td>\n",
       "      <td>2</td>\n",
       "      <td>2013-06-17</td>\n",
       "      <td>17</td>\n",
       "      <td>Monday</td>\n",
       "      <td>...</td>\n",
       "      <td>OFF-LA-10000240</td>\n",
       "      <td>Office Supplies</td>\n",
       "      <td>Labels</td>\n",
       "      <td>Self-Adhesive Address Labels for Typewriters b...</td>\n",
       "      <td>14.6200</td>\n",
       "      <td>2</td>\n",
       "      <td>0.00</td>\n",
       "      <td>6.8714</td>\n",
       "      <td>7.3100</td>\n",
       "      <td>3.4357</td>\n",
       "    </tr>\n",
       "    <tr>\n",
       "      <th>3</th>\n",
       "      <td>US-2012-108966</td>\n",
       "      <td>2012-10-11</td>\n",
       "      <td>11</td>\n",
       "      <td>Thursday</td>\n",
       "      <td>10</td>\n",
       "      <td>2012</td>\n",
       "      <td>4</td>\n",
       "      <td>2012-10-18</td>\n",
       "      <td>18</td>\n",
       "      <td>Thursday</td>\n",
       "      <td>...</td>\n",
       "      <td>FUR-TA-10000577</td>\n",
       "      <td>Furniture</td>\n",
       "      <td>Tables</td>\n",
       "      <td>Bretford CR4500 Series Slim Rectangular Table</td>\n",
       "      <td>957.5775</td>\n",
       "      <td>5</td>\n",
       "      <td>0.45</td>\n",
       "      <td>-383.0310</td>\n",
       "      <td>191.5155</td>\n",
       "      <td>-76.6062</td>\n",
       "    </tr>\n",
       "    <tr>\n",
       "      <th>4</th>\n",
       "      <td>US-2012-108966</td>\n",
       "      <td>2012-10-11</td>\n",
       "      <td>11</td>\n",
       "      <td>Thursday</td>\n",
       "      <td>10</td>\n",
       "      <td>2012</td>\n",
       "      <td>4</td>\n",
       "      <td>2012-10-18</td>\n",
       "      <td>18</td>\n",
       "      <td>Thursday</td>\n",
       "      <td>...</td>\n",
       "      <td>OFF-ST-10000760</td>\n",
       "      <td>Office Supplies</td>\n",
       "      <td>Storage</td>\n",
       "      <td>Eldon Fold 'N Roll Cart System</td>\n",
       "      <td>22.3680</td>\n",
       "      <td>2</td>\n",
       "      <td>0.20</td>\n",
       "      <td>2.5164</td>\n",
       "      <td>11.1840</td>\n",
       "      <td>1.2582</td>\n",
       "    </tr>\n",
       "  </tbody>\n",
       "</table>\n",
       "<p>5 rows × 31 columns</p>\n",
       "</div>"
      ]
     },
     "execution_count": 132,
     "metadata": {},
     "output_type": "execute_result"
    }
   ],
   "execution_count": 132
  },
  {
   "metadata": {},
   "cell_type": "markdown",
   "source": "Bestellverlauf pro Kunde analysieren, um zu sehen, ob mehrere Bestellungen kurz hintereinander erfolgen oder ob sie gebündelt werden",
   "id": "87e60bac035d3c9a"
  },
  {
   "metadata": {
    "ExecuteTime": {
     "end_time": "2025-09-10T10:00:47.458730Z",
     "start_time": "2025-09-10T10:00:47.431560Z"
    }
   },
   "cell_type": "code",
   "source": [
    "Customer_sorted_OrderDate = superstore.sort_values([\"Customer ID\", \"Order Date\"])\n",
    "Customer_sorted_OrderDate"
   ],
   "id": "35ae4e698a30f255",
   "outputs": [
    {
     "data": {
      "text/plain": [
       "            Order ID Order Date  Order Day Order Weekday  Order Month  \\\n",
       "2229  CA-2011-128055 2011-03-31         31      Thursday            3   \n",
       "2230  CA-2011-128055 2011-03-31         31      Thursday            3   \n",
       "7468  CA-2011-138100 2011-09-15         15      Thursday            9   \n",
       "7469  CA-2011-138100 2011-09-15         15      Thursday            9   \n",
       "1299  CA-2012-121391 2012-10-04          4      Thursday           10   \n",
       "...              ...        ...        ...           ...          ...   \n",
       "5898  CA-2013-167682 2013-04-04          4      Thursday            4   \n",
       "3040  US-2013-147991 2013-05-06          6        Monday            5   \n",
       "3814  CA-2013-152471 2013-07-09          9       Tuesday            7   \n",
       "3815  CA-2013-152471 2013-07-09          9       Tuesday            7   \n",
       "8341  CA-2014-141481 2014-06-12         12      Thursday            6   \n",
       "\n",
       "      Order Year  Order Quarter  Ship Date  Ship Day Ship Weekday  ...  \\\n",
       "2229        2011              1 2011-04-05         5      Tuesday  ...   \n",
       "2230        2011              1 2011-04-05         5      Tuesday  ...   \n",
       "7468        2011              3 2011-09-20        20      Tuesday  ...   \n",
       "7469        2011              3 2011-09-20        20      Tuesday  ...   \n",
       "1299        2012              4 2012-10-07         7       Sunday  ...   \n",
       "...          ...            ...        ...       ...          ...  ...   \n",
       "5898        2013              2 2013-04-10        10    Wednesday  ...   \n",
       "3040        2013              2 2013-05-10        10       Friday  ...   \n",
       "3814        2013              3 2013-07-09         9      Tuesday  ...   \n",
       "3815        2013              3 2013-07-09         9      Tuesday  ...   \n",
       "8341        2014              2 2014-06-15        15       Sunday  ...   \n",
       "\n",
       "           Product ID         Category  Sub-Category  \\\n",
       "2229  OFF-BI-10004390  Office Supplies       Binders   \n",
       "2230  OFF-AP-10002765  Office Supplies    Appliances   \n",
       "7468  OFF-PA-10000349  Office Supplies         Paper   \n",
       "7469  FUR-FU-10002456        Furniture   Furnishings   \n",
       "1299  OFF-ST-10001590  Office Supplies       Storage   \n",
       "...               ...              ...           ...   \n",
       "5898  TEC-PH-10000673       Technology        Phones   \n",
       "3040  FUR-FU-10004270        Furniture   Furnishings   \n",
       "3814  TEC-PH-10002824       Technology        Phones   \n",
       "3815  OFF-PA-10004965  Office Supplies         Paper   \n",
       "8341  OFF-AP-10004532  Office Supplies    Appliances   \n",
       "\n",
       "                                           Product Name    Sales Quantity  \\\n",
       "2229            GBC DocuBind 200 Manual Binding Machine  673.568        2   \n",
       "2230  Fellowes Advanced Computer Series Surge Protec...   52.980        2   \n",
       "7468                                            Staples   14.940        3   \n",
       "7469         Master Caster Door Stop, Large Neon Orange   14.560        2   \n",
       "1299  Tenex Personal Project File with Scoop Front D...   26.960        2   \n",
       "...                                                 ...      ...      ...   \n",
       "5898     Plantronics Voyager Pro HD - Bluetooth Headset  259.960        4   \n",
       "3040      Eldon Image Series Desk Accessories, Burgundy   16.720        5   \n",
       "3814           Jabra SPEAK 410 Multidevice Speakerphone  823.960        5   \n",
       "3815                                         Xerox 1921   15.984        2   \n",
       "8341  Kensington 6 Outlet Guardian Standard Surge Pr...   61.440        3   \n",
       "\n",
       "     Discount    Profit Price per Piece  Profit per Piece  \n",
       "2229      0.2  252.5880         336.784          126.2940  \n",
       "2230      0.0   14.8344          26.490            7.4172  \n",
       "7468      0.0    7.0218           4.980            2.3406  \n",
       "7469      0.0    6.2608           7.280            3.1304  \n",
       "1299      0.0    7.0096          13.480            3.5048  \n",
       "...       ...       ...             ...               ...  \n",
       "5898      0.0  124.7808          64.990           31.1952  \n",
       "3040      0.2    3.3440           3.344            0.6688  \n",
       "3814      0.2   51.4975         164.792           10.2995  \n",
       "3815      0.2    4.9950           7.992            2.4975  \n",
       "8341      0.0   16.5888          20.480            5.5296  \n",
       "\n",
       "[9994 rows x 31 columns]"
      ],
      "text/html": [
       "<div>\n",
       "<style scoped>\n",
       "    .dataframe tbody tr th:only-of-type {\n",
       "        vertical-align: middle;\n",
       "    }\n",
       "\n",
       "    .dataframe tbody tr th {\n",
       "        vertical-align: top;\n",
       "    }\n",
       "\n",
       "    .dataframe thead th {\n",
       "        text-align: right;\n",
       "    }\n",
       "</style>\n",
       "<table border=\"1\" class=\"dataframe\">\n",
       "  <thead>\n",
       "    <tr style=\"text-align: right;\">\n",
       "      <th></th>\n",
       "      <th>Order ID</th>\n",
       "      <th>Order Date</th>\n",
       "      <th>Order Day</th>\n",
       "      <th>Order Weekday</th>\n",
       "      <th>Order Month</th>\n",
       "      <th>Order Year</th>\n",
       "      <th>Order Quarter</th>\n",
       "      <th>Ship Date</th>\n",
       "      <th>Ship Day</th>\n",
       "      <th>Ship Weekday</th>\n",
       "      <th>...</th>\n",
       "      <th>Product ID</th>\n",
       "      <th>Category</th>\n",
       "      <th>Sub-Category</th>\n",
       "      <th>Product Name</th>\n",
       "      <th>Sales</th>\n",
       "      <th>Quantity</th>\n",
       "      <th>Discount</th>\n",
       "      <th>Profit</th>\n",
       "      <th>Price per Piece</th>\n",
       "      <th>Profit per Piece</th>\n",
       "    </tr>\n",
       "  </thead>\n",
       "  <tbody>\n",
       "    <tr>\n",
       "      <th>2229</th>\n",
       "      <td>CA-2011-128055</td>\n",
       "      <td>2011-03-31</td>\n",
       "      <td>31</td>\n",
       "      <td>Thursday</td>\n",
       "      <td>3</td>\n",
       "      <td>2011</td>\n",
       "      <td>1</td>\n",
       "      <td>2011-04-05</td>\n",
       "      <td>5</td>\n",
       "      <td>Tuesday</td>\n",
       "      <td>...</td>\n",
       "      <td>OFF-BI-10004390</td>\n",
       "      <td>Office Supplies</td>\n",
       "      <td>Binders</td>\n",
       "      <td>GBC DocuBind 200 Manual Binding Machine</td>\n",
       "      <td>673.568</td>\n",
       "      <td>2</td>\n",
       "      <td>0.2</td>\n",
       "      <td>252.5880</td>\n",
       "      <td>336.784</td>\n",
       "      <td>126.2940</td>\n",
       "    </tr>\n",
       "    <tr>\n",
       "      <th>2230</th>\n",
       "      <td>CA-2011-128055</td>\n",
       "      <td>2011-03-31</td>\n",
       "      <td>31</td>\n",
       "      <td>Thursday</td>\n",
       "      <td>3</td>\n",
       "      <td>2011</td>\n",
       "      <td>1</td>\n",
       "      <td>2011-04-05</td>\n",
       "      <td>5</td>\n",
       "      <td>Tuesday</td>\n",
       "      <td>...</td>\n",
       "      <td>OFF-AP-10002765</td>\n",
       "      <td>Office Supplies</td>\n",
       "      <td>Appliances</td>\n",
       "      <td>Fellowes Advanced Computer Series Surge Protec...</td>\n",
       "      <td>52.980</td>\n",
       "      <td>2</td>\n",
       "      <td>0.0</td>\n",
       "      <td>14.8344</td>\n",
       "      <td>26.490</td>\n",
       "      <td>7.4172</td>\n",
       "    </tr>\n",
       "    <tr>\n",
       "      <th>7468</th>\n",
       "      <td>CA-2011-138100</td>\n",
       "      <td>2011-09-15</td>\n",
       "      <td>15</td>\n",
       "      <td>Thursday</td>\n",
       "      <td>9</td>\n",
       "      <td>2011</td>\n",
       "      <td>3</td>\n",
       "      <td>2011-09-20</td>\n",
       "      <td>20</td>\n",
       "      <td>Tuesday</td>\n",
       "      <td>...</td>\n",
       "      <td>OFF-PA-10000349</td>\n",
       "      <td>Office Supplies</td>\n",
       "      <td>Paper</td>\n",
       "      <td>Staples</td>\n",
       "      <td>14.940</td>\n",
       "      <td>3</td>\n",
       "      <td>0.0</td>\n",
       "      <td>7.0218</td>\n",
       "      <td>4.980</td>\n",
       "      <td>2.3406</td>\n",
       "    </tr>\n",
       "    <tr>\n",
       "      <th>7469</th>\n",
       "      <td>CA-2011-138100</td>\n",
       "      <td>2011-09-15</td>\n",
       "      <td>15</td>\n",
       "      <td>Thursday</td>\n",
       "      <td>9</td>\n",
       "      <td>2011</td>\n",
       "      <td>3</td>\n",
       "      <td>2011-09-20</td>\n",
       "      <td>20</td>\n",
       "      <td>Tuesday</td>\n",
       "      <td>...</td>\n",
       "      <td>FUR-FU-10002456</td>\n",
       "      <td>Furniture</td>\n",
       "      <td>Furnishings</td>\n",
       "      <td>Master Caster Door Stop, Large Neon Orange</td>\n",
       "      <td>14.560</td>\n",
       "      <td>2</td>\n",
       "      <td>0.0</td>\n",
       "      <td>6.2608</td>\n",
       "      <td>7.280</td>\n",
       "      <td>3.1304</td>\n",
       "    </tr>\n",
       "    <tr>\n",
       "      <th>1299</th>\n",
       "      <td>CA-2012-121391</td>\n",
       "      <td>2012-10-04</td>\n",
       "      <td>4</td>\n",
       "      <td>Thursday</td>\n",
       "      <td>10</td>\n",
       "      <td>2012</td>\n",
       "      <td>4</td>\n",
       "      <td>2012-10-07</td>\n",
       "      <td>7</td>\n",
       "      <td>Sunday</td>\n",
       "      <td>...</td>\n",
       "      <td>OFF-ST-10001590</td>\n",
       "      <td>Office Supplies</td>\n",
       "      <td>Storage</td>\n",
       "      <td>Tenex Personal Project File with Scoop Front D...</td>\n",
       "      <td>26.960</td>\n",
       "      <td>2</td>\n",
       "      <td>0.0</td>\n",
       "      <td>7.0096</td>\n",
       "      <td>13.480</td>\n",
       "      <td>3.5048</td>\n",
       "    </tr>\n",
       "    <tr>\n",
       "      <th>...</th>\n",
       "      <td>...</td>\n",
       "      <td>...</td>\n",
       "      <td>...</td>\n",
       "      <td>...</td>\n",
       "      <td>...</td>\n",
       "      <td>...</td>\n",
       "      <td>...</td>\n",
       "      <td>...</td>\n",
       "      <td>...</td>\n",
       "      <td>...</td>\n",
       "      <td>...</td>\n",
       "      <td>...</td>\n",
       "      <td>...</td>\n",
       "      <td>...</td>\n",
       "      <td>...</td>\n",
       "      <td>...</td>\n",
       "      <td>...</td>\n",
       "      <td>...</td>\n",
       "      <td>...</td>\n",
       "      <td>...</td>\n",
       "      <td>...</td>\n",
       "    </tr>\n",
       "    <tr>\n",
       "      <th>5898</th>\n",
       "      <td>CA-2013-167682</td>\n",
       "      <td>2013-04-04</td>\n",
       "      <td>4</td>\n",
       "      <td>Thursday</td>\n",
       "      <td>4</td>\n",
       "      <td>2013</td>\n",
       "      <td>2</td>\n",
       "      <td>2013-04-10</td>\n",
       "      <td>10</td>\n",
       "      <td>Wednesday</td>\n",
       "      <td>...</td>\n",
       "      <td>TEC-PH-10000673</td>\n",
       "      <td>Technology</td>\n",
       "      <td>Phones</td>\n",
       "      <td>Plantronics Voyager Pro HD - Bluetooth Headset</td>\n",
       "      <td>259.960</td>\n",
       "      <td>4</td>\n",
       "      <td>0.0</td>\n",
       "      <td>124.7808</td>\n",
       "      <td>64.990</td>\n",
       "      <td>31.1952</td>\n",
       "    </tr>\n",
       "    <tr>\n",
       "      <th>3040</th>\n",
       "      <td>US-2013-147991</td>\n",
       "      <td>2013-05-06</td>\n",
       "      <td>6</td>\n",
       "      <td>Monday</td>\n",
       "      <td>5</td>\n",
       "      <td>2013</td>\n",
       "      <td>2</td>\n",
       "      <td>2013-05-10</td>\n",
       "      <td>10</td>\n",
       "      <td>Friday</td>\n",
       "      <td>...</td>\n",
       "      <td>FUR-FU-10004270</td>\n",
       "      <td>Furniture</td>\n",
       "      <td>Furnishings</td>\n",
       "      <td>Eldon Image Series Desk Accessories, Burgundy</td>\n",
       "      <td>16.720</td>\n",
       "      <td>5</td>\n",
       "      <td>0.2</td>\n",
       "      <td>3.3440</td>\n",
       "      <td>3.344</td>\n",
       "      <td>0.6688</td>\n",
       "    </tr>\n",
       "    <tr>\n",
       "      <th>3814</th>\n",
       "      <td>CA-2013-152471</td>\n",
       "      <td>2013-07-09</td>\n",
       "      <td>9</td>\n",
       "      <td>Tuesday</td>\n",
       "      <td>7</td>\n",
       "      <td>2013</td>\n",
       "      <td>3</td>\n",
       "      <td>2013-07-09</td>\n",
       "      <td>9</td>\n",
       "      <td>Tuesday</td>\n",
       "      <td>...</td>\n",
       "      <td>TEC-PH-10002824</td>\n",
       "      <td>Technology</td>\n",
       "      <td>Phones</td>\n",
       "      <td>Jabra SPEAK 410 Multidevice Speakerphone</td>\n",
       "      <td>823.960</td>\n",
       "      <td>5</td>\n",
       "      <td>0.2</td>\n",
       "      <td>51.4975</td>\n",
       "      <td>164.792</td>\n",
       "      <td>10.2995</td>\n",
       "    </tr>\n",
       "    <tr>\n",
       "      <th>3815</th>\n",
       "      <td>CA-2013-152471</td>\n",
       "      <td>2013-07-09</td>\n",
       "      <td>9</td>\n",
       "      <td>Tuesday</td>\n",
       "      <td>7</td>\n",
       "      <td>2013</td>\n",
       "      <td>3</td>\n",
       "      <td>2013-07-09</td>\n",
       "      <td>9</td>\n",
       "      <td>Tuesday</td>\n",
       "      <td>...</td>\n",
       "      <td>OFF-PA-10004965</td>\n",
       "      <td>Office Supplies</td>\n",
       "      <td>Paper</td>\n",
       "      <td>Xerox 1921</td>\n",
       "      <td>15.984</td>\n",
       "      <td>2</td>\n",
       "      <td>0.2</td>\n",
       "      <td>4.9950</td>\n",
       "      <td>7.992</td>\n",
       "      <td>2.4975</td>\n",
       "    </tr>\n",
       "    <tr>\n",
       "      <th>8341</th>\n",
       "      <td>CA-2014-141481</td>\n",
       "      <td>2014-06-12</td>\n",
       "      <td>12</td>\n",
       "      <td>Thursday</td>\n",
       "      <td>6</td>\n",
       "      <td>2014</td>\n",
       "      <td>2</td>\n",
       "      <td>2014-06-15</td>\n",
       "      <td>15</td>\n",
       "      <td>Sunday</td>\n",
       "      <td>...</td>\n",
       "      <td>OFF-AP-10004532</td>\n",
       "      <td>Office Supplies</td>\n",
       "      <td>Appliances</td>\n",
       "      <td>Kensington 6 Outlet Guardian Standard Surge Pr...</td>\n",
       "      <td>61.440</td>\n",
       "      <td>3</td>\n",
       "      <td>0.0</td>\n",
       "      <td>16.5888</td>\n",
       "      <td>20.480</td>\n",
       "      <td>5.5296</td>\n",
       "    </tr>\n",
       "  </tbody>\n",
       "</table>\n",
       "<p>9994 rows × 31 columns</p>\n",
       "</div>"
      ]
     },
     "execution_count": 133,
     "metadata": {},
     "output_type": "execute_result"
    }
   ],
   "execution_count": 133
  },
  {
   "metadata": {
    "ExecuteTime": {
     "end_time": "2025-09-10T10:00:47.851162Z",
     "start_time": "2025-09-10T10:00:47.793182Z"
    }
   },
   "cell_type": "code",
   "source": [
    "cities = pd.read_csv(\"USZipsWithLatLon_20231227.csv\", low_memory=False)\n",
    "cities.head()\n"
   ],
   "id": "ce91f32d9d94d1d3",
   "outputs": [
    {
     "data": {
      "text/plain": [
       "  country code  postal code         place name admin name1 admin code1  \\\n",
       "0           US        99547               Atka      Alaska          AK   \n",
       "1           US        99660  Saint Paul Island      Alaska          AK   \n",
       "2           US        99509          Anchorage      Alaska          AK   \n",
       "3           US        99523          Anchorage      Alaska          AK   \n",
       "4           US        99524          Anchorage      Alaska          AK   \n",
       "\n",
       "              admin name2  admin code2  latitude  longitude  \n",
       "0     Aleutians West (CA)         16.0   52.1961  -174.2006  \n",
       "1     Aleutians West (CA)         16.0   57.1842  -170.2764  \n",
       "2  Anchorage Municipality         20.0   61.2181  -149.9003  \n",
       "3  Anchorage Municipality         20.0   61.2181  -149.9003  \n",
       "4  Anchorage Municipality         20.0   61.2181  -149.9003  "
      ],
      "text/html": [
       "<div>\n",
       "<style scoped>\n",
       "    .dataframe tbody tr th:only-of-type {\n",
       "        vertical-align: middle;\n",
       "    }\n",
       "\n",
       "    .dataframe tbody tr th {\n",
       "        vertical-align: top;\n",
       "    }\n",
       "\n",
       "    .dataframe thead th {\n",
       "        text-align: right;\n",
       "    }\n",
       "</style>\n",
       "<table border=\"1\" class=\"dataframe\">\n",
       "  <thead>\n",
       "    <tr style=\"text-align: right;\">\n",
       "      <th></th>\n",
       "      <th>country code</th>\n",
       "      <th>postal code</th>\n",
       "      <th>place name</th>\n",
       "      <th>admin name1</th>\n",
       "      <th>admin code1</th>\n",
       "      <th>admin name2</th>\n",
       "      <th>admin code2</th>\n",
       "      <th>latitude</th>\n",
       "      <th>longitude</th>\n",
       "    </tr>\n",
       "  </thead>\n",
       "  <tbody>\n",
       "    <tr>\n",
       "      <th>0</th>\n",
       "      <td>US</td>\n",
       "      <td>99547</td>\n",
       "      <td>Atka</td>\n",
       "      <td>Alaska</td>\n",
       "      <td>AK</td>\n",
       "      <td>Aleutians West (CA)</td>\n",
       "      <td>16.0</td>\n",
       "      <td>52.1961</td>\n",
       "      <td>-174.2006</td>\n",
       "    </tr>\n",
       "    <tr>\n",
       "      <th>1</th>\n",
       "      <td>US</td>\n",
       "      <td>99660</td>\n",
       "      <td>Saint Paul Island</td>\n",
       "      <td>Alaska</td>\n",
       "      <td>AK</td>\n",
       "      <td>Aleutians West (CA)</td>\n",
       "      <td>16.0</td>\n",
       "      <td>57.1842</td>\n",
       "      <td>-170.2764</td>\n",
       "    </tr>\n",
       "    <tr>\n",
       "      <th>2</th>\n",
       "      <td>US</td>\n",
       "      <td>99509</td>\n",
       "      <td>Anchorage</td>\n",
       "      <td>Alaska</td>\n",
       "      <td>AK</td>\n",
       "      <td>Anchorage Municipality</td>\n",
       "      <td>20.0</td>\n",
       "      <td>61.2181</td>\n",
       "      <td>-149.9003</td>\n",
       "    </tr>\n",
       "    <tr>\n",
       "      <th>3</th>\n",
       "      <td>US</td>\n",
       "      <td>99523</td>\n",
       "      <td>Anchorage</td>\n",
       "      <td>Alaska</td>\n",
       "      <td>AK</td>\n",
       "      <td>Anchorage Municipality</td>\n",
       "      <td>20.0</td>\n",
       "      <td>61.2181</td>\n",
       "      <td>-149.9003</td>\n",
       "    </tr>\n",
       "    <tr>\n",
       "      <th>4</th>\n",
       "      <td>US</td>\n",
       "      <td>99524</td>\n",
       "      <td>Anchorage</td>\n",
       "      <td>Alaska</td>\n",
       "      <td>AK</td>\n",
       "      <td>Anchorage Municipality</td>\n",
       "      <td>20.0</td>\n",
       "      <td>61.2181</td>\n",
       "      <td>-149.9003</td>\n",
       "    </tr>\n",
       "  </tbody>\n",
       "</table>\n",
       "</div>"
      ]
     },
     "execution_count": 134,
     "metadata": {},
     "output_type": "execute_result"
    }
   ],
   "execution_count": 134
  },
  {
   "metadata": {
    "ExecuteTime": {
     "end_time": "2025-09-10T10:00:48.381415Z",
     "start_time": "2025-09-10T10:00:48.359076Z"
    }
   },
   "cell_type": "code",
   "source": "superstore",
   "id": "d178c33376b00ab6",
   "outputs": [
    {
     "data": {
      "text/plain": [
       "            Order ID Order Date  Order Day Order Weekday  Order Month  \\\n",
       "0     CA-2013-152156 2013-11-09          9      Saturday           11   \n",
       "1     CA-2013-152156 2013-11-09          9      Saturday           11   \n",
       "2     CA-2013-138688 2013-06-13         13      Thursday            6   \n",
       "3     US-2012-108966 2012-10-11         11      Thursday           10   \n",
       "4     US-2012-108966 2012-10-11         11      Thursday           10   \n",
       "...              ...        ...        ...           ...          ...   \n",
       "9989  CA-2011-110422 2011-01-22         22      Saturday            1   \n",
       "9990  CA-2014-121258 2014-02-27         27      Thursday            2   \n",
       "9991  CA-2014-121258 2014-02-27         27      Thursday            2   \n",
       "9992  CA-2014-121258 2014-02-27         27      Thursday            2   \n",
       "9993  CA-2014-119914 2014-05-05          5        Monday            5   \n",
       "\n",
       "      Order Year  Order Quarter  Ship Date  Ship Day Ship Weekday  ...  \\\n",
       "0           2013              4 2013-11-12        12      Tuesday  ...   \n",
       "1           2013              4 2013-11-12        12      Tuesday  ...   \n",
       "2           2013              2 2013-06-17        17       Monday  ...   \n",
       "3           2012              4 2012-10-18        18     Thursday  ...   \n",
       "4           2012              4 2012-10-18        18     Thursday  ...   \n",
       "...          ...            ...        ...       ...          ...  ...   \n",
       "9989        2011              1 2011-01-24        24       Monday  ...   \n",
       "9990        2014              1 2014-03-04         4      Tuesday  ...   \n",
       "9991        2014              1 2014-03-04         4      Tuesday  ...   \n",
       "9992        2014              1 2014-03-04         4      Tuesday  ...   \n",
       "9993        2014              2 2014-05-10        10     Saturday  ...   \n",
       "\n",
       "           Product ID         Category  Sub-Category  \\\n",
       "0     FUR-BO-10001798        Furniture     Bookcases   \n",
       "1     FUR-CH-10000454        Furniture        Chairs   \n",
       "2     OFF-LA-10000240  Office Supplies        Labels   \n",
       "3     FUR-TA-10000577        Furniture        Tables   \n",
       "4     OFF-ST-10000760  Office Supplies       Storage   \n",
       "...               ...              ...           ...   \n",
       "9989  FUR-FU-10001889        Furniture   Furnishings   \n",
       "9990  FUR-FU-10000747        Furniture   Furnishings   \n",
       "9991  TEC-PH-10003645       Technology        Phones   \n",
       "9992  OFF-PA-10004041  Office Supplies         Paper   \n",
       "9993  OFF-AP-10002684  Office Supplies    Appliances   \n",
       "\n",
       "                                           Product Name     Sales Quantity  \\\n",
       "0                     Bush Somerset Collection Bookcase  261.9600        2   \n",
       "1     Hon Deluxe Fabric Upholstered Stacking Chairs,...  731.9400        3   \n",
       "2     Self-Adhesive Address Labels for Typewriters b...   14.6200        2   \n",
       "3         Bretford CR4500 Series Slim Rectangular Table  957.5775        5   \n",
       "4                        Eldon Fold 'N Roll Cart System   22.3680        2   \n",
       "...                                                 ...       ...      ...   \n",
       "9989                             Ultra Door Pull Handle   25.2480        3   \n",
       "9990  Tenex B1-RE Series Chair Mats for Low Pile Car...   91.9600        2   \n",
       "9991                              Aastra 57i VoIP phone  258.5760        2   \n",
       "9992  It's Hot Message Books with Stickers, 2 3/4\" x 5\"   29.6000        4   \n",
       "9993  Acco 7-Outlet Masterpiece Power Center, Wihtou...  243.1600        2   \n",
       "\n",
       "     Discount    Profit Price per Piece  Profit per Piece  \n",
       "0        0.00   41.9136        130.9800           20.9568  \n",
       "1        0.00  219.5820        243.9800           73.1940  \n",
       "2        0.00    6.8714          7.3100            3.4357  \n",
       "3        0.45 -383.0310        191.5155          -76.6062  \n",
       "4        0.20    2.5164         11.1840            1.2582  \n",
       "...       ...       ...             ...               ...  \n",
       "9989     0.20    4.1028          8.4160            1.3676  \n",
       "9990     0.00   15.6332         45.9800            7.8166  \n",
       "9991     0.20   19.3932        129.2880            9.6966  \n",
       "9992     0.00   13.3200          7.4000            3.3300  \n",
       "9993     0.00   72.9480        121.5800           36.4740  \n",
       "\n",
       "[9994 rows x 31 columns]"
      ],
      "text/html": [
       "<div>\n",
       "<style scoped>\n",
       "    .dataframe tbody tr th:only-of-type {\n",
       "        vertical-align: middle;\n",
       "    }\n",
       "\n",
       "    .dataframe tbody tr th {\n",
       "        vertical-align: top;\n",
       "    }\n",
       "\n",
       "    .dataframe thead th {\n",
       "        text-align: right;\n",
       "    }\n",
       "</style>\n",
       "<table border=\"1\" class=\"dataframe\">\n",
       "  <thead>\n",
       "    <tr style=\"text-align: right;\">\n",
       "      <th></th>\n",
       "      <th>Order ID</th>\n",
       "      <th>Order Date</th>\n",
       "      <th>Order Day</th>\n",
       "      <th>Order Weekday</th>\n",
       "      <th>Order Month</th>\n",
       "      <th>Order Year</th>\n",
       "      <th>Order Quarter</th>\n",
       "      <th>Ship Date</th>\n",
       "      <th>Ship Day</th>\n",
       "      <th>Ship Weekday</th>\n",
       "      <th>...</th>\n",
       "      <th>Product ID</th>\n",
       "      <th>Category</th>\n",
       "      <th>Sub-Category</th>\n",
       "      <th>Product Name</th>\n",
       "      <th>Sales</th>\n",
       "      <th>Quantity</th>\n",
       "      <th>Discount</th>\n",
       "      <th>Profit</th>\n",
       "      <th>Price per Piece</th>\n",
       "      <th>Profit per Piece</th>\n",
       "    </tr>\n",
       "  </thead>\n",
       "  <tbody>\n",
       "    <tr>\n",
       "      <th>0</th>\n",
       "      <td>CA-2013-152156</td>\n",
       "      <td>2013-11-09</td>\n",
       "      <td>9</td>\n",
       "      <td>Saturday</td>\n",
       "      <td>11</td>\n",
       "      <td>2013</td>\n",
       "      <td>4</td>\n",
       "      <td>2013-11-12</td>\n",
       "      <td>12</td>\n",
       "      <td>Tuesday</td>\n",
       "      <td>...</td>\n",
       "      <td>FUR-BO-10001798</td>\n",
       "      <td>Furniture</td>\n",
       "      <td>Bookcases</td>\n",
       "      <td>Bush Somerset Collection Bookcase</td>\n",
       "      <td>261.9600</td>\n",
       "      <td>2</td>\n",
       "      <td>0.00</td>\n",
       "      <td>41.9136</td>\n",
       "      <td>130.9800</td>\n",
       "      <td>20.9568</td>\n",
       "    </tr>\n",
       "    <tr>\n",
       "      <th>1</th>\n",
       "      <td>CA-2013-152156</td>\n",
       "      <td>2013-11-09</td>\n",
       "      <td>9</td>\n",
       "      <td>Saturday</td>\n",
       "      <td>11</td>\n",
       "      <td>2013</td>\n",
       "      <td>4</td>\n",
       "      <td>2013-11-12</td>\n",
       "      <td>12</td>\n",
       "      <td>Tuesday</td>\n",
       "      <td>...</td>\n",
       "      <td>FUR-CH-10000454</td>\n",
       "      <td>Furniture</td>\n",
       "      <td>Chairs</td>\n",
       "      <td>Hon Deluxe Fabric Upholstered Stacking Chairs,...</td>\n",
       "      <td>731.9400</td>\n",
       "      <td>3</td>\n",
       "      <td>0.00</td>\n",
       "      <td>219.5820</td>\n",
       "      <td>243.9800</td>\n",
       "      <td>73.1940</td>\n",
       "    </tr>\n",
       "    <tr>\n",
       "      <th>2</th>\n",
       "      <td>CA-2013-138688</td>\n",
       "      <td>2013-06-13</td>\n",
       "      <td>13</td>\n",
       "      <td>Thursday</td>\n",
       "      <td>6</td>\n",
       "      <td>2013</td>\n",
       "      <td>2</td>\n",
       "      <td>2013-06-17</td>\n",
       "      <td>17</td>\n",
       "      <td>Monday</td>\n",
       "      <td>...</td>\n",
       "      <td>OFF-LA-10000240</td>\n",
       "      <td>Office Supplies</td>\n",
       "      <td>Labels</td>\n",
       "      <td>Self-Adhesive Address Labels for Typewriters b...</td>\n",
       "      <td>14.6200</td>\n",
       "      <td>2</td>\n",
       "      <td>0.00</td>\n",
       "      <td>6.8714</td>\n",
       "      <td>7.3100</td>\n",
       "      <td>3.4357</td>\n",
       "    </tr>\n",
       "    <tr>\n",
       "      <th>3</th>\n",
       "      <td>US-2012-108966</td>\n",
       "      <td>2012-10-11</td>\n",
       "      <td>11</td>\n",
       "      <td>Thursday</td>\n",
       "      <td>10</td>\n",
       "      <td>2012</td>\n",
       "      <td>4</td>\n",
       "      <td>2012-10-18</td>\n",
       "      <td>18</td>\n",
       "      <td>Thursday</td>\n",
       "      <td>...</td>\n",
       "      <td>FUR-TA-10000577</td>\n",
       "      <td>Furniture</td>\n",
       "      <td>Tables</td>\n",
       "      <td>Bretford CR4500 Series Slim Rectangular Table</td>\n",
       "      <td>957.5775</td>\n",
       "      <td>5</td>\n",
       "      <td>0.45</td>\n",
       "      <td>-383.0310</td>\n",
       "      <td>191.5155</td>\n",
       "      <td>-76.6062</td>\n",
       "    </tr>\n",
       "    <tr>\n",
       "      <th>4</th>\n",
       "      <td>US-2012-108966</td>\n",
       "      <td>2012-10-11</td>\n",
       "      <td>11</td>\n",
       "      <td>Thursday</td>\n",
       "      <td>10</td>\n",
       "      <td>2012</td>\n",
       "      <td>4</td>\n",
       "      <td>2012-10-18</td>\n",
       "      <td>18</td>\n",
       "      <td>Thursday</td>\n",
       "      <td>...</td>\n",
       "      <td>OFF-ST-10000760</td>\n",
       "      <td>Office Supplies</td>\n",
       "      <td>Storage</td>\n",
       "      <td>Eldon Fold 'N Roll Cart System</td>\n",
       "      <td>22.3680</td>\n",
       "      <td>2</td>\n",
       "      <td>0.20</td>\n",
       "      <td>2.5164</td>\n",
       "      <td>11.1840</td>\n",
       "      <td>1.2582</td>\n",
       "    </tr>\n",
       "    <tr>\n",
       "      <th>...</th>\n",
       "      <td>...</td>\n",
       "      <td>...</td>\n",
       "      <td>...</td>\n",
       "      <td>...</td>\n",
       "      <td>...</td>\n",
       "      <td>...</td>\n",
       "      <td>...</td>\n",
       "      <td>...</td>\n",
       "      <td>...</td>\n",
       "      <td>...</td>\n",
       "      <td>...</td>\n",
       "      <td>...</td>\n",
       "      <td>...</td>\n",
       "      <td>...</td>\n",
       "      <td>...</td>\n",
       "      <td>...</td>\n",
       "      <td>...</td>\n",
       "      <td>...</td>\n",
       "      <td>...</td>\n",
       "      <td>...</td>\n",
       "      <td>...</td>\n",
       "    </tr>\n",
       "    <tr>\n",
       "      <th>9989</th>\n",
       "      <td>CA-2011-110422</td>\n",
       "      <td>2011-01-22</td>\n",
       "      <td>22</td>\n",
       "      <td>Saturday</td>\n",
       "      <td>1</td>\n",
       "      <td>2011</td>\n",
       "      <td>1</td>\n",
       "      <td>2011-01-24</td>\n",
       "      <td>24</td>\n",
       "      <td>Monday</td>\n",
       "      <td>...</td>\n",
       "      <td>FUR-FU-10001889</td>\n",
       "      <td>Furniture</td>\n",
       "      <td>Furnishings</td>\n",
       "      <td>Ultra Door Pull Handle</td>\n",
       "      <td>25.2480</td>\n",
       "      <td>3</td>\n",
       "      <td>0.20</td>\n",
       "      <td>4.1028</td>\n",
       "      <td>8.4160</td>\n",
       "      <td>1.3676</td>\n",
       "    </tr>\n",
       "    <tr>\n",
       "      <th>9990</th>\n",
       "      <td>CA-2014-121258</td>\n",
       "      <td>2014-02-27</td>\n",
       "      <td>27</td>\n",
       "      <td>Thursday</td>\n",
       "      <td>2</td>\n",
       "      <td>2014</td>\n",
       "      <td>1</td>\n",
       "      <td>2014-03-04</td>\n",
       "      <td>4</td>\n",
       "      <td>Tuesday</td>\n",
       "      <td>...</td>\n",
       "      <td>FUR-FU-10000747</td>\n",
       "      <td>Furniture</td>\n",
       "      <td>Furnishings</td>\n",
       "      <td>Tenex B1-RE Series Chair Mats for Low Pile Car...</td>\n",
       "      <td>91.9600</td>\n",
       "      <td>2</td>\n",
       "      <td>0.00</td>\n",
       "      <td>15.6332</td>\n",
       "      <td>45.9800</td>\n",
       "      <td>7.8166</td>\n",
       "    </tr>\n",
       "    <tr>\n",
       "      <th>9991</th>\n",
       "      <td>CA-2014-121258</td>\n",
       "      <td>2014-02-27</td>\n",
       "      <td>27</td>\n",
       "      <td>Thursday</td>\n",
       "      <td>2</td>\n",
       "      <td>2014</td>\n",
       "      <td>1</td>\n",
       "      <td>2014-03-04</td>\n",
       "      <td>4</td>\n",
       "      <td>Tuesday</td>\n",
       "      <td>...</td>\n",
       "      <td>TEC-PH-10003645</td>\n",
       "      <td>Technology</td>\n",
       "      <td>Phones</td>\n",
       "      <td>Aastra 57i VoIP phone</td>\n",
       "      <td>258.5760</td>\n",
       "      <td>2</td>\n",
       "      <td>0.20</td>\n",
       "      <td>19.3932</td>\n",
       "      <td>129.2880</td>\n",
       "      <td>9.6966</td>\n",
       "    </tr>\n",
       "    <tr>\n",
       "      <th>9992</th>\n",
       "      <td>CA-2014-121258</td>\n",
       "      <td>2014-02-27</td>\n",
       "      <td>27</td>\n",
       "      <td>Thursday</td>\n",
       "      <td>2</td>\n",
       "      <td>2014</td>\n",
       "      <td>1</td>\n",
       "      <td>2014-03-04</td>\n",
       "      <td>4</td>\n",
       "      <td>Tuesday</td>\n",
       "      <td>...</td>\n",
       "      <td>OFF-PA-10004041</td>\n",
       "      <td>Office Supplies</td>\n",
       "      <td>Paper</td>\n",
       "      <td>It's Hot Message Books with Stickers, 2 3/4\" x 5\"</td>\n",
       "      <td>29.6000</td>\n",
       "      <td>4</td>\n",
       "      <td>0.00</td>\n",
       "      <td>13.3200</td>\n",
       "      <td>7.4000</td>\n",
       "      <td>3.3300</td>\n",
       "    </tr>\n",
       "    <tr>\n",
       "      <th>9993</th>\n",
       "      <td>CA-2014-119914</td>\n",
       "      <td>2014-05-05</td>\n",
       "      <td>5</td>\n",
       "      <td>Monday</td>\n",
       "      <td>5</td>\n",
       "      <td>2014</td>\n",
       "      <td>2</td>\n",
       "      <td>2014-05-10</td>\n",
       "      <td>10</td>\n",
       "      <td>Saturday</td>\n",
       "      <td>...</td>\n",
       "      <td>OFF-AP-10002684</td>\n",
       "      <td>Office Supplies</td>\n",
       "      <td>Appliances</td>\n",
       "      <td>Acco 7-Outlet Masterpiece Power Center, Wihtou...</td>\n",
       "      <td>243.1600</td>\n",
       "      <td>2</td>\n",
       "      <td>0.00</td>\n",
       "      <td>72.9480</td>\n",
       "      <td>121.5800</td>\n",
       "      <td>36.4740</td>\n",
       "    </tr>\n",
       "  </tbody>\n",
       "</table>\n",
       "<p>9994 rows × 31 columns</p>\n",
       "</div>"
      ]
     },
     "execution_count": 135,
     "metadata": {},
     "output_type": "execute_result"
    }
   ],
   "execution_count": 135
  },
  {
   "metadata": {
    "ExecuteTime": {
     "end_time": "2025-09-10T10:02:00.986998Z",
     "start_time": "2025-09-10T10:02:00.978180Z"
    }
   },
   "cell_type": "code",
   "source": [
    "superstore_clean = superstore.dropna(subset=[\"Postal Code\"])\n",
    "cities_clean = cities.dropna(subset=[\"postal code\"])"
   ],
   "id": "b0c227cddeb02832",
   "outputs": [],
   "execution_count": 137
  },
  {
   "metadata": {
    "ExecuteTime": {
     "end_time": "2025-09-10T10:02:15.729236Z",
     "start_time": "2025-09-10T10:02:15.704201Z"
    }
   },
   "cell_type": "code",
   "source": [
    "superstore[\"Postal Code\"] = superstore[\"Postal Code\"].astype(str).str.zfill(5)\n",
    "cities[\"postal code\"] = cities[\"postal code\"].astype(str).str.zfill(5)"
   ],
   "id": "6f48f66ce8da873a",
   "outputs": [],
   "execution_count": 138
  },
  {
   "metadata": {
    "ExecuteTime": {
     "end_time": "2025-09-10T10:02:24.951175Z",
     "start_time": "2025-09-10T10:02:24.946559Z"
    }
   },
   "cell_type": "code",
   "source": [
    "print(superstore[\"Postal Code\"].dtype)\n",
    "print(cities[\"postal code\"].dtype)"
   ],
   "id": "36132387616987b5",
   "outputs": [
    {
     "name": "stdout",
     "output_type": "stream",
     "text": [
      "object\n",
      "object\n"
     ]
    }
   ],
   "execution_count": 139
  },
  {
   "metadata": {
    "ExecuteTime": {
     "end_time": "2025-09-10T10:02:41.758064Z",
     "start_time": "2025-09-10T10:02:41.745095Z"
    }
   },
   "cell_type": "code",
   "source": [
    "superstore[\"Postal Code\"] = superstore[\"Postal Code\"].str.strip()\n",
    "cities[\"postal code\"] = cities[\"postal code\"].str.strip()"
   ],
   "id": "fd88ae8b22fc4c85",
   "outputs": [],
   "execution_count": 140
  },
  {
   "metadata": {
    "ExecuteTime": {
     "end_time": "2025-09-10T10:02:47.266886Z",
     "start_time": "2025-09-10T10:02:47.260566Z"
    }
   },
   "cell_type": "code",
   "source": "superstore[\"Postal Code\"]",
   "id": "7d91f5b93146102c",
   "outputs": [
    {
     "data": {
      "text/plain": [
       "0       42420\n",
       "1       42420\n",
       "2       90036\n",
       "3       33311\n",
       "4       33311\n",
       "        ...  \n",
       "9989    33180\n",
       "9990    92627\n",
       "9991    92627\n",
       "9992    92627\n",
       "9993    92683\n",
       "Name: Postal Code, Length: 9994, dtype: object"
      ]
     },
     "execution_count": 141,
     "metadata": {},
     "output_type": "execute_result"
    }
   ],
   "execution_count": 141
  },
  {
   "metadata": {
    "ExecuteTime": {
     "end_time": "2025-09-10T10:02:55.363376Z",
     "start_time": "2025-09-10T10:02:55.358110Z"
    }
   },
   "cell_type": "code",
   "source": "cities[\"postal code\"]\n",
   "id": "5a174700e96fed9",
   "outputs": [
    {
     "data": {
      "text/plain": [
       "0        99547\n",
       "1        99660\n",
       "2        99509\n",
       "3        99523\n",
       "4        99524\n",
       "         ...  \n",
       "41478    95267\n",
       "41479    95337\n",
       "41480    93420\n",
       "41481    94014\n",
       "41482    94027\n",
       "Name: postal code, Length: 41483, dtype: object"
      ]
     },
     "execution_count": 142,
     "metadata": {},
     "output_type": "execute_result"
    }
   ],
   "execution_count": 142
  },
  {
   "metadata": {
    "ExecuteTime": {
     "end_time": "2025-09-10T10:05:13.618786Z",
     "start_time": "2025-09-10T10:05:13.589931Z"
    }
   },
   "cell_type": "code",
   "source": [
    "df_map = pd.merge(\n",
    "    superstore,\n",
    "    cities,\n",
    "    left_on=[\"Postal Code\"],\n",
    "    right_on=[\"postal code\"],\n",
    "    how=\"inner\"\n",
    ")\n"
   ],
   "id": "74eb17876e27926b",
   "outputs": [
    {
     "data": {
      "text/plain": [
       "         Order ID Order Date  Order Day Order Weekday  Order Month  \\\n",
       "0  CA-2013-152156 2013-11-09          9      Saturday           11   \n",
       "1  CA-2013-152156 2013-11-09          9      Saturday           11   \n",
       "2  CA-2013-138688 2013-06-13         13      Thursday            6   \n",
       "3  US-2012-108966 2012-10-11         11      Thursday           10   \n",
       "4  US-2012-108966 2012-10-11         11      Thursday           10   \n",
       "\n",
       "   Order Year  Order Quarter  Ship Date  Ship Day Ship Weekday  ...  \\\n",
       "0        2013              4 2013-11-12        12      Tuesday  ...   \n",
       "1        2013              4 2013-11-12        12      Tuesday  ...   \n",
       "2        2013              2 2013-06-17        17       Monday  ...   \n",
       "3        2012              4 2012-10-18        18     Thursday  ...   \n",
       "4        2012              4 2012-10-18        18     Thursday  ...   \n",
       "\n",
       "   Profit per Piece  country code  postal code       place name admin name1  \\\n",
       "0           20.9568            US        42420        Henderson    Kentucky   \n",
       "1           73.1940            US        42420        Henderson    Kentucky   \n",
       "2            3.4357            US        90036      Los Angeles  California   \n",
       "3          -76.6062            US        33311  Fort Lauderdale     Florida   \n",
       "4            1.2582            US        33311  Fort Lauderdale     Florida   \n",
       "\n",
       "  admin code1  admin name2 admin code2 latitude longitude  \n",
       "0          KY    Henderson       101.0  37.8274  -87.5632  \n",
       "1          KY    Henderson       101.0  37.8274  -87.5632  \n",
       "2          CA  Los Angeles        37.0  34.0699 -118.3492  \n",
       "3          FL      Broward        11.0  26.1421  -80.1728  \n",
       "4          FL      Broward        11.0  26.1421  -80.1728  \n",
       "\n",
       "[5 rows x 40 columns]"
      ],
      "text/html": [
       "<div>\n",
       "<style scoped>\n",
       "    .dataframe tbody tr th:only-of-type {\n",
       "        vertical-align: middle;\n",
       "    }\n",
       "\n",
       "    .dataframe tbody tr th {\n",
       "        vertical-align: top;\n",
       "    }\n",
       "\n",
       "    .dataframe thead th {\n",
       "        text-align: right;\n",
       "    }\n",
       "</style>\n",
       "<table border=\"1\" class=\"dataframe\">\n",
       "  <thead>\n",
       "    <tr style=\"text-align: right;\">\n",
       "      <th></th>\n",
       "      <th>Order ID</th>\n",
       "      <th>Order Date</th>\n",
       "      <th>Order Day</th>\n",
       "      <th>Order Weekday</th>\n",
       "      <th>Order Month</th>\n",
       "      <th>Order Year</th>\n",
       "      <th>Order Quarter</th>\n",
       "      <th>Ship Date</th>\n",
       "      <th>Ship Day</th>\n",
       "      <th>Ship Weekday</th>\n",
       "      <th>...</th>\n",
       "      <th>Profit per Piece</th>\n",
       "      <th>country code</th>\n",
       "      <th>postal code</th>\n",
       "      <th>place name</th>\n",
       "      <th>admin name1</th>\n",
       "      <th>admin code1</th>\n",
       "      <th>admin name2</th>\n",
       "      <th>admin code2</th>\n",
       "      <th>latitude</th>\n",
       "      <th>longitude</th>\n",
       "    </tr>\n",
       "  </thead>\n",
       "  <tbody>\n",
       "    <tr>\n",
       "      <th>0</th>\n",
       "      <td>CA-2013-152156</td>\n",
       "      <td>2013-11-09</td>\n",
       "      <td>9</td>\n",
       "      <td>Saturday</td>\n",
       "      <td>11</td>\n",
       "      <td>2013</td>\n",
       "      <td>4</td>\n",
       "      <td>2013-11-12</td>\n",
       "      <td>12</td>\n",
       "      <td>Tuesday</td>\n",
       "      <td>...</td>\n",
       "      <td>20.9568</td>\n",
       "      <td>US</td>\n",
       "      <td>42420</td>\n",
       "      <td>Henderson</td>\n",
       "      <td>Kentucky</td>\n",
       "      <td>KY</td>\n",
       "      <td>Henderson</td>\n",
       "      <td>101.0</td>\n",
       "      <td>37.8274</td>\n",
       "      <td>-87.5632</td>\n",
       "    </tr>\n",
       "    <tr>\n",
       "      <th>1</th>\n",
       "      <td>CA-2013-152156</td>\n",
       "      <td>2013-11-09</td>\n",
       "      <td>9</td>\n",
       "      <td>Saturday</td>\n",
       "      <td>11</td>\n",
       "      <td>2013</td>\n",
       "      <td>4</td>\n",
       "      <td>2013-11-12</td>\n",
       "      <td>12</td>\n",
       "      <td>Tuesday</td>\n",
       "      <td>...</td>\n",
       "      <td>73.1940</td>\n",
       "      <td>US</td>\n",
       "      <td>42420</td>\n",
       "      <td>Henderson</td>\n",
       "      <td>Kentucky</td>\n",
       "      <td>KY</td>\n",
       "      <td>Henderson</td>\n",
       "      <td>101.0</td>\n",
       "      <td>37.8274</td>\n",
       "      <td>-87.5632</td>\n",
       "    </tr>\n",
       "    <tr>\n",
       "      <th>2</th>\n",
       "      <td>CA-2013-138688</td>\n",
       "      <td>2013-06-13</td>\n",
       "      <td>13</td>\n",
       "      <td>Thursday</td>\n",
       "      <td>6</td>\n",
       "      <td>2013</td>\n",
       "      <td>2</td>\n",
       "      <td>2013-06-17</td>\n",
       "      <td>17</td>\n",
       "      <td>Monday</td>\n",
       "      <td>...</td>\n",
       "      <td>3.4357</td>\n",
       "      <td>US</td>\n",
       "      <td>90036</td>\n",
       "      <td>Los Angeles</td>\n",
       "      <td>California</td>\n",
       "      <td>CA</td>\n",
       "      <td>Los Angeles</td>\n",
       "      <td>37.0</td>\n",
       "      <td>34.0699</td>\n",
       "      <td>-118.3492</td>\n",
       "    </tr>\n",
       "    <tr>\n",
       "      <th>3</th>\n",
       "      <td>US-2012-108966</td>\n",
       "      <td>2012-10-11</td>\n",
       "      <td>11</td>\n",
       "      <td>Thursday</td>\n",
       "      <td>10</td>\n",
       "      <td>2012</td>\n",
       "      <td>4</td>\n",
       "      <td>2012-10-18</td>\n",
       "      <td>18</td>\n",
       "      <td>Thursday</td>\n",
       "      <td>...</td>\n",
       "      <td>-76.6062</td>\n",
       "      <td>US</td>\n",
       "      <td>33311</td>\n",
       "      <td>Fort Lauderdale</td>\n",
       "      <td>Florida</td>\n",
       "      <td>FL</td>\n",
       "      <td>Broward</td>\n",
       "      <td>11.0</td>\n",
       "      <td>26.1421</td>\n",
       "      <td>-80.1728</td>\n",
       "    </tr>\n",
       "    <tr>\n",
       "      <th>4</th>\n",
       "      <td>US-2012-108966</td>\n",
       "      <td>2012-10-11</td>\n",
       "      <td>11</td>\n",
       "      <td>Thursday</td>\n",
       "      <td>10</td>\n",
       "      <td>2012</td>\n",
       "      <td>4</td>\n",
       "      <td>2012-10-18</td>\n",
       "      <td>18</td>\n",
       "      <td>Thursday</td>\n",
       "      <td>...</td>\n",
       "      <td>1.2582</td>\n",
       "      <td>US</td>\n",
       "      <td>33311</td>\n",
       "      <td>Fort Lauderdale</td>\n",
       "      <td>Florida</td>\n",
       "      <td>FL</td>\n",
       "      <td>Broward</td>\n",
       "      <td>11.0</td>\n",
       "      <td>26.1421</td>\n",
       "      <td>-80.1728</td>\n",
       "    </tr>\n",
       "  </tbody>\n",
       "</table>\n",
       "<p>5 rows × 40 columns</p>\n",
       "</div>"
      ]
     },
     "execution_count": 146,
     "metadata": {},
     "output_type": "execute_result"
    }
   ],
   "execution_count": 146
  },
  {
   "metadata": {
    "ExecuteTime": {
     "end_time": "2025-09-10T10:12:32.874830Z",
     "start_time": "2025-09-10T10:12:32.851868Z"
    }
   },
   "cell_type": "code",
   "source": "df_map",
   "id": "b026269c580a4b0a",
   "outputs": [
    {
     "data": {
      "text/plain": [
       "            Order ID Order Date  Order Day Order Weekday  Order Month  \\\n",
       "0     CA-2013-152156 2013-11-09          9      Saturday           11   \n",
       "1     CA-2013-152156 2013-11-09          9      Saturday           11   \n",
       "2     CA-2013-138688 2013-06-13         13      Thursday            6   \n",
       "3     US-2012-108966 2012-10-11         11      Thursday           10   \n",
       "4     US-2012-108966 2012-10-11         11      Thursday           10   \n",
       "...              ...        ...        ...           ...          ...   \n",
       "9989  CA-2011-110422 2011-01-22         22      Saturday            1   \n",
       "9990  CA-2014-121258 2014-02-27         27      Thursday            2   \n",
       "9991  CA-2014-121258 2014-02-27         27      Thursday            2   \n",
       "9992  CA-2014-121258 2014-02-27         27      Thursday            2   \n",
       "9993  CA-2014-119914 2014-05-05          5        Monday            5   \n",
       "\n",
       "      Order Year  Order Quarter  Ship Date  Ship Day Ship Weekday  ...  \\\n",
       "0           2013              4 2013-11-12        12      Tuesday  ...   \n",
       "1           2013              4 2013-11-12        12      Tuesday  ...   \n",
       "2           2013              2 2013-06-17        17       Monday  ...   \n",
       "3           2012              4 2012-10-18        18     Thursday  ...   \n",
       "4           2012              4 2012-10-18        18     Thursday  ...   \n",
       "...          ...            ...        ...       ...          ...  ...   \n",
       "9989        2011              1 2011-01-24        24       Monday  ...   \n",
       "9990        2014              1 2014-03-04         4      Tuesday  ...   \n",
       "9991        2014              1 2014-03-04         4      Tuesday  ...   \n",
       "9992        2014              1 2014-03-04         4      Tuesday  ...   \n",
       "9993        2014              2 2014-05-10        10     Saturday  ...   \n",
       "\n",
       "      Profit per Piece  country code  postal code       place name  \\\n",
       "0              20.9568            US        42420        Henderson   \n",
       "1              73.1940            US        42420        Henderson   \n",
       "2               3.4357            US        90036      Los Angeles   \n",
       "3             -76.6062            US        33311  Fort Lauderdale   \n",
       "4               1.2582            US        33311  Fort Lauderdale   \n",
       "...                ...           ...          ...              ...   \n",
       "9989            1.3676            US        33180            Miami   \n",
       "9990            7.8166            US        92627       Costa Mesa   \n",
       "9991            9.6966            US        92627       Costa Mesa   \n",
       "9992            3.3300            US        92627       Costa Mesa   \n",
       "9993           36.4740            US        92683      Westminster   \n",
       "\n",
       "     admin name1 admin code1  admin name2 admin code2 latitude longitude  \n",
       "0       Kentucky          KY    Henderson       101.0  37.8274  -87.5632  \n",
       "1       Kentucky          KY    Henderson       101.0  37.8274  -87.5632  \n",
       "2     California          CA  Los Angeles        37.0  34.0699 -118.3492  \n",
       "3        Florida          FL      Broward        11.0  26.1421  -80.1728  \n",
       "4        Florida          FL      Broward        11.0  26.1421  -80.1728  \n",
       "...          ...         ...          ...         ...      ...       ...  \n",
       "9989     Florida          FL   Miami-Dade        86.0  25.9597  -80.1403  \n",
       "9990  California          CA       Orange        59.0  33.6483 -117.9155  \n",
       "9991  California          CA       Orange        59.0  33.6483 -117.9155  \n",
       "9992  California          CA       Orange        59.0  33.6483 -117.9155  \n",
       "9993  California          CA       Orange        59.0  33.7524 -117.9939  \n",
       "\n",
       "[9994 rows x 40 columns]"
      ],
      "text/html": [
       "<div>\n",
       "<style scoped>\n",
       "    .dataframe tbody tr th:only-of-type {\n",
       "        vertical-align: middle;\n",
       "    }\n",
       "\n",
       "    .dataframe tbody tr th {\n",
       "        vertical-align: top;\n",
       "    }\n",
       "\n",
       "    .dataframe thead th {\n",
       "        text-align: right;\n",
       "    }\n",
       "</style>\n",
       "<table border=\"1\" class=\"dataframe\">\n",
       "  <thead>\n",
       "    <tr style=\"text-align: right;\">\n",
       "      <th></th>\n",
       "      <th>Order ID</th>\n",
       "      <th>Order Date</th>\n",
       "      <th>Order Day</th>\n",
       "      <th>Order Weekday</th>\n",
       "      <th>Order Month</th>\n",
       "      <th>Order Year</th>\n",
       "      <th>Order Quarter</th>\n",
       "      <th>Ship Date</th>\n",
       "      <th>Ship Day</th>\n",
       "      <th>Ship Weekday</th>\n",
       "      <th>...</th>\n",
       "      <th>Profit per Piece</th>\n",
       "      <th>country code</th>\n",
       "      <th>postal code</th>\n",
       "      <th>place name</th>\n",
       "      <th>admin name1</th>\n",
       "      <th>admin code1</th>\n",
       "      <th>admin name2</th>\n",
       "      <th>admin code2</th>\n",
       "      <th>latitude</th>\n",
       "      <th>longitude</th>\n",
       "    </tr>\n",
       "  </thead>\n",
       "  <tbody>\n",
       "    <tr>\n",
       "      <th>0</th>\n",
       "      <td>CA-2013-152156</td>\n",
       "      <td>2013-11-09</td>\n",
       "      <td>9</td>\n",
       "      <td>Saturday</td>\n",
       "      <td>11</td>\n",
       "      <td>2013</td>\n",
       "      <td>4</td>\n",
       "      <td>2013-11-12</td>\n",
       "      <td>12</td>\n",
       "      <td>Tuesday</td>\n",
       "      <td>...</td>\n",
       "      <td>20.9568</td>\n",
       "      <td>US</td>\n",
       "      <td>42420</td>\n",
       "      <td>Henderson</td>\n",
       "      <td>Kentucky</td>\n",
       "      <td>KY</td>\n",
       "      <td>Henderson</td>\n",
       "      <td>101.0</td>\n",
       "      <td>37.8274</td>\n",
       "      <td>-87.5632</td>\n",
       "    </tr>\n",
       "    <tr>\n",
       "      <th>1</th>\n",
       "      <td>CA-2013-152156</td>\n",
       "      <td>2013-11-09</td>\n",
       "      <td>9</td>\n",
       "      <td>Saturday</td>\n",
       "      <td>11</td>\n",
       "      <td>2013</td>\n",
       "      <td>4</td>\n",
       "      <td>2013-11-12</td>\n",
       "      <td>12</td>\n",
       "      <td>Tuesday</td>\n",
       "      <td>...</td>\n",
       "      <td>73.1940</td>\n",
       "      <td>US</td>\n",
       "      <td>42420</td>\n",
       "      <td>Henderson</td>\n",
       "      <td>Kentucky</td>\n",
       "      <td>KY</td>\n",
       "      <td>Henderson</td>\n",
       "      <td>101.0</td>\n",
       "      <td>37.8274</td>\n",
       "      <td>-87.5632</td>\n",
       "    </tr>\n",
       "    <tr>\n",
       "      <th>2</th>\n",
       "      <td>CA-2013-138688</td>\n",
       "      <td>2013-06-13</td>\n",
       "      <td>13</td>\n",
       "      <td>Thursday</td>\n",
       "      <td>6</td>\n",
       "      <td>2013</td>\n",
       "      <td>2</td>\n",
       "      <td>2013-06-17</td>\n",
       "      <td>17</td>\n",
       "      <td>Monday</td>\n",
       "      <td>...</td>\n",
       "      <td>3.4357</td>\n",
       "      <td>US</td>\n",
       "      <td>90036</td>\n",
       "      <td>Los Angeles</td>\n",
       "      <td>California</td>\n",
       "      <td>CA</td>\n",
       "      <td>Los Angeles</td>\n",
       "      <td>37.0</td>\n",
       "      <td>34.0699</td>\n",
       "      <td>-118.3492</td>\n",
       "    </tr>\n",
       "    <tr>\n",
       "      <th>3</th>\n",
       "      <td>US-2012-108966</td>\n",
       "      <td>2012-10-11</td>\n",
       "      <td>11</td>\n",
       "      <td>Thursday</td>\n",
       "      <td>10</td>\n",
       "      <td>2012</td>\n",
       "      <td>4</td>\n",
       "      <td>2012-10-18</td>\n",
       "      <td>18</td>\n",
       "      <td>Thursday</td>\n",
       "      <td>...</td>\n",
       "      <td>-76.6062</td>\n",
       "      <td>US</td>\n",
       "      <td>33311</td>\n",
       "      <td>Fort Lauderdale</td>\n",
       "      <td>Florida</td>\n",
       "      <td>FL</td>\n",
       "      <td>Broward</td>\n",
       "      <td>11.0</td>\n",
       "      <td>26.1421</td>\n",
       "      <td>-80.1728</td>\n",
       "    </tr>\n",
       "    <tr>\n",
       "      <th>4</th>\n",
       "      <td>US-2012-108966</td>\n",
       "      <td>2012-10-11</td>\n",
       "      <td>11</td>\n",
       "      <td>Thursday</td>\n",
       "      <td>10</td>\n",
       "      <td>2012</td>\n",
       "      <td>4</td>\n",
       "      <td>2012-10-18</td>\n",
       "      <td>18</td>\n",
       "      <td>Thursday</td>\n",
       "      <td>...</td>\n",
       "      <td>1.2582</td>\n",
       "      <td>US</td>\n",
       "      <td>33311</td>\n",
       "      <td>Fort Lauderdale</td>\n",
       "      <td>Florida</td>\n",
       "      <td>FL</td>\n",
       "      <td>Broward</td>\n",
       "      <td>11.0</td>\n",
       "      <td>26.1421</td>\n",
       "      <td>-80.1728</td>\n",
       "    </tr>\n",
       "    <tr>\n",
       "      <th>...</th>\n",
       "      <td>...</td>\n",
       "      <td>...</td>\n",
       "      <td>...</td>\n",
       "      <td>...</td>\n",
       "      <td>...</td>\n",
       "      <td>...</td>\n",
       "      <td>...</td>\n",
       "      <td>...</td>\n",
       "      <td>...</td>\n",
       "      <td>...</td>\n",
       "      <td>...</td>\n",
       "      <td>...</td>\n",
       "      <td>...</td>\n",
       "      <td>...</td>\n",
       "      <td>...</td>\n",
       "      <td>...</td>\n",
       "      <td>...</td>\n",
       "      <td>...</td>\n",
       "      <td>...</td>\n",
       "      <td>...</td>\n",
       "      <td>...</td>\n",
       "    </tr>\n",
       "    <tr>\n",
       "      <th>9989</th>\n",
       "      <td>CA-2011-110422</td>\n",
       "      <td>2011-01-22</td>\n",
       "      <td>22</td>\n",
       "      <td>Saturday</td>\n",
       "      <td>1</td>\n",
       "      <td>2011</td>\n",
       "      <td>1</td>\n",
       "      <td>2011-01-24</td>\n",
       "      <td>24</td>\n",
       "      <td>Monday</td>\n",
       "      <td>...</td>\n",
       "      <td>1.3676</td>\n",
       "      <td>US</td>\n",
       "      <td>33180</td>\n",
       "      <td>Miami</td>\n",
       "      <td>Florida</td>\n",
       "      <td>FL</td>\n",
       "      <td>Miami-Dade</td>\n",
       "      <td>86.0</td>\n",
       "      <td>25.9597</td>\n",
       "      <td>-80.1403</td>\n",
       "    </tr>\n",
       "    <tr>\n",
       "      <th>9990</th>\n",
       "      <td>CA-2014-121258</td>\n",
       "      <td>2014-02-27</td>\n",
       "      <td>27</td>\n",
       "      <td>Thursday</td>\n",
       "      <td>2</td>\n",
       "      <td>2014</td>\n",
       "      <td>1</td>\n",
       "      <td>2014-03-04</td>\n",
       "      <td>4</td>\n",
       "      <td>Tuesday</td>\n",
       "      <td>...</td>\n",
       "      <td>7.8166</td>\n",
       "      <td>US</td>\n",
       "      <td>92627</td>\n",
       "      <td>Costa Mesa</td>\n",
       "      <td>California</td>\n",
       "      <td>CA</td>\n",
       "      <td>Orange</td>\n",
       "      <td>59.0</td>\n",
       "      <td>33.6483</td>\n",
       "      <td>-117.9155</td>\n",
       "    </tr>\n",
       "    <tr>\n",
       "      <th>9991</th>\n",
       "      <td>CA-2014-121258</td>\n",
       "      <td>2014-02-27</td>\n",
       "      <td>27</td>\n",
       "      <td>Thursday</td>\n",
       "      <td>2</td>\n",
       "      <td>2014</td>\n",
       "      <td>1</td>\n",
       "      <td>2014-03-04</td>\n",
       "      <td>4</td>\n",
       "      <td>Tuesday</td>\n",
       "      <td>...</td>\n",
       "      <td>9.6966</td>\n",
       "      <td>US</td>\n",
       "      <td>92627</td>\n",
       "      <td>Costa Mesa</td>\n",
       "      <td>California</td>\n",
       "      <td>CA</td>\n",
       "      <td>Orange</td>\n",
       "      <td>59.0</td>\n",
       "      <td>33.6483</td>\n",
       "      <td>-117.9155</td>\n",
       "    </tr>\n",
       "    <tr>\n",
       "      <th>9992</th>\n",
       "      <td>CA-2014-121258</td>\n",
       "      <td>2014-02-27</td>\n",
       "      <td>27</td>\n",
       "      <td>Thursday</td>\n",
       "      <td>2</td>\n",
       "      <td>2014</td>\n",
       "      <td>1</td>\n",
       "      <td>2014-03-04</td>\n",
       "      <td>4</td>\n",
       "      <td>Tuesday</td>\n",
       "      <td>...</td>\n",
       "      <td>3.3300</td>\n",
       "      <td>US</td>\n",
       "      <td>92627</td>\n",
       "      <td>Costa Mesa</td>\n",
       "      <td>California</td>\n",
       "      <td>CA</td>\n",
       "      <td>Orange</td>\n",
       "      <td>59.0</td>\n",
       "      <td>33.6483</td>\n",
       "      <td>-117.9155</td>\n",
       "    </tr>\n",
       "    <tr>\n",
       "      <th>9993</th>\n",
       "      <td>CA-2014-119914</td>\n",
       "      <td>2014-05-05</td>\n",
       "      <td>5</td>\n",
       "      <td>Monday</td>\n",
       "      <td>5</td>\n",
       "      <td>2014</td>\n",
       "      <td>2</td>\n",
       "      <td>2014-05-10</td>\n",
       "      <td>10</td>\n",
       "      <td>Saturday</td>\n",
       "      <td>...</td>\n",
       "      <td>36.4740</td>\n",
       "      <td>US</td>\n",
       "      <td>92683</td>\n",
       "      <td>Westminster</td>\n",
       "      <td>California</td>\n",
       "      <td>CA</td>\n",
       "      <td>Orange</td>\n",
       "      <td>59.0</td>\n",
       "      <td>33.7524</td>\n",
       "      <td>-117.9939</td>\n",
       "    </tr>\n",
       "  </tbody>\n",
       "</table>\n",
       "<p>9994 rows × 40 columns</p>\n",
       "</div>"
      ]
     },
     "execution_count": 156,
     "metadata": {},
     "output_type": "execute_result"
    }
   ],
   "execution_count": 156
  },
  {
   "metadata": {
    "ExecuteTime": {
     "end_time": "2025-09-10T10:16:09.609466Z",
     "start_time": "2025-09-10T10:16:09.601595Z"
    }
   },
   "cell_type": "code",
   "source": [
    "df_city = (\n",
    "    df_map.groupby([\"Postal Code\", \"latitude\", \"longitude\"])[\"Delivery Time\"]\n",
    "    .mean()\n",
    ")\n",
    "print(df_city)\n"
   ],
   "id": "1ab55eebbe7c3a52",
   "outputs": [
    {
     "name": "stdout",
     "output_type": "stream",
     "text": [
      "Postal Code  latitude  longitude\n",
      "01040        42.2020   -72.6262     5.000000\n",
      "01453        42.5274   -71.7563     4.333333\n",
      "01752        42.3509   -71.5434     5.000000\n",
      "01810        42.6496   -71.1565     3.000000\n",
      "01841        42.7115   -71.1670     3.878788\n",
      "                                      ...   \n",
      "98502        47.1043   -123.0552    2.800000\n",
      "98632        46.1514   -122.9634    3.666667\n",
      "98661        45.6418   -122.6251    4.600000\n",
      "99207        47.6977   -117.3746    2.285714\n",
      "99301        46.2492   -119.1044    6.333333\n",
      "Name: Delivery Time, Length: 631, dtype: float64\n"
     ]
    }
   ],
   "execution_count": 162
  },
  {
   "metadata": {
    "ExecuteTime": {
     "end_time": "2025-09-10T10:18:01.535132Z",
     "start_time": "2025-09-10T10:18:01.527003Z"
    }
   },
   "cell_type": "code",
   "source": "df_city = df_map.groupby(\"Postal Code\")[[\"Delivery Time\", \"latitude\", \"longitude\"]].mean().reset_index()\n",
   "id": "f2f5f30cae7e107b",
   "outputs": [],
   "execution_count": 165
  },
  {
   "metadata": {
    "ExecuteTime": {
     "end_time": "2025-09-10T10:18:02.967421Z",
     "start_time": "2025-09-10T10:18:02.963577Z"
    }
   },
   "cell_type": "code",
   "source": "print(df_city.columns)",
   "id": "6c07a2f24ec7c15d",
   "outputs": [
    {
     "name": "stdout",
     "output_type": "stream",
     "text": [
      "Index(['Postal Code', 'Delivery Time', 'latitude', 'longitude'], dtype='object')\n"
     ]
    }
   ],
   "execution_count": 166
  },
  {
   "metadata": {
    "ExecuteTime": {
     "end_time": "2025-09-10T11:27:27.692293Z",
     "start_time": "2025-09-10T11:27:27.630506Z"
    }
   },
   "cell_type": "code",
   "source": [
    "import plotly.express as px\n",
    "\n",
    "fig = px.scatter_map(\n",
    "    df_city,\n",
    "    lat=\"latitude\",\n",
    "    lon=\"longitude\",     # Punktgröße nach Lieferzeit\n",
    "    color=\"Delivery Time\",    # Farbe nach Lieferzeit\n",
    "    hover_name=\"Postal Code\", # Tooltip zeigt Postal Code\n",
    "    hover_data={\"latitude\":False, \"longitude\":False}, # optional, um lat/lon auszublenden\n",
    ")\n",
    "\n",
    "fig.update_layout(\n",
    "    mapbox_style=\"open-street-map\",  # einfache Karte ohne Token\n",
    "    margin={\"r\":0,\"t\":0,\"l\":0,\"b\":0}\n",
    ")\n",
    "\n",
    "fig.show()"
   ],
   "id": "f9ffeb194929d2f4",
   "outputs": [
    {
     "data": {
      "application/vnd.plotly.v1+json": {
       "data": [
        {
         "customdata": {
          "dtype": "f8",
          "bdata": "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",
          "shape": "631, 2"
         },
         "hovertemplate": "<b>%{hovertext}</b><br><br>Delivery Time=%{marker.color}<extra></extra>",
         "hovertext": [
          "01040",
          "01453",
          "01752",
          "01810",
          "01841",
          "01852",
          "01915",
          "02038",
          "02138",
          "02148",
          "02149",
          "02151",
          "02169",
          "02740",
          "02886",
          "02895",
          "02908",
          "02920",
          "03060",
          "03301",
          "03820",
          "04240",
          "04401",
          "05408",
          "06010",
          "06040",
          "06360",
          "06450",
          "06457",
          "06460",
          "06484",
          "06708",
          "06810",
          "06824",
          "07002",
          "07011",
          "07017",
          "07036",
          "07050",
          "07055",
          "07060",
          "07090",
          "07109",
          "07501",
          "07601",
          "07960",
          "08302",
          "08360",
          "08401",
          "08701",
          "08861",
          "08901",
          "10009",
          "10011",
          "10024",
          "10035",
          "10550",
          "10701",
          "10801",
          "11520",
          "11550",
          "11561",
          "11572",
          "11757",
          "12180",
          "13021",
          "13440",
          "13501",
          "13601",
          "14215",
          "14304",
          "14609",
          "14701",
          "16602",
          "17403",
          "17602",
          "18018",
          "18103",
          "19013",
          "19120",
          "19134",
          "19140",
          "19143",
          "19601",
          "19711",
          "19805",
          "19901",
          "20016",
          "20707",
          "20735",
          "20852",
          "20877",
          "21044",
          "21215",
          "21740",
          "22153",
          "22204",
          "22304",
          "22801",
          "22901",
          "22980",
          "23223",
          "23320",
          "23434",
          "23464",
          "23602",
          "23666",
          "24153",
          "26003",
          "27217",
          "27360",
          "27405",
          "27511",
          "27514",
          "27534",
          "27604",
          "27707",
          "27834",
          "27893",
          "28027",
          "28052",
          "28110",
          "28205",
          "28314",
          "28403",
          "28540",
          "28601",
          "28806",
          "29203",
          "29406",
          "29464",
          "29483",
          "29501",
          "29730",
          "30062",
          "30076",
          "30080",
          "30188",
          "30318",
          "30328",
          "30344",
          "30605",
          "31088",
          "31204",
          "31907",
          "32114",
          "32127",
          "32137",
          "32174",
          "32216",
          "32303",
          "32503",
          "32712",
          "32725",
          "32771",
          "32839",
          "32935",
          "33012",
          "33021",
          "33023",
          "33024",
          "33030",
          "33063",
          "33065",
          "33068",
          "33134",
          "33142",
          "33161",
          "33178",
          "33180",
          "33311",
          "33317",
          "33319",
          "33407",
          "33433",
          "33437",
          "33445",
          "33458",
          "33614",
          "33710",
          "33801",
          "34741",
          "34952",
          "35244",
          "35401",
          "35601",
          "35630",
          "35810",
          "36116",
          "36608",
          "36830",
          "37042",
          "37064",
          "37075",
          "37087",
          "37130",
          "37167",
          "37211",
          "37421",
          "37604",
          "37620",
          "37918",
          "38109",
          "38134",
          "38301",
          "38401",
          "38671",
          "39212",
          "39401",
          "39503",
          "40214",
          "40324",
          "40475",
          "41042",
          "42071",
          "42104",
          "42301",
          "42420",
          "43017",
          "43055",
          "43123",
          "43130",
          "43229",
          "43302",
          "43402",
          "43615",
          "44035",
          "44052",
          "44060",
          "44105",
          "44107",
          "44134",
          "44221",
          "44240",
          "44256",
          "44312",
          "45011",
          "45014",
          "45040",
          "45231",
          "45373",
          "45503",
          "46060",
          "46142",
          "46203",
          "46226",
          "46350",
          "46368",
          "46514",
          "46544",
          "46614",
          "47150",
          "47201",
          "47362",
          "47374",
          "47401",
          "47905",
          "48066",
          "48073",
          "48104",
          "48126",
          "48127",
          "48146",
          "48180",
          "48183",
          "48185",
          "48187",
          "48205",
          "48227",
          "48234",
          "48237",
          "48307",
          "48310",
          "48601",
          "48640",
          "48858",
          "48911",
          "49201",
          "49423",
          "49505",
          "50315",
          "50322",
          "50701",
          "52001",
          "52240",
          "52302",
          "52402",
          "52601",
          "53081",
          "53132",
          "53142",
          "53186",
          "53209",
          "53214",
          "53711",
          "54302",
          "54401",
          "54601",
          "54703",
          "54880",
          "54915",
          "55016",
          "55044",
          "55106",
          "55113",
          "55122",
          "55124",
          "55125",
          "55369",
          "55407",
          "55433",
          "55901",
          "56301",
          "56560",
          "57103",
          "57401",
          "57701",
          "58103",
          "59102",
          "59405",
          "59601",
          "59715",
          "59801",
          "60004",
          "60016",
          "60025",
          "60035",
          "60067",
          "60068",
          "60076",
          "60089",
          "60090",
          "60098",
          "60126",
          "60174",
          "60188",
          "60201",
          "60302",
          "60423",
          "60440",
          "60441",
          "60462",
          "60477",
          "60505",
          "60540",
          "60543",
          "60610",
          "60623",
          "60653",
          "61032",
          "61107",
          "61604",
          "61701",
          "61761",
          "61821",
          "61832",
          "62301",
          "62521",
          "63116",
          "63122",
          "63301",
          "63376",
          "64055",
          "64118",
          "65109",
          "65203",
          "65807",
          "66062",
          "66212",
          "66502",
          "67212",
          "67846",
          "68025",
          "68104",
          "68701",
          "68801",
          "70065",
          "70506",
          "70601",
          "71111",
          "71203",
          "71603",
          "71854",
          "71901",
          "72032",
          "72209",
          "72401",
          "72701",
          "72756",
          "72762",
          "73034",
          "73071",
          "73120",
          "73505",
          "74012",
          "74133",
          "74403",
          "75002",
          "75007",
          "75019",
          "75023",
          "75034",
          "75043",
          "75051",
          "75056",
          "75061",
          "75080",
          "75081",
          "75104",
          "75150",
          "75217",
          "75220",
          "75701",
          "76017",
          "76021",
          "76051",
          "76063",
          "76106",
          "76117",
          "76248",
          "76706",
          "76903",
          "77036",
          "77041",
          "77070",
          "77095",
          "77301",
          "77340",
          "77489",
          "77506",
          "77520",
          "77536",
          "77571",
          "77573",
          "77581",
          "77590",
          "77642",
          "77705",
          "77803",
          "77840",
          "78041",
          "78207",
          "78415",
          "78501",
          "78521",
          "78539",
          "78550",
          "78577",
          "78664",
          "78666",
          "78745",
          "79109",
          "79424",
          "79605",
          "79762",
          "79907",
          "80004",
          "80013",
          "80020",
          "80022",
          "80027",
          "80112",
          "80122",
          "80134",
          "80219",
          "80229",
          "80501",
          "80525",
          "80538",
          "80634",
          "80906",
          "81001",
          "82001",
          "83201",
          "83301",
          "83501",
          "83605",
          "83642",
          "83704",
          "84020",
          "84041",
          "84043",
          "84057",
          "84062",
          "84084",
          "84106",
          "84107",
          "84321",
          "84604",
          "85023",
          "85204",
          "85224",
          "85234",
          "85254",
          "85281",
          "85301",
          "85323",
          "85345",
          "85364",
          "85635",
          "85705",
          "86442",
          "87105",
          "87124",
          "87401",
          "87505",
          "88001",
          "88101",
          "88220",
          "89015",
          "89031",
          "89115",
          "89431",
          "89502",
          "90004",
          "90008",
          "90032",
          "90036",
          "90045",
          "90049",
          "90278",
          "90301",
          "90503",
          "90604",
          "90640",
          "90660",
          "90712",
          "90805",
          "91104",
          "91360",
          "91505",
          "91730",
          "91761",
          "91767",
          "91776",
          "91911",
          "91941",
          "92020",
          "92024",
          "92025",
          "92037",
          "92054",
          "92105",
          "92236",
          "92253",
          "92307",
          "92345",
          "92374",
          "92399",
          "92404",
          "92503",
          "92530",
          "92553",
          "92563",
          "92592",
          "92627",
          "92630",
          "92646",
          "92672",
          "92677",
          "92683",
          "92691",
          "92704",
          "92804",
          "93010",
          "93030",
          "93101",
          "93277",
          "93309",
          "93405",
          "93454",
          "93534",
          "93727",
          "93905",
          "94061",
          "94086",
          "94109",
          "94110",
          "94122",
          "94403",
          "94509",
          "94513",
          "94521",
          "94526",
          "94533",
          "94568",
          "94591",
          "94601",
          "95037",
          "95051",
          "95123",
          "95207",
          "95240",
          "95336",
          "95351",
          "95610",
          "95616",
          "95661",
          "95687",
          "95695",
          "95823",
          "95928",
          "96003",
          "97030",
          "97123",
          "97206",
          "97224",
          "97301",
          "97405",
          "97477",
          "97504",
          "97756",
          "98002",
          "98006",
          "98026",
          "98031",
          "98042",
          "98052",
          "98059",
          "98103",
          "98105",
          "98115",
          "98198",
          "98208",
          "98226",
          "98270",
          "98502",
          "98632",
          "98661",
          "99207",
          "99301"
         ],
         "lat": {
          "dtype": "f8",
          "bdata": "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"
         },
         "legendgroup": "",
         "lon": {
          "dtype": "f8",
          "bdata": "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"
         },
         "marker": {
          "color": {
           "dtype": "f8",
           "bdata": "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"
          },
          "coloraxis": "coloraxis"
         },
         "mode": "markers",
         "name": "",
         "showlegend": false,
         "subplot": "map",
         "type": "scattermap"
        }
       ],
       "layout": {
        "template": {
         "data": {
          "histogram2dcontour": [
           {
            "type": "histogram2dcontour",
            "colorbar": {
             "outlinewidth": 0,
             "ticks": ""
            },
            "colorscale": [
             [
              0.0,
              "#0d0887"
             ],
             [
              0.1111111111111111,
              "#46039f"
             ],
             [
              0.2222222222222222,
              "#7201a8"
             ],
             [
              0.3333333333333333,
              "#9c179e"
             ],
             [
              0.4444444444444444,
              "#bd3786"
             ],
             [
              0.5555555555555556,
              "#d8576b"
             ],
             [
              0.6666666666666666,
              "#ed7953"
             ],
             [
              0.7777777777777778,
              "#fb9f3a"
             ],
             [
              0.8888888888888888,
              "#fdca26"
             ],
             [
              1.0,
              "#f0f921"
             ]
            ]
           }
          ],
          "choropleth": [
           {
            "type": "choropleth",
            "colorbar": {
             "outlinewidth": 0,
             "ticks": ""
            }
           }
          ],
          "histogram2d": [
           {
            "type": "histogram2d",
            "colorbar": {
             "outlinewidth": 0,
             "ticks": ""
            },
            "colorscale": [
             [
              0.0,
              "#0d0887"
             ],
             [
              0.1111111111111111,
              "#46039f"
             ],
             [
              0.2222222222222222,
              "#7201a8"
             ],
             [
              0.3333333333333333,
              "#9c179e"
             ],
             [
              0.4444444444444444,
              "#bd3786"
             ],
             [
              0.5555555555555556,
              "#d8576b"
             ],
             [
              0.6666666666666666,
              "#ed7953"
             ],
             [
              0.7777777777777778,
              "#fb9f3a"
             ],
             [
              0.8888888888888888,
              "#fdca26"
             ],
             [
              1.0,
              "#f0f921"
             ]
            ]
           }
          ],
          "heatmap": [
           {
            "type": "heatmap",
            "colorbar": {
             "outlinewidth": 0,
             "ticks": ""
            },
            "colorscale": [
             [
              0.0,
              "#0d0887"
             ],
             [
              0.1111111111111111,
              "#46039f"
             ],
             [
              0.2222222222222222,
              "#7201a8"
             ],
             [
              0.3333333333333333,
              "#9c179e"
             ],
             [
              0.4444444444444444,
              "#bd3786"
             ],
             [
              0.5555555555555556,
              "#d8576b"
             ],
             [
              0.6666666666666666,
              "#ed7953"
             ],
             [
              0.7777777777777778,
              "#fb9f3a"
             ],
             [
              0.8888888888888888,
              "#fdca26"
             ],
             [
              1.0,
              "#f0f921"
             ]
            ]
           }
          ],
          "contourcarpet": [
           {
            "type": "contourcarpet",
            "colorbar": {
             "outlinewidth": 0,
             "ticks": ""
            }
           }
          ],
          "contour": [
           {
            "type": "contour",
            "colorbar": {
             "outlinewidth": 0,
             "ticks": ""
            },
            "colorscale": [
             [
              0.0,
              "#0d0887"
             ],
             [
              0.1111111111111111,
              "#46039f"
             ],
             [
              0.2222222222222222,
              "#7201a8"
             ],
             [
              0.3333333333333333,
              "#9c179e"
             ],
             [
              0.4444444444444444,
              "#bd3786"
             ],
             [
              0.5555555555555556,
              "#d8576b"
             ],
             [
              0.6666666666666666,
              "#ed7953"
             ],
             [
              0.7777777777777778,
              "#fb9f3a"
             ],
             [
              0.8888888888888888,
              "#fdca26"
             ],
             [
              1.0,
              "#f0f921"
             ]
            ]
           }
          ],
          "surface": [
           {
            "type": "surface",
            "colorbar": {
             "outlinewidth": 0,
             "ticks": ""
            },
            "colorscale": [
             [
              0.0,
              "#0d0887"
             ],
             [
              0.1111111111111111,
              "#46039f"
             ],
             [
              0.2222222222222222,
              "#7201a8"
             ],
             [
              0.3333333333333333,
              "#9c179e"
             ],
             [
              0.4444444444444444,
              "#bd3786"
             ],
             [
              0.5555555555555556,
              "#d8576b"
             ],
             [
              0.6666666666666666,
              "#ed7953"
             ],
             [
              0.7777777777777778,
              "#fb9f3a"
             ],
             [
              0.8888888888888888,
              "#fdca26"
             ],
             [
              1.0,
              "#f0f921"
             ]
            ]
           }
          ],
          "mesh3d": [
           {
            "type": "mesh3d",
            "colorbar": {
             "outlinewidth": 0,
             "ticks": ""
            }
           }
          ],
          "scatter": [
           {
            "fillpattern": {
             "fillmode": "overlay",
             "size": 10,
             "solidity": 0.2
            },
            "type": "scatter"
           }
          ],
          "parcoords": [
           {
            "type": "parcoords",
            "line": {
             "colorbar": {
              "outlinewidth": 0,
              "ticks": ""
             }
            }
           }
          ],
          "scatterpolargl": [
           {
            "type": "scatterpolargl",
            "marker": {
             "colorbar": {
              "outlinewidth": 0,
              "ticks": ""
             }
            }
           }
          ],
          "bar": [
           {
            "error_x": {
             "color": "#2a3f5f"
            },
            "error_y": {
             "color": "#2a3f5f"
            },
            "marker": {
             "line": {
              "color": "#E5ECF6",
              "width": 0.5
             },
             "pattern": {
              "fillmode": "overlay",
              "size": 10,
              "solidity": 0.2
             }
            },
            "type": "bar"
           }
          ],
          "scattergeo": [
           {
            "type": "scattergeo",
            "marker": {
             "colorbar": {
              "outlinewidth": 0,
              "ticks": ""
             }
            }
           }
          ],
          "scatterpolar": [
           {
            "type": "scatterpolar",
            "marker": {
             "colorbar": {
              "outlinewidth": 0,
              "ticks": ""
             }
            }
           }
          ],
          "histogram": [
           {
            "marker": {
             "pattern": {
              "fillmode": "overlay",
              "size": 10,
              "solidity": 0.2
             }
            },
            "type": "histogram"
           }
          ],
          "scattergl": [
           {
            "type": "scattergl",
            "marker": {
             "colorbar": {
              "outlinewidth": 0,
              "ticks": ""
             }
            }
           }
          ],
          "scatter3d": [
           {
            "type": "scatter3d",
            "line": {
             "colorbar": {
              "outlinewidth": 0,
              "ticks": ""
             }
            },
            "marker": {
             "colorbar": {
              "outlinewidth": 0,
              "ticks": ""
             }
            }
           }
          ],
          "scattermap": [
           {
            "type": "scattermap",
            "marker": {
             "colorbar": {
              "outlinewidth": 0,
              "ticks": ""
             }
            }
           }
          ],
          "scattermapbox": [
           {
            "type": "scattermapbox",
            "marker": {
             "colorbar": {
              "outlinewidth": 0,
              "ticks": ""
             }
            }
           }
          ],
          "scatterternary": [
           {
            "type": "scatterternary",
            "marker": {
             "colorbar": {
              "outlinewidth": 0,
              "ticks": ""
             }
            }
           }
          ],
          "scattercarpet": [
           {
            "type": "scattercarpet",
            "marker": {
             "colorbar": {
              "outlinewidth": 0,
              "ticks": ""
             }
            }
           }
          ],
          "carpet": [
           {
            "aaxis": {
             "endlinecolor": "#2a3f5f",
             "gridcolor": "white",
             "linecolor": "white",
             "minorgridcolor": "white",
             "startlinecolor": "#2a3f5f"
            },
            "baxis": {
             "endlinecolor": "#2a3f5f",
             "gridcolor": "white",
             "linecolor": "white",
             "minorgridcolor": "white",
             "startlinecolor": "#2a3f5f"
            },
            "type": "carpet"
           }
          ],
          "table": [
           {
            "cells": {
             "fill": {
              "color": "#EBF0F8"
             },
             "line": {
              "color": "white"
             }
            },
            "header": {
             "fill": {
              "color": "#C8D4E3"
             },
             "line": {
              "color": "white"
             }
            },
            "type": "table"
           }
          ],
          "barpolar": [
           {
            "marker": {
             "line": {
              "color": "#E5ECF6",
              "width": 0.5
             },
             "pattern": {
              "fillmode": "overlay",
              "size": 10,
              "solidity": 0.2
             }
            },
            "type": "barpolar"
           }
          ],
          "pie": [
           {
            "automargin": true,
            "type": "pie"
           }
          ]
         },
         "layout": {
          "autotypenumbers": "strict",
          "colorway": [
           "#636efa",
           "#EF553B",
           "#00cc96",
           "#ab63fa",
           "#FFA15A",
           "#19d3f3",
           "#FF6692",
           "#B6E880",
           "#FF97FF",
           "#FECB52"
          ],
          "font": {
           "color": "#2a3f5f"
          },
          "hovermode": "closest",
          "hoverlabel": {
           "align": "left"
          },
          "paper_bgcolor": "white",
          "plot_bgcolor": "#E5ECF6",
          "polar": {
           "bgcolor": "#E5ECF6",
           "angularaxis": {
            "gridcolor": "white",
            "linecolor": "white",
            "ticks": ""
           },
           "radialaxis": {
            "gridcolor": "white",
            "linecolor": "white",
            "ticks": ""
           }
          },
          "ternary": {
           "bgcolor": "#E5ECF6",
           "aaxis": {
            "gridcolor": "white",
            "linecolor": "white",
            "ticks": ""
           },
           "baxis": {
            "gridcolor": "white",
            "linecolor": "white",
            "ticks": ""
           },
           "caxis": {
            "gridcolor": "white",
            "linecolor": "white",
            "ticks": ""
           }
          },
          "coloraxis": {
           "colorbar": {
            "outlinewidth": 0,
            "ticks": ""
           }
          },
          "colorscale": {
           "sequential": [
            [
             0.0,
             "#0d0887"
            ],
            [
             0.1111111111111111,
             "#46039f"
            ],
            [
             0.2222222222222222,
             "#7201a8"
            ],
            [
             0.3333333333333333,
             "#9c179e"
            ],
            [
             0.4444444444444444,
             "#bd3786"
            ],
            [
             0.5555555555555556,
             "#d8576b"
            ],
            [
             0.6666666666666666,
             "#ed7953"
            ],
            [
             0.7777777777777778,
             "#fb9f3a"
            ],
            [
             0.8888888888888888,
             "#fdca26"
            ],
            [
             1.0,
             "#f0f921"
            ]
           ],
           "sequentialminus": [
            [
             0.0,
             "#0d0887"
            ],
            [
             0.1111111111111111,
             "#46039f"
            ],
            [
             0.2222222222222222,
             "#7201a8"
            ],
            [
             0.3333333333333333,
             "#9c179e"
            ],
            [
             0.4444444444444444,
             "#bd3786"
            ],
            [
             0.5555555555555556,
             "#d8576b"
            ],
            [
             0.6666666666666666,
             "#ed7953"
            ],
            [
             0.7777777777777778,
             "#fb9f3a"
            ],
            [
             0.8888888888888888,
             "#fdca26"
            ],
            [
             1.0,
             "#f0f921"
            ]
           ],
           "diverging": [
            [
             0,
             "#8e0152"
            ],
            [
             0.1,
             "#c51b7d"
            ],
            [
             0.2,
             "#de77ae"
            ],
            [
             0.3,
             "#f1b6da"
            ],
            [
             0.4,
             "#fde0ef"
            ],
            [
             0.5,
             "#f7f7f7"
            ],
            [
             0.6,
             "#e6f5d0"
            ],
            [
             0.7,
             "#b8e186"
            ],
            [
             0.8,
             "#7fbc41"
            ],
            [
             0.9,
             "#4d9221"
            ],
            [
             1,
             "#276419"
            ]
           ]
          },
          "xaxis": {
           "gridcolor": "white",
           "linecolor": "white",
           "ticks": "",
           "title": {
            "standoff": 15
           },
           "zerolinecolor": "white",
           "automargin": true,
           "zerolinewidth": 2
          },
          "yaxis": {
           "gridcolor": "white",
           "linecolor": "white",
           "ticks": "",
           "title": {
            "standoff": 15
           },
           "zerolinecolor": "white",
           "automargin": true,
           "zerolinewidth": 2
          },
          "scene": {
           "xaxis": {
            "backgroundcolor": "#E5ECF6",
            "gridcolor": "white",
            "linecolor": "white",
            "showbackground": true,
            "ticks": "",
            "zerolinecolor": "white",
            "gridwidth": 2
           },
           "yaxis": {
            "backgroundcolor": "#E5ECF6",
            "gridcolor": "white",
            "linecolor": "white",
            "showbackground": true,
            "ticks": "",
            "zerolinecolor": "white",
            "gridwidth": 2
           },
           "zaxis": {
            "backgroundcolor": "#E5ECF6",
            "gridcolor": "white",
            "linecolor": "white",
            "showbackground": true,
            "ticks": "",
            "zerolinecolor": "white",
            "gridwidth": 2
           }
          },
          "shapedefaults": {
           "line": {
            "color": "#2a3f5f"
           }
          },
          "annotationdefaults": {
           "arrowcolor": "#2a3f5f",
           "arrowhead": 0,
           "arrowwidth": 1
          },
          "geo": {
           "bgcolor": "white",
           "landcolor": "#E5ECF6",
           "subunitcolor": "white",
           "showland": true,
           "showlakes": true,
           "lakecolor": "white"
          },
          "title": {
           "x": 0.05
          },
          "mapbox": {
           "style": "light"
          }
         }
        },
        "map": {
         "domain": {
          "x": [
           0.0,
           1.0
          ],
          "y": [
           0.0,
           1.0
          ]
         },
         "center": {
          "lat": 37.71090522979398,
          "lon": -94.02997733755943
         },
         "zoom": 8
        },
        "coloraxis": {
         "colorbar": {
          "title": {
           "text": "Delivery Time"
          }
         },
         "colorscale": [
          [
           0.0,
           "#0d0887"
          ],
          [
           0.1111111111111111,
           "#46039f"
          ],
          [
           0.2222222222222222,
           "#7201a8"
          ],
          [
           0.3333333333333333,
           "#9c179e"
          ],
          [
           0.4444444444444444,
           "#bd3786"
          ],
          [
           0.5555555555555556,
           "#d8576b"
          ],
          [
           0.6666666666666666,
           "#ed7953"
          ],
          [
           0.7777777777777778,
           "#fb9f3a"
          ],
          [
           0.8888888888888888,
           "#fdca26"
          ],
          [
           1.0,
           "#f0f921"
          ]
         ]
        },
        "legend": {
         "tracegroupgap": 0
        },
        "margin": {
         "t": 0,
         "r": 0,
         "l": 0,
         "b": 0
        },
        "mapbox": {
         "center": {
          "lat": 37.71090522979398,
          "lon": -94.02997733755943
         },
         "zoom": 8,
         "style": "open-street-map"
        }
       },
       "config": {
        "plotlyServerURL": "https://plot.ly"
       }
      }
     },
     "metadata": {},
     "output_type": "display_data",
     "jetTransient": {
      "display_id": null
     }
    }
   ],
   "execution_count": 182
  },
  {
   "metadata": {},
   "cell_type": "markdown",
   "source": "Achtung! Besteller bestellen an unterschiedliche Städte. Deshalb das auch gruppieren!",
   "id": "fcaa415bdb180176"
  },
  {
   "metadata": {
    "ExecuteTime": {
     "end_time": "2025-09-10T11:30:57.536459Z",
     "start_time": "2025-09-10T11:30:57.523483Z"
    }
   },
   "cell_type": "code",
   "source": [
    "df_city_1 = (\n",
    "    df_map.groupby([\"Postal Code\", \"latitude\", \"longitude\"])[\"Profit\"]\n",
    "    .mean()\n",
    ")\n",
    "print(df_city_1)\n"
   ],
   "id": "9afd86883709f11c",
   "outputs": [
    {
     "name": "stdout",
     "output_type": "stream",
     "text": [
      "Postal Code  latitude  longitude\n",
      "01040        42.2020   -72.6262     60.392000\n",
      "01453        42.5274   -71.7563     13.250267\n",
      "01752        42.3509   -71.5434     33.803400\n",
      "01810        42.6496   -71.1565     31.047150\n",
      "01841        42.7115   -71.1670     56.042530\n",
      "                                      ...    \n",
      "98502        47.1043   -123.0552    27.925380\n",
      "98632        46.1514   -122.9634    12.966100\n",
      "98661        45.6418   -122.6251    15.090920\n",
      "99207        47.6977   -117.3746    24.603729\n",
      "99301        46.2492   -119.1044    59.587400\n",
      "Name: Profit, Length: 631, dtype: float64\n"
     ]
    }
   ],
   "execution_count": 185
  },
  {
   "metadata": {
    "ExecuteTime": {
     "end_time": "2025-09-10T11:32:32.434766Z",
     "start_time": "2025-09-10T11:32:32.426332Z"
    }
   },
   "cell_type": "code",
   "source": [
    "df_city_1 = (\n",
    "    df_map.groupby([\"Postal Code\", \"latitude\", \"longitude\"])[\"Profit\"]\n",
    "    .mean()\n",
    "    .reset_index()\n",
    ")"
   ],
   "id": "6640f668407df0ae",
   "outputs": [],
   "execution_count": 187
  },
  {
   "metadata": {
    "ExecuteTime": {
     "end_time": "2025-09-10T11:32:33.986287Z",
     "start_time": "2025-09-10T11:32:33.934597Z"
    }
   },
   "cell_type": "code",
   "source": [
    "fig_USA_profit = px.scatter_map(\n",
    "    df_city_1,             # DataFrame mit Postal Code, lat, lon, Profit\n",
    "    lat=\"latitude\",\n",
    "    lon=\"longitude\",\n",
    "    color=\"Profit\",    # Farbe nach Lieferzeit\n",
    "    hover_name=\"Postal Code\", # Tooltip zeigt Postal Code\n",
    "    hover_data={\"latitude\":False, \"longitude\":False}, # optional, um lat/lon auszublenden\n",
    ")\n",
    "\n",
    "fig.update_layout(\n",
    "    mapbox_style=\"open-street-map\",  # einfache Karte ohne Token\n",
    "    margin={\"r\":0,\"t\":0,\"l\":0,\"b\":0}\n",
    ")\n",
    "\n",
    "fig_USA_profit.show()"
   ],
   "id": "8876236d1396e45c",
   "outputs": [
    {
     "data": {
      "application/vnd.plotly.v1+json": {
       "data": [
        {
         "customdata": {
          "dtype": "f8",
          "bdata": "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",
          "shape": "631, 2"
         },
         "hovertemplate": "<b>%{hovertext}</b><br><br>Profit=%{marker.color}<extra></extra>",
         "hovertext": [
          "01040",
          "01453",
          "01752",
          "01810",
          "01841",
          "01852",
          "01915",
          "02038",
          "02138",
          "02148",
          "02149",
          "02151",
          "02169",
          "02740",
          "02886",
          "02895",
          "02908",
          "02920",
          "03060",
          "03301",
          "03820",
          "04240",
          "04401",
          "05408",
          "06010",
          "06040",
          "06360",
          "06450",
          "06457",
          "06460",
          "06484",
          "06708",
          "06810",
          "06824",
          "07002",
          "07011",
          "07017",
          "07036",
          "07050",
          "07055",
          "07060",
          "07090",
          "07109",
          "07501",
          "07601",
          "07960",
          "08302",
          "08360",
          "08401",
          "08701",
          "08861",
          "08901",
          "10009",
          "10011",
          "10024",
          "10035",
          "10550",
          "10701",
          "10801",
          "11520",
          "11550",
          "11561",
          "11572",
          "11757",
          "12180",
          "13021",
          "13440",
          "13501",
          "13601",
          "14215",
          "14304",
          "14609",
          "14701",
          "16602",
          "17403",
          "17602",
          "18018",
          "18103",
          "19013",
          "19120",
          "19134",
          "19140",
          "19143",
          "19601",
          "19711",
          "19805",
          "19901",
          "20016",
          "20707",
          "20735",
          "20852",
          "20877",
          "21044",
          "21215",
          "21740",
          "22153",
          "22204",
          "22304",
          "22801",
          "22901",
          "22980",
          "23223",
          "23320",
          "23434",
          "23464",
          "23602",
          "23666",
          "24153",
          "26003",
          "27217",
          "27360",
          "27405",
          "27511",
          "27514",
          "27534",
          "27604",
          "27707",
          "27834",
          "27893",
          "28027",
          "28052",
          "28110",
          "28205",
          "28314",
          "28403",
          "28540",
          "28601",
          "28806",
          "29203",
          "29406",
          "29464",
          "29483",
          "29501",
          "29730",
          "30062",
          "30076",
          "30080",
          "30188",
          "30318",
          "30328",
          "30344",
          "30605",
          "31088",
          "31204",
          "31907",
          "32114",
          "32127",
          "32137",
          "32174",
          "32216",
          "32303",
          "32503",
          "32712",
          "32725",
          "32771",
          "32839",
          "32935",
          "33012",
          "33021",
          "33023",
          "33024",
          "33030",
          "33063",
          "33065",
          "33068",
          "33134",
          "33142",
          "33161",
          "33178",
          "33180",
          "33311",
          "33317",
          "33319",
          "33407",
          "33433",
          "33437",
          "33445",
          "33458",
          "33614",
          "33710",
          "33801",
          "34741",
          "34952",
          "35244",
          "35401",
          "35601",
          "35630",
          "35810",
          "36116",
          "36608",
          "36830",
          "37042",
          "37064",
          "37075",
          "37087",
          "37130",
          "37167",
          "37211",
          "37421",
          "37604",
          "37620",
          "37918",
          "38109",
          "38134",
          "38301",
          "38401",
          "38671",
          "39212",
          "39401",
          "39503",
          "40214",
          "40324",
          "40475",
          "41042",
          "42071",
          "42104",
          "42301",
          "42420",
          "43017",
          "43055",
          "43123",
          "43130",
          "43229",
          "43302",
          "43402",
          "43615",
          "44035",
          "44052",
          "44060",
          "44105",
          "44107",
          "44134",
          "44221",
          "44240",
          "44256",
          "44312",
          "45011",
          "45014",
          "45040",
          "45231",
          "45373",
          "45503",
          "46060",
          "46142",
          "46203",
          "46226",
          "46350",
          "46368",
          "46514",
          "46544",
          "46614",
          "47150",
          "47201",
          "47362",
          "47374",
          "47401",
          "47905",
          "48066",
          "48073",
          "48104",
          "48126",
          "48127",
          "48146",
          "48180",
          "48183",
          "48185",
          "48187",
          "48205",
          "48227",
          "48234",
          "48237",
          "48307",
          "48310",
          "48601",
          "48640",
          "48858",
          "48911",
          "49201",
          "49423",
          "49505",
          "50315",
          "50322",
          "50701",
          "52001",
          "52240",
          "52302",
          "52402",
          "52601",
          "53081",
          "53132",
          "53142",
          "53186",
          "53209",
          "53214",
          "53711",
          "54302",
          "54401",
          "54601",
          "54703",
          "54880",
          "54915",
          "55016",
          "55044",
          "55106",
          "55113",
          "55122",
          "55124",
          "55125",
          "55369",
          "55407",
          "55433",
          "55901",
          "56301",
          "56560",
          "57103",
          "57401",
          "57701",
          "58103",
          "59102",
          "59405",
          "59601",
          "59715",
          "59801",
          "60004",
          "60016",
          "60025",
          "60035",
          "60067",
          "60068",
          "60076",
          "60089",
          "60090",
          "60098",
          "60126",
          "60174",
          "60188",
          "60201",
          "60302",
          "60423",
          "60440",
          "60441",
          "60462",
          "60477",
          "60505",
          "60540",
          "60543",
          "60610",
          "60623",
          "60653",
          "61032",
          "61107",
          "61604",
          "61701",
          "61761",
          "61821",
          "61832",
          "62301",
          "62521",
          "63116",
          "63122",
          "63301",
          "63376",
          "64055",
          "64118",
          "65109",
          "65203",
          "65807",
          "66062",
          "66212",
          "66502",
          "67212",
          "67846",
          "68025",
          "68104",
          "68701",
          "68801",
          "70065",
          "70506",
          "70601",
          "71111",
          "71203",
          "71603",
          "71854",
          "71901",
          "72032",
          "72209",
          "72401",
          "72701",
          "72756",
          "72762",
          "73034",
          "73071",
          "73120",
          "73505",
          "74012",
          "74133",
          "74403",
          "75002",
          "75007",
          "75019",
          "75023",
          "75034",
          "75043",
          "75051",
          "75056",
          "75061",
          "75080",
          "75081",
          "75104",
          "75150",
          "75217",
          "75220",
          "75701",
          "76017",
          "76021",
          "76051",
          "76063",
          "76106",
          "76117",
          "76248",
          "76706",
          "76903",
          "77036",
          "77041",
          "77070",
          "77095",
          "77301",
          "77340",
          "77489",
          "77506",
          "77520",
          "77536",
          "77571",
          "77573",
          "77581",
          "77590",
          "77642",
          "77705",
          "77803",
          "77840",
          "78041",
          "78207",
          "78415",
          "78501",
          "78521",
          "78539",
          "78550",
          "78577",
          "78664",
          "78666",
          "78745",
          "79109",
          "79424",
          "79605",
          "79762",
          "79907",
          "80004",
          "80013",
          "80020",
          "80022",
          "80027",
          "80112",
          "80122",
          "80134",
          "80219",
          "80229",
          "80501",
          "80525",
          "80538",
          "80634",
          "80906",
          "81001",
          "82001",
          "83201",
          "83301",
          "83501",
          "83605",
          "83642",
          "83704",
          "84020",
          "84041",
          "84043",
          "84057",
          "84062",
          "84084",
          "84106",
          "84107",
          "84321",
          "84604",
          "85023",
          "85204",
          "85224",
          "85234",
          "85254",
          "85281",
          "85301",
          "85323",
          "85345",
          "85364",
          "85635",
          "85705",
          "86442",
          "87105",
          "87124",
          "87401",
          "87505",
          "88001",
          "88101",
          "88220",
          "89015",
          "89031",
          "89115",
          "89431",
          "89502",
          "90004",
          "90008",
          "90032",
          "90036",
          "90045",
          "90049",
          "90278",
          "90301",
          "90503",
          "90604",
          "90640",
          "90660",
          "90712",
          "90805",
          "91104",
          "91360",
          "91505",
          "91730",
          "91761",
          "91767",
          "91776",
          "91911",
          "91941",
          "92020",
          "92024",
          "92025",
          "92037",
          "92054",
          "92105",
          "92236",
          "92253",
          "92307",
          "92345",
          "92374",
          "92399",
          "92404",
          "92503",
          "92530",
          "92553",
          "92563",
          "92592",
          "92627",
          "92630",
          "92646",
          "92672",
          "92677",
          "92683",
          "92691",
          "92704",
          "92804",
          "93010",
          "93030",
          "93101",
          "93277",
          "93309",
          "93405",
          "93454",
          "93534",
          "93727",
          "93905",
          "94061",
          "94086",
          "94109",
          "94110",
          "94122",
          "94403",
          "94509",
          "94513",
          "94521",
          "94526",
          "94533",
          "94568",
          "94591",
          "94601",
          "95037",
          "95051",
          "95123",
          "95207",
          "95240",
          "95336",
          "95351",
          "95610",
          "95616",
          "95661",
          "95687",
          "95695",
          "95823",
          "95928",
          "96003",
          "97030",
          "97123",
          "97206",
          "97224",
          "97301",
          "97405",
          "97477",
          "97504",
          "97756",
          "98002",
          "98006",
          "98026",
          "98031",
          "98042",
          "98052",
          "98059",
          "98103",
          "98105",
          "98115",
          "98198",
          "98208",
          "98226",
          "98270",
          "98502",
          "98632",
          "98661",
          "99207",
          "99301"
         ],
         "lat": {
          "dtype": "f8",
          "bdata": "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"
         },
         "legendgroup": "",
         "lon": {
          "dtype": "f8",
          "bdata": "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"
         },
         "marker": {
          "color": {
           "dtype": "f8",
           "bdata": "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"
          },
          "coloraxis": "coloraxis"
         },
         "mode": "markers",
         "name": "",
         "showlegend": false,
         "subplot": "map",
         "type": "scattermap"
        }
       ],
       "layout": {
        "template": {
         "data": {
          "histogram2dcontour": [
           {
            "type": "histogram2dcontour",
            "colorbar": {
             "outlinewidth": 0,
             "ticks": ""
            },
            "colorscale": [
             [
              0.0,
              "#0d0887"
             ],
             [
              0.1111111111111111,
              "#46039f"
             ],
             [
              0.2222222222222222,
              "#7201a8"
             ],
             [
              0.3333333333333333,
              "#9c179e"
             ],
             [
              0.4444444444444444,
              "#bd3786"
             ],
             [
              0.5555555555555556,
              "#d8576b"
             ],
             [
              0.6666666666666666,
              "#ed7953"
             ],
             [
              0.7777777777777778,
              "#fb9f3a"
             ],
             [
              0.8888888888888888,
              "#fdca26"
             ],
             [
              1.0,
              "#f0f921"
             ]
            ]
           }
          ],
          "choropleth": [
           {
            "type": "choropleth",
            "colorbar": {
             "outlinewidth": 0,
             "ticks": ""
            }
           }
          ],
          "histogram2d": [
           {
            "type": "histogram2d",
            "colorbar": {
             "outlinewidth": 0,
             "ticks": ""
            },
            "colorscale": [
             [
              0.0,
              "#0d0887"
             ],
             [
              0.1111111111111111,
              "#46039f"
             ],
             [
              0.2222222222222222,
              "#7201a8"
             ],
             [
              0.3333333333333333,
              "#9c179e"
             ],
             [
              0.4444444444444444,
              "#bd3786"
             ],
             [
              0.5555555555555556,
              "#d8576b"
             ],
             [
              0.6666666666666666,
              "#ed7953"
             ],
             [
              0.7777777777777778,
              "#fb9f3a"
             ],
             [
              0.8888888888888888,
              "#fdca26"
             ],
             [
              1.0,
              "#f0f921"
             ]
            ]
           }
          ],
          "heatmap": [
           {
            "type": "heatmap",
            "colorbar": {
             "outlinewidth": 0,
             "ticks": ""
            },
            "colorscale": [
             [
              0.0,
              "#0d0887"
             ],
             [
              0.1111111111111111,
              "#46039f"
             ],
             [
              0.2222222222222222,
              "#7201a8"
             ],
             [
              0.3333333333333333,
              "#9c179e"
             ],
             [
              0.4444444444444444,
              "#bd3786"
             ],
             [
              0.5555555555555556,
              "#d8576b"
             ],
             [
              0.6666666666666666,
              "#ed7953"
             ],
             [
              0.7777777777777778,
              "#fb9f3a"
             ],
             [
              0.8888888888888888,
              "#fdca26"
             ],
             [
              1.0,
              "#f0f921"
             ]
            ]
           }
          ],
          "contourcarpet": [
           {
            "type": "contourcarpet",
            "colorbar": {
             "outlinewidth": 0,
             "ticks": ""
            }
           }
          ],
          "contour": [
           {
            "type": "contour",
            "colorbar": {
             "outlinewidth": 0,
             "ticks": ""
            },
            "colorscale": [
             [
              0.0,
              "#0d0887"
             ],
             [
              0.1111111111111111,
              "#46039f"
             ],
             [
              0.2222222222222222,
              "#7201a8"
             ],
             [
              0.3333333333333333,
              "#9c179e"
             ],
             [
              0.4444444444444444,
              "#bd3786"
             ],
             [
              0.5555555555555556,
              "#d8576b"
             ],
             [
              0.6666666666666666,
              "#ed7953"
             ],
             [
              0.7777777777777778,
              "#fb9f3a"
             ],
             [
              0.8888888888888888,
              "#fdca26"
             ],
             [
              1.0,
              "#f0f921"
             ]
            ]
           }
          ],
          "surface": [
           {
            "type": "surface",
            "colorbar": {
             "outlinewidth": 0,
             "ticks": ""
            },
            "colorscale": [
             [
              0.0,
              "#0d0887"
             ],
             [
              0.1111111111111111,
              "#46039f"
             ],
             [
              0.2222222222222222,
              "#7201a8"
             ],
             [
              0.3333333333333333,
              "#9c179e"
             ],
             [
              0.4444444444444444,
              "#bd3786"
             ],
             [
              0.5555555555555556,
              "#d8576b"
             ],
             [
              0.6666666666666666,
              "#ed7953"
             ],
             [
              0.7777777777777778,
              "#fb9f3a"
             ],
             [
              0.8888888888888888,
              "#fdca26"
             ],
             [
              1.0,
              "#f0f921"
             ]
            ]
           }
          ],
          "mesh3d": [
           {
            "type": "mesh3d",
            "colorbar": {
             "outlinewidth": 0,
             "ticks": ""
            }
           }
          ],
          "scatter": [
           {
            "fillpattern": {
             "fillmode": "overlay",
             "size": 10,
             "solidity": 0.2
            },
            "type": "scatter"
           }
          ],
          "parcoords": [
           {
            "type": "parcoords",
            "line": {
             "colorbar": {
              "outlinewidth": 0,
              "ticks": ""
             }
            }
           }
          ],
          "scatterpolargl": [
           {
            "type": "scatterpolargl",
            "marker": {
             "colorbar": {
              "outlinewidth": 0,
              "ticks": ""
             }
            }
           }
          ],
          "bar": [
           {
            "error_x": {
             "color": "#2a3f5f"
            },
            "error_y": {
             "color": "#2a3f5f"
            },
            "marker": {
             "line": {
              "color": "#E5ECF6",
              "width": 0.5
             },
             "pattern": {
              "fillmode": "overlay",
              "size": 10,
              "solidity": 0.2
             }
            },
            "type": "bar"
           }
          ],
          "scattergeo": [
           {
            "type": "scattergeo",
            "marker": {
             "colorbar": {
              "outlinewidth": 0,
              "ticks": ""
             }
            }
           }
          ],
          "scatterpolar": [
           {
            "type": "scatterpolar",
            "marker": {
             "colorbar": {
              "outlinewidth": 0,
              "ticks": ""
             }
            }
           }
          ],
          "histogram": [
           {
            "marker": {
             "pattern": {
              "fillmode": "overlay",
              "size": 10,
              "solidity": 0.2
             }
            },
            "type": "histogram"
           }
          ],
          "scattergl": [
           {
            "type": "scattergl",
            "marker": {
             "colorbar": {
              "outlinewidth": 0,
              "ticks": ""
             }
            }
           }
          ],
          "scatter3d": [
           {
            "type": "scatter3d",
            "line": {
             "colorbar": {
              "outlinewidth": 0,
              "ticks": ""
             }
            },
            "marker": {
             "colorbar": {
              "outlinewidth": 0,
              "ticks": ""
             }
            }
           }
          ],
          "scattermap": [
           {
            "type": "scattermap",
            "marker": {
             "colorbar": {
              "outlinewidth": 0,
              "ticks": ""
             }
            }
           }
          ],
          "scattermapbox": [
           {
            "type": "scattermapbox",
            "marker": {
             "colorbar": {
              "outlinewidth": 0,
              "ticks": ""
             }
            }
           }
          ],
          "scatterternary": [
           {
            "type": "scatterternary",
            "marker": {
             "colorbar": {
              "outlinewidth": 0,
              "ticks": ""
             }
            }
           }
          ],
          "scattercarpet": [
           {
            "type": "scattercarpet",
            "marker": {
             "colorbar": {
              "outlinewidth": 0,
              "ticks": ""
             }
            }
           }
          ],
          "carpet": [
           {
            "aaxis": {
             "endlinecolor": "#2a3f5f",
             "gridcolor": "white",
             "linecolor": "white",
             "minorgridcolor": "white",
             "startlinecolor": "#2a3f5f"
            },
            "baxis": {
             "endlinecolor": "#2a3f5f",
             "gridcolor": "white",
             "linecolor": "white",
             "minorgridcolor": "white",
             "startlinecolor": "#2a3f5f"
            },
            "type": "carpet"
           }
          ],
          "table": [
           {
            "cells": {
             "fill": {
              "color": "#EBF0F8"
             },
             "line": {
              "color": "white"
             }
            },
            "header": {
             "fill": {
              "color": "#C8D4E3"
             },
             "line": {
              "color": "white"
             }
            },
            "type": "table"
           }
          ],
          "barpolar": [
           {
            "marker": {
             "line": {
              "color": "#E5ECF6",
              "width": 0.5
             },
             "pattern": {
              "fillmode": "overlay",
              "size": 10,
              "solidity": 0.2
             }
            },
            "type": "barpolar"
           }
          ],
          "pie": [
           {
            "automargin": true,
            "type": "pie"
           }
          ]
         },
         "layout": {
          "autotypenumbers": "strict",
          "colorway": [
           "#636efa",
           "#EF553B",
           "#00cc96",
           "#ab63fa",
           "#FFA15A",
           "#19d3f3",
           "#FF6692",
           "#B6E880",
           "#FF97FF",
           "#FECB52"
          ],
          "font": {
           "color": "#2a3f5f"
          },
          "hovermode": "closest",
          "hoverlabel": {
           "align": "left"
          },
          "paper_bgcolor": "white",
          "plot_bgcolor": "#E5ECF6",
          "polar": {
           "bgcolor": "#E5ECF6",
           "angularaxis": {
            "gridcolor": "white",
            "linecolor": "white",
            "ticks": ""
           },
           "radialaxis": {
            "gridcolor": "white",
            "linecolor": "white",
            "ticks": ""
           }
          },
          "ternary": {
           "bgcolor": "#E5ECF6",
           "aaxis": {
            "gridcolor": "white",
            "linecolor": "white",
            "ticks": ""
           },
           "baxis": {
            "gridcolor": "white",
            "linecolor": "white",
            "ticks": ""
           },
           "caxis": {
            "gridcolor": "white",
            "linecolor": "white",
            "ticks": ""
           }
          },
          "coloraxis": {
           "colorbar": {
            "outlinewidth": 0,
            "ticks": ""
           }
          },
          "colorscale": {
           "sequential": [
            [
             0.0,
             "#0d0887"
            ],
            [
             0.1111111111111111,
             "#46039f"
            ],
            [
             0.2222222222222222,
             "#7201a8"
            ],
            [
             0.3333333333333333,
             "#9c179e"
            ],
            [
             0.4444444444444444,
             "#bd3786"
            ],
            [
             0.5555555555555556,
             "#d8576b"
            ],
            [
             0.6666666666666666,
             "#ed7953"
            ],
            [
             0.7777777777777778,
             "#fb9f3a"
            ],
            [
             0.8888888888888888,
             "#fdca26"
            ],
            [
             1.0,
             "#f0f921"
            ]
           ],
           "sequentialminus": [
            [
             0.0,
             "#0d0887"
            ],
            [
             0.1111111111111111,
             "#46039f"
            ],
            [
             0.2222222222222222,
             "#7201a8"
            ],
            [
             0.3333333333333333,
             "#9c179e"
            ],
            [
             0.4444444444444444,
             "#bd3786"
            ],
            [
             0.5555555555555556,
             "#d8576b"
            ],
            [
             0.6666666666666666,
             "#ed7953"
            ],
            [
             0.7777777777777778,
             "#fb9f3a"
            ],
            [
             0.8888888888888888,
             "#fdca26"
            ],
            [
             1.0,
             "#f0f921"
            ]
           ],
           "diverging": [
            [
             0,
             "#8e0152"
            ],
            [
             0.1,
             "#c51b7d"
            ],
            [
             0.2,
             "#de77ae"
            ],
            [
             0.3,
             "#f1b6da"
            ],
            [
             0.4,
             "#fde0ef"
            ],
            [
             0.5,
             "#f7f7f7"
            ],
            [
             0.6,
             "#e6f5d0"
            ],
            [
             0.7,
             "#b8e186"
            ],
            [
             0.8,
             "#7fbc41"
            ],
            [
             0.9,
             "#4d9221"
            ],
            [
             1,
             "#276419"
            ]
           ]
          },
          "xaxis": {
           "gridcolor": "white",
           "linecolor": "white",
           "ticks": "",
           "title": {
            "standoff": 15
           },
           "zerolinecolor": "white",
           "automargin": true,
           "zerolinewidth": 2
          },
          "yaxis": {
           "gridcolor": "white",
           "linecolor": "white",
           "ticks": "",
           "title": {
            "standoff": 15
           },
           "zerolinecolor": "white",
           "automargin": true,
           "zerolinewidth": 2
          },
          "scene": {
           "xaxis": {
            "backgroundcolor": "#E5ECF6",
            "gridcolor": "white",
            "linecolor": "white",
            "showbackground": true,
            "ticks": "",
            "zerolinecolor": "white",
            "gridwidth": 2
           },
           "yaxis": {
            "backgroundcolor": "#E5ECF6",
            "gridcolor": "white",
            "linecolor": "white",
            "showbackground": true,
            "ticks": "",
            "zerolinecolor": "white",
            "gridwidth": 2
           },
           "zaxis": {
            "backgroundcolor": "#E5ECF6",
            "gridcolor": "white",
            "linecolor": "white",
            "showbackground": true,
            "ticks": "",
            "zerolinecolor": "white",
            "gridwidth": 2
           }
          },
          "shapedefaults": {
           "line": {
            "color": "#2a3f5f"
           }
          },
          "annotationdefaults": {
           "arrowcolor": "#2a3f5f",
           "arrowhead": 0,
           "arrowwidth": 1
          },
          "geo": {
           "bgcolor": "white",
           "landcolor": "#E5ECF6",
           "subunitcolor": "white",
           "showland": true,
           "showlakes": true,
           "lakecolor": "white"
          },
          "title": {
           "x": 0.05
          },
          "mapbox": {
           "style": "light"
          }
         }
        },
        "map": {
         "domain": {
          "x": [
           0.0,
           1.0
          ],
          "y": [
           0.0,
           1.0
          ]
         },
         "center": {
          "lat": 37.71090522979398,
          "lon": -94.02997733755943
         },
         "zoom": 8
        },
        "coloraxis": {
         "colorbar": {
          "title": {
           "text": "Profit"
          }
         },
         "colorscale": [
          [
           0.0,
           "#0d0887"
          ],
          [
           0.1111111111111111,
           "#46039f"
          ],
          [
           0.2222222222222222,
           "#7201a8"
          ],
          [
           0.3333333333333333,
           "#9c179e"
          ],
          [
           0.4444444444444444,
           "#bd3786"
          ],
          [
           0.5555555555555556,
           "#d8576b"
          ],
          [
           0.6666666666666666,
           "#ed7953"
          ],
          [
           0.7777777777777778,
           "#fb9f3a"
          ],
          [
           0.8888888888888888,
           "#fdca26"
          ],
          [
           1.0,
           "#f0f921"
          ]
         ]
        },
        "legend": {
         "tracegroupgap": 0
        },
        "margin": {
         "t": 60
        },
        "mapbox": {
         "center": {
          "lat": 37.71090522979398,
          "lon": -94.02997733755943
         },
         "zoom": 8
        }
       },
       "config": {
        "plotlyServerURL": "https://plot.ly"
       }
      }
     },
     "metadata": {},
     "output_type": "display_data",
     "jetTransient": {
      "display_id": null
     }
    }
   ],
   "execution_count": 188
  },
  {
   "metadata": {
    "ExecuteTime": {
     "end_time": "2025-09-10T11:37:17.124191Z",
     "start_time": "2025-09-10T11:37:17.108754Z"
    }
   },
   "cell_type": "code",
   "source": [
    "df_city_2 = (\n",
    "    df_map.groupby([\"Postal Code\", \"latitude\", \"longitude\"])[\"Sales\"]\n",
    "    .mean()\n",
    ")\n",
    "print(df_city_2)\n",
    "df_city_2 = (\n",
    "    df_map.groupby([\"Postal Code\", \"latitude\", \"longitude\"])[\"Sales\"]\n",
    "    .mean()\n",
    "    .reset_index()\n",
    ")"
   ],
   "id": "e77381f86fb0d4e8",
   "outputs": [
    {
     "name": "stdout",
     "output_type": "stream",
     "text": [
      "Postal Code  latitude  longitude\n",
      "01040        42.2020   -72.6262     301.960000\n",
      "01453        42.5274   -71.7563      36.248333\n",
      "01752        42.3509   -71.5434     103.320000\n",
      "01810        42.6496   -71.1565     108.962500\n",
      "01841        42.7115   -71.1670     185.123091\n",
      "                                       ...    \n",
      "98502        47.1043   -123.0552    204.089600\n",
      "98632        46.1514   -122.9634     39.736667\n",
      "98661        45.6418   -122.6251    137.367200\n",
      "99207        47.6977   -117.3746    289.702571\n",
      "99301        46.2492   -119.1044    366.852000\n",
      "Name: Sales, Length: 631, dtype: float64\n"
     ]
    }
   ],
   "execution_count": 189
  },
  {
   "metadata": {
    "ExecuteTime": {
     "end_time": "2025-09-10T11:39:33.264364Z",
     "start_time": "2025-09-10T11:39:33.200629Z"
    }
   },
   "cell_type": "code",
   "source": [
    "fig_USA_sales = px.scatter_map(\n",
    "    df_city_2,             # DataFrame mit Postal Code, lat, lon, Profit\n",
    "    lat=\"latitude\",\n",
    "    lon=\"longitude\",\n",
    "    color=\"Sales\",    # Farbe nach Lieferzeit\n",
    "    hover_name=\"Postal Code\", # Tooltip zeigt Postal Code\n",
    "    hover_data={\"latitude\":False, \"longitude\":False}, # optional, um lat/lon auszublenden\n",
    ")\n",
    "\n",
    "fig.update_layout(\n",
    "    mapbox_style=\"open-street-map\",  # einfache Karte ohne Token\n",
    "    margin={\"r\":0,\"t\":0,\"l\":0,\"b\":0}\n",
    ")\n",
    "\n",
    "fig_USA_sales.show()"
   ],
   "id": "e00411e85343020c",
   "outputs": [
    {
     "data": {
      "application/vnd.plotly.v1+json": {
       "data": [
        {
         "customdata": {
          "dtype": "f8",
          "bdata": "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",
          "shape": "631, 2"
         },
         "hovertemplate": "<b>%{hovertext}</b><br><br>Sales=%{marker.color}<extra></extra>",
         "hovertext": [
          "01040",
          "01453",
          "01752",
          "01810",
          "01841",
          "01852",
          "01915",
          "02038",
          "02138",
          "02148",
          "02149",
          "02151",
          "02169",
          "02740",
          "02886",
          "02895",
          "02908",
          "02920",
          "03060",
          "03301",
          "03820",
          "04240",
          "04401",
          "05408",
          "06010",
          "06040",
          "06360",
          "06450",
          "06457",
          "06460",
          "06484",
          "06708",
          "06810",
          "06824",
          "07002",
          "07011",
          "07017",
          "07036",
          "07050",
          "07055",
          "07060",
          "07090",
          "07109",
          "07501",
          "07601",
          "07960",
          "08302",
          "08360",
          "08401",
          "08701",
          "08861",
          "08901",
          "10009",
          "10011",
          "10024",
          "10035",
          "10550",
          "10701",
          "10801",
          "11520",
          "11550",
          "11561",
          "11572",
          "11757",
          "12180",
          "13021",
          "13440",
          "13501",
          "13601",
          "14215",
          "14304",
          "14609",
          "14701",
          "16602",
          "17403",
          "17602",
          "18018",
          "18103",
          "19013",
          "19120",
          "19134",
          "19140",
          "19143",
          "19601",
          "19711",
          "19805",
          "19901",
          "20016",
          "20707",
          "20735",
          "20852",
          "20877",
          "21044",
          "21215",
          "21740",
          "22153",
          "22204",
          "22304",
          "22801",
          "22901",
          "22980",
          "23223",
          "23320",
          "23434",
          "23464",
          "23602",
          "23666",
          "24153",
          "26003",
          "27217",
          "27360",
          "27405",
          "27511",
          "27514",
          "27534",
          "27604",
          "27707",
          "27834",
          "27893",
          "28027",
          "28052",
          "28110",
          "28205",
          "28314",
          "28403",
          "28540",
          "28601",
          "28806",
          "29203",
          "29406",
          "29464",
          "29483",
          "29501",
          "29730",
          "30062",
          "30076",
          "30080",
          "30188",
          "30318",
          "30328",
          "30344",
          "30605",
          "31088",
          "31204",
          "31907",
          "32114",
          "32127",
          "32137",
          "32174",
          "32216",
          "32303",
          "32503",
          "32712",
          "32725",
          "32771",
          "32839",
          "32935",
          "33012",
          "33021",
          "33023",
          "33024",
          "33030",
          "33063",
          "33065",
          "33068",
          "33134",
          "33142",
          "33161",
          "33178",
          "33180",
          "33311",
          "33317",
          "33319",
          "33407",
          "33433",
          "33437",
          "33445",
          "33458",
          "33614",
          "33710",
          "33801",
          "34741",
          "34952",
          "35244",
          "35401",
          "35601",
          "35630",
          "35810",
          "36116",
          "36608",
          "36830",
          "37042",
          "37064",
          "37075",
          "37087",
          "37130",
          "37167",
          "37211",
          "37421",
          "37604",
          "37620",
          "37918",
          "38109",
          "38134",
          "38301",
          "38401",
          "38671",
          "39212",
          "39401",
          "39503",
          "40214",
          "40324",
          "40475",
          "41042",
          "42071",
          "42104",
          "42301",
          "42420",
          "43017",
          "43055",
          "43123",
          "43130",
          "43229",
          "43302",
          "43402",
          "43615",
          "44035",
          "44052",
          "44060",
          "44105",
          "44107",
          "44134",
          "44221",
          "44240",
          "44256",
          "44312",
          "45011",
          "45014",
          "45040",
          "45231",
          "45373",
          "45503",
          "46060",
          "46142",
          "46203",
          "46226",
          "46350",
          "46368",
          "46514",
          "46544",
          "46614",
          "47150",
          "47201",
          "47362",
          "47374",
          "47401",
          "47905",
          "48066",
          "48073",
          "48104",
          "48126",
          "48127",
          "48146",
          "48180",
          "48183",
          "48185",
          "48187",
          "48205",
          "48227",
          "48234",
          "48237",
          "48307",
          "48310",
          "48601",
          "48640",
          "48858",
          "48911",
          "49201",
          "49423",
          "49505",
          "50315",
          "50322",
          "50701",
          "52001",
          "52240",
          "52302",
          "52402",
          "52601",
          "53081",
          "53132",
          "53142",
          "53186",
          "53209",
          "53214",
          "53711",
          "54302",
          "54401",
          "54601",
          "54703",
          "54880",
          "54915",
          "55016",
          "55044",
          "55106",
          "55113",
          "55122",
          "55124",
          "55125",
          "55369",
          "55407",
          "55433",
          "55901",
          "56301",
          "56560",
          "57103",
          "57401",
          "57701",
          "58103",
          "59102",
          "59405",
          "59601",
          "59715",
          "59801",
          "60004",
          "60016",
          "60025",
          "60035",
          "60067",
          "60068",
          "60076",
          "60089",
          "60090",
          "60098",
          "60126",
          "60174",
          "60188",
          "60201",
          "60302",
          "60423",
          "60440",
          "60441",
          "60462",
          "60477",
          "60505",
          "60540",
          "60543",
          "60610",
          "60623",
          "60653",
          "61032",
          "61107",
          "61604",
          "61701",
          "61761",
          "61821",
          "61832",
          "62301",
          "62521",
          "63116",
          "63122",
          "63301",
          "63376",
          "64055",
          "64118",
          "65109",
          "65203",
          "65807",
          "66062",
          "66212",
          "66502",
          "67212",
          "67846",
          "68025",
          "68104",
          "68701",
          "68801",
          "70065",
          "70506",
          "70601",
          "71111",
          "71203",
          "71603",
          "71854",
          "71901",
          "72032",
          "72209",
          "72401",
          "72701",
          "72756",
          "72762",
          "73034",
          "73071",
          "73120",
          "73505",
          "74012",
          "74133",
          "74403",
          "75002",
          "75007",
          "75019",
          "75023",
          "75034",
          "75043",
          "75051",
          "75056",
          "75061",
          "75080",
          "75081",
          "75104",
          "75150",
          "75217",
          "75220",
          "75701",
          "76017",
          "76021",
          "76051",
          "76063",
          "76106",
          "76117",
          "76248",
          "76706",
          "76903",
          "77036",
          "77041",
          "77070",
          "77095",
          "77301",
          "77340",
          "77489",
          "77506",
          "77520",
          "77536",
          "77571",
          "77573",
          "77581",
          "77590",
          "77642",
          "77705",
          "77803",
          "77840",
          "78041",
          "78207",
          "78415",
          "78501",
          "78521",
          "78539",
          "78550",
          "78577",
          "78664",
          "78666",
          "78745",
          "79109",
          "79424",
          "79605",
          "79762",
          "79907",
          "80004",
          "80013",
          "80020",
          "80022",
          "80027",
          "80112",
          "80122",
          "80134",
          "80219",
          "80229",
          "80501",
          "80525",
          "80538",
          "80634",
          "80906",
          "81001",
          "82001",
          "83201",
          "83301",
          "83501",
          "83605",
          "83642",
          "83704",
          "84020",
          "84041",
          "84043",
          "84057",
          "84062",
          "84084",
          "84106",
          "84107",
          "84321",
          "84604",
          "85023",
          "85204",
          "85224",
          "85234",
          "85254",
          "85281",
          "85301",
          "85323",
          "85345",
          "85364",
          "85635",
          "85705",
          "86442",
          "87105",
          "87124",
          "87401",
          "87505",
          "88001",
          "88101",
          "88220",
          "89015",
          "89031",
          "89115",
          "89431",
          "89502",
          "90004",
          "90008",
          "90032",
          "90036",
          "90045",
          "90049",
          "90278",
          "90301",
          "90503",
          "90604",
          "90640",
          "90660",
          "90712",
          "90805",
          "91104",
          "91360",
          "91505",
          "91730",
          "91761",
          "91767",
          "91776",
          "91911",
          "91941",
          "92020",
          "92024",
          "92025",
          "92037",
          "92054",
          "92105",
          "92236",
          "92253",
          "92307",
          "92345",
          "92374",
          "92399",
          "92404",
          "92503",
          "92530",
          "92553",
          "92563",
          "92592",
          "92627",
          "92630",
          "92646",
          "92672",
          "92677",
          "92683",
          "92691",
          "92704",
          "92804",
          "93010",
          "93030",
          "93101",
          "93277",
          "93309",
          "93405",
          "93454",
          "93534",
          "93727",
          "93905",
          "94061",
          "94086",
          "94109",
          "94110",
          "94122",
          "94403",
          "94509",
          "94513",
          "94521",
          "94526",
          "94533",
          "94568",
          "94591",
          "94601",
          "95037",
          "95051",
          "95123",
          "95207",
          "95240",
          "95336",
          "95351",
          "95610",
          "95616",
          "95661",
          "95687",
          "95695",
          "95823",
          "95928",
          "96003",
          "97030",
          "97123",
          "97206",
          "97224",
          "97301",
          "97405",
          "97477",
          "97504",
          "97756",
          "98002",
          "98006",
          "98026",
          "98031",
          "98042",
          "98052",
          "98059",
          "98103",
          "98105",
          "98115",
          "98198",
          "98208",
          "98226",
          "98270",
          "98502",
          "98632",
          "98661",
          "99207",
          "99301"
         ],
         "lat": {
          "dtype": "f8",
          "bdata": "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"
         },
         "legendgroup": "",
         "lon": {
          "dtype": "f8",
          "bdata": "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"
         },
         "marker": {
          "color": {
           "dtype": "f8",
           "bdata": "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"
          },
          "coloraxis": "coloraxis"
         },
         "mode": "markers",
         "name": "",
         "showlegend": false,
         "subplot": "map",
         "type": "scattermap"
        }
       ],
       "layout": {
        "template": {
         "data": {
          "histogram2dcontour": [
           {
            "type": "histogram2dcontour",
            "colorbar": {
             "outlinewidth": 0,
             "ticks": ""
            },
            "colorscale": [
             [
              0.0,
              "#0d0887"
             ],
             [
              0.1111111111111111,
              "#46039f"
             ],
             [
              0.2222222222222222,
              "#7201a8"
             ],
             [
              0.3333333333333333,
              "#9c179e"
             ],
             [
              0.4444444444444444,
              "#bd3786"
             ],
             [
              0.5555555555555556,
              "#d8576b"
             ],
             [
              0.6666666666666666,
              "#ed7953"
             ],
             [
              0.7777777777777778,
              "#fb9f3a"
             ],
             [
              0.8888888888888888,
              "#fdca26"
             ],
             [
              1.0,
              "#f0f921"
             ]
            ]
           }
          ],
          "choropleth": [
           {
            "type": "choropleth",
            "colorbar": {
             "outlinewidth": 0,
             "ticks": ""
            }
           }
          ],
          "histogram2d": [
           {
            "type": "histogram2d",
            "colorbar": {
             "outlinewidth": 0,
             "ticks": ""
            },
            "colorscale": [
             [
              0.0,
              "#0d0887"
             ],
             [
              0.1111111111111111,
              "#46039f"
             ],
             [
              0.2222222222222222,
              "#7201a8"
             ],
             [
              0.3333333333333333,
              "#9c179e"
             ],
             [
              0.4444444444444444,
              "#bd3786"
             ],
             [
              0.5555555555555556,
              "#d8576b"
             ],
             [
              0.6666666666666666,
              "#ed7953"
             ],
             [
              0.7777777777777778,
              "#fb9f3a"
             ],
             [
              0.8888888888888888,
              "#fdca26"
             ],
             [
              1.0,
              "#f0f921"
             ]
            ]
           }
          ],
          "heatmap": [
           {
            "type": "heatmap",
            "colorbar": {
             "outlinewidth": 0,
             "ticks": ""
            },
            "colorscale": [
             [
              0.0,
              "#0d0887"
             ],
             [
              0.1111111111111111,
              "#46039f"
             ],
             [
              0.2222222222222222,
              "#7201a8"
             ],
             [
              0.3333333333333333,
              "#9c179e"
             ],
             [
              0.4444444444444444,
              "#bd3786"
             ],
             [
              0.5555555555555556,
              "#d8576b"
             ],
             [
              0.6666666666666666,
              "#ed7953"
             ],
             [
              0.7777777777777778,
              "#fb9f3a"
             ],
             [
              0.8888888888888888,
              "#fdca26"
             ],
             [
              1.0,
              "#f0f921"
             ]
            ]
           }
          ],
          "contourcarpet": [
           {
            "type": "contourcarpet",
            "colorbar": {
             "outlinewidth": 0,
             "ticks": ""
            }
           }
          ],
          "contour": [
           {
            "type": "contour",
            "colorbar": {
             "outlinewidth": 0,
             "ticks": ""
            },
            "colorscale": [
             [
              0.0,
              "#0d0887"
             ],
             [
              0.1111111111111111,
              "#46039f"
             ],
             [
              0.2222222222222222,
              "#7201a8"
             ],
             [
              0.3333333333333333,
              "#9c179e"
             ],
             [
              0.4444444444444444,
              "#bd3786"
             ],
             [
              0.5555555555555556,
              "#d8576b"
             ],
             [
              0.6666666666666666,
              "#ed7953"
             ],
             [
              0.7777777777777778,
              "#fb9f3a"
             ],
             [
              0.8888888888888888,
              "#fdca26"
             ],
             [
              1.0,
              "#f0f921"
             ]
            ]
           }
          ],
          "surface": [
           {
            "type": "surface",
            "colorbar": {
             "outlinewidth": 0,
             "ticks": ""
            },
            "colorscale": [
             [
              0.0,
              "#0d0887"
             ],
             [
              0.1111111111111111,
              "#46039f"
             ],
             [
              0.2222222222222222,
              "#7201a8"
             ],
             [
              0.3333333333333333,
              "#9c179e"
             ],
             [
              0.4444444444444444,
              "#bd3786"
             ],
             [
              0.5555555555555556,
              "#d8576b"
             ],
             [
              0.6666666666666666,
              "#ed7953"
             ],
             [
              0.7777777777777778,
              "#fb9f3a"
             ],
             [
              0.8888888888888888,
              "#fdca26"
             ],
             [
              1.0,
              "#f0f921"
             ]
            ]
           }
          ],
          "mesh3d": [
           {
            "type": "mesh3d",
            "colorbar": {
             "outlinewidth": 0,
             "ticks": ""
            }
           }
          ],
          "scatter": [
           {
            "fillpattern": {
             "fillmode": "overlay",
             "size": 10,
             "solidity": 0.2
            },
            "type": "scatter"
           }
          ],
          "parcoords": [
           {
            "type": "parcoords",
            "line": {
             "colorbar": {
              "outlinewidth": 0,
              "ticks": ""
             }
            }
           }
          ],
          "scatterpolargl": [
           {
            "type": "scatterpolargl",
            "marker": {
             "colorbar": {
              "outlinewidth": 0,
              "ticks": ""
             }
            }
           }
          ],
          "bar": [
           {
            "error_x": {
             "color": "#2a3f5f"
            },
            "error_y": {
             "color": "#2a3f5f"
            },
            "marker": {
             "line": {
              "color": "#E5ECF6",
              "width": 0.5
             },
             "pattern": {
              "fillmode": "overlay",
              "size": 10,
              "solidity": 0.2
             }
            },
            "type": "bar"
           }
          ],
          "scattergeo": [
           {
            "type": "scattergeo",
            "marker": {
             "colorbar": {
              "outlinewidth": 0,
              "ticks": ""
             }
            }
           }
          ],
          "scatterpolar": [
           {
            "type": "scatterpolar",
            "marker": {
             "colorbar": {
              "outlinewidth": 0,
              "ticks": ""
             }
            }
           }
          ],
          "histogram": [
           {
            "marker": {
             "pattern": {
              "fillmode": "overlay",
              "size": 10,
              "solidity": 0.2
             }
            },
            "type": "histogram"
           }
          ],
          "scattergl": [
           {
            "type": "scattergl",
            "marker": {
             "colorbar": {
              "outlinewidth": 0,
              "ticks": ""
             }
            }
           }
          ],
          "scatter3d": [
           {
            "type": "scatter3d",
            "line": {
             "colorbar": {
              "outlinewidth": 0,
              "ticks": ""
             }
            },
            "marker": {
             "colorbar": {
              "outlinewidth": 0,
              "ticks": ""
             }
            }
           }
          ],
          "scattermap": [
           {
            "type": "scattermap",
            "marker": {
             "colorbar": {
              "outlinewidth": 0,
              "ticks": ""
             }
            }
           }
          ],
          "scattermapbox": [
           {
            "type": "scattermapbox",
            "marker": {
             "colorbar": {
              "outlinewidth": 0,
              "ticks": ""
             }
            }
           }
          ],
          "scatterternary": [
           {
            "type": "scatterternary",
            "marker": {
             "colorbar": {
              "outlinewidth": 0,
              "ticks": ""
             }
            }
           }
          ],
          "scattercarpet": [
           {
            "type": "scattercarpet",
            "marker": {
             "colorbar": {
              "outlinewidth": 0,
              "ticks": ""
             }
            }
           }
          ],
          "carpet": [
           {
            "aaxis": {
             "endlinecolor": "#2a3f5f",
             "gridcolor": "white",
             "linecolor": "white",
             "minorgridcolor": "white",
             "startlinecolor": "#2a3f5f"
            },
            "baxis": {
             "endlinecolor": "#2a3f5f",
             "gridcolor": "white",
             "linecolor": "white",
             "minorgridcolor": "white",
             "startlinecolor": "#2a3f5f"
            },
            "type": "carpet"
           }
          ],
          "table": [
           {
            "cells": {
             "fill": {
              "color": "#EBF0F8"
             },
             "line": {
              "color": "white"
             }
            },
            "header": {
             "fill": {
              "color": "#C8D4E3"
             },
             "line": {
              "color": "white"
             }
            },
            "type": "table"
           }
          ],
          "barpolar": [
           {
            "marker": {
             "line": {
              "color": "#E5ECF6",
              "width": 0.5
             },
             "pattern": {
              "fillmode": "overlay",
              "size": 10,
              "solidity": 0.2
             }
            },
            "type": "barpolar"
           }
          ],
          "pie": [
           {
            "automargin": true,
            "type": "pie"
           }
          ]
         },
         "layout": {
          "autotypenumbers": "strict",
          "colorway": [
           "#636efa",
           "#EF553B",
           "#00cc96",
           "#ab63fa",
           "#FFA15A",
           "#19d3f3",
           "#FF6692",
           "#B6E880",
           "#FF97FF",
           "#FECB52"
          ],
          "font": {
           "color": "#2a3f5f"
          },
          "hovermode": "closest",
          "hoverlabel": {
           "align": "left"
          },
          "paper_bgcolor": "white",
          "plot_bgcolor": "#E5ECF6",
          "polar": {
           "bgcolor": "#E5ECF6",
           "angularaxis": {
            "gridcolor": "white",
            "linecolor": "white",
            "ticks": ""
           },
           "radialaxis": {
            "gridcolor": "white",
            "linecolor": "white",
            "ticks": ""
           }
          },
          "ternary": {
           "bgcolor": "#E5ECF6",
           "aaxis": {
            "gridcolor": "white",
            "linecolor": "white",
            "ticks": ""
           },
           "baxis": {
            "gridcolor": "white",
            "linecolor": "white",
            "ticks": ""
           },
           "caxis": {
            "gridcolor": "white",
            "linecolor": "white",
            "ticks": ""
           }
          },
          "coloraxis": {
           "colorbar": {
            "outlinewidth": 0,
            "ticks": ""
           }
          },
          "colorscale": {
           "sequential": [
            [
             0.0,
             "#0d0887"
            ],
            [
             0.1111111111111111,
             "#46039f"
            ],
            [
             0.2222222222222222,
             "#7201a8"
            ],
            [
             0.3333333333333333,
             "#9c179e"
            ],
            [
             0.4444444444444444,
             "#bd3786"
            ],
            [
             0.5555555555555556,
             "#d8576b"
            ],
            [
             0.6666666666666666,
             "#ed7953"
            ],
            [
             0.7777777777777778,
             "#fb9f3a"
            ],
            [
             0.8888888888888888,
             "#fdca26"
            ],
            [
             1.0,
             "#f0f921"
            ]
           ],
           "sequentialminus": [
            [
             0.0,
             "#0d0887"
            ],
            [
             0.1111111111111111,
             "#46039f"
            ],
            [
             0.2222222222222222,
             "#7201a8"
            ],
            [
             0.3333333333333333,
             "#9c179e"
            ],
            [
             0.4444444444444444,
             "#bd3786"
            ],
            [
             0.5555555555555556,
             "#d8576b"
            ],
            [
             0.6666666666666666,
             "#ed7953"
            ],
            [
             0.7777777777777778,
             "#fb9f3a"
            ],
            [
             0.8888888888888888,
             "#fdca26"
            ],
            [
             1.0,
             "#f0f921"
            ]
           ],
           "diverging": [
            [
             0,
             "#8e0152"
            ],
            [
             0.1,
             "#c51b7d"
            ],
            [
             0.2,
             "#de77ae"
            ],
            [
             0.3,
             "#f1b6da"
            ],
            [
             0.4,
             "#fde0ef"
            ],
            [
             0.5,
             "#f7f7f7"
            ],
            [
             0.6,
             "#e6f5d0"
            ],
            [
             0.7,
             "#b8e186"
            ],
            [
             0.8,
             "#7fbc41"
            ],
            [
             0.9,
             "#4d9221"
            ],
            [
             1,
             "#276419"
            ]
           ]
          },
          "xaxis": {
           "gridcolor": "white",
           "linecolor": "white",
           "ticks": "",
           "title": {
            "standoff": 15
           },
           "zerolinecolor": "white",
           "automargin": true,
           "zerolinewidth": 2
          },
          "yaxis": {
           "gridcolor": "white",
           "linecolor": "white",
           "ticks": "",
           "title": {
            "standoff": 15
           },
           "zerolinecolor": "white",
           "automargin": true,
           "zerolinewidth": 2
          },
          "scene": {
           "xaxis": {
            "backgroundcolor": "#E5ECF6",
            "gridcolor": "white",
            "linecolor": "white",
            "showbackground": true,
            "ticks": "",
            "zerolinecolor": "white",
            "gridwidth": 2
           },
           "yaxis": {
            "backgroundcolor": "#E5ECF6",
            "gridcolor": "white",
            "linecolor": "white",
            "showbackground": true,
            "ticks": "",
            "zerolinecolor": "white",
            "gridwidth": 2
           },
           "zaxis": {
            "backgroundcolor": "#E5ECF6",
            "gridcolor": "white",
            "linecolor": "white",
            "showbackground": true,
            "ticks": "",
            "zerolinecolor": "white",
            "gridwidth": 2
           }
          },
          "shapedefaults": {
           "line": {
            "color": "#2a3f5f"
           }
          },
          "annotationdefaults": {
           "arrowcolor": "#2a3f5f",
           "arrowhead": 0,
           "arrowwidth": 1
          },
          "geo": {
           "bgcolor": "white",
           "landcolor": "#E5ECF6",
           "subunitcolor": "white",
           "showland": true,
           "showlakes": true,
           "lakecolor": "white"
          },
          "title": {
           "x": 0.05
          },
          "mapbox": {
           "style": "light"
          }
         }
        },
        "map": {
         "domain": {
          "x": [
           0.0,
           1.0
          ],
          "y": [
           0.0,
           1.0
          ]
         },
         "center": {
          "lat": 37.71090522979398,
          "lon": -94.02997733755943
         },
         "zoom": 8
        },
        "coloraxis": {
         "colorbar": {
          "title": {
           "text": "Sales"
          }
         },
         "colorscale": [
          [
           0.0,
           "#0d0887"
          ],
          [
           0.1111111111111111,
           "#46039f"
          ],
          [
           0.2222222222222222,
           "#7201a8"
          ],
          [
           0.3333333333333333,
           "#9c179e"
          ],
          [
           0.4444444444444444,
           "#bd3786"
          ],
          [
           0.5555555555555556,
           "#d8576b"
          ],
          [
           0.6666666666666666,
           "#ed7953"
          ],
          [
           0.7777777777777778,
           "#fb9f3a"
          ],
          [
           0.8888888888888888,
           "#fdca26"
          ],
          [
           1.0,
           "#f0f921"
          ]
         ]
        },
        "legend": {
         "tracegroupgap": 0
        },
        "margin": {
         "t": 60
        },
        "mapbox": {
         "center": {
          "lat": 37.71090522979398,
          "lon": -94.02997733755943
         },
         "zoom": 8
        }
       },
       "config": {
        "plotlyServerURL": "https://plot.ly"
       }
      }
     },
     "metadata": {},
     "output_type": "display_data",
     "jetTransient": {
      "display_id": null
     }
    }
   ],
   "execution_count": 191
  },
  {
   "metadata": {
    "ExecuteTime": {
     "end_time": "2025-09-10T10:55:36.155766Z",
     "start_time": "2025-09-10T10:55:36.141294Z"
    }
   },
   "cell_type": "code",
   "source": "Customer_sorted_OrderDateCities = superstore.sort_values([\"Customer ID\", \"City\", \"Order Date\"])",
   "id": "7fdb51a860112356",
   "outputs": [],
   "execution_count": 169
  },
  {
   "metadata": {
    "ExecuteTime": {
     "end_time": "2025-09-10T10:55:38.057739Z",
     "start_time": "2025-09-10T10:55:38.048025Z"
    }
   },
   "cell_type": "code",
   "source": "print(superstore.head())\n",
   "id": "6798e30d31867d6c",
   "outputs": [
    {
     "name": "stdout",
     "output_type": "stream",
     "text": [
      "         Order ID Order Date  Order Day Order Weekday  Order Month  \\\n",
      "0  CA-2013-152156 2013-11-09          9      Saturday           11   \n",
      "1  CA-2013-152156 2013-11-09          9      Saturday           11   \n",
      "2  CA-2013-138688 2013-06-13         13      Thursday            6   \n",
      "3  US-2012-108966 2012-10-11         11      Thursday           10   \n",
      "4  US-2012-108966 2012-10-11         11      Thursday           10   \n",
      "\n",
      "   Order Year  Order Quarter  Ship Date  Ship Day Ship Weekday  ...  \\\n",
      "0        2013              4 2013-11-12        12      Tuesday  ...   \n",
      "1        2013              4 2013-11-12        12      Tuesday  ...   \n",
      "2        2013              2 2013-06-17        17       Monday  ...   \n",
      "3        2012              4 2012-10-18        18     Thursday  ...   \n",
      "4        2012              4 2012-10-18        18     Thursday  ...   \n",
      "\n",
      "        Product ID         Category  Sub-Category  \\\n",
      "0  FUR-BO-10001798        Furniture     Bookcases   \n",
      "1  FUR-CH-10000454        Furniture        Chairs   \n",
      "2  OFF-LA-10000240  Office Supplies        Labels   \n",
      "3  FUR-TA-10000577        Furniture        Tables   \n",
      "4  OFF-ST-10000760  Office Supplies       Storage   \n",
      "\n",
      "                                        Product Name     Sales Quantity  \\\n",
      "0                  Bush Somerset Collection Bookcase  261.9600        2   \n",
      "1  Hon Deluxe Fabric Upholstered Stacking Chairs,...  731.9400        3   \n",
      "2  Self-Adhesive Address Labels for Typewriters b...   14.6200        2   \n",
      "3      Bretford CR4500 Series Slim Rectangular Table  957.5775        5   \n",
      "4                     Eldon Fold 'N Roll Cart System   22.3680        2   \n",
      "\n",
      "  Discount    Profit Price per Piece Profit per Piece  \n",
      "0     0.00   41.9136        130.9800          20.9568  \n",
      "1     0.00  219.5820        243.9800          73.1940  \n",
      "2     0.00    6.8714          7.3100           3.4357  \n",
      "3     0.45 -383.0310        191.5155         -76.6062  \n",
      "4     0.20    2.5164         11.1840           1.2582  \n",
      "\n",
      "[5 rows x 31 columns]\n"
     ]
    }
   ],
   "execution_count": 170
  },
  {
   "metadata": {
    "ExecuteTime": {
     "end_time": "2025-09-10T10:55:43.468673Z",
     "start_time": "2025-09-10T10:55:43.343222Z"
    }
   },
   "cell_type": "code",
   "source": [
    "superstore_orders = superstore.groupby([\"Order ID\", \"Customer ID\", \"City\", \"Category\"]).agg({\n",
    "    \"Product Name\": lambda x: \", \".join(sorted(x)),\n",
    "    \"Order Date\": \"first\"\n",
    "}).reset_index()\n"
   ],
   "id": "763f1d9266e9dde",
   "outputs": [],
   "execution_count": 171
  },
  {
   "metadata": {
    "ExecuteTime": {
     "end_time": "2025-09-10T10:55:45.050466Z",
     "start_time": "2025-09-10T10:55:45.035Z"
    }
   },
   "cell_type": "code",
   "source": [
    "superstore_orders = superstore_orders.sort_values([\"Customer ID\", \"City\", \"Category\", \"Order Date\"])\n",
    "\n",
    "superstore_orders"
   ],
   "id": "c8c058a57e2fb69d",
   "outputs": [
    {
     "data": {
      "text/plain": [
       "            Order ID Customer ID           City         Category  \\\n",
       "5264  CA-2014-147039    AA-10315    Minneapolis  Office Supplies   \n",
       "657   CA-2011-138100    AA-10315  New York City        Furniture   \n",
       "658   CA-2011-138100    AA-10315  New York City  Office Supplies   \n",
       "2494  CA-2013-103982    AA-10315     Round Rock  Office Supplies   \n",
       "2495  CA-2013-103982    AA-10315     Round Rock       Technology   \n",
       "...              ...         ...            ...              ...   \n",
       "5094  CA-2014-141481    ZD-21925    Los Angeles  Office Supplies   \n",
       "3871  CA-2013-167682    ZD-21925       Richmond        Furniture   \n",
       "3872  CA-2013-167682    ZD-21925       Richmond       Technology   \n",
       "749   CA-2011-143336    ZD-21925  San Francisco  Office Supplies   \n",
       "750   CA-2011-143336    ZD-21925  San Francisco       Technology   \n",
       "\n",
       "                                           Product Name Order Date  \n",
       "5264  Avery Binding System Hidden Tab Executive Styl... 2014-06-30  \n",
       "657          Master Caster Door Stop, Large Neon Orange 2011-09-15  \n",
       "658                                             Staples 2011-09-15  \n",
       "2494  Acco Banker's Clasps, 5 3/4\"-Long, High Speed ... 2013-03-04  \n",
       "2495  Polycom VVX 310 VoIP phone, Verbatim 25 GB 6x ... 2013-03-04  \n",
       "...                                                 ...        ...  \n",
       "5094  Kensington 6 Outlet Guardian Standard Surge Pr... 2014-06-12  \n",
       "3871                     Seth Thomas 13 1/2\" Wall Clock 2013-04-04  \n",
       "3872     Plantronics Voyager Pro HD - Bluetooth Headset 2013-04-04  \n",
       "749   Newell 341, Wilson Jones Hanging View Binder, ... 2011-08-27  \n",
       "750                             Cisco SPA 501G IP Phone 2011-08-27  \n",
       "\n",
       "[7050 rows x 6 columns]"
      ],
      "text/html": [
       "<div>\n",
       "<style scoped>\n",
       "    .dataframe tbody tr th:only-of-type {\n",
       "        vertical-align: middle;\n",
       "    }\n",
       "\n",
       "    .dataframe tbody tr th {\n",
       "        vertical-align: top;\n",
       "    }\n",
       "\n",
       "    .dataframe thead th {\n",
       "        text-align: right;\n",
       "    }\n",
       "</style>\n",
       "<table border=\"1\" class=\"dataframe\">\n",
       "  <thead>\n",
       "    <tr style=\"text-align: right;\">\n",
       "      <th></th>\n",
       "      <th>Order ID</th>\n",
       "      <th>Customer ID</th>\n",
       "      <th>City</th>\n",
       "      <th>Category</th>\n",
       "      <th>Product Name</th>\n",
       "      <th>Order Date</th>\n",
       "    </tr>\n",
       "  </thead>\n",
       "  <tbody>\n",
       "    <tr>\n",
       "      <th>5264</th>\n",
       "      <td>CA-2014-147039</td>\n",
       "      <td>AA-10315</td>\n",
       "      <td>Minneapolis</td>\n",
       "      <td>Office Supplies</td>\n",
       "      <td>Avery Binding System Hidden Tab Executive Styl...</td>\n",
       "      <td>2014-06-30</td>\n",
       "    </tr>\n",
       "    <tr>\n",
       "      <th>657</th>\n",
       "      <td>CA-2011-138100</td>\n",
       "      <td>AA-10315</td>\n",
       "      <td>New York City</td>\n",
       "      <td>Furniture</td>\n",
       "      <td>Master Caster Door Stop, Large Neon Orange</td>\n",
       "      <td>2011-09-15</td>\n",
       "    </tr>\n",
       "    <tr>\n",
       "      <th>658</th>\n",
       "      <td>CA-2011-138100</td>\n",
       "      <td>AA-10315</td>\n",
       "      <td>New York City</td>\n",
       "      <td>Office Supplies</td>\n",
       "      <td>Staples</td>\n",
       "      <td>2011-09-15</td>\n",
       "    </tr>\n",
       "    <tr>\n",
       "      <th>2494</th>\n",
       "      <td>CA-2013-103982</td>\n",
       "      <td>AA-10315</td>\n",
       "      <td>Round Rock</td>\n",
       "      <td>Office Supplies</td>\n",
       "      <td>Acco Banker's Clasps, 5 3/4\"-Long, High Speed ...</td>\n",
       "      <td>2013-03-04</td>\n",
       "    </tr>\n",
       "    <tr>\n",
       "      <th>2495</th>\n",
       "      <td>CA-2013-103982</td>\n",
       "      <td>AA-10315</td>\n",
       "      <td>Round Rock</td>\n",
       "      <td>Technology</td>\n",
       "      <td>Polycom VVX 310 VoIP phone, Verbatim 25 GB 6x ...</td>\n",
       "      <td>2013-03-04</td>\n",
       "    </tr>\n",
       "    <tr>\n",
       "      <th>...</th>\n",
       "      <td>...</td>\n",
       "      <td>...</td>\n",
       "      <td>...</td>\n",
       "      <td>...</td>\n",
       "      <td>...</td>\n",
       "      <td>...</td>\n",
       "    </tr>\n",
       "    <tr>\n",
       "      <th>5094</th>\n",
       "      <td>CA-2014-141481</td>\n",
       "      <td>ZD-21925</td>\n",
       "      <td>Los Angeles</td>\n",
       "      <td>Office Supplies</td>\n",
       "      <td>Kensington 6 Outlet Guardian Standard Surge Pr...</td>\n",
       "      <td>2014-06-12</td>\n",
       "    </tr>\n",
       "    <tr>\n",
       "      <th>3871</th>\n",
       "      <td>CA-2013-167682</td>\n",
       "      <td>ZD-21925</td>\n",
       "      <td>Richmond</td>\n",
       "      <td>Furniture</td>\n",
       "      <td>Seth Thomas 13 1/2\" Wall Clock</td>\n",
       "      <td>2013-04-04</td>\n",
       "    </tr>\n",
       "    <tr>\n",
       "      <th>3872</th>\n",
       "      <td>CA-2013-167682</td>\n",
       "      <td>ZD-21925</td>\n",
       "      <td>Richmond</td>\n",
       "      <td>Technology</td>\n",
       "      <td>Plantronics Voyager Pro HD - Bluetooth Headset</td>\n",
       "      <td>2013-04-04</td>\n",
       "    </tr>\n",
       "    <tr>\n",
       "      <th>749</th>\n",
       "      <td>CA-2011-143336</td>\n",
       "      <td>ZD-21925</td>\n",
       "      <td>San Francisco</td>\n",
       "      <td>Office Supplies</td>\n",
       "      <td>Newell 341, Wilson Jones Hanging View Binder, ...</td>\n",
       "      <td>2011-08-27</td>\n",
       "    </tr>\n",
       "    <tr>\n",
       "      <th>750</th>\n",
       "      <td>CA-2011-143336</td>\n",
       "      <td>ZD-21925</td>\n",
       "      <td>San Francisco</td>\n",
       "      <td>Technology</td>\n",
       "      <td>Cisco SPA 501G IP Phone</td>\n",
       "      <td>2011-08-27</td>\n",
       "    </tr>\n",
       "  </tbody>\n",
       "</table>\n",
       "<p>7050 rows × 6 columns</p>\n",
       "</div>"
      ]
     },
     "execution_count": 172,
     "metadata": {},
     "output_type": "execute_result"
    }
   ],
   "execution_count": 172
  },
  {
   "metadata": {
    "ExecuteTime": {
     "end_time": "2025-09-10T10:00:48.754477700Z",
     "start_time": "2025-09-10T07:51:27.703203Z"
    }
   },
   "cell_type": "code",
   "source": "",
   "id": "2549d62db7778a52",
   "outputs": [],
   "execution_count": null
  },
  {
   "metadata": {
    "ExecuteTime": {
     "end_time": "2025-09-10T10:55:48.441165Z",
     "start_time": "2025-09-10T10:55:48.431727Z"
    }
   },
   "cell_type": "code",
   "source": [
    "superstore_orders[\"Days Since Last Order\"] = superstore_orders.groupby(\n",
    "    [\"Customer ID\", \"City\", \"Category\"]\n",
    ")[\"Order Date\"].diff().dt.days"
   ],
   "id": "10b47d0c47cd30e4",
   "outputs": [],
   "execution_count": 173
  },
  {
   "metadata": {
    "ExecuteTime": {
     "end_time": "2025-09-10T10:55:49.772546Z",
     "start_time": "2025-09-10T10:55:49.762264Z"
    }
   },
   "cell_type": "code",
   "source": "superstore_orders",
   "id": "5cf044b339e876fc",
   "outputs": [
    {
     "data": {
      "text/plain": [
       "            Order ID Customer ID           City         Category  \\\n",
       "5264  CA-2014-147039    AA-10315    Minneapolis  Office Supplies   \n",
       "657   CA-2011-138100    AA-10315  New York City        Furniture   \n",
       "658   CA-2011-138100    AA-10315  New York City  Office Supplies   \n",
       "2494  CA-2013-103982    AA-10315     Round Rock  Office Supplies   \n",
       "2495  CA-2013-103982    AA-10315     Round Rock       Technology   \n",
       "...              ...         ...            ...              ...   \n",
       "5094  CA-2014-141481    ZD-21925    Los Angeles  Office Supplies   \n",
       "3871  CA-2013-167682    ZD-21925       Richmond        Furniture   \n",
       "3872  CA-2013-167682    ZD-21925       Richmond       Technology   \n",
       "749   CA-2011-143336    ZD-21925  San Francisco  Office Supplies   \n",
       "750   CA-2011-143336    ZD-21925  San Francisco       Technology   \n",
       "\n",
       "                                           Product Name Order Date  \\\n",
       "5264  Avery Binding System Hidden Tab Executive Styl... 2014-06-30   \n",
       "657          Master Caster Door Stop, Large Neon Orange 2011-09-15   \n",
       "658                                             Staples 2011-09-15   \n",
       "2494  Acco Banker's Clasps, 5 3/4\"-Long, High Speed ... 2013-03-04   \n",
       "2495  Polycom VVX 310 VoIP phone, Verbatim 25 GB 6x ... 2013-03-04   \n",
       "...                                                 ...        ...   \n",
       "5094  Kensington 6 Outlet Guardian Standard Surge Pr... 2014-06-12   \n",
       "3871                     Seth Thomas 13 1/2\" Wall Clock 2013-04-04   \n",
       "3872     Plantronics Voyager Pro HD - Bluetooth Headset 2013-04-04   \n",
       "749   Newell 341, Wilson Jones Hanging View Binder, ... 2011-08-27   \n",
       "750                             Cisco SPA 501G IP Phone 2011-08-27   \n",
       "\n",
       "      Days Since Last Order  \n",
       "5264                    NaN  \n",
       "657                     NaN  \n",
       "658                     NaN  \n",
       "2494                    NaN  \n",
       "2495                    NaN  \n",
       "...                     ...  \n",
       "5094                    NaN  \n",
       "3871                    NaN  \n",
       "3872                    NaN  \n",
       "749                     NaN  \n",
       "750                     NaN  \n",
       "\n",
       "[7050 rows x 7 columns]"
      ],
      "text/html": [
       "<div>\n",
       "<style scoped>\n",
       "    .dataframe tbody tr th:only-of-type {\n",
       "        vertical-align: middle;\n",
       "    }\n",
       "\n",
       "    .dataframe tbody tr th {\n",
       "        vertical-align: top;\n",
       "    }\n",
       "\n",
       "    .dataframe thead th {\n",
       "        text-align: right;\n",
       "    }\n",
       "</style>\n",
       "<table border=\"1\" class=\"dataframe\">\n",
       "  <thead>\n",
       "    <tr style=\"text-align: right;\">\n",
       "      <th></th>\n",
       "      <th>Order ID</th>\n",
       "      <th>Customer ID</th>\n",
       "      <th>City</th>\n",
       "      <th>Category</th>\n",
       "      <th>Product Name</th>\n",
       "      <th>Order Date</th>\n",
       "      <th>Days Since Last Order</th>\n",
       "    </tr>\n",
       "  </thead>\n",
       "  <tbody>\n",
       "    <tr>\n",
       "      <th>5264</th>\n",
       "      <td>CA-2014-147039</td>\n",
       "      <td>AA-10315</td>\n",
       "      <td>Minneapolis</td>\n",
       "      <td>Office Supplies</td>\n",
       "      <td>Avery Binding System Hidden Tab Executive Styl...</td>\n",
       "      <td>2014-06-30</td>\n",
       "      <td>NaN</td>\n",
       "    </tr>\n",
       "    <tr>\n",
       "      <th>657</th>\n",
       "      <td>CA-2011-138100</td>\n",
       "      <td>AA-10315</td>\n",
       "      <td>New York City</td>\n",
       "      <td>Furniture</td>\n",
       "      <td>Master Caster Door Stop, Large Neon Orange</td>\n",
       "      <td>2011-09-15</td>\n",
       "      <td>NaN</td>\n",
       "    </tr>\n",
       "    <tr>\n",
       "      <th>658</th>\n",
       "      <td>CA-2011-138100</td>\n",
       "      <td>AA-10315</td>\n",
       "      <td>New York City</td>\n",
       "      <td>Office Supplies</td>\n",
       "      <td>Staples</td>\n",
       "      <td>2011-09-15</td>\n",
       "      <td>NaN</td>\n",
       "    </tr>\n",
       "    <tr>\n",
       "      <th>2494</th>\n",
       "      <td>CA-2013-103982</td>\n",
       "      <td>AA-10315</td>\n",
       "      <td>Round Rock</td>\n",
       "      <td>Office Supplies</td>\n",
       "      <td>Acco Banker's Clasps, 5 3/4\"-Long, High Speed ...</td>\n",
       "      <td>2013-03-04</td>\n",
       "      <td>NaN</td>\n",
       "    </tr>\n",
       "    <tr>\n",
       "      <th>2495</th>\n",
       "      <td>CA-2013-103982</td>\n",
       "      <td>AA-10315</td>\n",
       "      <td>Round Rock</td>\n",
       "      <td>Technology</td>\n",
       "      <td>Polycom VVX 310 VoIP phone, Verbatim 25 GB 6x ...</td>\n",
       "      <td>2013-03-04</td>\n",
       "      <td>NaN</td>\n",
       "    </tr>\n",
       "    <tr>\n",
       "      <th>...</th>\n",
       "      <td>...</td>\n",
       "      <td>...</td>\n",
       "      <td>...</td>\n",
       "      <td>...</td>\n",
       "      <td>...</td>\n",
       "      <td>...</td>\n",
       "      <td>...</td>\n",
       "    </tr>\n",
       "    <tr>\n",
       "      <th>5094</th>\n",
       "      <td>CA-2014-141481</td>\n",
       "      <td>ZD-21925</td>\n",
       "      <td>Los Angeles</td>\n",
       "      <td>Office Supplies</td>\n",
       "      <td>Kensington 6 Outlet Guardian Standard Surge Pr...</td>\n",
       "      <td>2014-06-12</td>\n",
       "      <td>NaN</td>\n",
       "    </tr>\n",
       "    <tr>\n",
       "      <th>3871</th>\n",
       "      <td>CA-2013-167682</td>\n",
       "      <td>ZD-21925</td>\n",
       "      <td>Richmond</td>\n",
       "      <td>Furniture</td>\n",
       "      <td>Seth Thomas 13 1/2\" Wall Clock</td>\n",
       "      <td>2013-04-04</td>\n",
       "      <td>NaN</td>\n",
       "    </tr>\n",
       "    <tr>\n",
       "      <th>3872</th>\n",
       "      <td>CA-2013-167682</td>\n",
       "      <td>ZD-21925</td>\n",
       "      <td>Richmond</td>\n",
       "      <td>Technology</td>\n",
       "      <td>Plantronics Voyager Pro HD - Bluetooth Headset</td>\n",
       "      <td>2013-04-04</td>\n",
       "      <td>NaN</td>\n",
       "    </tr>\n",
       "    <tr>\n",
       "      <th>749</th>\n",
       "      <td>CA-2011-143336</td>\n",
       "      <td>ZD-21925</td>\n",
       "      <td>San Francisco</td>\n",
       "      <td>Office Supplies</td>\n",
       "      <td>Newell 341, Wilson Jones Hanging View Binder, ...</td>\n",
       "      <td>2011-08-27</td>\n",
       "      <td>NaN</td>\n",
       "    </tr>\n",
       "    <tr>\n",
       "      <th>750</th>\n",
       "      <td>CA-2011-143336</td>\n",
       "      <td>ZD-21925</td>\n",
       "      <td>San Francisco</td>\n",
       "      <td>Technology</td>\n",
       "      <td>Cisco SPA 501G IP Phone</td>\n",
       "      <td>2011-08-27</td>\n",
       "      <td>NaN</td>\n",
       "    </tr>\n",
       "  </tbody>\n",
       "</table>\n",
       "<p>7050 rows × 7 columns</p>\n",
       "</div>"
      ]
     },
     "execution_count": 174,
     "metadata": {},
     "output_type": "execute_result"
    }
   ],
   "execution_count": 174
  },
  {
   "metadata": {
    "ExecuteTime": {
     "end_time": "2025-09-10T10:55:51.448929Z",
     "start_time": "2025-09-10T10:55:51.437614Z"
    }
   },
   "cell_type": "code",
   "source": [
    "short_orders_with_gap = superstore_orders[superstore_orders[\"Days Since Last Order\"].notna()]\n",
    "short_orders_with_gap.sort_values(\"Days Since Last Order\")\n"
   ],
   "id": "30f213a4194f26fd",
   "outputs": [
    {
     "data": {
      "text/plain": [
       "            Order ID Customer ID           City         Category  \\\n",
       "3233  CA-2013-139157    GM-14680  New York City        Furniture   \n",
       "1622  CA-2012-125066    KD-16495        Jackson        Furniture   \n",
       "1623  CA-2012-125066    KD-16495        Jackson  Office Supplies   \n",
       "2202  CA-2012-155334    HA-14920  San Francisco  Office Supplies   \n",
       "1999  CA-2012-143980    JK-15640  New York City  Office Supplies   \n",
       "...              ...         ...            ...              ...   \n",
       "5850  CA-2014-169327    MH-17290    Los Angeles  Office Supplies   \n",
       "4744  CA-2014-128370    FH-14275    Los Angeles  Office Supplies   \n",
       "4252  CA-2014-111556    CD-11920  New York City  Office Supplies   \n",
       "5835  CA-2014-168641    KA-16525  New York City  Office Supplies   \n",
       "5134  CA-2014-143021    AP-10720  New York City  Office Supplies   \n",
       "\n",
       "                                           Product Name Order Date  \\\n",
       "3233  Chromcraft Bull-Nose Wood 48\" x 96\" Rectangula... 2013-10-02   \n",
       "1622                                    Stackable Trays 2012-12-14   \n",
       "1623  Boston Electric Pencil Sharpener, Model 1818, ... 2012-12-14   \n",
       "2202                     Presstex Flexible Ring Binders 2012-07-30   \n",
       "1999  Kensington 7 Outlet MasterPiece Power Center w... 2012-12-25   \n",
       "...                                                 ...        ...   \n",
       "5850  Acco Six-Outlet Power Strip, 4' Cord Length, G... 2014-09-03   \n",
       "4744                            Avery Non-Stick Binders 2014-09-11   \n",
       "4252  Boston KS Multi-Size Manual Pencil Sharpener, ... 2014-11-21   \n",
       "5835  Ames Color-File Green Diamond Border X-ray Mai... 2014-11-25   \n",
       "5134  Acco Data Flex Cable Posts For Top & Bottom Lo... 2014-11-20   \n",
       "\n",
       "      Days Since Last Order  \n",
       "3233                    1.0  \n",
       "1622                    4.0  \n",
       "1623                    4.0  \n",
       "2202                    4.0  \n",
       "1999                   10.0  \n",
       "...                     ...  \n",
       "5850                 1226.0  \n",
       "4744                 1254.0  \n",
       "4252                 1338.0  \n",
       "5835                 1355.0  \n",
       "5134                 1358.0  \n",
       "\n",
       "[282 rows x 7 columns]"
      ],
      "text/html": [
       "<div>\n",
       "<style scoped>\n",
       "    .dataframe tbody tr th:only-of-type {\n",
       "        vertical-align: middle;\n",
       "    }\n",
       "\n",
       "    .dataframe tbody tr th {\n",
       "        vertical-align: top;\n",
       "    }\n",
       "\n",
       "    .dataframe thead th {\n",
       "        text-align: right;\n",
       "    }\n",
       "</style>\n",
       "<table border=\"1\" class=\"dataframe\">\n",
       "  <thead>\n",
       "    <tr style=\"text-align: right;\">\n",
       "      <th></th>\n",
       "      <th>Order ID</th>\n",
       "      <th>Customer ID</th>\n",
       "      <th>City</th>\n",
       "      <th>Category</th>\n",
       "      <th>Product Name</th>\n",
       "      <th>Order Date</th>\n",
       "      <th>Days Since Last Order</th>\n",
       "    </tr>\n",
       "  </thead>\n",
       "  <tbody>\n",
       "    <tr>\n",
       "      <th>3233</th>\n",
       "      <td>CA-2013-139157</td>\n",
       "      <td>GM-14680</td>\n",
       "      <td>New York City</td>\n",
       "      <td>Furniture</td>\n",
       "      <td>Chromcraft Bull-Nose Wood 48\" x 96\" Rectangula...</td>\n",
       "      <td>2013-10-02</td>\n",
       "      <td>1.0</td>\n",
       "    </tr>\n",
       "    <tr>\n",
       "      <th>1622</th>\n",
       "      <td>CA-2012-125066</td>\n",
       "      <td>KD-16495</td>\n",
       "      <td>Jackson</td>\n",
       "      <td>Furniture</td>\n",
       "      <td>Stackable Trays</td>\n",
       "      <td>2012-12-14</td>\n",
       "      <td>4.0</td>\n",
       "    </tr>\n",
       "    <tr>\n",
       "      <th>1623</th>\n",
       "      <td>CA-2012-125066</td>\n",
       "      <td>KD-16495</td>\n",
       "      <td>Jackson</td>\n",
       "      <td>Office Supplies</td>\n",
       "      <td>Boston Electric Pencil Sharpener, Model 1818, ...</td>\n",
       "      <td>2012-12-14</td>\n",
       "      <td>4.0</td>\n",
       "    </tr>\n",
       "    <tr>\n",
       "      <th>2202</th>\n",
       "      <td>CA-2012-155334</td>\n",
       "      <td>HA-14920</td>\n",
       "      <td>San Francisco</td>\n",
       "      <td>Office Supplies</td>\n",
       "      <td>Presstex Flexible Ring Binders</td>\n",
       "      <td>2012-07-30</td>\n",
       "      <td>4.0</td>\n",
       "    </tr>\n",
       "    <tr>\n",
       "      <th>1999</th>\n",
       "      <td>CA-2012-143980</td>\n",
       "      <td>JK-15640</td>\n",
       "      <td>New York City</td>\n",
       "      <td>Office Supplies</td>\n",
       "      <td>Kensington 7 Outlet MasterPiece Power Center w...</td>\n",
       "      <td>2012-12-25</td>\n",
       "      <td>10.0</td>\n",
       "    </tr>\n",
       "    <tr>\n",
       "      <th>...</th>\n",
       "      <td>...</td>\n",
       "      <td>...</td>\n",
       "      <td>...</td>\n",
       "      <td>...</td>\n",
       "      <td>...</td>\n",
       "      <td>...</td>\n",
       "      <td>...</td>\n",
       "    </tr>\n",
       "    <tr>\n",
       "      <th>5850</th>\n",
       "      <td>CA-2014-169327</td>\n",
       "      <td>MH-17290</td>\n",
       "      <td>Los Angeles</td>\n",
       "      <td>Office Supplies</td>\n",
       "      <td>Acco Six-Outlet Power Strip, 4' Cord Length, G...</td>\n",
       "      <td>2014-09-03</td>\n",
       "      <td>1226.0</td>\n",
       "    </tr>\n",
       "    <tr>\n",
       "      <th>4744</th>\n",
       "      <td>CA-2014-128370</td>\n",
       "      <td>FH-14275</td>\n",
       "      <td>Los Angeles</td>\n",
       "      <td>Office Supplies</td>\n",
       "      <td>Avery Non-Stick Binders</td>\n",
       "      <td>2014-09-11</td>\n",
       "      <td>1254.0</td>\n",
       "    </tr>\n",
       "    <tr>\n",
       "      <th>4252</th>\n",
       "      <td>CA-2014-111556</td>\n",
       "      <td>CD-11920</td>\n",
       "      <td>New York City</td>\n",
       "      <td>Office Supplies</td>\n",
       "      <td>Boston KS Multi-Size Manual Pencil Sharpener, ...</td>\n",
       "      <td>2014-11-21</td>\n",
       "      <td>1338.0</td>\n",
       "    </tr>\n",
       "    <tr>\n",
       "      <th>5835</th>\n",
       "      <td>CA-2014-168641</td>\n",
       "      <td>KA-16525</td>\n",
       "      <td>New York City</td>\n",
       "      <td>Office Supplies</td>\n",
       "      <td>Ames Color-File Green Diamond Border X-ray Mai...</td>\n",
       "      <td>2014-11-25</td>\n",
       "      <td>1355.0</td>\n",
       "    </tr>\n",
       "    <tr>\n",
       "      <th>5134</th>\n",
       "      <td>CA-2014-143021</td>\n",
       "      <td>AP-10720</td>\n",
       "      <td>New York City</td>\n",
       "      <td>Office Supplies</td>\n",
       "      <td>Acco Data Flex Cable Posts For Top &amp; Bottom Lo...</td>\n",
       "      <td>2014-11-20</td>\n",
       "      <td>1358.0</td>\n",
       "    </tr>\n",
       "  </tbody>\n",
       "</table>\n",
       "<p>282 rows × 7 columns</p>\n",
       "</div>"
      ]
     },
     "execution_count": 175,
     "metadata": {},
     "output_type": "execute_result"
    }
   ],
   "execution_count": 175
  },
  {
   "metadata": {
    "ExecuteTime": {
     "end_time": "2025-09-10T10:55:53.907711Z",
     "start_time": "2025-09-10T10:55:53.760067Z"
    }
   },
   "cell_type": "code",
   "source": "short_orders_with_gap.plot(kind=\"hist\")",
   "id": "ab8825d5befa451e",
   "outputs": [
    {
     "data": {
      "text/plain": [
       "<Axes: ylabel='Frequency'>"
      ]
     },
     "execution_count": 176,
     "metadata": {},
     "output_type": "execute_result"
    },
    {
     "data": {
      "text/plain": [
       "<Figure size 640x480 with 1 Axes>"
      ],
      "image/png": "[encoded data removed]"
     },
     "metadata": {},
     "output_type": "display_data",
     "jetTransient": {
      "display_id": null
     }
    }
   ],
   "execution_count": 176
  }
 ],
 "metadata": {
  "kernelspec": {
   "display_name": "Python 3",
   "language": "python",
   "name": "python3"
  },
  "language_info": {
   "codemirror_mode": {
    "name": "ipython",
    "version": 2
   },
   "file_extension": ".py",
   "mimetype": "text/x-python",
   "name": "python",
   "nbconvert_exporter": "python",
   "pygments_lexer": "ipython2",
   "version": "2.7.6"
  }
 },
 "nbformat": 4,
 "nbformat_minor": 5
}
